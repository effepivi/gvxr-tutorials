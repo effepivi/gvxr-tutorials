{
 "cells": [
  {
   "cell_type": "code",
   "execution_count": null,
   "id": "02cd57f8-74c9-4f02-a778-40f8c3d4cbf4",
   "metadata": {},
   "outputs": [],
   "source": [
    "%matplotlib widget"
   ]
  },
  {
   "cell_type": "markdown",
   "id": "2d25fe86-499d-4755-82a2-9450c409fe7f",
   "metadata": {},
   "source": [
    "# Session 3.1\n",
    "\n",
    "## X-ray source parameters ![gVXR](img/gvxr_logo.png)\n",
    "\n",
    "## Authors: Franck Vidal and Jean Michel L&eacute;tang\n",
    "\n",
    "(version 1.0, 6 Oct 2022)"
   ]
  },
  {
   "cell_type": "markdown",
   "id": "2a6d76cd-fc3d-4ffb-ba94-f0391a4e5db4",
   "metadata": {},
   "source": [
    "# Aims of this session\n",
    "\n",
    "- Create X-ray sources of different shapes:\n",
    "    - Parallel beam (e.g. synchrotron);\n",
    "    - Cone-beam (e.g. X-ray tube);\n",
    "        - Ideal case, i.e. infinitesimal point source;\n",
    "        - Focal spot, i.e. more realistic.\n",
    "- Visualise the source shape;\n",
    "- Set the beam spectrum:\n",
    "    - Monochromatic;\n",
    "    - Polychromatic:\n",
    "        - By hand;\n",
    "        - Using a text file;\n",
    "        - Using [xpecgen](https://github.com/Dih5/xpecgen) (a python package to calculate x-ray spectra generated in tungsten anodes using the model of [Med. Phys. 43, 4655.](https://doi.org/10.1118/1.4955120))."
   ]
  },
  {
   "cell_type": "markdown",
   "id": "2cb803de-0094-473e-add4-54ed7be68e9e",
   "metadata": {},
   "source": [
    "# Task 1: Initialise the simulation environment\n",
    "\n",
    "By now, we should all be able to set up the simulation environment on our own.\n",
    "\n",
    "1. Import the packages;\n",
    "2. Create the OpenGL context with `gvxr.createWindow`;\n",
    "3. Set the detector with `gvxr.setDetectorPosition`;\n",
    "4. Set the detector up vector with `gvxr.setDetectorUpVector`;\n",
    "5. Set the number of pixels with `gvxr.setDetectorNumberOfPixels`;\n",
    "6. Set the pixel spacing with `gvxr.setDetectorPixelSize`;\n",
    "7. Load the following samples."
   ]
  },
  {
   "cell_type": "markdown",
   "id": "66767677-fb89-4dd7-982f-22072b2645df",
   "metadata": {},
   "source": [
    "---\n",
    "\n",
    "### Step 1 of Task 1: Import the packages\n",
    "\n",
    "We must import the Python packages as follows:\n"
   ]
  },
  {
   "cell_type": "code",
   "execution_count": null,
   "id": "ce2f272a-7923-47cf-baf9-053c16be2480",
   "metadata": {},
   "outputs": [],
   "source": [
    "import numpy as np\n",
    "\n",
    "import matplotlib.pyplot as plt # Plotting`\n",
    "from matplotlib.colors import LogNorm # Look up table`\n",
    "from matplotlib.colors import PowerNorm # Look up table`\n",
    "\n",
    "from gvxrPython3 import gvxr # Simulate X-ray images`\n",
    "\n",
    "from gvxrPython3.utils import visualise # Visualise the 3D environment if k3D is supported\n",
    "from gvxrPython3.utils import plotScreenshot # Visualise the 3D environment using Matplotlib\n",
    "# from gvxrPython3.utils import loadSpekpySpectrum # Generate and load an X-ray spectrum using Spekpy\n",
    "from gvxrPython3.utils import loadXpecgenSpectrum # Generate and load an X-ray spectrum using xpecgen"
   ]
  },
  {
   "cell_type": "markdown",
   "id": "cbf3b9d7-37ab-4179-9573-9fe1336c5d59",
   "metadata": {},
   "source": [
    "---\n",
    "\n",
    "### Step 2 of Task 1: Create the OpenGL context\n",
    "\n",
    "We may use `gvxr.createWindow`."
   ]
  },
  {
   "cell_type": "code",
   "execution_count": null,
   "id": "63925148-a241-419d-8048-7d5580a698e0",
   "metadata": {},
   "outputs": [],
   "source": []
  },
  {
   "cell_type": "markdown",
   "id": "8e8ba4c2-091f-4b27-a996-f7d8f7dc2a06",
   "metadata": {},
   "source": [
    "---\n",
    "\n",
    "### Step 3 of Task 1: Set the detector position\n",
    "\n",
    "We must use `gvxr.setDetectorPosition`. The detector position is x = 0.0 cm, y = 0.0 cm and z = -5.0 cm."
   ]
  },
  {
   "cell_type": "code",
   "execution_count": null,
   "id": "f22f474c-c113-454f-a77a-72a1bc4f1825",
   "metadata": {},
   "outputs": [],
   "source": []
  },
  {
   "cell_type": "markdown",
   "id": "0bcbbaba-2576-446c-9bd8-643f4518f5f0",
   "metadata": {},
   "source": [
    "--- \n",
    "\n",
    "### Step 4 of Task 1: Set the detector up vector\n",
    "\n",
    "Call `gvxr.setDetectorUpVector(ix, jy, kz)` with `ix`, `jy`, `kz` corresponding to a unit vector that define the 3D orientation of the 2D detector. \n",
    "In this example, `ix` = 0, `jy` = 1, and `kz` = 0."
   ]
  },
  {
   "cell_type": "code",
   "execution_count": null,
   "id": "c857d869-8868-4b82-9b91-3cbca2545958",
   "metadata": {},
   "outputs": [],
   "source": []
  },
  {
   "cell_type": "markdown",
   "id": "ab9e9ca2-a23c-4f8f-a990-20914b44ec5e",
   "metadata": {},
   "source": [
    "--- \n",
    "\n",
    "### Step 5 of Task 1: Set the number of pixels\n",
    "\n",
    "We want to create a detector with 600 pixels along both directions. \n",
    "For this purpose, we use `gvxr.setDetectorNumberOfPixels`.\n"
   ]
  },
  {
   "cell_type": "code",
   "execution_count": null,
   "id": "0685df67-f09c-4145-a10a-38d098da7a10",
   "metadata": {},
   "outputs": [],
   "source": []
  },
  {
   "cell_type": "markdown",
   "id": "37a34cef-aa12-4d79-8609-89b2732c91e4",
   "metadata": {},
   "source": [
    "--- \n",
    "\n",
    "### Step 6 of Task 1: Set the pixel spacing\n",
    "\n",
    "The space between the centre of two successive pixels is 0.25 mm along both directions. We must use `gvxr.setDetectorPixelSize`."
   ]
  },
  {
   "cell_type": "code",
   "execution_count": null,
   "id": "4ac3e6f2-7e58-4ea4-b58c-87ca48efb5bb",
   "metadata": {},
   "outputs": [],
   "source": []
  },
  {
   "cell_type": "markdown",
   "id": "ee7caf8d-8984-48eb-95da-f5a5ae93288f",
   "metadata": {},
   "source": [
    "--- \n",
    "\n",
    "### Step 7 of Task 1: Load the samples and their material properties\n",
    "\n",
    "The sample is made of 6 components, a matrix with spherical inserts of various material. \n",
    "\n",
    "| Label | fname | Material type | Material | Density |\n",
    "|-------|-------|---------------|----------|---------|\n",
    "| Matrix | `input_data/phantoms/plate_sphere_inserts/matrix.stl` | Element | C | N/A |\n",
    "| Col_0 | `input_data/phantoms/plate_sphere_inserts/col_0.stl` | Element | Cu | N/A |\n",
    "| Col_1 | `input_data/phantoms/plate_sphere_inserts/col_1.stl` | Element | Al | N/A |\n",
    "| Col_2 | `input_data/phantoms/plate_sphere_inserts/col_2.stl` | Compound | SiC | 3.2 g/cm3 |\n",
    "| Col_3 | `input_data/phantoms/plate_sphere_inserts/col_3.stl` | Mixture | Ti90Al6V4 | 4.42 g/cm3 |\n",
    "| Col_4 | `input_data/phantoms/plate_sphere_inserts/col_4.stl` | Element | Fe | N/A |\n",
    "\n",
    "Load all the corresponding STL files using `gvxr.loadMeshFile`. The vertex data in the STL files is stored in mm.\n",
    "Depending on the type of material, we must use `gvxr.setElement`, `gvxr.setCompound`, `gvxr.setMixture`, and `gvxr.setDensity`."
   ]
  },
  {
   "cell_type": "code",
   "execution_count": null,
   "id": "b65e5efc-a0be-45e8-9679-b8bdca5c6f57",
   "metadata": {},
   "outputs": [],
   "source": []
  },
  {
   "cell_type": "markdown",
   "id": "be06766b-54c3-464c-badd-a3e3cb4146a1",
   "metadata": {},
   "source": [
    "<div class=\"alert alert-block alert-warning\">\n",
    "    <b>Note:</b> We want to change the colour of the matrix. Indeed, it embeds inner objects (spheres) that are not visible in the 3D visualisation if its surface remain fully opaque. We can change the colour of the matrix using `gvxr.setColour(ID, red, green, blue, opacity)`, making sure `opacity` is less than 1.\n",
    "</div>\n"
   ]
  },
  {
   "cell_type": "code",
   "execution_count": null,
   "id": "84b5b074-6e3a-4763-970a-4f0d2906d6c6",
   "metadata": {},
   "outputs": [],
   "source": [
    "red = 102 / 255\n",
    "green = 255 / 255\n",
    "blue = 153 / 255\n",
    "opacity = 0.1 # Transparent: 0, opaque: 1\n",
    "gvxr.setColour(\"Matrix\", red, green, blue, opacity)"
   ]
  },
  {
   "cell_type": "markdown",
   "id": "28c0cba5-4dc4-4aac-bb37-a503987b4672",
   "metadata": {},
   "source": [
    "# Shape of the X-ray source\n",
    "\n",
    "As of today, gVXR supports 3 different source shapes:\n",
    "\n",
    "- Parallel beam;\n",
    "    - Ideal case, i.e. infinitesimal point source;\n",
    "- Cone-beam:\n",
    "    - Focal spot, i.e. more realistic.\n",
    "\n",
    "The parallel beam geometry corresponds to synchrotron sources. \n",
    "To create one, set the source position with `gvxr.setSourcePosition`, then call `gvxr.useParallelBeam()`.\n",
    "\n",
    "The cone-beam geometry corresponds to X-ray tubes. There are two cases. The first one is an infinitesimal point source. \n",
    "To create one, set the source position with `gvxr.setSourcePosition`, then call `gvxr.usePointSource()`. The image is sharp. \n",
    "\n",
    "However, it is more realistic to consider the actual focal spot size of the X-ray tube ([click for more details](https://www.creatis.insa-lyon.fr/~letang/x-ray-book/instrumentation.html#image-primitives)). In reality, X-ray projections are blurred. The blurring is due to i) the detector itself (the inherent unsharpnness) and we will see that in detail in the next Notebook, and ii) the non-punctuality of the source of radiation (geometric unsharpness). \n",
    "\n",
    "![geometric unsharpness](img/Unsharpness1.jpg)\n",
    "\n",
    "To create one, set the source position with `gvxr.setSourcePosition`, then call `gvxr.setFocalSpot(px, py, pz, s, units, N)`.\n",
    "`px`, `py`, and `pz` are three floating-point values used to set the size centre of the focal spot, and `s` the sie of the focal spot. `units` is a unit of length, e.g. `\"um\"`, `\"mm\"` or `\"cm\"`.\n",
    "In practice, this type of source is implemented by repeating several point sources within the focal spot. Integrating all the correspoding projections creates the geometric unsharpness. `N` is the number of sub-sources for each axis. \n",
    "\n",
    "<div class=\"alert alert-block alert-warning\">\n",
    "    <b>Note:</b> For one X-ray projection using the focal spot size, N<sup>3</sup> simulations with point sources are performed and integrated. If N is high, the simulation runtime will considerably increase.\n",
    "</div>"
   ]
  },
  {
   "cell_type": "markdown",
   "id": "506dfcef-61ed-49c7-8505-90f8d870e15d",
   "metadata": {},
   "source": [
    "Before we carry on, we make sure to zoom in in the 3D visualisation."
   ]
  },
  {
   "cell_type": "code",
   "execution_count": null,
   "id": "27872727-ba5c-4a71-ba7f-95d7c0c09179",
   "metadata": {},
   "outputs": [],
   "source": [
    "gvxr.setZoom(500)"
   ]
  },
  {
   "cell_type": "markdown",
   "id": "060f1929-54d8-4bc7-877c-1fde60ab06fd",
   "metadata": {},
   "source": [
    "---\n",
    "\n",
    "### Task:\n",
    "\n",
    "1. Set a monochromatic source. The photon energy is 100 keV. We use could `gvxr.setMonoChromatic(100,\"keV\",1)`;\n",
    "2. Use a point source;\n",
    "3. Set the source position to (0, 0, 20) in cm;\n",
    "4. Compute an X-ray image and store it in a variable called `xray_image_point_source`;\n",
    "5. Render the 3D visualisation with `gvxr.displayScene()`;\n",
    "6. Take a screenshot with `gvxr.takeScreenshot()` and store it in a variable called `screenshot_point_source`."
   ]
  },
  {
   "cell_type": "code",
   "execution_count": null,
   "id": "0f881250-b23a-4acb-ad09-5b4f820930d1",
   "metadata": {},
   "outputs": [],
   "source": []
  },
  {
   "cell_type": "markdown",
   "id": "e925bc6e-d946-4e6b-ba9e-05eed9cf9b73",
   "metadata": {},
   "source": [
    "---\n",
    "\n",
    "### Task:\n",
    "\n",
    "1. Use a parallel source (call `gvxr.useParallelSource()`);\n",
    "2. Compute an X-ray image and store it in a variable called `xray_image_parallel_source`;\n",
    "3. Render the 3D visualisation with `gvxr.displayScene()`;\n",
    "4. Take a screenshot with `gvxr.takeScreenshot()` and store it in a variable called `screenshot_parallel_source`."
   ]
  },
  {
   "cell_type": "code",
   "execution_count": null,
   "id": "85d0a208-5bfd-4830-bd02-6d11dabd27a7",
   "metadata": {},
   "outputs": [],
   "source": []
  },
  {
   "cell_type": "markdown",
   "id": "89f72655-a0e7-4015-8662-ef8d9ae5e736",
   "metadata": {},
   "source": [
    "---\n",
    "\n",
    "### Task:\n",
    "\n",
    "1. Use a cone-beam geometry with a focal spot of 0.5 cm along the 3 axes with `gvxr.setFocalSpot()`. Its position is (0, 0, 20, \"cm\"). Use $3 \\times 3 \\times 3$ sub-sources, i.e. `N` = 3;\n",
    "2. Compute an X-ray image and store it in a variable called `xray_image_focal_spot`;\n",
    "3. Render the 3D visualisation with `gvxr.displayScene()`;\n",
    "4. Take a screenshot with `gvxr.takeScreenshot()` and store it in a variable called `screenshot_focal_spot`."
   ]
  },
  {
   "cell_type": "code",
   "execution_count": null,
   "id": "9fb846a4-9a48-440a-9ca0-b3dc76fd4029",
   "metadata": {},
   "outputs": [],
   "source": []
  },
  {
   "cell_type": "code",
   "execution_count": null,
   "id": "0ea6bffc-7457-4da7-990d-4d86a5d0ac0a",
   "metadata": {},
   "outputs": [],
   "source": [
    "fig, axs = plt.subplots(3, 3, figsize=(13, 7.5))\n",
    "\n",
    "axs[0, 0].imshow(xray_image_parallel_source, cmap=\"gray\")\n",
    "axs[0, 0].set_title(\"Parallel beam\")\n",
    "axs[0, 0].set_xticks([])\n",
    "axs[0, 0].set_yticks([])\n",
    "\n",
    "axs[0, 1].imshow(xray_image_point_source, cmap=\"gray\")\n",
    "axs[0, 1].set_title(\"Point source\")\n",
    "axs[0, 1].set_xticks([])\n",
    "axs[0, 1].set_yticks([])\n",
    "\n",
    "axs[0, 2].imshow(xray_image_focal_spot, cmap=\"gray\")\n",
    "axs[0, 2].set_title(\"Focal spot: 1 mm\")\n",
    "axs[0, 2].set_xticks([])\n",
    "axs[0, 2].set_yticks([])\n",
    "\n",
    "axs[1, 0].plot(xray_image_parallel_source[300])\n",
    "axs[1, 0].set_xlim([100, 500])\n",
    "\n",
    "axs[1, 1].plot(xray_image_point_source[300])\n",
    "axs[1, 1].set_title(\"Horizontal profiles through the middle line\")\n",
    "axs[1, 1].set_xlim([100, 500])\n",
    "\n",
    "axs[1, 2].plot(xray_image_focal_spot[300])\n",
    "axs[1, 2].set_xlim([100, 500])\n",
    "\n",
    "axs[2, 0].imshow(screenshot_parallel_source)\n",
    "axs[2, 0].set_xticks([])\n",
    "axs[2, 0].set_yticks([])\n",
    "\n",
    "axs[2, 1].imshow(screenshot_point_source)\n",
    "axs[2, 1].set_xticks([])\n",
    "axs[2, 1].set_yticks([])\n",
    "\n",
    "axs[2, 2].imshow(screenshot_focal_spot)\n",
    "axs[2, 2].set_xticks([])\n",
    "axs[2, 2].set_yticks([])\n",
    "\n",
    "plt.tight_layout()\n",
    "plt.margins(0,0)"
   ]
  },
  {
   "cell_type": "markdown",
   "id": "f75453be-b8cc-4799-b98d-c703ba2e7d94",
   "metadata": {},
   "source": [
    "<div class=\"alert alert-block alert-warning\">\n",
    "    <b>Note:</b> Larger focal spots will introduce more blur. It may be necessary to increase the sampling rate of the focal spot (i.e. increase the value of N) to avoid some aliasing.\n",
    "</div>"
   ]
  },
  {
   "cell_type": "markdown",
   "id": "2ffef4d2-8269-409b-9f77-05a87ffbf256",
   "metadata": {},
   "source": [
    "---\n",
    "### Optional task:\n",
    "\n",
    "You may i) re-run the previous two cells of code with a focal spot of 0.75 cm, ii) check the shape of the right-hand side profile, and iii) adjust `N` to remove the aliasing."
   ]
  },
  {
   "cell_type": "markdown",
   "id": "c37990da-6717-456e-b826-3379747cc319",
   "metadata": {},
   "source": [
    "# X-ray spectra\n",
    "\n",
    "If a beam spectrum is already loaded, you can erase it with `gvxr.resetBeamSpectrum()`.\n",
    "\n",
    "## Monochromatic\n",
    "\n",
    "When all the photons of the X-ray beam have the same energy, the beam is monochromatic. \n",
    "This is unrealistic for most simulation but it can be useful for testing. \n",
    "In synchrotron radiation, when a monochromator is used, the beam may be considered monochromatic.\n",
    "There are two ways to create a monochromatic beam in gVXR. The following code snapshots are equivalent.\n",
    "\n",
    "```python\n",
    "gvxr.setMonoChromatic(energy, units, photon_count_per_ray)\n",
    "```\n",
    "\n",
    "or \n",
    "\n",
    "```python\n",
    "gvxr.resetBeamSpectrum()\n",
    "gvxr.addEnergyBinToSpectrum(energy, units, photon_count_per_ray)\n",
    "```\n",
    "\n",
    "`energy` is the energy of the incident photons, `units` is `\"keV\"` or `\"MeV\"`, and `photon_count_per_ray` is the number of photons of that energy per ray.\n",
    "\n",
    "## Polychromatic\n",
    "\n",
    "In practice, the incident beam has photons of a wide range of energy. \n",
    "Depending on the density of the area crossed by photons, low energy photons may be absorbed whilst high energy photons are more likely to reach the detector. \n",
    "Conceptually, this is equivalent to some kind of high-pass filter: only higher energies pass through, but the quantity will depend on the material crossed. \n",
    "This is **Beam Hardening**, a possible source of strong artefacts in computed tomography.\n",
    "\n",
    "To generate a polychromatic beam in gVXR, just call `gvxr.addEnergyBinToSpectrum` with various energies.\n",
    "\n",
    "### Synchrotron\n",
    "\n",
    "Although monochromators are used in synchrotron tomography, the beam is not 100% monochromatic. It may be corrutpted by a few percent of harmonics. \n",
    "The code below will create a 33 keV beam that is almost monochromatic, with 2% of first order harmonics (66 keV), and 1% of second order harmonics (99 keV).\n",
    "\n",
    "```python\n",
    "gvxr.resetBeamSpectrum() # Make sure the beam is reset\n",
    "gvxr.addEnergyBinToSpectrum(33, \"keV\", 0.97) # The energy of 97% of the photons is 33 keV\n",
    "gvxr.addEnergyBinToSpectrum(66, \"keV\", 0.02) # The energy of 2% of the photons is 66 keV\n",
    "gvxr.addEnergyBinToSpectrum(99, \"keV\", 0.01) # The energy of 1% of the photons is 66 keV\n",
    "```\n",
    "\n",
    "Keep note of the code, you'll use it to simulate some a CT scan in [Notebook 6](06-CT_acquisition.ipynb).\n",
    "\n",
    "### X-ray tube\n",
    "\n",
    "In most applications, whether radiography or tomography, whether medical or industrial, X-rays are generated with [X-ray tubes](https://www.creatis.insa-lyon.fr/~letang/x-ray-book/instrumentation.html#x-ray-production).\n",
    "The cell below makes it possible to calculate spectra as generated by the X-ray tubes by specifying:\n",
    "- the high voltage U of electrons acceleration,\n",
    "- the thickness and the nature of the plate inserted.\n",
    "\n",
    "These plates are located between the X-ray source and the scanned object. \n",
    "They are called \"filters\". \n",
    "Using the beam hardening principle, they are used to \"clean\" the spectra by stopping soft X-rays. \n",
    "It makes the beam more \"monochromatic\".\n",
    "This is what the task below illustrates.\n",
    "\n",
    "---\n",
    "### Task:\n",
    "\n",
    "1. Click on \"Run Interact\" below to generate the X-ray spectrum of an X-ray tube with a tungsten anode for a 100 kV tube voltage.\n",
    "2. Change the tube voltage to 90 kV and click on \"Run Interact\". How did the figure change?\n",
    "3. Change the tube voltage to 80 kV and click on \"Run Interact\". How did the figure change?\n",
    "4. Change it back to 100 kV, then click on \"Run Interact\".\n",
    "5. Add a plate of 5mm of copper, then click on \"Run Interact\". How did the figure change compare to the initial spectrum without the copper plate?"
   ]
  },
  {
   "cell_type": "code",
   "execution_count": null,
   "id": "82b53338-86a4-46af-998e-f00ccbae40f4",
   "metadata": {},
   "outputs": [],
   "source": [
    "import ipywidgets as widgets\n",
    "import utilities\n",
    "widgets.interact_manual(utilities.spectrum,E0=widgets.IntText(value=100,step=1,description=\"High voltage (kV):\",disabled=False,style={'description_width': 'initial'}),Mat_Z=widgets.Dropdown(options=[('Water',-1),('Aluminium',13),('Copper',29),('Lead',82)],value=-1,layout={'width': 'max-content'},description='Material:',style={'description_width': 'initial'}),Mat_X=widgets.FloatText(value=0.,step=0.01,description=\"Thickness (mm):\",disabled=False,style={'description_width': 'initial'}));"
   ]
  },
  {
   "cell_type": "markdown",
   "id": "81dffc83-f556-47c5-b953-c4e2a7497ff3",
   "metadata": {},
   "source": [
    "There are two main Python packages to generate realistic beam spectra from X-ray tubes.\n",
    "\n",
    "1. [Spekpy](https://bitbucket.org/spekpy/spekpy_release/wiki/Home)\n",
    "    - G Poludniowski, A Omar, R Bujila and P Andreo, Technical Note: SpekPy v2.0—a software toolkit for modeling x-ray tube spectra. Med Phys. 2021; DOI: [10.1002/mp.14945](https://doi.org/10.1002/mp.14945)\n",
    "    - R Bujila, A Omar and G Poludniowski, A validation of SpekPy: a software toolkit for modelling x-ray tube spectra. Phys Med. 2020; 75:44-54. DOI: [10.1016/j.ejmp.2020.04.026](https://doi.org/10.1016/j.ejmp.2020.04.026)\n",
    "2. [xpecgen](https://github.com/Dih5/xpecgen)\n",
    "    - Hernández, G., Fernández F. 2016. \"A model of tungsten x-ray anode spectra.\" Medical Physics, 43 4655. DOI: [10.1118/1.4955120](https://doi.org/10.1118/1.4955120)\n",
    "    - Hernández, G., Fernández F. 2016. \"xpecgen: A program to calculate x-ray spectra generated in tungsten anodes.\" The Journal of Open Source Software, 00062. DOI: [10.21105/joss.00062](https://doi.org/10.21105/joss.00062).\n",
    "    \n",
    "gVXR provides convenience functions to generate beam spectra using both packages:\n",
    "\n",
    "- `loadSpekpySpectrum(kV, filters, angle)`\n",
    "- `loadXpecgenSpectrum(kV, filters, angle)`\n",
    "\n",
    "`kV` is the tube voltage in kV.\n",
    "`filters` is an array of filters. Its default values is `None`. A filter is an array of two values. The first one is the symbol of a chemical element, e.g. `\"Cu\"` for copper, and a thickness in mm.\n",
    "`angle` is the emission angle in degrees. Its default value is 12 degrees.\n",
    "\n",
    "The function returns 4 variables, i) a dictionary whose keys are the photon energies, and the corresponding values are the number of photons, ii) an array of energies, iii) an array of corresponing photon counts, and iv) the corresponding units of energy.\n",
    "\n",
    "For this course, we will be using `loadXpecgenSpectrum()`.\n",
    "\n",
    "The example below creates a X-ray tube spectrum with a voltage of 100 kV. \n",
    "A 10 mm alluminium plate and a 5 mm copper plate are used for filtration.\n",
    "\n",
    "`loadXpecgenSpectrum(100, [[\"Al\", 10], [\"Cu\", 5]])`\n",
    "\n",
    "A further convenience function allows us to load a spectrum from a text file:\n",
    "`gvxr.loadSpectrumFromTSV(fname, units)`"
   ]
  },
  {
   "cell_type": "code",
   "execution_count": null,
   "id": "788d7e83-ff70-4353-beb0-e9482e4cc84c",
   "metadata": {},
   "outputs": [],
   "source": [
    "def getAverageEnergy(k, f):\n",
    "    \n",
    "    avg = 0\n",
    "    for energy, count in zip(k, f):\n",
    "        avg += energy * count\n",
    "        \n",
    "    return avg / np.sum(f)"
   ]
  },
  {
   "cell_type": "code",
   "execution_count": null,
   "id": "7199f95b-3412-4ca3-99f5-c947fb7c4687",
   "metadata": {},
   "outputs": [],
   "source": [
    "spectrum_unfiltered, k_unfiltered, f_unfiltered, units = loadXpecgenSpectrum(100)\n",
    "xray_image_100kV_unfiltered = np.array(gvxr.computeXRayImage()) / gvxr.getTotalEnergyWithDetectorResponse()\n",
    "average_energy_unfiltered = getAverageEnergy(k_unfiltered, f_unfiltered)\n",
    "print(\"Average energy:\", average_energy_unfiltered, units)"
   ]
  },
  {
   "cell_type": "code",
   "execution_count": null,
   "id": "e98497ed-984c-4d1e-af49-2f9dc11dc4a4",
   "metadata": {},
   "outputs": [],
   "source": [
    "spectrum_filtered, k_filtered, f_filtered, units = loadXpecgenSpectrum(100, filters=[[\"Cu\", 5]])\n",
    "xray_image_100kV_filtered = np.array(gvxr.computeXRayImage()) / gvxr.getTotalEnergyWithDetectorResponse()\n",
    "\n",
    "average_energy_filtered = getAverageEnergy(k_filtered, f_filtered)\n",
    "print(\"Average energy:\", average_energy_filtered, units)"
   ]
  },
  {
   "cell_type": "markdown",
   "id": "91109fdb-f6a3-4d79-86ec-e59ece6414f9",
   "metadata": {},
   "source": [
    "---\n",
    "### Task:\n",
    "\n",
    "1. Set a monochromatic source. The Photon energy is 51 keV\n",
    "2. Generate an the corresponding X-ray image.\n",
    "    - Store it in a numpy array and divide every pixel value by `gvxr.getTotalEnergyWithDetectorResponse()`, e.g.\n",
    "    - `xray_image_51keV = np.array(gvxr.computeXRayImage()) / gvxr.getTotalEnergyWithDetectorResponse()`\n",
    "3. Set a monochromatic source. The Photon energy is 81 keV\n",
    "4. Generate an the corresponding X-ray image.\n",
    "    - Store it in a numpy array and divide every pixel value by `gvxr.getTotalEnergyWithDetectorResponse()`, e.g.\n",
    "    - `xray_image_81keV = np.array(gvxr.computeXRayImage()) / gvxr.getTotalEnergyWithDetectorResponse()`"
   ]
  },
  {
   "cell_type": "code",
   "execution_count": null,
   "id": "6f2b3a18-8fd7-4135-91e7-9be48198c774",
   "metadata": {},
   "outputs": [],
   "source": []
  },
  {
   "cell_type": "code",
   "execution_count": null,
   "id": "f69c134c-94e8-402e-ac3a-44aadf363c24",
   "metadata": {},
   "outputs": [],
   "source": [
    "fig, axs = plt.subplots(3, 2, figsize=(13, 10))\n",
    "\n",
    "axs[0, 0].imshow(xray_image_100kV_unfiltered, cmap=\"gray\")\n",
    "axs[0, 0].set_title(\"100 kV, no filter (polychromatic)\")\n",
    "axs[0, 0].set_xticks([])\n",
    "axs[0, 0].set_yticks([])\n",
    "\n",
    "axs[0, 1].imshow(xray_image_100kV_filtered, cmap=\"gray\")\n",
    "axs[0, 1].set_title(\"100 kV, filtered (polychromatic)\")\n",
    "axs[0, 1].set_xticks([])\n",
    "axs[0, 1].set_yticks([])\n",
    "\n",
    "axs[1, 0].imshow(xray_image_51keV, cmap=\"gray\")\n",
    "axs[1, 0].set_title(\"51 keV (monochromatic)\")\n",
    "axs[1, 0].set_xticks([])\n",
    "axs[1, 0].set_yticks([])\n",
    "\n",
    "axs[1, 1].imshow(xray_image_81keV, cmap=\"gray\")\n",
    "axs[1, 1].set_title(\"81 keV (monochromatic)\")\n",
    "axs[1, 1].set_xticks([])\n",
    "axs[1, 1].set_yticks([])\n",
    "\n",
    "axs[2, 0].plot(xray_image_100kV_unfiltered[300], label=\"100 kV, unfiltered\")\n",
    "axs[2, 0].plot(xray_image_51keV[300], label=\"monochromatic, 51 keV\")\n",
    "axs[2, 0].plot(xray_image_100kV_filtered[300], label=\"100 kV, filtered\")\n",
    "axs[2, 0].plot(xray_image_81keV[300], label=\"monochromatic, 81 keV\")\n",
    "axs[2, 0].set_xlim([100, 500])\n",
    "axs[2, 0].legend()\n",
    "axs[2, 0].set_title(\"Horizontal profiles through the middle line\")\n",
    "\n",
    "\n",
    "axs[2, 1].plot(k_unfiltered, f_unfiltered, label=\"unfiltered\")\n",
    "axs[2, 1].plot(k_filtered, f_filtered, label=\"filtered\")\n",
    "axs[2, 1].set_xlabel(\"Energy [\" + units + \"]\")\n",
    "axs[2, 1].set_ylabel(\"Photon count\")\n",
    "axs[2, 1].legend()\n",
    "axs[2, 1].set_title(\"Corresponding spectra\")\n",
    "\n",
    "plt.tight_layout()\n",
    "plt.margins(0,0)"
   ]
  },
  {
   "cell_type": "markdown",
   "id": "432d0fc6-751d-49a2-b1b5-10147254b297",
   "metadata": {},
   "source": [
    "From the profiles, we can see that the filtered beam spectrum and the corresponding monochromatic beam provide similar simulation results. This is, however, not the case for the filtered beam spectrum. The blue and orange curve differ significantly for the 4th sphere."
   ]
  },
  {
   "cell_type": "markdown",
   "id": "44d7d772-3aec-46aa-8777-f2442a1e7d4c",
   "metadata": {},
   "source": [
    "# Pixel size\n",
    "\n",
    "Let us consider the example below. \n",
    "Imagine that the object size is unknown. We know:\n",
    "\n",
    "- the soure-detector distance (SDD), \n",
    "- source-object distance (SOD) and \n",
    "- the physical space between the centre of two consecutive pixels (known as pixel spacing).\n",
    "\n",
    "<div class=\"alert alert-block alert-warning\">\n",
    "    <b>Note:</b> There is no convention about how the SOD should be measured. The object position could be taken from the front, centre or back of the object. \n",
    "</div>\n"
   ]
  },
  {
   "cell_type": "markdown",
   "id": "b9301069-129b-4c82-b5bf-551522a2c65f",
   "metadata": {},
   "source": [
    "![](img/pixel_size.png)"
   ]
  },
  {
   "cell_type": "markdown",
   "id": "0f688801-753e-4d33-8337-b812da809f5e",
   "metadata": {},
   "source": [
    "The projection of this object occupy 5 pixels of the detector, i.e. 3.5 cm. \n",
    "Using the Thales's theorem, we can take into account the perspective projection to compute the actual size of the object:\n",
    "\n",
    "$$\\text{pixel size} = \\text{pixel spacing} \\times \\frac{SOD}{SDD}$$\n",
    "\n",
    "In this example, \n",
    "\n",
    "$$\\text{pixel size} = 0.7 \\times \\frac{9.9}{14.8} \\\\= 0.47$$\n",
    "\n",
    "The pixel size in in the object plane is 0.47 cm.\n",
    "\n",
    "The size of the object is\n",
    "\n",
    "$$5 \\times 0.47 \\sim 2.4$$\n",
    "\n",
    "We can plot again the X-ray images and profiles above to show the axes of the plots in centimetres."
   ]
  },
  {
   "cell_type": "code",
   "execution_count": null,
   "id": "cb167174-3634-46a2-8d80-cf0453013a1a",
   "metadata": {},
   "outputs": [],
   "source": [
    "from scipy.spatial import distance\n",
    "source_position = gvxr.getSourcePosition(\"mm\")\n",
    "detector_position = gvxr.getDetectorPosition(\"mm\")\n",
    "\n",
    "number_of_pixels = np.array(gvxr.getDetectorNumberOfPixels())\n",
    "detector_size = np.array(gvxr.getDetectorSize(\"mm\"))\n",
    "detector_element_spacing = detector_size / number_of_pixels\n",
    "\n",
    "object_bbox = gvxr.getNodeAndChildrenBoundingBox(\"root\", \"mm\")\n",
    "object_position = [(object_bbox[0] + object_bbox[3]) / 2,\n",
    "                   (object_bbox[1] + object_bbox[4]) / 2,\n",
    "                   (object_bbox[2] + object_bbox[5]) / 2\n",
    "                  ]\n",
    "\n",
    "source_detector_distance = distance.euclidean(source_position, detector_position)\n",
    "source_object_distance = distance.euclidean(source_position, object_position)\n",
    "\n",
    "magnification = source_detector_distance / source_object_distance\n",
    "pixel_size = detector_element_spacing * source_object_distance / source_detector_distance"
   ]
  },
  {
   "cell_type": "code",
   "execution_count": null,
   "id": "5cf44e47-d01e-442e-a189-59ee62fa91a3",
   "metadata": {},
   "outputs": [],
   "source": [
    "print(\"Detector element spacing\", detector_element_spacing, \"mm\")\n",
    "print(\"SDD:\", source_detector_distance, \"mm\")\n",
    "print(\"SOD:\", source_object_distance, \"mm\")\n",
    "print(\"magnification:\", magnification)\n",
    "print(\"Pixel size in the object plane:\", pixel_size)\n",
    "print(\"Object width:\", object_bbox[3] - object_bbox[0], \"mm\")\n",
    "print(\"Object height:\", object_bbox[4] - object_bbox[1], \"mm\")\n",
    "print(\"Object depth:\", object_bbox[5] - object_bbox[2], \"mm\")"
   ]
  },
  {
   "cell_type": "code",
   "execution_count": null,
   "id": "da659050-a9bd-4742-865c-8fcbca84c351",
   "metadata": {},
   "outputs": [],
   "source": [
    "fig, axs = plt.subplots(3, 2, figsize=(13, 10))\n",
    "\n",
    "extent=[0, (number_of_pixels[0] - 1) * pixel_size[0],\n",
    "        0, (number_of_pixels[1] - 1) * pixel_size[1]\n",
    "]\n",
    "\n",
    "axs[0, 0].imshow(xray_image_100kV_unfiltered, cmap=\"gray\", extent=extent)\n",
    "axs[0, 0].set_title(\"100 kV, no filter (polychromatic)\")\n",
    "axs[0, 0].set_xlabel(\"[mm]\")\n",
    "axs[0, 0].set_ylabel(\"[mm]\")\n",
    "\n",
    "\n",
    "axs[0, 1].imshow(xray_image_100kV_filtered, cmap=\"gray\", extent=extent)\n",
    "axs[0, 1].set_title(\"100 kV, filtered (polychromatic)\")\n",
    "axs[0, 1].set_xlabel(\"[mm]\")\n",
    "axs[0, 1].set_ylabel(\"[mm]\")\n",
    "\n",
    "axs[1, 0].imshow(xray_image_51keV, cmap=\"gray\", extent=extent)\n",
    "axs[1, 0].set_title(\"51 keV (monochromatic)\")\n",
    "axs[1, 0].set_xlabel(\"[mm]\")\n",
    "axs[1, 0].set_ylabel(\"[mm]\")\n",
    "\n",
    "axs[1, 1].imshow(xray_image_81keV, cmap=\"gray\", extent=extent)\n",
    "axs[1, 1].set_title(\"81 keV (monochromatic)\")\n",
    "axs[1, 1].set_xlabel(\"[mm]\")\n",
    "axs[1, 1].set_ylabel(\"[mm]\")\n",
    "\n",
    "x = np.linspace(0, (number_of_pixels[0] - 1) * pixel_size[0], number_of_pixels[0])\n",
    "axs[2, 0].plot(x, xray_image_100kV_unfiltered[300], label=\"100 kV, unfiltered\")\n",
    "axs[2, 0].plot(x, xray_image_51keV[300], label=\"monochromatic, 51 keV\")\n",
    "axs[2, 0].plot(x, xray_image_100kV_filtered[300], label=\"100 kV, filtered\")\n",
    "axs[2, 0].plot(x, xray_image_81keV[300], label=\"monochromatic, 81 keV\")\n",
    "# axs[2, 0].set_xlim([100, 500])\n",
    "axs[2, 0].legend()\n",
    "axs[2, 0].set_title(\"Horizontal profiles through the middle line\")\n",
    "\n",
    "\n",
    "axs[2, 1].plot(k_unfiltered, f_unfiltered, label=\"unfiltered\")\n",
    "axs[2, 1].plot(k_filtered, f_filtered, label=\"filtered\")\n",
    "axs[2, 1].set_xlabel(\"Energy [\" + units + \"]\")\n",
    "axs[2, 1].set_ylabel(\"Photon count\")\n",
    "axs[2, 1].legend()\n",
    "axs[2, 1].set_title(\"Corresponding spectra\")\n",
    "\n",
    "plt.tight_layout()\n",
    "plt.margins(0,0)"
   ]
  },
  {
   "cell_type": "code",
   "execution_count": null,
   "id": "e3191424-505f-4a99-ac29-b6eba5c68b85",
   "metadata": {},
   "outputs": [],
   "source": [
    "gvxr.terminate()"
   ]
  },
  {
   "cell_type": "code",
   "execution_count": null,
   "id": "8652f8ee-d896-4aa0-8c4a-0f4415b3b8a2",
   "metadata": {},
   "outputs": [],
   "source": []
  }
 ],
 "metadata": {
  "kernelspec": {
   "display_name": "Python 3 (ipykernel)",
   "language": "python",
   "name": "python3"
  },
  "language_info": {
   "codemirror_mode": {
    "name": "ipython",
    "version": 3
   },
   "file_extension": ".py",
   "mimetype": "text/x-python",
   "name": "python",
   "nbconvert_exporter": "python",
   "pygments_lexer": "ipython3",
   "version": "3.10.5"
  }
 },
 "nbformat": 4,
 "nbformat_minor": 5
}
