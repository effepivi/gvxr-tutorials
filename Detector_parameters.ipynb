{
  "cells": [
    {
      "cell_type": "markdown",
      "metadata": {
        "id": "view-in-github",
        "colab_type": "text"
      },
      "source": [
        "<a href=\"https://colab.research.google.com/github/effepivi/gvxr-tutorials/blob/main/Detector_parameters.ipynb\" target=\"_parent\"><img src=\"https://colab.research.google.com/assets/colab-badge.svg\" alt=\"Open In Colab\"/></a>"
      ]
    },
    {
      "cell_type": "code",
      "execution_count": 1,
      "metadata": {
        "id": "gT91YoKWr_X7",
        "tags": []
      },
      "outputs": [],
      "source": [
        "%matplotlib inline"
      ]
    },
    {
      "cell_type": "markdown",
      "metadata": {
        "id": "deylR9frFXcF"
      },
      "source": [
        "# Session 5\n",
        "\n",
        "## Detector Parameters ![gVXR](https://github.com/effepivi/gvxr-tutorials/blob/main/img/gvxr_logo.png?raw=1)\n",
        "\n",
        "## Authors: Iwan Mitchell\n",
        "\n",
        "(version 1.1, 7 Mar 2023)"
      ]
    },
    {
      "cell_type": "markdown",
      "metadata": {
        "id": "Mkl9pm25FXcH"
      },
      "source": [
        "## Aims of this session\n",
        "- Introduction to more advanced detector properties\n",
        "- Learn the effect of magnification on tube-based scanners\n",
        "- See how the detector's Line Spread Function dramatically change result quality (pixels are not everything!)"
      ]
    },
    {
      "cell_type": "markdown",
      "source": [
        "# Install gVXR\n",
        "\n",
        "Run the cell below\n",
        "\n",
        "```python\n",
        "!pip3 install --upgrade gvxr\n",
        "```"
      ],
      "metadata": {
        "id": "k029BjhjFmFA"
      }
    },
    {
      "cell_type": "code",
      "source": [
        "!pip3 install --upgrade gvxr"
      ],
      "metadata": {
        "id": "V3kywsvOFke9",
        "outputId": "c14d8104-f3de-40c3-b72c-5628bda1d025",
        "colab": {
          "base_uri": "https://localhost:8080/"
        }
      },
      "execution_count": 2,
      "outputs": [
        {
          "output_type": "stream",
          "name": "stdout",
          "text": [
            "Looking in indexes: https://pypi.org/simple, https://us-python.pkg.dev/colab-wheels/public/simple/\n",
            "Requirement already satisfied: gvxr in /usr/local/lib/python3.8/dist-packages (2.0.3)\n"
          ]
        }
      ]
    },
    {
      "cell_type": "code",
      "execution_count": 3,
      "metadata": {
        "tags": [],
        "id": "IgxpkctRFXcH",
        "outputId": "620e9235-5e09-477f-edc8-cc00adaaa2ac",
        "colab": {
          "base_uri": "https://localhost:8080/"
        }
      },
      "outputs": [
        {
          "output_type": "stream",
          "name": "stdout",
          "text": [
            "K3D is not install, you won't be able to visualise the 3D scene using k3D\n",
            "spekpy is not install, you won't be able to load a beam spectrum using spekpy\n",
            "xpecgen is not install, you won't be able to load a beam spectrum using xpecgen\n",
            "SimpleGVXR 2.0.3 (2023-01-13T14:30:43) [Compiler: GNU g++] on Linux\n",
            "gVirtualXRay core library (gvxr) 2.0.3 (2023-01-13T14:30:43) [Compiler: GNU g++] on Linux\n"
          ]
        }
      ],
      "source": [
        "import os\n",
        "from gvxrPython3 import gvxr, json2gvxr\n",
        "import matplotlib.pyplot as plt\n",
        "import matplotlib.ticker as plttick\n",
        "import ipywidgets as widgets\n",
        "from IPython.display import display, clear_output\n",
        "import numpy as np\n",
        "from math import e, pi, sqrt\n",
        "from scipy.signal import unit_impulse"
      ]
    },
    {
      "cell_type": "markdown",
      "metadata": {
        "id": "7n8TXQazdCko"
      },
      "source": [
        "Download the Sample if needed"
      ]
    },
    {
      "cell_type": "code",
      "execution_count": 4,
      "metadata": {
        "id": "uOAnJr8dcSDP",
        "tags": []
      },
      "outputs": [],
      "source": [
        "# The directory does not exist\n",
        "if not os.path.exists(\"input_data\"):\n",
        "    \n",
        "    # Create the directory\n",
        "    os.mkdir(\"input_data\")\n",
        "\n",
        "# The directory does not exist\n",
        "if not os.path.exists(\"input_data/phantoms\"):\n",
        "    \n",
        "    # Create the directory\n",
        "    os.mkdir(\"input_data/phantoms\")\n",
        "\n",
        "# The directory does not exist\n",
        "if not os.path.exists(\"input_data/phantoms/spheres\"):\n",
        "    \n",
        "    # Create the directory\n",
        "    os.mkdir(\"input_data/phantoms/spheres\")\n",
        "\n",
        "files = [\"notebook5-detector-lsf.json\",\n",
        "         \"notebook5-multimat-spheres.json\",\n",
        "         \"input_data/phantoms/star.stl\",\n",
        "         \"input_data/responseDetector.txt\",\n",
        "         \"input_data/phantoms/spheres/spheres-0.stl\",\n",
        "         \"input_data/phantoms/spheres/spheres-1.stl\",\n",
        "         \"input_data/phantoms/spheres/spheres-2.stl\",\n",
        "         \"input_data/phantoms/spheres/spheres-3.stl\",\n",
        "         \"input_data/phantoms/spheres/spheres-4.stl\"\n",
        "        ]\n",
        "\n",
        "for fname in files:\n",
        "    if not os.path.exists(fname):\n",
        "        import urllib.request\n",
        "        url = \"https://github.com/effepivi/gvxr-tutorials/raw/main/\" + fname\n",
        "        print(\"Download the file (%s) from %s\" % (fname, url))\n",
        "        urllib.request.urlretrieve(url, fname)"
      ]
    },
    {
      "cell_type": "code",
      "execution_count": 5,
      "metadata": {
        "tags": [],
        "id": "fj804OwPFXcK",
        "outputId": "bb45f711-cc3e-4d47-bd78-cf2ffa2e5dc7",
        "colab": {
          "base_uri": "https://localhost:8080/"
        }
      },
      "outputs": [
        {
          "output_type": "stream",
          "name": "stdout",
          "text": [
            "Create an OpenGL context: 800x450\n",
            "Set up the detector\n",
            "\tDetector position: [0, 10, 0, 'cm']\n",
            "\tDetector up vector: [0, 0, 1]\n",
            "\tNumber of pixels: [300, 320]\n",
            "\tDetector number of pixels: [300, 320]\n",
            "\tPixel spacing: [0.5, 0.5, 'mm']\n",
            "LSF: [0.00110698, 0.00122599, 0.00136522, 0.00152954, 0.00172533, 0.00196116, 0.0022487, 0.00260419, 0.00305074, 0.00362216, 0.00436939, 0.00537209, 0.00676012, 0.0087564, 0.01176824, 0.01659933, 0.02499446, 0.04120158, 0.0767488, 0.15911699, 0.24774516, 0.15911699, 0.0767488, 0.04120158, 0.02499446, 0.01659933, 0.01176824, 0.0087564, 0.00676012, 0.00537209, 0.00436939, 0.00362216, 0.00305074, 0.00260419, 0.0022487, 0.00196116, 0.00172533, 0.00152954, 0.00136522, 0.00122599, 0.00110698]\n",
            "Set up the beam\n",
            "\tSource position: [0, -40, 0, 'cm']\n",
            "\tSource shape: Parallel\n"
          ]
        }
      ],
      "source": [
        "# Load in gvxr parameters from a json file\n",
        "json2gvxr.initGVXR(\"./notebook5-detector-lsf.json\", \"EGL\")\n",
        "json2gvxr.initDetector()\n",
        "json2gvxr.initSourceGeometry()\n",
        "json2gvxr.initSpectrum()\n",
        "json2gvxr.initSamples()\n",
        "\n",
        "# Remove the current LSF\n",
        "gvxr.setLSF((0,1,0))"
      ]
    },
    {
      "cell_type": "markdown",
      "metadata": {
        "id": "oMEhqGHYFXcL"
      },
      "source": [
        "# Introduction to the Detector\n",
        "The Detector is a core component of all scanning systems. It is the part receiving X-rays from the beam source, converting them into signals (the images we see).\n",
        "\n",
        "In a previous setting you quickly looked at defining a detector's spacial location, along with the number and size of pixels the detector will receive. In this notebook, we will take a further in-depth look into how these parameters are not enough to accurately simulate real-life detectors.\n",
        "\n",
        "In gVXR, the detector is modelled as a simple 2D plane in the path of the beam source. This virtual detector by default has perfect properties, resulting in a theoretical perfect image. Real life detectors are unfortunately not perfect, and obtaining high quality images relies on more than resolution.\n",
        "\n",
        "![](https://github.com/effepivi/gvxr-tutorials/blob/main/img/scene-detector.drawio.png?raw=1)\n",
        "\n",
        "\n",
        "Just like a camera, detectors can be built in many different ways. One common detector type uses scintillators to absorb x-rays and re-emit the absorbed energy as light. This light is then detected using transistors to produce an electrical image.\n",
        "\n",
        "![](https://github.com/effepivi/gvxr-tutorials/blob/main/img/detector-scintillator.drawio.png?raw=1)\n",
        "\n",
        "Keep in mind that this process isn't perfect! the generated light energy is picked up by neighboring transistors, causing blurring. Depending on the quality of the detector, this can drastically affect the quality of the produced scan. This phenomenon can be measured and used to calibrate detectors. The measured response is called the Line Spread Function.\n"
      ]
    },
    {
      "cell_type": "markdown",
      "metadata": {
        "id": "BMquoxuBFXcM"
      },
      "source": [
        "## Resolution and Pixel Size\n",
        "\n",
        "Detectors come in many different sizes, and are represented in different formats.\n",
        "gVXR only supports denoting detector sizes using pixel size, and resolution.\n",
        "\n",
        "Sometimes, the term *pixel pitch* is used. Pixel pitch is the distance between the centre of two pixels. It is often assumed that the edge of pixels have no width;- resulting in a pixel size equal to the pixel pitch.\n",
        "\n",
        "![](https://github.com/effepivi/gvxr-tutorials/blob/main/img/detector-size.drawio.png?raw=1)"
      ]
    },
    {
      "cell_type": "markdown",
      "metadata": {
        "id": "Tzo41lhqFXcM"
      },
      "source": [
        "### Task: Setting Pixel Size and Resolution\n",
        "\n",
        "Setting the detector size in gVXR is easy, but it only supports pixel values. \n",
        "That is, the physical width of the simulated detector is equal to the detector's pixel width multiplied by the number of horizontal pixels and similar for calculating physical height.\n",
        "The detector's resolution *must* be in pixels, you will have to convert the values yourself."
      ]
    },
    {
      "cell_type": "code",
      "execution_count": 6,
      "metadata": {
        "tags": [],
        "id": "l_sqY-DdFXcN"
      },
      "outputs": [],
      "source": [
        "# Set resolution to 512x512 with a pixel size of 200μm\n",
        "gvxr.setDetectorNumberOfPixels(512, 512)\n",
        "gvxr.setDetectorPixelSize(200, 200, \"um\")\n",
        "\n",
        "# Create a detector with a width of 8.192mm, height of 12.046mm and with a pixel size of 8μm\n",
        "gvxr.setDetectorPixelSize(8, 8, \"um\")\n",
        "gvxr.setDetectorNumberOfPixels(1024, 1506)\n",
        "\n",
        "# Using a resolution of 500x1000, create a detector with a width of 10mm and height of 20mm\n",
        "gvxr.setDetectorNumberOfPixels(500, 1000)\n",
        "gvxr.setDetectorPixelSize(20,20,\"um\")\n",
        "\n",
        "# Create a detector with a resolution of 512x512 with a pixel pitch of 20μm\n",
        "gvxr.setDetectorNumberOfPixels(512, 512)\n",
        "gvxr.setDetectorPixelSize(20,20,\"um\")"
      ]
    },
    {
      "cell_type": "markdown",
      "metadata": {
        "id": "Oe290nUhFXcO"
      },
      "source": [
        "### Task: Pixel Binning\n",
        "\n",
        "Pixel binning is a method to reduce noise by combining values from multiple pixels and resulting in a lower resolution image.\n",
        "The result may have less total resolution, but the overall noise is decreased as more samples per pixel are used.\n",
        "\n",
        "![](https://github.com/effepivi/gvxr-tutorials/blob/main/img/detector-stride.drawio.png?raw=1)\n",
        "\n",
        "gVXR does not directly support detector binning, however there are two approaches to recreate this detector feature:\n",
        "1. Double the pixel size to directly reduce the resolution\n",
        "2. Sample a full-resolution image\n",
        "\n",
        "Method 2. can be done using [scikit-learn's `downscale_local_mean`](https://scikit-image.org/docs/stable/api/skimage.transform.html#skimage.transform.downscale_local_mean) but that will not be covered in this lesson."
      ]
    },
    {
      "cell_type": "code",
      "execution_count": 7,
      "metadata": {
        "tags": [],
        "id": "6cliVsPIFXcO",
        "outputId": "d5bb1d21-a719-4c02-e4fe-7ba44bd7d1e5",
        "colab": {
          "base_uri": "https://localhost:8080/",
          "height": 252
        }
      },
      "outputs": [
        {
          "output_type": "execute_result",
          "data": {
            "text/plain": [
              "<matplotlib.image.AxesImage at 0x7f34ab9ef0a0>"
            ]
          },
          "metadata": {},
          "execution_count": 7
        },
        {
          "output_type": "display_data",
          "data": {
            "text/plain": [
              "<Figure size 432x288 with 2 Axes>"
            ],
            "image/png": "[encoded data removed]"
          },
          "metadata": {
            "needs_background": "light"
          }
        }
      ],
      "source": [
        "# Approach 1 - Doubling pixel size\n",
        "\n",
        "# Create a detector with a width of 100cm, height of 120cm and with a pixel size of 80μm\n",
        "gvxr.setDetectorPixelSize(80,80,\"um\")\n",
        "gvxr.setDetectorNumberOfPixels(1250,1500)\n",
        "\n",
        "refImg = gvxr.computeXRayImage()\n",
        "\n",
        "# Create the same detector, but with a pixel size of 160μm to recreate a binned pixel\n",
        "gvxr.setDetectorPixelSize(160,160,\"um\")\n",
        "gvxr.setDetectorNumberOfPixels(625, 750)\n",
        "\n",
        "newImg = gvxr.computeXRayImage()\n",
        "\n",
        "# -----\n",
        "# Make a simple side-by-side with matplotlib\n",
        "fig, axes = plt.subplots(1,2)\n",
        "axes[0].imshow(refImg,cmap=\"gray\")\n",
        "axes[1].imshow(newImg,cmap=\"gray\")"
      ]
    },
    {
      "cell_type": "markdown",
      "metadata": {
        "id": "Z94C1BKvFXcP"
      },
      "source": [
        "Here we can see that the physical pane size has not changed, but the resolution is halved."
      ]
    },
    {
      "cell_type": "markdown",
      "metadata": {
        "id": "B2K3h4FkFXcP"
      },
      "source": [
        "## OTF, MTF, PSF, ESF, and LSF\n",
        "\n",
        "OTF, MTF, PSF, and LSF are all values used to represent the 'spillover' caused by imperfect detectors. Since scintillator detectors are not perfect there is light leakage causing other nearby pixels to be effected. This has a dramatic effect on scans. Although the large number of acronyms can be confusing, we are only interested in LSF and PSF.\n",
        "\n",
        "The Optical Transfer Function (OTF) specifies how the detector system reacts to different spacial frequencies. It describes in the Fourier domain the transform of the Point Spread Function (PSF) applied to an image received by the detector. The Modulation Transfer Function (MTF) is defined as the magnitude of the OTF and has similar uses in different fields.\n",
        "\n",
        "![OTF relationship](https://github.com/effepivi/gvxr-tutorials/blob/main/img/otf.drawio.png?raw=1)\n",
        "\n",
        "**In our specific case, we are only interested in the Point Spread Function (PSF) and Line Spread Function (LSF).**\n",
        "The PSF can be seen as the effect a single pixel has on the surrounding pixels, whereas LSF is a single line of this PSF though the origin. As mentioned previously in this notebook, a detector's construction is not perfect, and the scintillators commonly used in detectors are picked up by neighboring pixels.\n",
        "\n",
        "![](https://github.com/effepivi/gvxr-tutorials/blob/main/img/detector-scintillator.drawio.png?raw=1)\n",
        "\n",
        "LSF is used rather than PSF as the measurement can be calculated from an image by using a sharp gradient change, and calculating the Edge Spread Function (ESF). The first derivative of the ESF is the LSF.\n",
        "Although it would be more mathematically correct to use the PSF; this cannot be calculated using experiments, as the original obtained LSF is already been affected by the vertical component of the PSF.\n",
        "This is regarded as generally a non-issue, since the common usage of xCT is to assume slices are independent of each other.\n",
        "\n",
        "If the above explanation has confused you, don't worry. The key influencing factor on scans is the Line Spread Function, as it is responsible for blurring in images.\n",
        "\n",
        "![Detector LSF](https://github.com/effepivi/gvxr-tutorials/blob/main/img/detector-lsf.png?raw=1)\n",
        "\n",
        "Shown below are two images; one of a Siemens Star with no LSF applied, and another with a LSF calibrated from a physical detector\n",
        "\n",
        "| Perfect Detector | Real Detector |\n",
        "| --- | --- |\n",
        "| ![](https://github.com/effepivi/gvxr-tutorials/blob/main/img/siemens-perfect.png?raw=1) | ![](https://github.com/effepivi/gvxr-tutorials/blob/main/img/siemens-real.png?raw=1) |\n",
        "\n",
        "Notice how even with the same detector parameters, the image is heavily blurred.\n",
        "Another example with the same setup, but taken as a CT acquisition and reconstruction:\n",
        "\n",
        "| Plate CT Perfect Detector | Plate CT Real Detector |\n",
        "| --- | --- |\n",
        "| ![](https://github.com/effepivi/gvxr-tutorials/blob/main/img/plate-recon-perfect.png?raw=1) | ![](https://github.com/effepivi/gvxr-tutorials/blob/main/img/plate-recon-real.png?raw=1) |\n",
        "\n",
        "<small>(Reconstructed using 360 projections with FDK)</small>"
      ]
    },
    {
      "cell_type": "markdown",
      "metadata": {
        "id": "V0jq62B8FXcP"
      },
      "source": [
        "### LSF Playground\n",
        "\n",
        "Now that you know what the LSF is, this is a small demo where you can adjust the 'Spikiness' of an LSF function.\n",
        "\n",
        "Use the slider to adjust the peak size, and click simulate to generate a quick projection. Feel free to look at the code and see how it works!"
      ]
    },
    {
      "cell_type": "code",
      "execution_count": 8,
      "metadata": {
        "tags": [],
        "id": "WUcbCqIGFXcP",
        "outputId": "6947517a-9ef2-435c-95b8-2d5c196995e1",
        "colab": {
          "base_uri": "https://localhost:8080/",
          "height": 866,
          "referenced_widgets": [
            "3cbdf2718e31449983a8857b0f39e096",
            "79ecd502fe92445ea2647ee173726c79",
            "434854bb7684475294a1090c6c428f35",
            "f36dbadcfdfc48e1904fbbc3315d791b",
            "d135e68b099942bb90067beed157d9f7",
            "a1161da858d84fd2a6e8bf3dd6c353b4",
            "14945797ca6c4251acd4b099ff465c1b",
            "eca998e99fc9453c8375d855f4371408",
            "6bb828f8f846495f8d3470acb3b66d46",
            "a361b6cd94d64bb2a556211122094b9b",
            "85be1163e05f43e0b886804ede83aff5",
            "f99a86a4163a47c48d8fe7f42eefa9b1",
            "0570d406c6a743b3ac717ccf580d921e"
          ]
        }
      },
      "outputs": [
        {
          "output_type": "stream",
          "name": "stdout",
          "text": [
            "Create an OpenGL context: 800x450\n",
            "Set up the detector\n",
            "\tDetector position: [0, 10, 0, 'cm']\n",
            "\tDetector up vector: [0, 0, 1]\n",
            "\tNumber of pixels: [300, 320]\n",
            "\tDetector number of pixels: [300, 320]\n",
            "\tPixel spacing: [0.5, 0.5, 'mm']\n",
            "LSF: [0.00110698, 0.00122599, 0.00136522, 0.00152954, 0.00172533, 0.00196116, 0.0022487, 0.00260419, 0.00305074, 0.00362216, 0.00436939, 0.00537209, 0.00676012, 0.0087564, 0.01176824, 0.01659933, 0.02499446, 0.04120158, 0.0767488, 0.15911699, 0.24774516, 0.15911699, 0.0767488, 0.04120158, 0.02499446, 0.01659933, 0.01176824, 0.0087564, 0.00676012, 0.00537209, 0.00436939, 0.00362216, 0.00305074, 0.00260419, 0.0022487, 0.00196116, 0.00172533, 0.00152954, 0.00136522, 0.00122599, 0.00110698]\n",
            "Set up the beam\n",
            "\tSource position: [0, -40, 0, 'cm']\n",
            "\tSource shape: Parallel\n"
          ]
        },
        {
          "output_type": "display_data",
          "data": {
            "text/plain": [
              "Output(layout=Layout(height='600px'))"
            ],
            "application/vnd.jupyter.widget-view+json": {
              "version_major": 2,
              "version_minor": 0,
              "model_id": "3cbdf2718e31449983a8857b0f39e096"
            }
          },
          "metadata": {}
        },
        {
          "output_type": "display_data",
          "data": {
            "text/plain": [
              "HBox(children=(Button(description='Simulate', style=ButtonStyle()), FloatSlider(value=0.9, description='LSF Pe…"
            ],
            "application/vnd.jupyter.widget-view+json": {
              "version_major": 2,
              "version_minor": 0,
              "model_id": "434854bb7684475294a1090c6c428f35"
            }
          },
          "metadata": {}
        }
      ],
      "source": [
        "# Load in gvxr parameters from a json file\n",
        "gvxr.clearDetectorEnergyResponse()\n",
        "json2gvxr.initGVXR(\"./notebook5-detector-lsf.json\")\n",
        "json2gvxr.initDetector()\n",
        "json2gvxr.initSourceGeometry()\n",
        "json2gvxr.initSpectrum()\n",
        "json2gvxr.initSamples()\n",
        "\n",
        "\n",
        "# Widgets\n",
        "slider = widgets.FloatSlider(value=0.9,min=0.1,max=0.90,step=0.01,description=\"LSF Peak\",readout=True)\n",
        "button = widgets.Button(description=\"Simulate\")\n",
        "color = widgets.Checkbox(description=\"Grayscale\")\n",
        "output = widgets.Output(layout=widgets.Layout(height='600px'))\n",
        "\n",
        "# Simulate LSF\n",
        "def simulate_lsf(b):\n",
        "    with output:\n",
        "        # Create a Dirac (Our man-made LSF function)\n",
        "        a = slider.value * -1 + 1\n",
        "        x = np.linspace(-2,2,41)\n",
        "        lsf = ((1 / abs(a) * sqrt(pi)) * e) ** (((x / a) ** 2) * -1)\n",
        "        lsf /= np.sum(lsf)\n",
        "\n",
        "        # Simulate Projection\n",
        "        gvxr.setLSF(lsf)\n",
        "        image = gvxr.computeXRayImage()\n",
        "\n",
        "        # Plot LSF\n",
        "        output.clear_output()\n",
        "        fig, axes = plt.subplots(1,2)\n",
        "        axes[0].set_title(\"Detector LSF\")\n",
        "        axes[0].set_xlabel(\"Pixel\")\n",
        "        axes[0].set_ylabel(\"Pixel Contribution\")\n",
        "        axes[0].set_ybound(0,1)\n",
        "        axes[0].set_xbound(-20,20)\n",
        "        axes[0].set_autoscale_on(False)\n",
        "        axes[0].plot(np.linspace(-20,20,41), lsf)\n",
        "        cmap = \"gray\" if color.value else None\n",
        "        axes[1].imshow(image,cmap=cmap)\n",
        "        plt.show()\n",
        "\n",
        "# Bind and display\n",
        "button.on_click(simulate_lsf)\n",
        "display(output)\n",
        "display(widgets.HBox((button,slider,color)))\n",
        "simulate_lsf(None)"
      ]
    },
    {
      "cell_type": "markdown",
      "metadata": {
        "id": "vNEdMOB8FXcP"
      },
      "source": [
        "## Flatfield Correction\n",
        "\n",
        "So far, apart from scintillator parameters, we've been assuming the detector itself is mostly perfect. In the real case, this is incorrect.\n",
        "The detector can build up defects over time, such as dust, and the beam itself is not a uniform spread of intensity across the detector.\n",
        "Flatfield Correction is an approach to remove this fixed-pattern noise, and reduce image quality loss.\n",
        "\n",
        "| Raw Image | Flatfield-Corrected Image |\n",
        "| --- | --- |\n",
        "| ![](https://github.com/effepivi/gvxr-tutorials/blob/main/img/flatfield-before.png?raw=1) | ![](https://github.com/effepivi/gvxr-tutorials/blob/main/img/flatfield-after.png?raw=1) |\n",
        "\n",
        "In order to overcome this, scanners use flatfields as a way to calibrate and correct scanners to ensure a high quality image.\n",
        "A lightfield is a scan image with no sample in place, and represents the maximum beam intensity for each pixel.\n",
        "This lightfield is then used with a darkfield;- an image where the beam is off and represents the minimum intensity of each pixel.\n",
        "\n",
        "$$ corrected = \\frac{raw - darkfield}{lightfield - darkfield} $$\n",
        "\n",
        "\n",
        "Below is the lightfield of our simulated scanner;- it is a uniform white image as every pixel receives the same beam intensity.\n",
        "Next to it is a lightfield from a beamline at the Diamond Light Source taken from a recent experiment.\n",
        "\n",
        "|Ideal Lightfield (Uniform White Image) | Real Lightfield |\n",
        "| --- | --- |\n",
        "| ![](https://github.com/effepivi/gvxr-tutorials/blob/main/img/lightfield-simulated.png?raw=1)|![](https://github.com/effepivi/gvxr-tutorials/blob/main/img/lightfield-diamond.png?raw=1)|\n",
        "\n",
        "In industrial machines this process is automatic, and result images have already been normalized. In more specialized scenarios such as synchrotrons and some lab systems, this has to be done manually. In simulations, the detector lacks any fixed-pattern noise, however we still need to account for the beam's photon count.\n",
        "\n",
        "*Note: flatfield correction still has to be done in order to balance out photon energy, even if no fixed-pattern noise is present!*\n"
      ]
    },
    {
      "cell_type": "markdown",
      "metadata": {
        "id": "WJpnm6IcFXcP"
      },
      "source": [
        "# Energy Response\n",
        "\n",
        "Another often overlooked property of a detector is its response to different energies. This is because most detectors use a scintillator, which converts x-rays into light. This behavior is not linear, and will effect your results! However this non-linear relationship can be solved by assuming a lower or upper energy bound based on the scanner and experiment. For example, most medical systems have their energy response calibrated, as they already know the power and what materials they expect.\n",
        "\n",
        "This can be quite hard to visualize, so take a look at the graph below showing a non-linear energy response curve of a detector with a scintillator of 600 &mu;m of CsI."
      ]
    },
    {
      "cell_type": "code",
      "execution_count": 9,
      "metadata": {
        "tags": [],
        "id": "uutxSlUaFXcQ",
        "outputId": "9e8f7e09-0f53-4b82-90d8-758a633d719a",
        "colab": {
          "base_uri": "https://localhost:8080/",
          "height": 313
        }
      },
      "outputs": [
        {
          "output_type": "execute_result",
          "data": {
            "text/plain": [
              "[<matplotlib.lines.Line2D at 0x7f34a94d86d0>]"
            ]
          },
          "metadata": {},
          "execution_count": 9
        },
        {
          "output_type": "display_data",
          "data": {
            "text/plain": [
              "<Figure size 432x288 with 1 Axes>"
            ],
            "image/png": "[encoded data removed]"
          },
          "metadata": {
            "needs_background": "light"
          }
        }
      ],
      "source": [
        "# Read response data\n",
        "energy_response = np.loadtxt(\"./input_data/responseDetector.txt\")[:200] * 1000\n",
        "\n",
        "# Plot\n",
        "fig, ax = plt.subplots()\n",
        "ax.plot(energy_response[:,0], energy_response[:,1])\n",
        "ax.set_title(\"Detector Energy Response\")\n",
        "ax.set_xlabel(\"Incident energy (keV)\")\n",
        "ax.set_ylabel(\"Absorbed energy (keV)\")\n",
        "\n",
        "# Guidelines\n",
        "plt.hlines(40,0,104, linestyle='--', color=\"lightgray\")\n",
        "plt.vlines((40,105),0,40,linestyles=\"--\", colors=\"lightgray\")\n",
        "plt.plot((40,104),(40,40), \"*\")"
      ]
    },
    {
      "cell_type": "markdown",
      "metadata": {
        "id": "DxZ3z3EqFXcQ"
      },
      "source": [
        "As seen in the graph above, a received power input of 40keV will result in a 40keV output. However, an input of 104keV will also show 40keV!\n",
        "\n",
        "Most people are not able to swap out scintillators and compare results, but with simulation we can compare the effects of different response curves, and what we'll get with a perfect detector. Below is some quick code to show how to quickly run a simulation with different energy responses. Using gVXR, we can directly load `responseDetector.txt` by using `gvxr.loadDetectorEnergyResponse()` containing our energy lookup table and apply it to our simulation. This file is in the same format as GATE Monte Carlo simulations.\n",
        "\n",
        "To make our lives easier, the simulation environment is loaded from a json file. Loading gVXR via configuration files is covered in the next lesson, `06-CT-acquisition`.\n",
        "In this specific case, we have a model consisting of 5 differently shaped spheres, with different elemental compositions.\n",
        "\n",
        "![](https://github.com/effepivi/gvxr-tutorials/blob/main/img/spheres.png?raw=1)\n",
        "\n",
        "|Sphere Size| Colour|Element|\n",
        "| --- | --- | --- |\n",
        "| Smallest Sphere | <span style=\"color:blue\">Blue</span> | Tungsten |\n",
        "| Small Sphere | <span style=\"color:orange\">Orange</span> |Titanium |\n",
        "| Medium Sphere | <span style=\"color:green\">Green</span> |Copper | \n",
        "| Large Sphere | <span style=\"color:red\">Red</span> |Carbon |\n",
        "| Largest Sphere | <span style=\"color:purple\">Purple</span> |Aluminum |\n",
        "\n",
        "Beam Properties:\n",
        "- Parallel\n",
        "- Dual 40 keV & 104keV Beam"
      ]
    },
    {
      "cell_type": "code",
      "execution_count": 10,
      "metadata": {
        "tags": [],
        "id": "saE06aGxFXcQ",
        "outputId": "b2c5417b-12f5-4a4a-f365-64210094fdc2",
        "colab": {
          "base_uri": "https://localhost:8080/",
          "height": 427
        }
      },
      "outputs": [
        {
          "output_type": "stream",
          "name": "stdout",
          "text": [
            "Create an OpenGL context: 800x450\n",
            "Set up the detector\n",
            "\tDetector position: [0, 10, 0, 'cm']\n",
            "\tDetector up vector: [0, 0, -1]\n",
            "\tNumber of pixels: [300, 320]\n",
            "\tDetector number of pixels: [300, 320]\n",
            "\tPixel spacing: [0.3, 0.3, 'mm']\n",
            "Set up the beam\n",
            "\tSource position: [0, -10, 0, 'cm']\n",
            "\tSource shape: Parallel\n"
          ]
        },
        {
          "output_type": "display_data",
          "data": {
            "text/plain": [
              "<Figure size 720x288 with 4 Axes>"
            ],
            "image/png": "[encoded data removed]"
          },
          "metadata": {
            "needs_background": "light"
          }
        }
      ],
      "source": [
        "fig, ax = plt.subplots(1,3,sharey=True)\n",
        "fig.set_figwidth(10)\n",
        "\n",
        "# Load in gvxr parameters from a json file\n",
        "gvxr.clearDetectorEnergyResponse()\n",
        "json2gvxr.initGVXR(\"./notebook5-multimat-spheres.json\", \"EGL\")\n",
        "json2gvxr.initDetector()\n",
        "json2gvxr.initSourceGeometry()\n",
        "json2gvxr.initSamples()\n",
        "gvxr.resetBeamSpectrum()\n",
        "gvxr.addEnergyBinToSpectrum(40,\"keV\",1)\n",
        "gvxr.addEnergyBinToSpectrum(104,\"keV\",1)\n",
        "\n",
        "# Horizontal line profile\n",
        "cut = 160\n",
        "\n",
        "# 40kev & 104kev with response\n",
        "gvxr.loadDetectorEnergyResponse(\"./input_data/responseDetector.txt\",\"MeV\")\n",
        "withres = np.asarray(gvxr.computeXRayImage()) / gvxr.getTotalEnergyWithDetectorResponse()\n",
        "ax[0].set_axis_off()\n",
        "ax[0].imshow(withres,cmap=\"gray\")\n",
        "ax[0].set_title(\"With Response\")\n",
        "ax[0].hlines(cut,0,withres.shape[1]-1)\n",
        "\n",
        "# 40kev & 104kev without response\n",
        "gvxr.clearDetectorEnergyResponse()\n",
        "withoutres = np.asarray(gvxr.computeXRayImage()) / gvxr.getTotalEnergyWithDetectorResponse()\n",
        "ax[1].set_axis_off()\n",
        "ax[1].set_title(\"Without Response\")\n",
        "ax[1].imshow(withoutres,cmap=\"gray\")\n",
        "ax[1].hlines(cut, 0, withoutres.shape[1]-1)\n",
        "\n",
        "# Difference\n",
        "diff = (np.abs(withoutres-withres) / withoutres) * 100\n",
        "ax[2].set_axis_off()\n",
        "ax[2].set_title(\"Abs Difference\")\n",
        "im = ax[2].imshow(diff, cmap=\"inferno\")\n",
        "plt.colorbar(im, label=\"Absolute Difference %\", ax=ax[2])\n",
        "ax[2].hlines(cut, 0, diff.shape[1]-1)\n",
        "gvxr.renderLoop()\n",
        "plt.show()"
      ]
    },
    {
      "cell_type": "markdown",
      "metadata": {
        "id": "_8GMC48hFXcQ"
      },
      "source": [
        "As you can see from the absolute difference image, there are definitely changes caused by energy response in our detected readings. By taking a line profile and comparing both energy response, and perfect projections we can have a closer look at what values are changed."
      ]
    },
    {
      "cell_type": "code",
      "execution_count": 11,
      "metadata": {
        "tags": [],
        "id": "56rrn-jcFXcS",
        "outputId": "b99cf15c-dc0d-420a-b3e6-f013a0d0d188",
        "colab": {
          "base_uri": "https://localhost:8080/",
          "height": 295
        }
      },
      "outputs": [
        {
          "output_type": "display_data",
          "data": {
            "text/plain": [
              "<Figure size 432x288 with 1 Axes>"
            ],
            "image/png": "[encoded data removed]"
          },
          "metadata": {
            "needs_background": "light"
          }
        }
      ],
      "source": [
        "# Difference\n",
        "fig, ax = plt.subplots()\n",
        "ax.plot(withres[cut])\n",
        "ax.plot(withoutres[cut])\n",
        "ax.set_ybound(0,1)\n",
        "ax.set_title(\"Detector Line Profile With and Without Energy Response\")\n",
        "ax.legend((\"With Response\", \"No Response\"))\n",
        "ax.set_ylabel(\"Normalised Pixel Value\")\n",
        "ax.set_xlabel(\"Horizontal Pixel\")\n",
        "ax.set_ybound(-0.1,1.1)\n",
        "plt.show()"
      ]
    },
    {
      "cell_type": "markdown",
      "metadata": {
        "id": "AufkgrxmFXcS"
      },
      "source": [
        "These readings indicate that detector response actually over-estimates the received keV value compared to our baseline. This can be seen in the central large aluminum sphere very clearly, resulting in sharper edges with this response curve. This behavior might actually be wanted if you were just comparing contrast and using the scans to detect features, but if using the pixel value to recover a material's mu and composition, the readings will effect your results.\n",
        "\n",
        "The detector's energy response is something to keep in mind, but is inherent in the scintillator, and is not user configurable. "
      ]
    }
  ],
  "metadata": {
    "kernelspec": {
      "display_name": "Python 3 (ipykernel)",
      "language": "python",
      "name": "python3"
    },
    "language_info": {
      "codemirror_mode": {
        "name": "ipython",
        "version": 3
      },
      "file_extension": ".py",
      "mimetype": "text/x-python",
      "name": "python",
      "nbconvert_exporter": "python",
      "pygments_lexer": "ipython3",
      "version": "3.10.9"
    },
    "vscode": {
      "interpreter": {
        "hash": "7cb52200ce58d0990af40dfb29272ed58ebf24dc16709b96f71cbdb887d325ae"
      }
    },
    "colab": {
      "provenance": [],
      "include_colab_link": true
    },
    "accelerator": "GPU",
    "gpuClass": "standard",
    "widgets": {
      "application/vnd.jupyter.widget-state+json": {
        "3cbdf2718e31449983a8857b0f39e096": {
          "model_module": "@jupyter-widgets/output",
          "model_name": "OutputModel",
          "model_module_version": "1.0.0",
          "state": {
            "_dom_classes": [],
            "_model_module": "@jupyter-widgets/output",
            "_model_module_version": "1.0.0",
            "_model_name": "OutputModel",
            "_view_count": null,
            "_view_module": "@jupyter-widgets/output",
            "_view_module_version": "1.0.0",
            "_view_name": "OutputView",
            "layout": "IPY_MODEL_79ecd502fe92445ea2647ee173726c79",
            "msg_id": "",
            "outputs": [
              {
                "output_type": "display_data",
                "data": {
                  "text/plain": "<Figure size 432x288 with 2 Axes>",
                  "image/png": "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\n"
                },
                "metadata": {
                  "needs_background": "light"
                }
              }
            ]
          }
        },
        "79ecd502fe92445ea2647ee173726c79": {
          "model_module": "@jupyter-widgets/base",
          "model_name": "LayoutModel",
          "model_module_version": "1.2.0",
          "state": {
            "_model_module": "@jupyter-widgets/base",
            "_model_module_version": "1.2.0",
            "_model_name": "LayoutModel",
            "_view_count": null,
            "_view_module": "@jupyter-widgets/base",
            "_view_module_version": "1.2.0",
            "_view_name": "LayoutView",
            "align_content": null,
            "align_items": null,
            "align_self": null,
            "border": null,
            "bottom": null,
            "display": null,
            "flex": null,
            "flex_flow": null,
            "grid_area": null,
            "grid_auto_columns": null,
            "grid_auto_flow": null,
            "grid_auto_rows": null,
            "grid_column": null,
            "grid_gap": null,
            "grid_row": null,
            "grid_template_areas": null,
            "grid_template_columns": null,
            "grid_template_rows": null,
            "height": "600px",
            "justify_content": null,
            "justify_items": null,
            "left": null,
            "margin": null,
            "max_height": null,
            "max_width": null,
            "min_height": null,
            "min_width": null,
            "object_fit": null,
            "object_position": null,
            "order": null,
            "overflow": null,
            "overflow_x": null,
            "overflow_y": null,
            "padding": null,
            "right": null,
            "top": null,
            "visibility": null,
            "width": null
          }
        },
        "434854bb7684475294a1090c6c428f35": {
          "model_module": "@jupyter-widgets/controls",
          "model_name": "HBoxModel",
          "model_module_version": "1.5.0",
          "state": {
            "_dom_classes": [],
            "_model_module": "@jupyter-widgets/controls",
            "_model_module_version": "1.5.0",
            "_model_name": "HBoxModel",
            "_view_count": null,
            "_view_module": "@jupyter-widgets/controls",
            "_view_module_version": "1.5.0",
            "_view_name": "HBoxView",
            "box_style": "",
            "children": [
              "IPY_MODEL_f36dbadcfdfc48e1904fbbc3315d791b",
              "IPY_MODEL_d135e68b099942bb90067beed157d9f7",
              "IPY_MODEL_a1161da858d84fd2a6e8bf3dd6c353b4"
            ],
            "layout": "IPY_MODEL_14945797ca6c4251acd4b099ff465c1b"
          }
        },
        "f36dbadcfdfc48e1904fbbc3315d791b": {
          "model_module": "@jupyter-widgets/controls",
          "model_name": "ButtonModel",
          "model_module_version": "1.5.0",
          "state": {
            "_dom_classes": [],
            "_model_module": "@jupyter-widgets/controls",
            "_model_module_version": "1.5.0",
            "_model_name": "ButtonModel",
            "_view_count": null,
            "_view_module": "@jupyter-widgets/controls",
            "_view_module_version": "1.5.0",
            "_view_name": "ButtonView",
            "button_style": "",
            "description": "Simulate",
            "disabled": false,
            "icon": "",
            "layout": "IPY_MODEL_eca998e99fc9453c8375d855f4371408",
            "style": "IPY_MODEL_6bb828f8f846495f8d3470acb3b66d46",
            "tooltip": ""
          }
        },
        "d135e68b099942bb90067beed157d9f7": {
          "model_module": "@jupyter-widgets/controls",
          "model_name": "FloatSliderModel",
          "model_module_version": "1.5.0",
          "state": {
            "_dom_classes": [],
            "_model_module": "@jupyter-widgets/controls",
            "_model_module_version": "1.5.0",
            "_model_name": "FloatSliderModel",
            "_view_count": null,
            "_view_module": "@jupyter-widgets/controls",
            "_view_module_version": "1.5.0",
            "_view_name": "FloatSliderView",
            "continuous_update": true,
            "description": "LSF Peak",
            "description_tooltip": null,
            "disabled": false,
            "layout": "IPY_MODEL_a361b6cd94d64bb2a556211122094b9b",
            "max": 0.9,
            "min": 0.1,
            "orientation": "horizontal",
            "readout": true,
            "readout_format": ".2f",
            "step": 0.01,
            "style": "IPY_MODEL_85be1163e05f43e0b886804ede83aff5",
            "value": 0.32
          }
        },
        "a1161da858d84fd2a6e8bf3dd6c353b4": {
          "model_module": "@jupyter-widgets/controls",
          "model_name": "CheckboxModel",
          "model_module_version": "1.5.0",
          "state": {
            "_dom_classes": [],
            "_model_module": "@jupyter-widgets/controls",
            "_model_module_version": "1.5.0",
            "_model_name": "CheckboxModel",
            "_view_count": null,
            "_view_module": "@jupyter-widgets/controls",
            "_view_module_version": "1.5.0",
            "_view_name": "CheckboxView",
            "description": "Grayscale",
            "description_tooltip": null,
            "disabled": false,
            "indent": true,
            "layout": "IPY_MODEL_f99a86a4163a47c48d8fe7f42eefa9b1",
            "style": "IPY_MODEL_0570d406c6a743b3ac717ccf580d921e",
            "value": true
          }
        },
        "14945797ca6c4251acd4b099ff465c1b": {
          "model_module": "@jupyter-widgets/base",
          "model_name": "LayoutModel",
          "model_module_version": "1.2.0",
          "state": {
            "_model_module": "@jupyter-widgets/base",
            "_model_module_version": "1.2.0",
            "_model_name": "LayoutModel",
            "_view_count": null,
            "_view_module": "@jupyter-widgets/base",
            "_view_module_version": "1.2.0",
            "_view_name": "LayoutView",
            "align_content": null,
            "align_items": null,
            "align_self": null,
            "border": null,
            "bottom": null,
            "display": null,
            "flex": null,
            "flex_flow": null,
            "grid_area": null,
            "grid_auto_columns": null,
            "grid_auto_flow": null,
            "grid_auto_rows": null,
            "grid_column": null,
            "grid_gap": null,
            "grid_row": null,
            "grid_template_areas": null,
            "grid_template_columns": null,
            "grid_template_rows": null,
            "height": null,
            "justify_content": null,
            "justify_items": null,
            "left": null,
            "margin": null,
            "max_height": null,
            "max_width": null,
            "min_height": null,
            "min_width": null,
            "object_fit": null,
            "object_position": null,
            "order": null,
            "overflow": null,
            "overflow_x": null,
            "overflow_y": null,
            "padding": null,
            "right": null,
            "top": null,
            "visibility": null,
            "width": null
          }
        },
        "eca998e99fc9453c8375d855f4371408": {
          "model_module": "@jupyter-widgets/base",
          "model_name": "LayoutModel",
          "model_module_version": "1.2.0",
          "state": {
            "_model_module": "@jupyter-widgets/base",
            "_model_module_version": "1.2.0",
            "_model_name": "LayoutModel",
            "_view_count": null,
            "_view_module": "@jupyter-widgets/base",
            "_view_module_version": "1.2.0",
            "_view_name": "LayoutView",
            "align_content": null,
            "align_items": null,
            "align_self": null,
            "border": null,
            "bottom": null,
            "display": null,
            "flex": null,
            "flex_flow": null,
            "grid_area": null,
            "grid_auto_columns": null,
            "grid_auto_flow": null,
            "grid_auto_rows": null,
            "grid_column": null,
            "grid_gap": null,
            "grid_row": null,
            "grid_template_areas": null,
            "grid_template_columns": null,
            "grid_template_rows": null,
            "height": null,
            "justify_content": null,
            "justify_items": null,
            "left": null,
            "margin": null,
            "max_height": null,
            "max_width": null,
            "min_height": null,
            "min_width": null,
            "object_fit": null,
            "object_position": null,
            "order": null,
            "overflow": null,
            "overflow_x": null,
            "overflow_y": null,
            "padding": null,
            "right": null,
            "top": null,
            "visibility": null,
            "width": null
          }
        },
        "6bb828f8f846495f8d3470acb3b66d46": {
          "model_module": "@jupyter-widgets/controls",
          "model_name": "ButtonStyleModel",
          "model_module_version": "1.5.0",
          "state": {
            "_model_module": "@jupyter-widgets/controls",
            "_model_module_version": "1.5.0",
            "_model_name": "ButtonStyleModel",
            "_view_count": null,
            "_view_module": "@jupyter-widgets/base",
            "_view_module_version": "1.2.0",
            "_view_name": "StyleView",
            "button_color": null,
            "font_weight": ""
          }
        },
        "a361b6cd94d64bb2a556211122094b9b": {
          "model_module": "@jupyter-widgets/base",
          "model_name": "LayoutModel",
          "model_module_version": "1.2.0",
          "state": {
            "_model_module": "@jupyter-widgets/base",
            "_model_module_version": "1.2.0",
            "_model_name": "LayoutModel",
            "_view_count": null,
            "_view_module": "@jupyter-widgets/base",
            "_view_module_version": "1.2.0",
            "_view_name": "LayoutView",
            "align_content": null,
            "align_items": null,
            "align_self": null,
            "border": null,
            "bottom": null,
            "display": null,
            "flex": null,
            "flex_flow": null,
            "grid_area": null,
            "grid_auto_columns": null,
            "grid_auto_flow": null,
            "grid_auto_rows": null,
            "grid_column": null,
            "grid_gap": null,
            "grid_row": null,
            "grid_template_areas": null,
            "grid_template_columns": null,
            "grid_template_rows": null,
            "height": null,
            "justify_content": null,
            "justify_items": null,
            "left": null,
            "margin": null,
            "max_height": null,
            "max_width": null,
            "min_height": null,
            "min_width": null,
            "object_fit": null,
            "object_position": null,
            "order": null,
            "overflow": null,
            "overflow_x": null,
            "overflow_y": null,
            "padding": null,
            "right": null,
            "top": null,
            "visibility": null,
            "width": null
          }
        },
        "85be1163e05f43e0b886804ede83aff5": {
          "model_module": "@jupyter-widgets/controls",
          "model_name": "SliderStyleModel",
          "model_module_version": "1.5.0",
          "state": {
            "_model_module": "@jupyter-widgets/controls",
            "_model_module_version": "1.5.0",
            "_model_name": "SliderStyleModel",
            "_view_count": null,
            "_view_module": "@jupyter-widgets/base",
            "_view_module_version": "1.2.0",
            "_view_name": "StyleView",
            "description_width": "",
            "handle_color": null
          }
        },
        "f99a86a4163a47c48d8fe7f42eefa9b1": {
          "model_module": "@jupyter-widgets/base",
          "model_name": "LayoutModel",
          "model_module_version": "1.2.0",
          "state": {
            "_model_module": "@jupyter-widgets/base",
            "_model_module_version": "1.2.0",
            "_model_name": "LayoutModel",
            "_view_count": null,
            "_view_module": "@jupyter-widgets/base",
            "_view_module_version": "1.2.0",
            "_view_name": "LayoutView",
            "align_content": null,
            "align_items": null,
            "align_self": null,
            "border": null,
            "bottom": null,
            "display": null,
            "flex": null,
            "flex_flow": null,
            "grid_area": null,
            "grid_auto_columns": null,
            "grid_auto_flow": null,
            "grid_auto_rows": null,
            "grid_column": null,
            "grid_gap": null,
            "grid_row": null,
            "grid_template_areas": null,
            "grid_template_columns": null,
            "grid_template_rows": null,
            "height": null,
            "justify_content": null,
            "justify_items": null,
            "left": null,
            "margin": null,
            "max_height": null,
            "max_width": null,
            "min_height": null,
            "min_width": null,
            "object_fit": null,
            "object_position": null,
            "order": null,
            "overflow": null,
            "overflow_x": null,
            "overflow_y": null,
            "padding": null,
            "right": null,
            "top": null,
            "visibility": null,
            "width": null
          }
        },
        "0570d406c6a743b3ac717ccf580d921e": {
          "model_module": "@jupyter-widgets/controls",
          "model_name": "DescriptionStyleModel",
          "model_module_version": "1.5.0",
          "state": {
            "_model_module": "@jupyter-widgets/controls",
            "_model_module_version": "1.5.0",
            "_model_name": "DescriptionStyleModel",
            "_view_count": null,
            "_view_module": "@jupyter-widgets/base",
            "_view_module_version": "1.2.0",
            "_view_name": "StyleView",
            "description_width": ""
          }
        }
      }
    }
  },
  "nbformat": 4,
  "nbformat_minor": 0
}