{
 "cells": [
  {
   "cell_type": "markdown",
   "metadata": {
    "colab_type": "text",
    "id": "view-in-github"
   },
   "source": [
    "<a href=\"https://colab.research.google.com/github/effepivi/gvxr-tutorials/blob/main/Noise-CBCT.ipynb\" target=\"_parent\"><img src=\"https://colab.research.google.com/assets/colab-badge.svg\" alt=\"Open In Colab\"/></a>"
   ]
  },
  {
   "cell_type": "markdown",
   "metadata": {
    "id": "8sa2rJkkfg2p"
   },
   "source": [
    "# Session 8\n",
    "\n",
    "## Demo to showcase the result of the integration between ![gVXR](https://github.com/effepivi/gvxr-tutorials/blob/main/img/gvxr_logo.png?raw=1) and ![CIL](https://ccpi.ac.uk/wp-content/uploads/2022/11/CIL-logo-RGB.svg) that we developed during the *CIL Training and Bring Your Own Data User Hackathon* at Cambridge University.\n",
    "## Author: Franck Vidal\n",
    "\n",
    "(version 1.0, 23 Mar 2023)"
   ]
  },
  {
   "cell_type": "markdown",
   "metadata": {
    "id": "lO3Yh237fg2r"
   },
   "source": [
    "# Aims of this session\n",
    "\n",
    "1. Simulate a CBCT scan acquisition using gVXR;\n",
    "2. Add Poisson noise corresponding to a given number of photons per pixel; and\n",
    "3. Reconstruct the CT volume using the [Core Imaging Library (CIL)](https://ccpi.ac.uk/cil/)."
   ]
  },
  {
   "cell_type": "markdown",
   "metadata": {
    "id": "01SeDuOYfg2s"
   },
   "source": [
    "# Main steps\n",
    "\n",
    "1. Download the phantom data. Anthropomorphic data is used. It corresponds to a 5-year old boy. \n",
    "\n",
    "2. Extract surface meshes from the voxelied phantom.\n",
    "\n",
    "3. Simulate an X-ray projection of a Welsh dragon made of quartz\n",
    "\n",
    "![Simulation of an X-ray projection of a Welsh dragon made of quartz](https://github.com/effepivi/gvxr-tutorials/blob/main/Noise-CBCT/visualisation.png?raw=1)\n",
    "\n",
    "4. Select the number of incident photons per pixel\n",
    "\n",
    "5. Add the corresponding amount of Photonic noise \n",
    "\n",
    "![X-ray projection with Poisson noise](https://github.com/effepivi/gvxr-tutorials/blob/main/Noise-CBCT/noisy-projection.png?raw=1)\n",
    "\n",
    "6. Simulate a CT scan\n",
    "\n",
    "![Scanning eometry](https://github.com/effepivi/gvxr-tutorials/blob/main/Noise-CBCT/CT-geometry.png?raw=1)\n",
    "\n",
    "7. Create the flat-field images with the corresponding amount of Photonic noise\n",
    "\n",
    "![Average flat-field image with Poisson noise](https://github.com/effepivi/gvxr-tutorials/blob/main/Noise-CBCT/average-flat-field.png?raw=1)\n",
    "\n",
    "8. Reconstruct the CT volume using the [Core Imaging Library (CIL)](https://ccpi.ac.uk/cil/)\n",
    "\n",
    "![Visualisation of the reconstructed 3D volume](https://github.com/effepivi/gvxr-tutorials/blob/main/Noise-CBCT/plotCT.png?raw=1)"
   ]
  },
  {
   "cell_type": "code",
   "execution_count": 1,
   "metadata": {
    "colab": {
     "base_uri": "https://localhost:8080/"
    },
    "id": "afBQI7ecKAJI",
    "outputId": "e36a83b9-b82d-4cdd-fb10-aebc11db792c",
    "tags": []
   },
   "outputs": [],
   "source": [
    "from notebook import notebookapp\n",
    "servers = list(notebookapp.list_running_servers())\n",
    "\n",
    "if len(servers) > 0:\n",
    "    !pip install -q condacolab\n",
    "    import condacolab\n",
    "    condacolab.install()"
   ]
  },
  {
   "cell_type": "markdown",
   "metadata": {
    "id": "E-UslIEgsMO6"
   },
   "source": [
    "# Install gVXR, k3D, imagecodecs xpecgen, spekpy and SimpleITK\n",
    "\n",
    "Run the cell below\n",
    "\n",
    "```python\n",
    "!pip3 install gvxr k3d imagecodecs xpecgen git+https://bitbucket.org/spekpy/spekpy_release.git SimpleITK itk-rtk\n",
    "```"
   ]
  },
  {
   "cell_type": "code",
   "execution_count": 2,
   "metadata": {
    "colab": {
     "base_uri": "https://localhost:8080/"
    },
    "id": "nIwHxIersKFV",
    "outputId": "2f400699-cb57-4cfd-d65d-b1b02abd39c8",
    "tags": []
   },
   "outputs": [],
   "source": [
    "from notebook import notebookapp\n",
    "servers = list(notebookapp.list_running_servers())\n",
    "\n",
    "if len(servers) > 0:\n",
    "    !pip3 install -q gvxr k3d imagecodecs xpecgen git+https://bitbucket.org/spekpy/spekpy_release.git SimpleITK itk-rtk"
   ]
  },
  {
   "cell_type": "code",
   "execution_count": 3,
   "metadata": {
    "colab": {
     "base_uri": "https://localhost:8080/"
    },
    "id": "xbeeJzq4KMsd",
    "outputId": "f7eed86e-46a5-4050-d2fb-a3163b38251e",
    "tags": []
   },
   "outputs": [],
   "source": [
    "from notebook import notebookapp\n",
    "servers = list(notebookapp.list_running_servers())\n",
    "\n",
    "if len(servers) > 0:\n",
    "    !mamba install -c conda-forge -c intel -c astra-toolbox -c ccpi cil numpy astra-toolbox --quiet"
   ]
  },
  {
   "cell_type": "code",
   "execution_count": 4,
   "metadata": {
    "id": "gT91YoKWr_X7",
    "tags": []
   },
   "outputs": [],
   "source": [
    "%matplotlib inline"
   ]
  },
  {
   "cell_type": "markdown",
   "metadata": {},
   "source": [
    "Retrieve the path of the notebook. On Macos it may change"
   ]
  },
  {
   "cell_type": "code",
   "execution_count": 44,
   "metadata": {
    "tags": []
   },
   "outputs": [],
   "source": [
    "import pathlib\n",
    "root_path = str(pathlib.Path().resolve())"
   ]
  },
  {
   "cell_type": "markdown",
   "metadata": {
    "id": "4Fz5nj7Jfg2t"
   },
   "source": [
    "# Copy files\n",
    "\n",
    "This step is needed when the notebook is executed using Goggle Collaborative"
   ]
  },
  {
   "cell_type": "code",
   "execution_count": 45,
   "metadata": {
    "colab": {
     "base_uri": "https://localhost:8080/"
    },
    "id": "uOAnJr8dcSDP",
    "outputId": "ffefbfa8-7e09-4159-9f1f-ce4dc86c61a9",
    "tags": []
   },
   "outputs": [
    {
     "name": "stdout",
     "output_type": "stream",
     "text": [
      "Download the polygon mesh (sitk2vtk.py)\n",
      "Download the polygon mesh (JSON2gVXRDataReader.py)\n"
     ]
    },
    {
     "ename": "HTTPError",
     "evalue": "HTTP Error 404: Not Found",
     "output_type": "error",
     "traceback": [
      "\u001b[0;31m---------------------------------------------------------------------------\u001b[0m",
      "\u001b[0;31mHTTPError\u001b[0m                                 Traceback (most recent call last)",
      "\u001b[0;32m/var/folders/rj/_sn9vb0n28xcztcbgcnf1frh002x1c/T/ipykernel_3337/1593657636.py\u001b[0m in \u001b[0;36m<module>\u001b[0;34m\u001b[0m\n\u001b[1;32m     22\u001b[0m \u001b[0;34m\u001b[0m\u001b[0m\n\u001b[1;32m     23\u001b[0m \u001b[0mdownloadFile\u001b[0m\u001b[0;34m(\u001b[0m\u001b[0;34m\"sitk2vtk.py\"\u001b[0m\u001b[0;34m)\u001b[0m\u001b[0;34m\u001b[0m\u001b[0;34m\u001b[0m\u001b[0m\n\u001b[0;32m---> 24\u001b[0;31m \u001b[0mdownloadFile\u001b[0m\u001b[0;34m(\u001b[0m\u001b[0;34m\"JSON2gVXRDataReader.py\"\u001b[0m\u001b[0;34m)\u001b[0m\u001b[0;34m\u001b[0m\u001b[0;34m\u001b[0m\u001b[0m\n\u001b[0m\u001b[1;32m     25\u001b[0m \u001b[0mdownloadFile\u001b[0m\u001b[0;34m(\u001b[0m\u001b[0;34m\"JSON/Noise-CBCT.json\"\u001b[0m\u001b[0;34m)\u001b[0m\u001b[0;34m\u001b[0m\u001b[0;34m\u001b[0m\u001b[0m\n\u001b[1;32m     26\u001b[0m \u001b[0mdownloadFile\u001b[0m\u001b[0;34m(\u001b[0m\u001b[0;34m\"energyResponseDetector.txt\"\u001b[0m\u001b[0;34m)\u001b[0m\u001b[0;34m\u001b[0m\u001b[0;34m\u001b[0m\u001b[0m\n",
      "\u001b[0;32m/var/folders/rj/_sn9vb0n28xcztcbgcnf1frh002x1c/T/ipykernel_3337/1593657636.py\u001b[0m in \u001b[0;36mdownloadFile\u001b[0;34m(fname)\u001b[0m\n\u001b[1;32m     15\u001b[0m         \u001b[0murl\u001b[0m \u001b[0;34m=\u001b[0m \u001b[0mbase_url\u001b[0m \u001b[0;34m+\u001b[0m \u001b[0;34m\"/\"\u001b[0m \u001b[0;34m+\u001b[0m \u001b[0mfname\u001b[0m\u001b[0;34m\u001b[0m\u001b[0;34m\u001b[0m\u001b[0m\n\u001b[1;32m     16\u001b[0m         \u001b[0mprint\u001b[0m\u001b[0;34m(\u001b[0m\u001b[0;34m\"Download the polygon mesh (%s)\"\u001b[0m \u001b[0;34m%\u001b[0m \u001b[0mfname\u001b[0m\u001b[0;34m)\u001b[0m\u001b[0;34m\u001b[0m\u001b[0;34m\u001b[0m\u001b[0m\n\u001b[0;32m---> 17\u001b[0;31m         \u001b[0murllib\u001b[0m\u001b[0;34m.\u001b[0m\u001b[0mrequest\u001b[0m\u001b[0;34m.\u001b[0m\u001b[0murlretrieve\u001b[0m\u001b[0;34m(\u001b[0m\u001b[0murl\u001b[0m\u001b[0;34m,\u001b[0m \u001b[0mfname\u001b[0m\u001b[0;34m)\u001b[0m\u001b[0;34m\u001b[0m\u001b[0;34m\u001b[0m\u001b[0m\n\u001b[0m\u001b[1;32m     18\u001b[0m \u001b[0;34m\u001b[0m\u001b[0m\n\u001b[1;32m     19\u001b[0m \u001b[0mcreateDirectory\u001b[0m\u001b[0;34m(\u001b[0m\u001b[0mroot_path\u001b[0m \u001b[0;34m+\u001b[0m \u001b[0;34m\"/JSON\"\u001b[0m\u001b[0;34m)\u001b[0m\u001b[0;34m\u001b[0m\u001b[0;34m\u001b[0m\u001b[0m\n",
      "\u001b[0;32m/usr/local/Cellar/python@3.9/3.9.16/Frameworks/Python.framework/Versions/3.9/lib/python3.9/urllib/request.py\u001b[0m in \u001b[0;36murlretrieve\u001b[0;34m(url, filename, reporthook, data)\u001b[0m\n\u001b[1;32m    237\u001b[0m     \u001b[0murl_type\u001b[0m\u001b[0;34m,\u001b[0m \u001b[0mpath\u001b[0m \u001b[0;34m=\u001b[0m \u001b[0m_splittype\u001b[0m\u001b[0;34m(\u001b[0m\u001b[0murl\u001b[0m\u001b[0;34m)\u001b[0m\u001b[0;34m\u001b[0m\u001b[0;34m\u001b[0m\u001b[0m\n\u001b[1;32m    238\u001b[0m \u001b[0;34m\u001b[0m\u001b[0m\n\u001b[0;32m--> 239\u001b[0;31m     \u001b[0;32mwith\u001b[0m \u001b[0mcontextlib\u001b[0m\u001b[0;34m.\u001b[0m\u001b[0mclosing\u001b[0m\u001b[0;34m(\u001b[0m\u001b[0murlopen\u001b[0m\u001b[0;34m(\u001b[0m\u001b[0murl\u001b[0m\u001b[0;34m,\u001b[0m \u001b[0mdata\u001b[0m\u001b[0;34m)\u001b[0m\u001b[0;34m)\u001b[0m \u001b[0;32mas\u001b[0m \u001b[0mfp\u001b[0m\u001b[0;34m:\u001b[0m\u001b[0;34m\u001b[0m\u001b[0;34m\u001b[0m\u001b[0m\n\u001b[0m\u001b[1;32m    240\u001b[0m         \u001b[0mheaders\u001b[0m \u001b[0;34m=\u001b[0m \u001b[0mfp\u001b[0m\u001b[0;34m.\u001b[0m\u001b[0minfo\u001b[0m\u001b[0;34m(\u001b[0m\u001b[0;34m)\u001b[0m\u001b[0;34m\u001b[0m\u001b[0;34m\u001b[0m\u001b[0m\n\u001b[1;32m    241\u001b[0m \u001b[0;34m\u001b[0m\u001b[0m\n",
      "\u001b[0;32m/usr/local/Cellar/python@3.9/3.9.16/Frameworks/Python.framework/Versions/3.9/lib/python3.9/urllib/request.py\u001b[0m in \u001b[0;36murlopen\u001b[0;34m(url, data, timeout, cafile, capath, cadefault, context)\u001b[0m\n\u001b[1;32m    212\u001b[0m     \u001b[0;32melse\u001b[0m\u001b[0;34m:\u001b[0m\u001b[0;34m\u001b[0m\u001b[0;34m\u001b[0m\u001b[0m\n\u001b[1;32m    213\u001b[0m         \u001b[0mopener\u001b[0m \u001b[0;34m=\u001b[0m \u001b[0m_opener\u001b[0m\u001b[0;34m\u001b[0m\u001b[0;34m\u001b[0m\u001b[0m\n\u001b[0;32m--> 214\u001b[0;31m     \u001b[0;32mreturn\u001b[0m \u001b[0mopener\u001b[0m\u001b[0;34m.\u001b[0m\u001b[0mopen\u001b[0m\u001b[0;34m(\u001b[0m\u001b[0murl\u001b[0m\u001b[0;34m,\u001b[0m \u001b[0mdata\u001b[0m\u001b[0;34m,\u001b[0m \u001b[0mtimeout\u001b[0m\u001b[0;34m)\u001b[0m\u001b[0;34m\u001b[0m\u001b[0;34m\u001b[0m\u001b[0m\n\u001b[0m\u001b[1;32m    215\u001b[0m \u001b[0;34m\u001b[0m\u001b[0m\n\u001b[1;32m    216\u001b[0m \u001b[0;32mdef\u001b[0m \u001b[0minstall_opener\u001b[0m\u001b[0;34m(\u001b[0m\u001b[0mopener\u001b[0m\u001b[0;34m)\u001b[0m\u001b[0;34m:\u001b[0m\u001b[0;34m\u001b[0m\u001b[0;34m\u001b[0m\u001b[0m\n",
      "\u001b[0;32m/usr/local/Cellar/python@3.9/3.9.16/Frameworks/Python.framework/Versions/3.9/lib/python3.9/urllib/request.py\u001b[0m in \u001b[0;36mopen\u001b[0;34m(self, fullurl, data, timeout)\u001b[0m\n\u001b[1;32m    521\u001b[0m         \u001b[0;32mfor\u001b[0m \u001b[0mprocessor\u001b[0m \u001b[0;32min\u001b[0m \u001b[0mself\u001b[0m\u001b[0;34m.\u001b[0m\u001b[0mprocess_response\u001b[0m\u001b[0;34m.\u001b[0m\u001b[0mget\u001b[0m\u001b[0;34m(\u001b[0m\u001b[0mprotocol\u001b[0m\u001b[0;34m,\u001b[0m \u001b[0;34m[\u001b[0m\u001b[0;34m]\u001b[0m\u001b[0;34m)\u001b[0m\u001b[0;34m:\u001b[0m\u001b[0;34m\u001b[0m\u001b[0;34m\u001b[0m\u001b[0m\n\u001b[1;32m    522\u001b[0m             \u001b[0mmeth\u001b[0m \u001b[0;34m=\u001b[0m \u001b[0mgetattr\u001b[0m\u001b[0;34m(\u001b[0m\u001b[0mprocessor\u001b[0m\u001b[0;34m,\u001b[0m \u001b[0mmeth_name\u001b[0m\u001b[0;34m)\u001b[0m\u001b[0;34m\u001b[0m\u001b[0;34m\u001b[0m\u001b[0m\n\u001b[0;32m--> 523\u001b[0;31m             \u001b[0mresponse\u001b[0m \u001b[0;34m=\u001b[0m \u001b[0mmeth\u001b[0m\u001b[0;34m(\u001b[0m\u001b[0mreq\u001b[0m\u001b[0;34m,\u001b[0m \u001b[0mresponse\u001b[0m\u001b[0;34m)\u001b[0m\u001b[0;34m\u001b[0m\u001b[0;34m\u001b[0m\u001b[0m\n\u001b[0m\u001b[1;32m    524\u001b[0m \u001b[0;34m\u001b[0m\u001b[0m\n\u001b[1;32m    525\u001b[0m         \u001b[0;32mreturn\u001b[0m \u001b[0mresponse\u001b[0m\u001b[0;34m\u001b[0m\u001b[0;34m\u001b[0m\u001b[0m\n",
      "\u001b[0;32m/usr/local/Cellar/python@3.9/3.9.16/Frameworks/Python.framework/Versions/3.9/lib/python3.9/urllib/request.py\u001b[0m in \u001b[0;36mhttp_response\u001b[0;34m(self, request, response)\u001b[0m\n\u001b[1;32m    630\u001b[0m         \u001b[0;31m# request was successfully received, understood, and accepted.\u001b[0m\u001b[0;34m\u001b[0m\u001b[0;34m\u001b[0m\u001b[0m\n\u001b[1;32m    631\u001b[0m         \u001b[0;32mif\u001b[0m \u001b[0;32mnot\u001b[0m \u001b[0;34m(\u001b[0m\u001b[0;36m200\u001b[0m \u001b[0;34m<=\u001b[0m \u001b[0mcode\u001b[0m \u001b[0;34m<\u001b[0m \u001b[0;36m300\u001b[0m\u001b[0;34m)\u001b[0m\u001b[0;34m:\u001b[0m\u001b[0;34m\u001b[0m\u001b[0;34m\u001b[0m\u001b[0m\n\u001b[0;32m--> 632\u001b[0;31m             response = self.parent.error(\n\u001b[0m\u001b[1;32m    633\u001b[0m                 'http', request, response, code, msg, hdrs)\n\u001b[1;32m    634\u001b[0m \u001b[0;34m\u001b[0m\u001b[0m\n",
      "\u001b[0;32m/usr/local/Cellar/python@3.9/3.9.16/Frameworks/Python.framework/Versions/3.9/lib/python3.9/urllib/request.py\u001b[0m in \u001b[0;36merror\u001b[0;34m(self, proto, *args)\u001b[0m\n\u001b[1;32m    559\u001b[0m         \u001b[0;32mif\u001b[0m \u001b[0mhttp_err\u001b[0m\u001b[0;34m:\u001b[0m\u001b[0;34m\u001b[0m\u001b[0;34m\u001b[0m\u001b[0m\n\u001b[1;32m    560\u001b[0m             \u001b[0margs\u001b[0m \u001b[0;34m=\u001b[0m \u001b[0;34m(\u001b[0m\u001b[0mdict\u001b[0m\u001b[0;34m,\u001b[0m \u001b[0;34m'default'\u001b[0m\u001b[0;34m,\u001b[0m \u001b[0;34m'http_error_default'\u001b[0m\u001b[0;34m)\u001b[0m \u001b[0;34m+\u001b[0m \u001b[0morig_args\u001b[0m\u001b[0;34m\u001b[0m\u001b[0;34m\u001b[0m\u001b[0m\n\u001b[0;32m--> 561\u001b[0;31m             \u001b[0;32mreturn\u001b[0m \u001b[0mself\u001b[0m\u001b[0;34m.\u001b[0m\u001b[0m_call_chain\u001b[0m\u001b[0;34m(\u001b[0m\u001b[0;34m*\u001b[0m\u001b[0margs\u001b[0m\u001b[0;34m)\u001b[0m\u001b[0;34m\u001b[0m\u001b[0;34m\u001b[0m\u001b[0m\n\u001b[0m\u001b[1;32m    562\u001b[0m \u001b[0;34m\u001b[0m\u001b[0m\n\u001b[1;32m    563\u001b[0m \u001b[0;31m# XXX probably also want an abstract factory that knows when it makes\u001b[0m\u001b[0;34m\u001b[0m\u001b[0;34m\u001b[0m\u001b[0m\n",
      "\u001b[0;32m/usr/local/Cellar/python@3.9/3.9.16/Frameworks/Python.framework/Versions/3.9/lib/python3.9/urllib/request.py\u001b[0m in \u001b[0;36m_call_chain\u001b[0;34m(self, chain, kind, meth_name, *args)\u001b[0m\n\u001b[1;32m    492\u001b[0m         \u001b[0;32mfor\u001b[0m \u001b[0mhandler\u001b[0m \u001b[0;32min\u001b[0m \u001b[0mhandlers\u001b[0m\u001b[0;34m:\u001b[0m\u001b[0;34m\u001b[0m\u001b[0;34m\u001b[0m\u001b[0m\n\u001b[1;32m    493\u001b[0m             \u001b[0mfunc\u001b[0m \u001b[0;34m=\u001b[0m \u001b[0mgetattr\u001b[0m\u001b[0;34m(\u001b[0m\u001b[0mhandler\u001b[0m\u001b[0;34m,\u001b[0m \u001b[0mmeth_name\u001b[0m\u001b[0;34m)\u001b[0m\u001b[0;34m\u001b[0m\u001b[0;34m\u001b[0m\u001b[0m\n\u001b[0;32m--> 494\u001b[0;31m             \u001b[0mresult\u001b[0m \u001b[0;34m=\u001b[0m \u001b[0mfunc\u001b[0m\u001b[0;34m(\u001b[0m\u001b[0;34m*\u001b[0m\u001b[0margs\u001b[0m\u001b[0;34m)\u001b[0m\u001b[0;34m\u001b[0m\u001b[0;34m\u001b[0m\u001b[0m\n\u001b[0m\u001b[1;32m    495\u001b[0m             \u001b[0;32mif\u001b[0m \u001b[0mresult\u001b[0m \u001b[0;32mis\u001b[0m \u001b[0;32mnot\u001b[0m \u001b[0;32mNone\u001b[0m\u001b[0;34m:\u001b[0m\u001b[0;34m\u001b[0m\u001b[0;34m\u001b[0m\u001b[0m\n\u001b[1;32m    496\u001b[0m                 \u001b[0;32mreturn\u001b[0m \u001b[0mresult\u001b[0m\u001b[0;34m\u001b[0m\u001b[0;34m\u001b[0m\u001b[0m\n",
      "\u001b[0;32m/usr/local/Cellar/python@3.9/3.9.16/Frameworks/Python.framework/Versions/3.9/lib/python3.9/urllib/request.py\u001b[0m in \u001b[0;36mhttp_error_default\u001b[0;34m(self, req, fp, code, msg, hdrs)\u001b[0m\n\u001b[1;32m    639\u001b[0m \u001b[0;32mclass\u001b[0m \u001b[0mHTTPDefaultErrorHandler\u001b[0m\u001b[0;34m(\u001b[0m\u001b[0mBaseHandler\u001b[0m\u001b[0;34m)\u001b[0m\u001b[0;34m:\u001b[0m\u001b[0;34m\u001b[0m\u001b[0;34m\u001b[0m\u001b[0m\n\u001b[1;32m    640\u001b[0m     \u001b[0;32mdef\u001b[0m \u001b[0mhttp_error_default\u001b[0m\u001b[0;34m(\u001b[0m\u001b[0mself\u001b[0m\u001b[0;34m,\u001b[0m \u001b[0mreq\u001b[0m\u001b[0;34m,\u001b[0m \u001b[0mfp\u001b[0m\u001b[0;34m,\u001b[0m \u001b[0mcode\u001b[0m\u001b[0;34m,\u001b[0m \u001b[0mmsg\u001b[0m\u001b[0;34m,\u001b[0m \u001b[0mhdrs\u001b[0m\u001b[0;34m)\u001b[0m\u001b[0;34m:\u001b[0m\u001b[0;34m\u001b[0m\u001b[0;34m\u001b[0m\u001b[0m\n\u001b[0;32m--> 641\u001b[0;31m         \u001b[0;32mraise\u001b[0m \u001b[0mHTTPError\u001b[0m\u001b[0;34m(\u001b[0m\u001b[0mreq\u001b[0m\u001b[0;34m.\u001b[0m\u001b[0mfull_url\u001b[0m\u001b[0;34m,\u001b[0m \u001b[0mcode\u001b[0m\u001b[0;34m,\u001b[0m \u001b[0mmsg\u001b[0m\u001b[0;34m,\u001b[0m \u001b[0mhdrs\u001b[0m\u001b[0;34m,\u001b[0m \u001b[0mfp\u001b[0m\u001b[0;34m)\u001b[0m\u001b[0;34m\u001b[0m\u001b[0;34m\u001b[0m\u001b[0m\n\u001b[0m\u001b[1;32m    642\u001b[0m \u001b[0;34m\u001b[0m\u001b[0m\n\u001b[1;32m    643\u001b[0m \u001b[0;32mclass\u001b[0m \u001b[0mHTTPRedirectHandler\u001b[0m\u001b[0;34m(\u001b[0m\u001b[0mBaseHandler\u001b[0m\u001b[0;34m)\u001b[0m\u001b[0;34m:\u001b[0m\u001b[0;34m\u001b[0m\u001b[0;34m\u001b[0m\u001b[0m\n",
      "\u001b[0;31mHTTPError\u001b[0m: HTTP Error 404: Not Found"
     ]
    }
   ],
   "source": [
    "# For Google Collab\n",
    "import os\n",
    "import urllib.request\n",
    "\n",
    "def createDirectory(directory):\n",
    "    # The directory does not exist\n",
    "    if not os.path.exists(os.path.abspath(directory)):\n",
    "    \n",
    "        # Create the directory\n",
    "        os.mkdir(os.path.abspath(directory))\n",
    "\n",
    "def downloadFile(fname):\n",
    "    if not os.path.exists(fname):\n",
    "        base_url = \"https://github.com/effepivi/gvxr-tutorials/raw/main\"\n",
    "        url = base_url + \"/\" + fname\n",
    "        print(\"Download the polygon mesh (%s)\" % fname)\n",
    "        urllib.request.urlretrieve(url, fname)\n",
    "\n",
    "createDirectory(root_path + \"/JSON\")\n",
    "createDirectory(root_path + \"/Noise-CBCT\")\n",
    "createDirectory(root_path + \"/Noise-CBCT/meshes\")\n",
    "\n",
    "downloadFile(\"sitk2vtk.py\")\n",
    "downloadFile(\"JSON2gVXRDataReader.py\")\n",
    "downloadFile(\"JSON/Noise-CBCT.json\")\n",
    "downloadFile(\"energyResponseDetector.txt\")\n",
    "downloadFile(\"Noise-CBCT/spectrum85kV.txt\")\n",
    "downloadFile(\"Noise-CBCT/labels.dat\")"
   ]
  },
  {
   "cell_type": "code",
   "execution_count": 46,
   "metadata": {
    "colab": {
     "base_uri": "https://localhost:8080/"
    },
    "id": "LVf5r2Cnfg2w",
    "outputId": "57ba0b62-1b73-4d33-c45c-9e5e527a1f16",
    "tags": []
   },
   "outputs": [
    {
     "name": "stdout",
     "output_type": "stream",
     "text": [
      "RTK detected\n",
      "CIL not detected\n",
      "Tigre not detected\n"
     ]
    }
   ],
   "source": [
    "import glob\n",
    "import zipfile\n",
    "\n",
    "import pandas as pd\n",
    "\n",
    "from IPython.display import display\n",
    "from IPython.display import Image\n",
    "\n",
    "import matplotlib.pyplot as plt # Plotting\n",
    "import numpy as np\n",
    "\n",
    "from tifffile import imread, imwrite\n",
    "\n",
    "from IPython.display import display\n",
    "from IPython.display import Image\n",
    "\n",
    "import SimpleITK as sitk\n",
    "\n",
    "import matplotlib # To plot images\n",
    "\n",
    "font = {'family' : 'serif',\n",
    "         'size'   : 10\n",
    "       }\n",
    "matplotlib.rc('font', **font)\n",
    "\n",
    "# Uncomment the line below to use LaTeX fonts\n",
    "# matplotlib.rc('text', usetex=True)\n",
    "\n",
    "has_rtk = True\n",
    "try:\n",
    "    import itk\n",
    "    from itk import RTK as rtk\n",
    "    print(\"RTK detected\")\n",
    "except:\n",
    "    has_rtk = False\n",
    "    print(\"RTK not detected\")\n",
    "\n",
    "has_cil = True\n",
    "try:\n",
    "    from cil.processors import TransmissionAbsorptionConverter\n",
    "    from cil.utilities.display import show_geometry, show2D\n",
    "    from cil.recon import FBP, FDK\n",
    "    from cil.plugins.astra.processors.FDK_Flexible import FDK_Flexible\n",
    "    print(\"CIL detected\")\n",
    "except:\n",
    "    has_cil = False\n",
    "    print(\"CIL not detected\")\n",
    "\n",
    "has_cil_islider = True\n",
    "try:\n",
    "    from cil.utilities.jupyter import islicer\n",
    "except:\n",
    "    has_cil_islider = False\n",
    "\n",
    "has_tigre = True\n",
    "try:\n",
    "    import tigre\n",
    "    print(\"Tigre detected\")\n",
    "except:\n",
    "    has_tigre = False\n",
    "    print(\"Tigre not detected\")\n",
    "\n",
    "from ipywidgets import interact\n",
    "import ipywidgets as widgets\n",
    "\n",
    "import base64\n",
    "\n",
    "from gvxrPython3 import gvxr\n",
    "from gvxrPython3 import json2gvxr\n",
    "from gvxrPython3.utils import visualise\n",
    "from gvxrPython3.utils import plotScreenshot\n",
    "from gvxrPython3.utils import interactPlotPowerLaw # Plot the X-ray image using a Power law look-up table\n",
    "from gvxrPython3.utils import saveProjections # Plot the X-ray image in linear, log and power law scales\n",
    "\n",
    "from sitk2vtk import *\n",
    "\n",
    "if has_cil:\n",
    "    from JSON2gVXRDataReader import *"
   ]
  },
  {
   "cell_type": "markdown",
   "metadata": {
    "id": "5VxBT2KKfg2x"
   },
   "source": [
    "## Initialise GVXR using our JSON file"
   ]
  },
  {
   "cell_type": "code",
   "execution_count": 8,
   "metadata": {
    "colab": {
     "base_uri": "https://localhost:8080/"
    },
    "id": "wR_3_q99fg2x",
    "outputId": "f1d759f1-5475-4a2c-8b9c-77870bcdabbf",
    "tags": []
   },
   "outputs": [
    {
     "name": "stdout",
     "output_type": "stream",
     "text": [
      "Create an OpenGL context: 800x450\n"
     ]
    },
    {
     "name": "stderr",
     "output_type": "stream",
     "text": [
      "Thu Mar 23 10:23:02 2023 ---- Create window (ID: -1)\n",
      "Thu Mar 23 10:23:02 2023 ---- Initialise GLFW\n",
      "Thu Mar 23 10:23:02 2023 ---- Create an OpenGL window with a 3.2 context.\n",
      "Thu Mar 23 10:23:02 2023 ---- Make the window's context current\n",
      "Thu Mar 23 10:23:02 2023 ---- Initialise GLEW\n",
      "Thu Mar 23 10:23:03 2023 ---- OpenGL vendor: Intel Inc.\n",
      "Thu Mar 23 10:23:03 2023 ---- OpenGL renderer: Intel(R) Iris(TM) Plus Graphics 650\n",
      "Thu Mar 23 10:23:03 2023 ---- OpenGL version: 4.1 INTEL-16.4.5\n",
      "Thu Mar 23 10:23:03 2023 ---- Cannot use OpenGL 4.5. You live in the past.\n",
      "Thu Mar 23 10:23:03 2023 ---- Use OpenGL 3.2.\n",
      "Thu Mar 23 10:23:03 2023 ---- Initialise the X-ray renderer if needed and if possible\n"
     ]
    }
   ],
   "source": [
    "json_fname = root_path + \"/JSON/Noise-CBCT.json\"\n",
    "json2gvxr.initGVXR(root_path + \"/JSON/Noise-CBCT.json\", renderer=\"OPENGL\")"
   ]
  },
  {
   "cell_type": "markdown",
   "metadata": {
    "id": "a48Sbk6kfg2x"
   },
   "source": [
    "## Create the output directory"
   ]
  },
  {
   "cell_type": "code",
   "execution_count": 9,
   "metadata": {
    "colab": {
     "base_uri": "https://localhost:8080/"
    },
    "id": "SKUBFDkQfg2x",
    "outputId": "86ba4d91-b106-4564-cfee-0876d6806d73",
    "tags": []
   },
   "outputs": [
    {
     "name": "stdout",
     "output_type": "stream",
     "text": [
      "The raw projections were saved in /Users/eese10/PROGRAMMING/GitHub/gvxr-tutorials/Noise-CBCT/raw_projections\n"
     ]
    }
   ],
   "source": [
    "raw_projection_output_dir = os.path.abspath(json2gvxr.getFilePath(json2gvxr.params[\"Scan\"][\"OutFolder\"]))\n",
    "print(\"The raw projections were saved in\", raw_projection_output_dir)\n",
    "createDirectory(raw_projection_output_dir + \"/..\")\n",
    "createDirectory(raw_projection_output_dir)"
   ]
  },
  {
   "cell_type": "markdown",
   "metadata": {
    "id": "ZDzLtvK1fg2y"
   },
   "source": [
    "## Load our detector"
   ]
  },
  {
   "cell_type": "code",
   "execution_count": 10,
   "metadata": {
    "colab": {
     "base_uri": "https://localhost:8080/"
    },
    "id": "MOd2Mnm6fg2y",
    "outputId": "1037e97d-bdf7-4fa5-a9dd-6501e0c7ac8c",
    "tags": []
   },
   "outputs": [
    {
     "name": "stdout",
     "output_type": "stream",
     "text": [
      "Set up the detector\n",
      "\tDetector position: [0.0, -150.0, 0.0, 'mm']\n",
      "\tDetector up vector: [0, 0, -1]\n",
      "\tNumber of pixels: [128, 128]\n",
      "\tDetector number of pixels: [128, 128]\n",
      "\tEnergy response: ../energyResponseDetector.txt in MeV\n",
      "\tPixel spacing: [3.90625, 3.90625, 'mm']\n"
     ]
    }
   ],
   "source": [
    "json2gvxr.initDetector()"
   ]
  },
  {
   "cell_type": "code",
   "execution_count": 11,
   "metadata": {
    "id": "z7Nb4cOyfg2y",
    "tags": []
   },
   "outputs": [],
   "source": [
    "number_of_rows = json2gvxr.params[\"Detector\"][\"NumberOfPixels\"][1]\n",
    "number_of_cols = json2gvxr.params[\"Detector\"][\"NumberOfPixels\"][0]"
   ]
  },
  {
   "cell_type": "markdown",
   "metadata": {
    "id": "mzBI6xu4fg20"
   },
   "source": [
    "## Load our source properties"
   ]
  },
  {
   "cell_type": "code",
   "execution_count": 12,
   "metadata": {
    "colab": {
     "base_uri": "https://localhost:8080/"
    },
    "id": "jCAZhd27fg20",
    "outputId": "c530f939-3c16-45d0-fc6b-976894f047d2",
    "tags": []
   },
   "outputs": [
    {
     "name": "stdout",
     "output_type": "stream",
     "text": [
      "Set up the beam\n",
      "\tSource position: [0.0, 1000.0, 0.0, 'mm']\n",
      "\tSource shape: PointSource\n"
     ]
    }
   ],
   "source": [
    "json2gvxr.initSourceGeometry()"
   ]
  },
  {
   "cell_type": "code",
   "execution_count": 13,
   "metadata": {
    "id": "z3VDjHp_fg20",
    "tags": []
   },
   "outputs": [
    {
     "name": "stderr",
     "output_type": "stream",
     "text": [
      "Thu Mar 23 10:23:03 2023 ---- Initialise the renderer\n"
     ]
    }
   ],
   "source": [
    "spectrum, unit_of_energy, energy_set, bin_sets = json2gvxr.initSpectrum(verbose=0)"
   ]
  },
  {
   "cell_type": "code",
   "execution_count": 14,
   "metadata": {
    "colab": {
     "base_uri": "https://localhost:8080/",
     "height": 366
    },
    "id": "MflvC7N3NRx7",
    "outputId": "fff97aaa-034d-4816-eeaa-d74916e4bf51",
    "tags": []
   },
   "outputs": [
    {
     "data": {
      "text/plain": [
       "Text(0.5, 1.0, 'Corresponding spectra')"
      ]
     },
     "execution_count": 14,
     "metadata": {},
     "output_type": "execute_result"
    },
    {
     "data": {
      "image/png": "[encoded data removed]",
      "text/plain": [
       "<Figure size 720x360 with 1 Axes>"
      ]
     },
     "metadata": {
      "needs_background": "light"
     },
     "output_type": "display_data"
    }
   ],
   "source": [
    "plt.figure(figsize=(10,5))\n",
    "plt.plot(energy_set, bin_sets)\n",
    "plt.xlabel(\"Energy [\" + unit_of_energy + \"]\")\n",
    "plt.ylabel(\"Photon count\")\n",
    "plt.title(\"Corresponding spectra\")"
   ]
  },
  {
   "cell_type": "markdown",
   "metadata": {},
   "source": [
    "## Create the surface meshes\n",
    "\n",
    "Download and extract the ZIP file."
   ]
  },
  {
   "cell_type": "code",
   "execution_count": 15,
   "metadata": {
    "tags": []
   },
   "outputs": [],
   "source": [
    "if not os.path.exists(\"Noise-CBCT/Pediatric phantom.zip\"):\n",
    "    urllib.request.urlretrieve(\"https://drive.uca.fr/f/384a08b5f73244cf9ead/?dl=1\",\n",
    "                               root_path + \"/Noise-CBCT/Pediatric phantom.zip\")\n",
    "\n",
    "    with zipfile.ZipFile(root_path + \"/Noise-CBCT/Pediatric phantom.zip\",\"r\") as zip_ref:\n",
    "        zip_ref.extractall(root_path + \"/Noise-CBCT\")"
   ]
  },
  {
   "cell_type": "markdown",
   "metadata": {},
   "source": [
    "Load the phantom"
   ]
  },
  {
   "cell_type": "code",
   "execution_count": 16,
   "metadata": {
    "tags": []
   },
   "outputs": [],
   "source": [
    "phantom = sitk.ReadImage(root_path + \"/Noise-CBCT/Pediatric phantom/Pediatric_model.mhd\")"
   ]
  },
  {
   "cell_type": "markdown",
   "metadata": {},
   "source": [
    "Load the labels"
   ]
  },
  {
   "cell_type": "code",
   "execution_count": 17,
   "metadata": {
    "tags": []
   },
   "outputs": [],
   "source": [
    "df = pd.read_csv(root_path + \"/Noise-CBCT/labels.dat\")"
   ]
  },
  {
   "cell_type": "markdown",
   "metadata": {},
   "source": [
    "Process every structure of the phantom"
   ]
  },
  {
   "cell_type": "code",
   "execution_count": 18,
   "metadata": {
    "tags": []
   },
   "outputs": [
    {
     "name": "stdout",
     "output_type": "stream",
     "text": [
      "Process Muscle\n",
      "Process Bone\n",
      "Process Stomach-Interior\n",
      "Process Cartilage\n",
      "Process Brain\n",
      "Process Bladder\n",
      "Process Gallbladder\n",
      "Process Heart\n",
      "Process Kidneys-right\n",
      "Process Kidneys-left\n",
      "Process Small-Intestine\n",
      "Process Large-Intestine\n",
      "Process Liver\n",
      "Process Lung-right\n",
      "Process Lung-left\n",
      "Process Pancreas\n",
      "Process Spleen\n",
      "Process Stomach\n",
      "Process Thymus\n",
      "Process Eyes-right\n",
      "Process Eyes-left\n",
      "Process Skull\n",
      "Process Trachea\n"
     ]
    }
   ],
   "source": [
    "meshes = []\n",
    "\n",
    "for threshold, organ in zip(df[\"Label\"], df[\"Organs\"]):\n",
    "\n",
    "    # Ignore air\n",
    "    if organ != \"Air\":\n",
    "\n",
    "        print(\"Process\", organ)\n",
    "        \n",
    "        mesh_fname = root_path + \"/Noise-CBCT/meshes/\" + organ + \".stl\"\n",
    "        meshes.append(mesh_fname)\n",
    "\n",
    "        # Only create the mesh if it does not exist\n",
    "        if not os.path.exists(mesh_fname):\n",
    "            \n",
    "            # Threshold the phantom\n",
    "            binary_image = (phantom == threshold)\n",
    "\n",
    "            # Smooth the binary segmentation\n",
    "            smoothed_binary_image = sitk.AntiAliasBinary(binary_image)\n",
    "                            \n",
    "            # Create a VTK image\n",
    "            vtkimg = sitk2vtk(smoothed_binary_image, centre=True)\n",
    "\n",
    "            vtk_mesh = extractSurface(vtkimg, 0)\n",
    "            \n",
    "#             print('Before decimation')\n",
    "#             print(f'There are {mesh.GetNumberOfPoints()} points.')\n",
    "#             print(f'There are {mesh.GetNumberOfPolys()} polygons.')\n",
    "\n",
    "#             decimate = vtk.vtkDecimatePro()\n",
    "#             decimate.SetInputData(mesh)\n",
    "#             decimate.SplittingOn()\n",
    "#             decimate.SetTargetReduction(30)\n",
    "#             decimate.PreserveTopologyOn()\n",
    "#             decimate.Update()\n",
    "\n",
    "#             decimated = vtk.vtkPolyData()\n",
    "#             decimated.ShallowCopy(decimate.GetOutput())\n",
    "\n",
    "#             print('After decimation')\n",
    "#             print(f'There are {decimated.GetNumberOfPoints()} points.')\n",
    "#             print(f'There are {decimated.GetNumberOfPolys()} polygons.')\n",
    "#             print(\n",
    "#                 f'Reduction: {(mesh.GetNumberOfPolys() - decimated.GetNumberOfPolys()) / mesh.GetNumberOfPolys()}')\n",
    "            \n",
    "#             print(\"\\n\\n\")\n",
    "#             writeSTL(decimated, mesh_fname)\n",
    "            writeSTL(vtk_mesh, mesh_fname)"
   ]
  },
  {
   "cell_type": "code",
   "execution_count": 19,
   "metadata": {
    "tags": []
   },
   "outputs": [],
   "source": [
    "del phantom"
   ]
  },
  {
   "cell_type": "markdown",
   "metadata": {
    "id": "ox205lfVfg20"
   },
   "source": [
    "## Load our samples"
   ]
  },
  {
   "cell_type": "code",
   "execution_count": 20,
   "metadata": {
    "colab": {
     "base_uri": "https://localhost:8080/"
    },
    "id": "V8iTIXQafg21",
    "outputId": "4236602a-dc0e-46d3-aae8-f09ac3fd0465",
    "tags": []
   },
   "outputs": [
    {
     "name": "stdout",
     "output_type": "stream",
     "text": [
      "Load the 3D data\n",
      "\n",
      "\tLoad Muscle in /Users/eese10/PROGRAMMING/GitHub/gvxr-tutorials/JSON/../Noise-CBCT/meshes/Muscle.stl using mm\n",
      "\tLoad Bone in /Users/eese10/PROGRAMMING/GitHub/gvxr-tutorials/JSON/../Noise-CBCT/meshes/Bone.stl using mm\n",
      "\tLoad Stomach-Interior in /Users/eese10/PROGRAMMING/GitHub/gvxr-tutorials/JSON/../Noise-CBCT/meshes/Stomach-Interior.stl using mm\n",
      "\tLoad Cartilage in /Users/eese10/PROGRAMMING/GitHub/gvxr-tutorials/JSON/../Noise-CBCT/meshes/Cartilage.stl using mm\n",
      "\tLoad Brain in /Users/eese10/PROGRAMMING/GitHub/gvxr-tutorials/JSON/../Noise-CBCT/meshes/Brain.stl using mm\n",
      "\tLoad Bladder in /Users/eese10/PROGRAMMING/GitHub/gvxr-tutorials/JSON/../Noise-CBCT/meshes/Bladder.stl using mm\n",
      "\tLoad Gallbladder in /Users/eese10/PROGRAMMING/GitHub/gvxr-tutorials/JSON/../Noise-CBCT/meshes/Gallbladder.stl using mm\n",
      "\tLoad Heart in /Users/eese10/PROGRAMMING/GitHub/gvxr-tutorials/JSON/../Noise-CBCT/meshes/Heart.stl using mm\n",
      "\tLoad Kidneys-right in /Users/eese10/PROGRAMMING/GitHub/gvxr-tutorials/JSON/../Noise-CBCT/meshes/Kidneys-right.stl using mm\n",
      "\tLoad Kidneys-left in /Users/eese10/PROGRAMMING/GitHub/gvxr-tutorials/JSON/../Noise-CBCT/meshes/Kidneys-left.stl using mm\n",
      "\tLoad Small-Intestine in /Users/eese10/PROGRAMMING/GitHub/gvxr-tutorials/JSON/../Noise-CBCT/meshes/Small-Intestine.stl using mm\n",
      "\tLoad Large-Intestine in /Users/eese10/PROGRAMMING/GitHub/gvxr-tutorials/JSON/../Noise-CBCT/meshes/Large-Intestine.stl using mm\n",
      "\tLoad"
     ]
    },
    {
     "name": "stderr",
     "output_type": "stream",
     "text": [
      "Thu Mar 23 10:23:04 2023 ---- file_name:\t/Users/eese10/PROGRAMMING/GitHub/gvxr-tutorials/JSON/../Noise-CBCT/meshes/Muscle.stl\tnb_faces:\t1756726\tnb_vertices:\t5270178\tbounding_box (in cm):\t(-17.9687, -10.8887, -30.9017)\t(16.6016, 11.1799, 28.6986)\n",
      "Thu Mar 23 10:23:05 2023 ---- file_name:\t/Users/eese10/PROGRAMMING/GitHub/gvxr-tutorials/JSON/../Noise-CBCT/meshes/Bone.stl\tnb_faces:\t541826\tnb_vertices:\t1625478\tbounding_box (in cm):\t(-16.7969, -23.6577, -30.9017)\t(15.2152, 9.88865, 16.3501)\n",
      "Thu Mar 23 10:23:05 2023 ---- file_name:\t/Users/eese10/PROGRAMMING/GitHub/gvxr-tutorials/JSON/../Noise-CBCT/meshes/Stomach-Interior.stl\tnb_faces:\t9452\tnb_vertices:\t28356\tbounding_box (in cm):\t(-1.34334, -2.38867, -17.0041)\t(4.16143, 3.05231, -8.50205)\n",
      "Thu Mar 23 10:23:05 2023 ---- file_name:\t/Users/eese10/PROGRAMMING/GitHub/gvxr-tutorials/JSON/../Noise-CBCT/meshes/Cartilage.stl\tnb_faces:\t163322\tnb_vertices:\t489966\tbounding_box (in cm):\t(-16.7615, -4.32288, -30.9017)\t(15.5041, 8.717, 16.6771)\n",
      "Thu Mar 23 10:23:05 2023 ---- file_name:\t/Users/eese10/PROGRAMMING/GitHub/gvxr-tutorials/JSON/../Noise-CBCT/meshes/Brain.stl\tnb_faces:\t124028\tnb_vertices:\t372084\tbounding_box (in cm):\t(-7.32082, -9.98695, 16.3501)\t(7.50031, 5.78681, 28.1222)\n",
      "Thu Mar 23 10:23:05 2023 ---- file_name:\t/Users/eese10/PROGRAMMING/GitHub/gvxr-tutorials/JSON/../Noise-CBCT/meshes/Bladder.stl\tnb_faces:\t3712\tnb_vertices:\t11136\tbounding_box (in cm):\t(-3.78536, 2.11808, -30.9017)\t(0.175804, 5.49461, -29.7572)\n",
      "Thu Mar 23 10:23:05 2023 ---- file_name:\t/Users/eese10/PROGRAMMING/GitHub/gvxr-tutorials/JSON/../Noise-CBCT/meshes/Gallbladder.stl\tnb_faces:\t4308\tnb_vertices:\t12924\tbounding_box (in cm):\t(-5.07422, -1.68659, -17.9851)\t(-2.54188, 1.49065, -14.3881)\n",
      "Thu Mar 23 10:23:05 2023 ---- file_name:\t/Users/eese10/PROGRAMMING/GitHub/gvxr-tutorials/JSON/../Noise-CBCT/meshes/Heart.stl\tnb_faces:\t48172\tnb_vertices:\t144516\tbounding_box (in cm):\t(-3.78536, -3.07617, -9.15606)\t(6.32529, 5.68903, 1.30801)\n",
      "Thu Mar 23 10:23:05 2023 ---- file_name:\t/Users/eese10/PROGRAMMING/GitHub/gvxr-tutorials/JSON/../Noise-CBCT/meshes/Kidneys-right.stl\tnb_faces:\t17512\tnb_vertices:\t52536\tbounding_box (in cm):\t(-7.69363, 1.73117, -18.9661)\t(-2.47349, 7.23954, -10.4641)\n",
      "Thu Mar 23 10:23:05 2023 ---- file_name:\t/Users/eese10/PROGRAMMING/GitHub/gvxr-tutorials/JSON/../Noise-CBCT/meshes/Kidneys-left.stl\tnb_faces:\t16388\tnb_vertices:\t49164\tbounding_box (in cm):\t(1.37053, 3.46679, -17.9851)\t(6.44388, 7.74184, -8.82905)\n",
      "Thu Mar 23 10:23:05 2023 ---- file_name:\t/Users/eese10/PROGRAMMING/GitHub/gvxr-tutorials/JSON/../Noise-CBCT/meshes/Small-Intestine.stl\tnb_faces:\t118532\tnb_vertices:\t355596\tbounding_box (in cm):\t(-7.48809, -2.95731, -30.9017)\t(7.59416, 8.32697, -12.0991)\n",
      "Thu Mar 23 10:23:05 2023 ---- file_name:\t/Users/eese10/PROGRAMMING/GitHub/gvxr-tutorials/JSON/../Noise-CBCT/meshes/Large-Intestine.stl\tnb_faces:\t94336\tnb_vertices:\t283008\tbounding_box (in cm):\t(-4.66426, -1.67902, -30.4112)\t(7.11153, 6.16473, -13.4071)\n"
     ]
    },
    {
     "name": "stdout",
     "output_type": "stream",
     "text": [
      " Liver in /Users/eese10/PROGRAMMING/GitHub/gvxr-tutorials/JSON/../Noise-CBCT/meshes/Liver.stl using mm\n",
      "\tLoad Lung-right in /Users/eese10/PROGRAMMING/GitHub/gvxr-tutorials/JSON/../Noise-CBCT/meshes/Lung-right.stl using mm\n",
      "\tLoad Lung-left in /Users/eese10/PROGRAMMING/GitHub/gvxr-tutorials/JSON/../Noise-CBCT/meshes/Lung-left.stl using mm\n",
      "\tLoad Pancreas in /Users/eese10/PROGRAMMING/GitHub/gvxr-tutorials/JSON/../Noise-CBCT/meshes/Pancreas.stl using mm\n",
      "\tLoad Spleen in /Users/eese10/PROGRAMMING/GitHub/gvxr-tutorials/JSON/../Noise-CBCT/meshes/Spleen.stl using mm\n",
      "\tLoad Stomach in /Users/eese10/PROGRAMMING/GitHub/gvxr-tutorials/JSON/../Noise-CBCT/meshes/Stomach.stl using mm\n",
      "\tLoad Thymus in /Users/eese10/PROGRAMMING/GitHub/gvxr-tutorials/JSON/../Noise-CBCT/meshes/Thymus.stl using mm\n",
      "\tLoad Eyes-right in /Users/eese10/PROGRAMMING/GitHub/gvxr-tutorials/JSON/../Noise-CBCT/meshes/Eyes-right.stl using mm\n",
      "\tLoad Eyes-left in /Users/eese10/PROGRAMMING/GitHub/gvxr-tutorials/JSON/../Noise-CBCT/meshes/Eyes-left.stl using mm\n",
      "\tLoad Skull in /Users/eese10/PROGRAMMING/GitHub/gvxr-tutorials/JSON/../Noise-CBCT/meshes/Skull.stl using mm\n"
     ]
    },
    {
     "name": "stderr",
     "output_type": "stream",
     "text": [
      "Thu Mar 23 10:23:05 2023 ---- file_name:\t/Users/eese10/PROGRAMMING/GitHub/gvxr-tutorials/JSON/../Noise-CBCT/meshes/Liver.stl\tnb_faces:\t87800\tnb_vertices:\t263400\tbounding_box (in cm):\t(-9.35286, -3.73856, -19.2931)\t(5.43096, 7.83896, -6.21304)\n",
      "Thu Mar 23 10:23:05 2023 ---- file_name:\t/Users/eese10/PROGRAMMING/GitHub/gvxr-tutorials/JSON/../Noise-CBCT/meshes/Lung-right.stl\tnb_faces:\t80364\tnb_vertices:\t241092\tbounding_box (in cm):\t(-9.47265, -3.16992, -8.82905)\t(0.0788746, 8.15358, 6.54004)\n",
      "Thu Mar 23 10:23:05 2023 ---- file_name:\t/Users/eese10/PROGRAMMING/GitHub/gvxr-tutorials/JSON/../Noise-CBCT/meshes/Lung-left.stl\tnb_faces:\t70736\tnb_vertices:\t212208\tbounding_box (in cm):\t(0.397666, -2.26504, -9.81006)\t(8.28139, 8.52371, 6.21304)\n",
      "Thu Mar 23 10:23:05 2023 ---- file_name:\t/Users/eese10/PROGRAMMING/GitHub/gvxr-tutorials/JSON/../Noise-CBCT/meshes/Pancreas.stl\tnb_faces:\t14592\tnb_vertices:\t43776\tbounding_box (in cm):\t(-2.8088, -0.240234, -17.0041)\t(5.6632, 4.32215, -10.1371)\n",
      "Thu Mar 23 10:23:06 2023 ---- file_name:\t/Users/eese10/PROGRAMMING/GitHub/gvxr-tutorials/JSON/../Noise-CBCT/meshes/Spleen.stl\tnb_faces:\t25468\tnb_vertices:\t76404\tbounding_box (in cm):\t(1.48829, -0.611202, -14.7151)\t(8.10404, 7.94215, -6.86704)\n",
      "Thu Mar 23 10:23:06 2023 ---- file_name:\t/Users/eese10/PROGRAMMING/GitHub/gvxr-tutorials/JSON/../Noise-CBCT/meshes/Stomach.stl\tnb_faces:\t28680\tnb_vertices:\t86040\tbounding_box (in cm):\t(-3.47804, -2.58413, -17.0041)\t(5.05955, 4.0295, -7.84805)\n",
      "Thu Mar 23 10:23:06 2023 ---- file_name:\t/Users/eese10/PROGRAMMING/GitHub/gvxr-tutorials/JSON/../Noise-CBCT/meshes/Thymus.stl\tnb_faces:\t3136\tnb_vertices:\t9408\tbounding_box (in cm):\t(-0.846352, -1.87282, -1.30801)\t(1.53113, 1.18326, 2.28901)\n",
      "Thu Mar 23 10:23:06 2023 ---- file_name:\t/Users/eese10/PROGRAMMING/GitHub/gvxr-tutorials/JSON/../Noise-CBCT/meshes/Eyes-right.stl\tnb_faces:\t3956\tnb_vertices:\t11868\tbounding_box (in cm):\t(-3.88504, -9.01112, 14.7151)\t(-1.28679, -6.41928, 17.6581)\n",
      "Thu Mar 23 10:23:06 2023 ---- file_name:\t/Users/eese10/PROGRAMMING/GitHub/gvxr-tutorials/JSON/../Noise-CBCT/meshes/Eyes-left.stl\tnb_faces:\t4116\tnb_vertices:\t12348\tbounding_box (in cm):\t(1.66718, -8.8147, 14.7151)\t(4.47449, -6.12631, 17.6581)\n",
      "Thu Mar 23 10:23:06 2023 ---- file_name:\t/Users/eese10/PROGRAMMING/GitHub/gvxr-tutorials/JSON/../Noise-CBCT/meshes/Skull.stl\tnb_faces:\t327028\tnb_vertices:\t981084\tbounding_box (in cm):\t(-7.59598, -10.476, 7.84805)\t(7.79064, 6.17931, 29.1032)\n"
     ]
    },
    {
     "name": "stdout",
     "output_type": "stream",
     "text": [
      "\tLoad Trachea in /Users/eese10/PROGRAMMING/GitHub/gvxr-tutorials/JSON/../Noise-CBCT/meshes/Trachea.stl using mm\n"
     ]
    },
    {
     "name": "stderr",
     "output_type": "stream",
     "text": [
      "Thu Mar 23 10:23:06 2023 ---- file_name:\t/Users/eese10/PROGRAMMING/GitHub/gvxr-tutorials/JSON/../Noise-CBCT/meshes/Trachea.stl\tnb_faces:\t8588\tnb_vertices:\t25764\tbounding_box (in cm):\t(-3.48031, -0.996257, -2.61602)\t(3.39865, 5.09486, 10.1371)\n"
     ]
    }
   ],
   "source": [
    "json2gvxr.initSamples(root_path + \"/JSON/Noise-CBCT.json\", verbose=1)"
   ]
  },
  {
   "cell_type": "code",
   "execution_count": 21,
   "metadata": {
    "colab": {
     "base_uri": "https://localhost:8080/"
    },
    "id": "iqc0j-Q6fg21",
    "outputId": "eea77390-8187-4c8f-e82a-187b1cec683d",
    "tags": []
   },
   "outputs": [
    {
     "name": "stdout",
     "output_type": "stream",
     "text": [
      "Bounding box: [-172.85147094726562, -174.18807983398438, -300.0243225097656] [172.85147094726562, 174.18809509277344, 300.0243225097656]\n",
      "Bounding box centre: [0.0, 7.62939453125e-06, 0.0]\n"
     ]
    }
   ],
   "source": [
    "gvxr.moveToCentre()\n",
    "\n",
    "ID = \"root\"\n",
    "min_x, min_y, min_z, max_x, max_y, max_z = gvxr.getNodeAndChildrenBoundingBox(ID, \"mm\")\n",
    "centre_x = (min_x + max_x) / 2.0\n",
    "centre_y = (min_y + max_y) / 2.0\n",
    "centre_z = (min_z + max_z) / 2.0\n",
    "\n",
    "print(\"Bounding box:\", [min_x, min_y, min_z], [max_x, max_y, max_z])\n",
    "print(\"Bounding box centre:\", [centre_x, centre_y, centre_z])"
   ]
  },
  {
   "cell_type": "markdown",
   "metadata": {
    "id": "QL7gZQpTfg21"
   },
   "source": [
    "## Let's get an x-ray image\n",
    "\n",
    "We create an X-ray image `projection_in_MeV`. \n",
    "By default the image is expressed in MeV. \n",
    "We convert it to keV for display as follows: `projection_in_keV = projection_in_MeV / gvxr.getUnitOfEnergy(\"keV\")`."
   ]
  },
  {
   "cell_type": "code",
   "execution_count": 22,
   "metadata": {
    "id": "4JeB-cNBfg22",
    "tags": []
   },
   "outputs": [],
   "source": [
    "projection_in_MeV = np.array(gvxr.computeXRayImage(), dtype=np.single)\n",
    "projection_in_keV = projection_in_MeV / gvxr.getUnitOfEnergy(\"keV\")"
   ]
  },
  {
   "cell_type": "code",
   "execution_count": 23,
   "metadata": {
    "colab": {
     "base_uri": "https://localhost:8080/",
     "height": 591
    },
    "id": "X624vKQ2fg22",
    "outputId": "3d628679-5740-43a5-a26f-ad0b199adb18",
    "tags": []
   },
   "outputs": [
    {
     "data": {
      "image/png": "[encoded data removed]",
      "text/plain": [
       "<Figure size 720x720 with 1 Axes>"
      ]
     },
     "metadata": {
      "needs_background": "light"
     },
     "output_type": "display_data"
    }
   ],
   "source": [
    "gvxr.setWindowSize(500, 500) # Fix for MacOS\n",
    "gvxr.displayScene()\n",
    "plotScreenshot()"
   ]
  },
  {
   "cell_type": "code",
   "execution_count": 26,
   "metadata": {
    "colab": {
     "base_uri": "https://localhost:8080/",
     "height": 259
    },
    "id": "sXg2uBYAfg22",
    "outputId": "6e2f4ea7-dc4d-49c1-bc4b-6f1155571a3a",
    "tags": []
   },
   "outputs": [
    {
     "data": {
      "application/vnd.jupyter.widget-view+json": {
       "model_id": "131b86fd807f4c05a7cda8decaf86ff5",
       "version_major": 2,
       "version_minor": 0
      },
      "text/plain": [
       "Output()"
      ]
     },
     "metadata": {},
     "output_type": "display_data"
    }
   ],
   "source": [
    "fname = root_path + \"/Noise-CBCT/visualisation.png\"\n",
    "\n",
    "if not os.path.exists(fname):\n",
    "\n",
    "    if len(servers) > 0:\n",
    "        from google.colab import output\n",
    "        output.enable_custom_widget_manager()\n",
    "\n",
    "    plot = visualise(use_log=True)\n",
    "    plot.grid_visible = False\n",
    "    plot.display()\n",
    "else:\n",
    "    display(Image(fname, width=800))"
   ]
  },
  {
   "cell_type": "code",
   "execution_count": 28,
   "metadata": {
    "id": "2c4r59E6fg22",
    "tags": []
   },
   "outputs": [],
   "source": [
    "fname = root_path + \"/Noise-CBCT/visualisation.png\"\n",
    "if not os.path.exists(fname):\n",
    "    if plot is not None:\n",
    "    \n",
    "        plot.fetch_screenshot()\n",
    "\n",
    "        data = base64.b64decode(plot.screenshot)\n",
    "        with open(fname,'wb') as fp:\n",
    "            fp.write(data)\n",
    "\n",
    "    if len(servers) > 0:\n",
    "        from google.colab import output\n",
    "        output.disable_custom_widget_manager()"
   ]
  },
  {
   "cell_type": "markdown",
   "metadata": {
    "id": "UVBdF-Onfg22"
   },
   "source": [
    "## Add Poisson noise\n",
    "\n",
    "1. Load the raw projection in the RAM\n",
    "2. Convert the image in keV or MeV into number of photons\n",
    "3. Add the Poisson noise\n",
    "4. Convert the image in number of photons into keV or MeV\n",
    "5. Apply the flat-field correction"
   ]
  },
  {
   "cell_type": "code",
   "execution_count": 29,
   "metadata": {
    "id": "dlNtFPB-fg22",
    "tags": []
   },
   "outputs": [],
   "source": [
    "def getNoisyImage(x_ray_image_energy, target_number_of_photons_per_pixel):\n",
    "    \n",
    "    total_energy_MeV = gvxr.getTotalEnergyWithDetectorResponse()\n",
    "    number_of_incident_photons_per_pixel = np.sum(gvxr.getPhotonCountEnergyBins())\n",
    "    energy2photons = number_of_incident_photons_per_pixel / total_energy_MeV\n",
    "\n",
    "    temp = energy2photons / number_of_incident_photons_per_pixel * target_number_of_photons_per_pixel\n",
    "    \n",
    "    # Convert the image in keV into number of photons\n",
    "    x_ray_image_photons = x_ray_image_energy * temp \n",
    "    \n",
    "    # Add the Poisson noise\n",
    "    noise_image = np.float32(np.random.poisson(x_ray_image_photons))\n",
    "\n",
    "    # Convert in energy\n",
    "    return noise_image / temp"
   ]
  },
  {
   "cell_type": "code",
   "execution_count": 30,
   "metadata": {
    "id": "xEfdSOc8fg23",
    "tags": []
   },
   "outputs": [],
   "source": [
    "fig_plot = None\n",
    "def chooseNumberOfPhotonsPerPixel(xray_image: np.array, number_of_photons_per_pixel:int=15000, figsize=(10, 5)):\n",
    "\n",
    "    \"\"\"\n",
    "    Use Matplotlib and a Jupyter widget to display the X-ray image with Poisson noise.\n",
    "    The number of photons per pixel can be change interactively.\n",
    "\n",
    "    @param xray_image: The image to display\n",
    "    @number_of_photons_per_pixel: the number of photons per pixel (default: 15000)\n",
    "    @gamma figsize: the size of the figure (default: (10, 5))\n",
    "    \"\"\"\n",
    "\n",
    "    global target_number_of_photons_per_pixel, fig_plot\n",
    "    target_number_of_photons_per_pixel = number_of_photons_per_pixel\n",
    "\n",
    "    noisy_image = getNoisyImage(xray_image, number_of_photons_per_pixel)\n",
    "\n",
    "    fig_plot = plt.figure(figsize=figsize)\n",
    "    ax_img = plt.subplot(111)\n",
    "    img = plt.imshow(noisy_image, cmap=\"gray\")\n",
    "    # cbar = fig_plot.colorbar(img, orientation='vertical')\n",
    "    title_str = \"Photons per pixels: \" + str(number_of_photons_per_pixel)\n",
    "    ax_img.set_title(title_str)\n",
    "    plt.tight_layout()\n",
    "    plt.margins(0,0)\n",
    "\n",
    "    plt.close()\n",
    "\n",
    "    ## Callback function: plot y=Acos(x+phi)\n",
    "    def update_plot(number_of_photons_per_pixel):\n",
    "        global target_number_of_photons_per_pixel\n",
    "        target_number_of_photons_per_pixel = number_of_photons_per_pixel\n",
    "        noisy_image = getNoisyImage(xray_image, number_of_photons_per_pixel)\n",
    "        img = ax_img.imshow(noisy_image, cmap=\"gray\")\n",
    "        title_str = \"Photons per pixels: \" + str(number_of_photons_per_pixel)\n",
    "        ax_img.set_title(title_str)\n",
    "        # fig_plot.colorbar(img, cax=cbar.ax, orientation='vertical')\n",
    "\n",
    "        display(fig_plot)\n",
    "\n",
    "    interact(update_plot,\n",
    "             number_of_photons_per_pixel=widgets.IntSlider(value=number_of_photons_per_pixel, min=10, max=50000, step=10, description=\"Photons/pixels\"))"
   ]
  },
  {
   "cell_type": "code",
   "execution_count": 32,
   "metadata": {
    "colab": {
     "base_uri": "https://localhost:8080/",
     "height": 401,
     "referenced_widgets": [
      "633fd8b97398408a917c4af60cabb693",
      "0e7a4b183791436996ce34a900a53c96",
      "f46d3d33503a44cc8ff119d5f2b15af2",
      "01f3fb8e340d4a3493a319890f109bb3",
      "11ce6ac5a085474c8fa1398ddcc990e5",
      "2fbe41439aba48f3a7a4b666f06e21af",
      "ab984751a2954de2ae59b79e006484fd"
     ]
    },
    "id": "sB8EjR91fg23",
    "outputId": "73173001-71a9-4d86-b885-19a86c316bb3",
    "tags": []
   },
   "outputs": [
    {
     "data": {
      "application/vnd.jupyter.widget-view+json": {
       "model_id": "08cadfd603434073a965dacd65471a3a",
       "version_major": 2,
       "version_minor": 0
      },
      "text/plain": [
       "interactive(children=(IntSlider(value=15000, description='Photons/pixels', max=50000, min=10, step=10), Output…"
      ]
     },
     "metadata": {},
     "output_type": "display_data"
    }
   ],
   "source": [
    "chooseNumberOfPhotonsPerPixel(projection_in_MeV, number_of_photons_per_pixel=15000, figsize=(10, 5))"
   ]
  },
  {
   "cell_type": "code",
   "execution_count": 33,
   "metadata": {
    "id": "HDwCRj1gfg23",
    "tags": []
   },
   "outputs": [],
   "source": [
    "fig_plot.savefig(root_path + \"/Noise-CBCT/noisy-projection.png\", dpi=72)"
   ]
  },
  {
   "cell_type": "code",
   "execution_count": 34,
   "metadata": {
    "colab": {
     "base_uri": "https://localhost:8080/"
    },
    "id": "2LMyeTBEfg24",
    "outputId": "0cab528f-7d78-4637-b502-9be804f4c079",
    "tags": []
   },
   "outputs": [
    {
     "name": "stdout",
     "output_type": "stream",
     "text": [
      "Photons per pixels: 15000\n"
     ]
    }
   ],
   "source": [
    "print(\"Photons per pixels:\", target_number_of_photons_per_pixel)"
   ]
  },
  {
   "cell_type": "markdown",
   "metadata": {
    "id": "UUdOTfC3fg24"
   },
   "source": [
    "## Perfom the CT scan"
   ]
  },
  {
   "cell_type": "code",
   "execution_count": 35,
   "metadata": {
    "colab": {
     "base_uri": "https://localhost:8080/"
    },
    "id": "DH8Z7YuZfg24",
    "outputId": "b8a3e70f-8e6d-4f24-8817-c1edddbbfe2a",
    "tags": []
   },
   "outputs": [
    {
     "name": "stdout",
     "output_type": "stream",
     "text": [
      "Set up the CT Scan\n"
     ]
    }
   ],
   "source": [
    "angles = json2gvxr.initScan()"
   ]
  },
  {
   "cell_type": "code",
   "execution_count": 36,
   "metadata": {
    "id": "ybk5FL9-fg24",
    "tags": []
   },
   "outputs": [],
   "source": [
    "number_of_angles = json2gvxr.params[\"Scan\"][\"NumberOfProjections\"]\n",
    "angles = json2gvxr.doCTScan()"
   ]
  },
  {
   "cell_type": "code",
   "execution_count": 37,
   "metadata": {
    "colab": {
     "base_uri": "https://localhost:8080/"
    },
    "id": "UYUC869hp_y7",
    "outputId": "49c603fe-a0f0-4b66-b859-d3911644d2f9",
    "tags": []
   },
   "outputs": [
    {
     "name": "stdout",
     "output_type": "stream",
     "text": [
      "First angle: 0.0\n",
      "Last angle: 356.0\n",
      "Number of angles: 90\n"
     ]
    }
   ],
   "source": [
    "print(\"First angle:\", angles[0])\n",
    "print(\"Last angle:\", angles[-1])\n",
    "print(\"Number of angles:\", number_of_angles)"
   ]
  },
  {
   "cell_type": "markdown",
   "metadata": {
    "id": "zuuC1Xd_fg24"
   },
   "source": [
    "## Flat images"
   ]
  },
  {
   "cell_type": "markdown",
   "metadata": {
    "id": "tzjgXBYZfg25"
   },
   "source": [
    "Create the flat field image"
   ]
  },
  {
   "cell_type": "code",
   "execution_count": 38,
   "metadata": {
    "colab": {
     "base_uri": "https://localhost:8080/",
     "height": 49,
     "referenced_widgets": [
      "ba038ec39d604523aafbea33085296c9",
      "add0b8c430d542b8bd82b57679610029",
      "f2c33468c1f5418180f189420cb067b0"
     ]
    },
    "id": "LOJtuRWYfg25",
    "outputId": "e2337d09-51a3-462e-f761-2ff8247b8866",
    "tags": []
   },
   "outputs": [
    {
     "data": {
      "application/vnd.jupyter.widget-view+json": {
       "model_id": "fff508cfdbc4468d93a40bb4db745096",
       "version_major": 2,
       "version_minor": 0
      },
      "text/plain": [
       "IntSlider(value=25, description='Number of flat images:', max=500, min=1)"
      ]
     },
     "metadata": {},
     "output_type": "display_data"
    }
   ],
   "source": [
    "white_slider = widgets.IntSlider(value=25, min=1, max=500, step=1, description='Number of flat images:')\n",
    "white_slider"
   ]
  },
  {
   "cell_type": "code",
   "execution_count": 39,
   "metadata": {
    "colab": {
     "base_uri": "https://localhost:8080/"
    },
    "id": "Y-EjvgHXfg25",
    "outputId": "07ae5c3f-324e-4918-e7b1-ebc9dda7ebfd",
    "tags": []
   },
   "outputs": [
    {
     "name": "stdout",
     "output_type": "stream",
     "text": [
      "Number of flat images: 25\n"
     ]
    }
   ],
   "source": [
    "print(\"Number of flat images:\", white_slider.value)"
   ]
  },
  {
   "cell_type": "code",
   "execution_count": 40,
   "metadata": {
    "id": "Q1U7SMXgfg25",
    "tags": []
   },
   "outputs": [],
   "source": [
    "createDirectory(root_path + \"/Noise-CBCT/flat-field\")\n",
    "fname = root_path + \"/Noise-CBCT/flat-field/flat.tif\"\n",
    "\n",
    "total_energy_MeV = gvxr.getTotalEnergyWithDetectorResponse()\n",
    "\n",
    "temp = total_energy_MeV * np.ones([1, number_of_rows, number_of_cols], dtype=np.single)\n",
    "flats = []\n",
    "\n",
    "for i in range(white_slider.value):\n",
    "    flats.append(getNoisyImage(temp, target_number_of_photons_per_pixel))\n",
    "\n",
    "flat_field = np.average(flats, axis=0)\n",
    "\n",
    "imwrite(fname, flat_field.astype(np.single), compression='zlib')"
   ]
  },
  {
   "cell_type": "code",
   "execution_count": 41,
   "metadata": {
    "colab": {
     "base_uri": "https://localhost:8080/",
     "height": 729
    },
    "id": "QqAIqK1Ofg26",
    "outputId": "cbb7abea-3d4e-4741-d2df-c8961b192d5c",
    "tags": []
   },
   "outputs": [
    {
     "data": {
      "image/png": "[encoded data removed]",
      "text/plain": [
       "<Figure size 1440x720 with 1 Axes>"
      ]
     },
     "metadata": {
      "needs_background": "light"
     },
     "output_type": "display_data"
    }
   ],
   "source": [
    "fig = plt.figure(figsize = (20, 10))\n",
    "plt.title(\"Averagte flat image\\n(\" + str(white_slider.value) + \" images, \" + str(target_number_of_photons_per_pixel) + \" photons per pixel)\")\n",
    "img = plt.imshow(flat_field[0], cmap='gray', vmin=total_energy_MeV-0.05*total_energy_MeV, vmax=total_energy_MeV+0.05*total_energy_MeV)\n",
    "plt.tight_layout()\n",
    "plt.savefig(root_path + \"/Noise-CBCT/average-flat-field.png\", dpi=72)"
   ]
  },
  {
   "cell_type": "markdown",
   "metadata": {
    "id": "68eWET-hfg26"
   },
   "source": [
    "## Add the noise to the projections"
   ]
  },
  {
   "cell_type": "code",
   "execution_count": 42,
   "metadata": {
    "colab": {
     "base_uri": "https://localhost:8080/"
    },
    "id": "1NTRrP_vfg26",
    "outputId": "4641dda9-7ceb-49ae-bafb-00b3c95bf56a",
    "tags": []
   },
   "outputs": [
    {
     "name": "stdout",
     "output_type": "stream",
     "text": [
      "Projection 90 / 90\r"
     ]
    }
   ],
   "source": [
    "createDirectory(root_path + \"/Noise-CBCT/noiseless_projections\")\n",
    "\n",
    "raw_projections = []\n",
    "for i in range(number_of_angles):\n",
    "\n",
    "    print(\"Projection\", i + 1, \"/\", number_of_angles, end='\\r')\n",
    "\n",
    "    input_fname = raw_projection_output_dir + \"/projection-\" + '{0:04d}'.format(i+1) + \".tiff\"\n",
    "    output_fname = root_path + \"/Noise-CBCT/noiseless_projections/projection-\" + '{0:04d}'.format(i+1) + \".tiff\"\n",
    "    \n",
    "    # Load the raw projection in the RAM\n",
    "    x_ray_image_energy = imread(input_fname).astype(np.single)\n",
    "\n",
    "    # Save it\n",
    "    imwrite(output_fname, x_ray_image_energy)\n",
    "\n",
    "    # Add the Poisson noise\n",
    "    noise_image = getNoisyImage(x_ray_image_energy, target_number_of_photons_per_pixel)\n",
    "\n",
    "    # Flat-field\n",
    "    x_ray_image_energy = noise_image / flat_field[0]\n",
    "    raw_projections.append(x_ray_image_energy.astype(np.single))\n",
    "\n",
    "    # Overwrite the image\n",
    "    imwrite(input_fname, raw_projections[-1])"
   ]
  },
  {
   "cell_type": "markdown",
   "metadata": {
    "id": "eFvxDJ7qfg26"
   },
   "source": [
    "## CT reconstruction"
   ]
  },
  {
   "cell_type": "code",
   "execution_count": null,
   "metadata": {
    "id": "B0VxGc21JvWA",
    "tags": []
   },
   "outputs": [],
   "source": [
    "def reconstructFBPWithCIL(data, ig, use_plugins, verbose):\n",
    "    if verbose > 0: print(\"Parallel beam detected\")\n",
    "\n",
    "    \n",
    "    if has_tigre:\n",
    "        if verbose > 0: print(\"Backend: Tigre\")\n",
    "        if verbose > 0: print(\"Use plugin directly: \", use_plugins)\n",
    "\n",
    "        if use_plugins:\n",
    "            reconstruction:ImageData | None = FBP_plugin_tigre(ig,data.geometry)(data)\n",
    "        else:\n",
    "            reconstruction:ImageData | None = FBP_recons_cil(data, ig, backend=\"tigre\").run()\n",
    "            \n",
    "    else:\n",
    "        if verbose > 0: print(\"Backend: Astra-Toolbox\")\n",
    "        if verbose > 0: print(\"Use plugin directly: \", use_plugins)\n",
    "        \n",
    "        if use_plugins:\n",
    "            reconstruction:ImageData | None = FBP_plugin_astra(ig,data.geometry)(data)\n",
    "        else:\n",
    "            reconstruction:ImageData | None = FBP_recons_cil(data, ig, backend=\"astra\").run()\n",
    "\n",
    "    return reconstruction"
   ]
  },
  {
   "cell_type": "code",
   "execution_count": null,
   "metadata": {
    "id": "1M57Wm9CJvWA",
    "tags": []
   },
   "outputs": [],
   "source": [
    "def reconstructFDKWithCIL(data, ig, use_plugins, verbose):\n",
    "    if verbose > 0: print(\"Cone beam detected\")\n",
    "\n",
    "    # if has_tigre:\n",
    "    #     if verbose > 0: print(\"Backend: Tigre\")\n",
    "    #     reconstruction:ImageData | None = FDK(data, ig).run()\n",
    "    # else:\n",
    "    #     if verbose > 0: print(\"Backend: Astra-Toolbox\")\n",
    "    #     fbk = FDK_Flexible(ig, data.geometry)\n",
    "    #     fbk.set_input(data)\n",
    "    #     reconstruction:ImageData | None = fbk.get_output()\n",
    "\n",
    "    if has_tigre:\n",
    "        if verbose > 0: print(\"Backend: Tigre\")\n",
    "        if verbose > 0: print(\"Use plugin directly: \", use_plugins)\n",
    "\n",
    "        if use_plugins:\n",
    "            reconstruction:ImageData | None = FBP_plugin_tigre(ig,data.geometry)(data)\n",
    "        else:\n",
    "            reconstruction:ImageData | None = FDK_recons_cil(data, ig).run()\n",
    "    else:\n",
    "        if verbose > 0: print(\"Backend: Astra-Toolbox\")\n",
    "        if verbose > 0: print(\"Use plugin directly: \", use_plugins)\n",
    "\n",
    "        if use_plugins:\n",
    "            reconstruction:ImageData | None = FBP_plugin_astra(ig,data.geometry)(data)\n",
    "        else:\n",
    "            # reconstruction:ImageData | None = FDK_recons_cil(data, ig).run() # Not implemented for Astra\n",
    "            reconstruction:ImageData | None = None\n",
    "\n",
    "    return reconstruction"
   ]
  },
  {
   "cell_type": "code",
   "execution_count": null,
   "metadata": {
    "id": "yk5A-GNZJvWB",
    "tags": []
   },
   "outputs": [],
   "source": [
    "def reconstruct(JSON_fname, use_plugin=False, verbose=0):\n",
    "    import json\n",
    "    \n",
    "    # Opening JSON file\n",
    "    f = open(JSON_fname)\n",
    "\n",
    "    # returns JSON object as \n",
    "    # a dictionary\n",
    "    json_data = json.load(f)    \n",
    "    \n",
    "    data = None\n",
    "    reconstruction = None\n",
    "    \n",
    "    source_shape = json_data[\"Source\"][\"Shape\"]\n",
    "\n",
    "    if verbose > 0:\n",
    "        print(\"Source shape:\", source_shape)\n",
    "\n",
    "    # Use CIL\n",
    "    if has_cil:\n",
    "    \n",
    "        if verbose > 0: print(\"Use CIL\")\n",
    "\n",
    "        reader = JSON2gVXRDataReader(file_name=JSON_fname)\n",
    "        data = reader.read()\n",
    "\n",
    "        print(\"data.geometry\", data.geometry)\n",
    "        \n",
    "        if has_tigre:\n",
    "            data.reorder(order='tigre')\n",
    "            # data.geometry.set_angles(-data.geometry.angles)\n",
    "        else:\n",
    "            data.reorder(\"astra\")\n",
    "            # data.geometry.set_angles(-data.geometry.angles)\n",
    "\n",
    "        ig = data.geometry.get_ImageGeometry()\n",
    "\n",
    "        data_corr = TransmissionAbsorptionConverter(white_level=data.max(), min_intensity=0.000001)(data)\n",
    "\n",
    "        if type(source_shape) == str:\n",
    "\n",
    "            if source_shape.upper() == \"PARALLELBEAM\" or source_shape.upper() == \"PARALLEL\":\n",
    "                reconstruction:ImageData | None = reconstructFBPWithCIL(data_corr, ig, use_plugin, verbose)\n",
    "\n",
    "            elif source_shape.upper() == \"POINTSOURCE\" or source_shape.upper() == \"POINT\" or source_shape.upper() == \"CONE\" or source_shape.upper() == \"CONEBEAM\":\n",
    "                reconstruction:ImageData | None = reconstructFDKWithCIL(data_corr, ig, use_plugin, verbose)\n",
    "\n",
    "            else:\n",
    "                raise ValueError(\"Unknown source shape:\" + source_shape)\n",
    "\n",
    "        elif type(source_shape) == type([]):\n",
    "            if source_shape[0].upper() == \"FOCALSPOT\":\n",
    "                reconstruction:ImageData | None = reconstructFDKWithCIL(data_corr, ig, use_plugin, verbose)\n",
    "\n",
    "            else:\n",
    "                raise ValueError(\"Unknown source shape:\" + source_shape)\n",
    "\n",
    "        else:\n",
    "            raise ValueError(\"Unknown source shape:\" + source_shape)    \n",
    "\n",
    "#     # Use ITK-RTK\n",
    "#     elif has_rtk:\n",
    "#         if verbose > 0: print(\"Use RTK\")\n",
    "\n",
    "#         if type(source_shape) == str:\n",
    "\n",
    "#             if source_shape.upper() == \"PARALLELBEAM\" or source_shape.upper() == \"PARALLEL\":\n",
    "#                 reconstruction = reconstructFBPWithRTK(verbose)\n",
    "                \n",
    "#             elif source_shape.upper() == \"POINTSOURCE\" or source_shape.upper() == \"POINT\" or source_shape.upper() == \"CONE\" or source_shape.upper() == \"CONEBEAM\":\n",
    "#                 reconstruction = reconstructFDKWithRTK(verbose)\n",
    "                \n",
    "#             else:\n",
    "#                 raise ValueError(\"Unknown source shape:\" + source_shape)\n",
    "\n",
    "#         elif type(source_shape) == type([]):\n",
    "#             if source_shape[0].upper() == \"FOCALSPOT\":\n",
    "#                 reconstruction = reconstructFDKWithRTK(verbose)\n",
    "\n",
    "#             else:\n",
    "#                 raise ValueError(\"Unknown source shape:\" + source_shape)\n",
    "\n",
    "#         else:\n",
    "#             raise ValueError(\"Unknown source shape:\" + source_shape)    \n",
    "\n",
    "    else:\n",
    "        raise ValueError(\"CIL and RTK are not installed\")    \n",
    "\n",
    "    return data, reconstruction"
   ]
  },
  {
   "cell_type": "code",
   "execution_count": null,
   "metadata": {
    "colab": {
     "base_uri": "https://localhost:8080/"
    },
    "id": "-TAZQHOgfg27",
    "outputId": "01608a46-2487-4c59-defb-2ab96b44a688",
    "tags": []
   },
   "outputs": [],
   "source": [
    "data, reconstruction = reconstruct(json_fname, False, verbose=1)"
   ]
  },
  {
   "cell_type": "code",
   "execution_count": null,
   "metadata": {
    "id": "p2yOv5dffg27",
    "tags": []
   },
   "outputs": [],
   "source": [
    "if has_cil:\n",
    "    fig = show_geometry(data.geometry)\n",
    "    fig.save(root_path  + \"/Noise-CBCT/CT-geometry.png\", dpi=72)"
   ]
  },
  {
   "cell_type": "code",
   "execution_count": null,
   "metadata": {
    "id": "Tw-8_vLcfg28",
    "tags": []
   },
   "outputs": [],
   "source": [
    "if has_cil and has_cil_islider:\n",
    "    islicer(reconstruction, direction='vertical')"
   ]
  },
  {
   "cell_type": "code",
   "execution_count": null,
   "metadata": {
    "id": "Uvk8hIJQfg28",
    "tags": []
   },
   "outputs": [],
   "source": [
    "if has_cil and has_cil_islider:\n",
    "    islicer(reconstruction, direction='horizontal_x')"
   ]
  },
  {
   "cell_type": "code",
   "execution_count": null,
   "metadata": {
    "id": "uDGBfBuTsfGu",
    "tags": []
   },
   "outputs": [],
   "source": [
    "fname = root_path  + \"/Noise-CBCT/CT_in_mu.mha\""
   ]
  },
  {
   "cell_type": "code",
   "execution_count": null,
   "metadata": {
    "id": "0RE6Y4wkfg28",
    "tags": []
   },
   "outputs": [],
   "source": [
    "reconstruction_as_array = reconstruction.as_array()"
   ]
  },
  {
   "cell_type": "code",
   "execution_count": 43,
   "metadata": {
    "colab": {
     "base_uri": "https://localhost:8080/"
    },
    "id": "Lgo3QaZ-2oqj",
    "outputId": "f492085e-ac5e-4d5e-dd9e-2eb59877c27a",
    "tags": []
   },
   "outputs": [],
   "source": [
    "detector_size = np.array(gvxr.getDetectorSize(\"mm\"))\n",
    "number_of_pixels = np.array(gvxr.getDetectorNumberOfPixels())\n",
    "spacing = detector_size / number_of_pixels\n",
    "\n",
    "print(\"CT volume saved in\", fname)\n",
    "sitk_image = sitk.GetImageFromArray(reconstruction_as_array)\n",
    "sitk_image.SetSpacing([spacing[0], spacing[0], spacing[1]])\n",
    "sitk.WriteImage(sitk_image, fname, useCompression=True)"
   ]
  },
  {
   "cell_type": "code",
   "execution_count": null,
   "metadata": {
    "colab": {
     "base_uri": "https://localhost:8080/",
     "height": 461
    },
    "id": "xnu2RsiIfg28",
    "outputId": "754c8f5e-c6cc-402b-c225-07029c578639",
    "tags": []
   },
   "outputs": [],
   "source": [
    "fig, (ax1, ax2, ax3) = plt.subplots(1, 3, figsize = (20, 7))\n",
    "plt.suptitle(\"CT reconstruction with noise\")\n",
    "ax1.imshow(np.flip(reconstruction_as_array[ reconstruction_as_array.shape[0] // 2, :, :], axis=0), cmap='gray')\n",
    "ax2.imshow(np.flip(reconstruction_as_array[ :, reconstruction_as_array.shape[1] // 2, :], axis=0), cmap='gray')\n",
    "ax3.imshow(np.flip(reconstruction_as_array[ :, :, reconstruction_as_array.shape[2] // 2], axis=0), cmap='gray')\n",
    "plt.tight_layout()\n",
    "plt.savefig(root_path  + \"/Noise-CBCT/plotCT.png\", dpi=72)"
   ]
  },
  {
   "cell_type": "markdown",
   "metadata": {
    "id": "YrnU8I85r_Yo",
    "tags": []
   },
   "source": [
    "# Cleaning up\n",
    "\n",
    "Once we have finished it is good practice to clean up the OpenGL contexts and windows with the following command."
   ]
  },
  {
   "cell_type": "code",
   "execution_count": null,
   "metadata": {
    "id": "CHsXXmYBr_Yo",
    "tags": []
   },
   "outputs": [],
   "source": [
    "gvxr.terminate()"
   ]
  }
 ],
 "metadata": {
  "accelerator": "GPU",
  "colab": {
   "include_colab_link": true,
   "provenance": []
  },
  "gpuClass": "standard",
  "kernelspec": {
   "display_name": "Python 3 (ipykernel)",
   "language": "python",
   "name": "python3"
  },
  "language_info": {
   "codemirror_mode": {
    "name": "ipython",
    "version": 3
   },
   "file_extension": ".py",
   "mimetype": "text/x-python",
   "name": "python",
   "nbconvert_exporter": "python",
   "pygments_lexer": "ipython3",
   "version": "3.9.16"
  },
  "vscode": {
   "interpreter": {
    "hash": "7cb52200ce58d0990af40dfb29272ed58ebf24dc16709b96f71cbdb887d325ae"
   }
  },
  "widgets": {
   "application/vnd.jupyter.widget-state+json": {
    "01f3fb8e340d4a3493a319890f109bb3": {
     "model_module": "@jupyter-widgets/base",
     "model_module_version": "2.0.0",
     "model_name": "LayoutModel",
     "state": {
      "_model_module": "@jupyter-widgets/base",
      "_model_module_version": "2.0.0",
      "_model_name": "LayoutModel",
      "_view_count": null,
      "_view_module": "@jupyter-widgets/base",
      "_view_module_version": "2.0.0",
      "_view_name": "LayoutView",
      "align_content": null,
      "align_items": null,
      "align_self": null,
      "border_bottom": null,
      "border_left": null,
      "border_right": null,
      "border_top": null,
      "bottom": null,
      "display": null,
      "flex": null,
      "flex_flow": null,
      "grid_area": null,
      "grid_auto_columns": null,
      "grid_auto_flow": null,
      "grid_auto_rows": null,
      "grid_column": null,
      "grid_gap": null,
      "grid_row": null,
      "grid_template_areas": null,
      "grid_template_columns": null,
      "grid_template_rows": null,
      "height": null,
      "justify_content": null,
      "justify_items": null,
      "left": null,
      "margin": null,
      "max_height": null,
      "max_width": null,
      "min_height": null,
      "min_width": null,
      "object_fit": null,
      "object_position": null,
      "order": null,
      "overflow": null,
      "padding": null,
      "right": null,
      "top": null,
      "visibility": null,
      "width": null
     }
    },
    "0e7a4b183791436996ce34a900a53c96": {
     "model_module": "@jupyter-widgets/controls",
     "model_module_version": "2.0.0",
     "model_name": "IntSliderModel",
     "state": {
      "_dom_classes": [],
      "_model_module": "@jupyter-widgets/controls",
      "_model_module_version": "2.0.0",
      "_model_name": "IntSliderModel",
      "_view_count": null,
      "_view_module": "@jupyter-widgets/controls",
      "_view_module_version": "2.0.0",
      "_view_name": "IntSliderView",
      "behavior": "drag-tap",
      "continuous_update": true,
      "description": "Photons/pixels",
      "description_allow_html": false,
      "disabled": false,
      "layout": "IPY_MODEL_11ce6ac5a085474c8fa1398ddcc990e5",
      "max": 50000,
      "min": 10,
      "orientation": "horizontal",
      "readout": true,
      "readout_format": "d",
      "step": 10,
      "style": "IPY_MODEL_2fbe41439aba48f3a7a4b666f06e21af",
      "tabbable": null,
      "tooltip": null,
      "value": 5000
     }
    },
    "11ce6ac5a085474c8fa1398ddcc990e5": {
     "model_module": "@jupyter-widgets/base",
     "model_module_version": "2.0.0",
     "model_name": "LayoutModel",
     "state": {
      "_model_module": "@jupyter-widgets/base",
      "_model_module_version": "2.0.0",
      "_model_name": "LayoutModel",
      "_view_count": null,
      "_view_module": "@jupyter-widgets/base",
      "_view_module_version": "2.0.0",
      "_view_name": "LayoutView",
      "align_content": null,
      "align_items": null,
      "align_self": null,
      "border_bottom": null,
      "border_left": null,
      "border_right": null,
      "border_top": null,
      "bottom": null,
      "display": null,
      "flex": null,
      "flex_flow": null,
      "grid_area": null,
      "grid_auto_columns": null,
      "grid_auto_flow": null,
      "grid_auto_rows": null,
      "grid_column": null,
      "grid_gap": null,
      "grid_row": null,
      "grid_template_areas": null,
      "grid_template_columns": null,
      "grid_template_rows": null,
      "height": null,
      "justify_content": null,
      "justify_items": null,
      "left": null,
      "margin": null,
      "max_height": null,
      "max_width": null,
      "min_height": null,
      "min_width": null,
      "object_fit": null,
      "object_position": null,
      "order": null,
      "overflow": null,
      "padding": null,
      "right": null,
      "top": null,
      "visibility": null,
      "width": null
     }
    },
    "2fbe41439aba48f3a7a4b666f06e21af": {
     "model_module": "@jupyter-widgets/controls",
     "model_module_version": "2.0.0",
     "model_name": "SliderStyleModel",
     "state": {
      "_model_module": "@jupyter-widgets/controls",
      "_model_module_version": "2.0.0",
      "_model_name": "SliderStyleModel",
      "_view_count": null,
      "_view_module": "@jupyter-widgets/base",
      "_view_module_version": "2.0.0",
      "_view_name": "StyleView",
      "description_width": "",
      "handle_color": null
     }
    },
    "633fd8b97398408a917c4af60cabb693": {
     "model_module": "@jupyter-widgets/controls",
     "model_module_version": "2.0.0",
     "model_name": "VBoxModel",
     "state": {
      "_dom_classes": [
       "widget-interact"
      ],
      "_model_module": "@jupyter-widgets/controls",
      "_model_module_version": "2.0.0",
      "_model_name": "VBoxModel",
      "_view_count": null,
      "_view_module": "@jupyter-widgets/controls",
      "_view_module_version": "2.0.0",
      "_view_name": "VBoxView",
      "box_style": "",
      "children": [
       "IPY_MODEL_0e7a4b183791436996ce34a900a53c96",
       "IPY_MODEL_f46d3d33503a44cc8ff119d5f2b15af2"
      ],
      "layout": "IPY_MODEL_01f3fb8e340d4a3493a319890f109bb3",
      "tabbable": null,
      "tooltip": null
     }
    },
    "ab984751a2954de2ae59b79e006484fd": {
     "model_module": "@jupyter-widgets/base",
     "model_module_version": "2.0.0",
     "model_name": "LayoutModel",
     "state": {
      "_model_module": "@jupyter-widgets/base",
      "_model_module_version": "2.0.0",
      "_model_name": "LayoutModel",
      "_view_count": null,
      "_view_module": "@jupyter-widgets/base",
      "_view_module_version": "2.0.0",
      "_view_name": "LayoutView",
      "align_content": null,
      "align_items": null,
      "align_self": null,
      "border_bottom": null,
      "border_left": null,
      "border_right": null,
      "border_top": null,
      "bottom": null,
      "display": null,
      "flex": null,
      "flex_flow": null,
      "grid_area": null,
      "grid_auto_columns": null,
      "grid_auto_flow": null,
      "grid_auto_rows": null,
      "grid_column": null,
      "grid_gap": null,
      "grid_row": null,
      "grid_template_areas": null,
      "grid_template_columns": null,
      "grid_template_rows": null,
      "height": null,
      "justify_content": null,
      "justify_items": null,
      "left": null,
      "margin": null,
      "max_height": null,
      "max_width": null,
      "min_height": null,
      "min_width": null,
      "object_fit": null,
      "object_position": null,
      "order": null,
      "overflow": null,
      "padding": null,
      "right": null,
      "top": null,
      "visibility": null,
      "width": null
     }
    },
    "add0b8c430d542b8bd82b57679610029": {
     "model_module": "@jupyter-widgets/base",
     "model_module_version": "2.0.0",
     "model_name": "LayoutModel",
     "state": {
      "_model_module": "@jupyter-widgets/base",
      "_model_module_version": "2.0.0",
      "_model_name": "LayoutModel",
      "_view_count": null,
      "_view_module": "@jupyter-widgets/base",
      "_view_module_version": "2.0.0",
      "_view_name": "LayoutView",
      "align_content": null,
      "align_items": null,
      "align_self": null,
      "border_bottom": null,
      "border_left": null,
      "border_right": null,
      "border_top": null,
      "bottom": null,
      "display": null,
      "flex": null,
      "flex_flow": null,
      "grid_area": null,
      "grid_auto_columns": null,
      "grid_auto_flow": null,
      "grid_auto_rows": null,
      "grid_column": null,
      "grid_gap": null,
      "grid_row": null,
      "grid_template_areas": null,
      "grid_template_columns": null,
      "grid_template_rows": null,
      "height": null,
      "justify_content": null,
      "justify_items": null,
      "left": null,
      "margin": null,
      "max_height": null,
      "max_width": null,
      "min_height": null,
      "min_width": null,
      "object_fit": null,
      "object_position": null,
      "order": null,
      "overflow": null,
      "padding": null,
      "right": null,
      "top": null,
      "visibility": null,
      "width": null
     }
    },
    "ba038ec39d604523aafbea33085296c9": {
     "model_module": "@jupyter-widgets/controls",
     "model_module_version": "2.0.0",
     "model_name": "IntSliderModel",
     "state": {
      "_dom_classes": [],
      "_model_module": "@jupyter-widgets/controls",
      "_model_module_version": "2.0.0",
      "_model_name": "IntSliderModel",
      "_view_count": null,
      "_view_module": "@jupyter-widgets/controls",
      "_view_module_version": "2.0.0",
      "_view_name": "IntSliderView",
      "behavior": "drag-tap",
      "continuous_update": true,
      "description": "Number of flat images:",
      "description_allow_html": false,
      "disabled": false,
      "layout": "IPY_MODEL_add0b8c430d542b8bd82b57679610029",
      "max": 500,
      "min": 1,
      "orientation": "horizontal",
      "readout": true,
      "readout_format": "d",
      "step": 1,
      "style": "IPY_MODEL_f2c33468c1f5418180f189420cb067b0",
      "tabbable": null,
      "tooltip": null,
      "value": 25
     }
    },
    "f2c33468c1f5418180f189420cb067b0": {
     "model_module": "@jupyter-widgets/controls",
     "model_module_version": "2.0.0",
     "model_name": "SliderStyleModel",
     "state": {
      "_model_module": "@jupyter-widgets/controls",
      "_model_module_version": "2.0.0",
      "_model_name": "SliderStyleModel",
      "_view_count": null,
      "_view_module": "@jupyter-widgets/base",
      "_view_module_version": "2.0.0",
      "_view_name": "StyleView",
      "description_width": "",
      "handle_color": null
     }
    },
    "f46d3d33503a44cc8ff119d5f2b15af2": {
     "model_module": "@jupyter-widgets/output",
     "model_module_version": "1.0.0",
     "model_name": "OutputModel",
     "state": {
      "_dom_classes": [],
      "_model_module": "@jupyter-widgets/output",
      "_model_module_version": "1.0.0",
      "_model_name": "OutputModel",
      "_view_count": null,
      "_view_module": "@jupyter-widgets/output",
      "_view_module_version": "1.0.0",
      "_view_name": "OutputView",
      "layout": "IPY_MODEL_ab984751a2954de2ae59b79e006484fd",
      "msg_id": "",
      "outputs": [
       {
        "data": {
         "image/png": "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\n",
         "text/plain": "<Figure size 720x360 with 1 Axes>"
        },
        "metadata": {},
        "output_type": "display_data"
       }
      ],
      "tabbable": null,
      "tooltip": null
     }
    }
   }
  }
 },
 "nbformat": 4,
 "nbformat_minor": 4
}
