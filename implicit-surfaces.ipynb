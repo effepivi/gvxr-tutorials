{
 "cells": [
  {
   "cell_type": "code",
   "execution_count": 1,
   "id": "05f83bf2-cd10-43a9-80f3-d3eef7b43188",
   "metadata": {},
   "outputs": [
    {
     "name": "stderr",
     "output_type": "stream",
     "text": [
      "Mon May 13 17:37:13 2024 (WW) Spekpy is not installed, try Xpecgen instead.\n",
      "Mon May 13 17:37:13 2024 (WW) Xpecgen is not installed either.\n"
     ]
    }
   ],
   "source": [
    "from matplotlib import pyplot as plt\n",
    "from math import cos, sin, pi\n",
    "\n",
    "import numpy as np\n",
    "import SimpleITK as sitk\n",
    "from gvxrPython3 import gvxr\n",
    "\n",
    "import ipywidgets as widgets\n",
    "from IPython.display import display, clear_output\n"
   ]
  },
  {
   "cell_type": "code",
   "execution_count": 2,
   "id": "e3aed28c-2d65-40dd-a570-60cc62a8c417",
   "metadata": {},
   "outputs": [
    {
     "name": "stderr",
     "output_type": "stream",
     "text": [
      "Mon May 13 17:37:13 2024 ---- Create window (ID: -1)\n",
      "Mon May 13 17:37:13 2024 ---- Request an interactive OpenGL context\n",
      "Mon May 13 17:37:13 2024 ---- Initialise GLFW\n",
      "Mon May 13 17:37:13 2024 ---- Create an OpenGL window with a 3.2 context.\n",
      "Mon May 13 17:37:13 2024 ---- Make the window's context current\n",
      "Mon May 13 17:37:13 2024 ---- Initialise GLEW\n",
      "Mon May 13 17:37:13 2024 ---- OpenGL vendor: NVIDIA Corporation\n",
      "Mon May 13 17:37:13 2024 ---- OpenGL renderer: NVIDIA GeForce RTX 4060 Ti/PCIe/SSE2\n",
      "Mon May 13 17:37:13 2024 ---- OpenGL version: 3.2.0 NVIDIA 545.23.08\n",
      "Mon May 13 17:37:13 2024 ---- Use OpenGL 4.5.\n",
      "Mon May 13 17:37:13 2024 ---- Initialise the X-ray renderer if needed and if possible\n"
     ]
    },
    {
     "name": "stdout",
     "output_type": "stream",
     "text": [
      "Create an OpenGL context\n"
     ]
    }
   ],
   "source": [
    "# Create an OpenGL context\n",
    "print(\"Create an OpenGL context\")\n",
    "gvxr.createOpenGLContext();"
   ]
  },
  {
   "cell_type": "code",
   "execution_count": 3,
   "id": "44419f7a-5853-4942-b694-54a11de91a10",
   "metadata": {},
   "outputs": [
    {
     "name": "stdout",
     "output_type": "stream",
     "text": [
      "Set up the beam\n"
     ]
    }
   ],
   "source": [
    "# Create a source\n",
    "print(\"Set up the beam\")\n",
    "gvxr.setSourcePosition(-40.0,  0.0, 0.0, \"cm\");\n",
    "gvxr.usePointSource();\n",
    "#  For a parallel source, use gvxr.useParallelBeam();"
   ]
  },
  {
   "cell_type": "code",
   "execution_count": 4,
   "id": "31741631-7456-4438-8b75-d145c44fcde5",
   "metadata": {},
   "outputs": [],
   "source": [
    "# Set its spectrum, here a monochromatic beam\n",
    "# 1000 photons of 80 keV (i.e. 0.08 MeV) per ray\n",
    "gvxr.setMonoChromatic(0.08, \"MeV\", 1000);\n",
    "# The following is equivalent: gvxr.setMonoChromatic(80, \"keV\", 1000);"
   ]
  },
  {
   "cell_type": "code",
   "execution_count": 5,
   "id": "a2c7c685-6329-4255-8de2-b847d44da139",
   "metadata": {},
   "outputs": [
    {
     "name": "stdout",
     "output_type": "stream",
     "text": [
      "Set up the detector\n"
     ]
    },
    {
     "name": "stderr",
     "output_type": "stream",
     "text": [
      "Mon May 13 17:37:14 2024 ---- Initialise the renderer\n"
     ]
    }
   ],
   "source": [
    "# Set up the detector\n",
    "print(\"Set up the detector\");\n",
    "gvxr.setDetectorPosition(10.0, 0.0, 0.0, \"cm\");\n",
    "gvxr.setDetectorUpVector(0, 0, -1);\n",
    "gvxr.setDetectorNumberOfPixels(640, 320);\n",
    "gvxr.setDetectorPixelSize(0.5, 0.5, \"mm\");"
   ]
  },
  {
   "cell_type": "code",
   "execution_count": 6,
   "id": "b23a22e0-91ca-4d68-b734-3cd3d4e9c704",
   "metadata": {},
   "outputs": [],
   "source": [
    "number_of_voxels = np.array([150, 150, 150])\n",
    "spacing = np.array([0.5, 0.5, 0.5])\n",
    "\n",
    "volume_size = number_of_voxels * spacing\n",
    "\n",
    "iso_value = 4.5\n",
    "a_value = 20\n",
    "b_value = 15"
   ]
  },
  {
   "cell_type": "code",
   "execution_count": 7,
   "id": "93c99a78-6c58-46f4-95b7-21bb8a6c0902",
   "metadata": {},
   "outputs": [
    {
     "name": "stderr",
     "output_type": "stream",
     "text": [
      "Mon May 13 17:37:14 2024 (WW) ImplicitSurface points not found in g_implicit_surface_set.\n"
     ]
    }
   ],
   "source": [
    "gvxr.destroyImplicitSurface(\"points\");\n",
    "gvxr.createImplicitSurface(\"points\");\n",
    "\n",
    "gvxr.addControlPoint(\"points\", \n",
    "    0, -8, 0,\n",
    "    \"mm\",\n",
    "    \"META_BALL\",\n",
    "    a_value, b_value);\n",
    "\n",
    "gvxr.addControlPoint(\"points\", \n",
    "    0, 8, 0,\n",
    "    \"mm\",\n",
    "    \"META_BALL\",\n",
    "    a_value, b_value);"
   ]
  },
  {
   "cell_type": "code",
   "execution_count": 8,
   "id": "58995c87-9b98-466c-a90d-f2ed3c82fc7c",
   "metadata": {},
   "outputs": [
    {
     "name": "stderr",
     "output_type": "stream",
     "text": [
      "Mon May 13 17:37:14 2024 (WW) ImplicitSurface lines not found in g_implicit_surface_set.\n"
     ]
    }
   ],
   "source": [
    "gvxr.destroyImplicitSurface(\"lines\");\n",
    "gvxr.createImplicitSurface(\"lines\");\n",
    "\n",
    "gvxr.addControlLineSegment(\"lines\", \n",
    "    -20, 0, 0, 20, 0, 0,\n",
    "    \"mm\",\n",
    "    \"META_BALL\",\n",
    "    a_value, b_value);\n",
    "\n",
    "gvxr.addControlLineSegment(\"lines\", \n",
    "    0, -20, 0, 0, 20, 0,\n",
    "    \"mm\",\n",
    "    \"META_BALL\",\n",
    "    a_value, b_value);\n",
    "\n",
    "\n",
    "gvxr.addControlLineSegment(\"lines\", \n",
    "    0, 0, -20, 0, 0, 20,\n",
    "    \"mm\",\n",
    "    \"META_BALL\",\n",
    "    a_value, b_value);"
   ]
  },
  {
   "cell_type": "code",
   "execution_count": 9,
   "id": "f84c0cd5-12cd-416e-8081-a84dc05b541e",
   "metadata": {},
   "outputs": [],
   "source": [
    "def voxelise(a_value, b_value):\n",
    "    global volume_points, volume_lines\n",
    "\n",
    "    \n",
    "    for implicit_surface in gvxr.getImplicitSurfaceLabelSet():\n",
    "\n",
    "        for point_id in range(gvxr.getNumberOfControlPoints(implicit_surface)):\n",
    "            gvxr.setControlPointParameters(implicit_surface, point_id, \"META_BALL\", a_value, b_value);\n",
    "                              \n",
    "        for line_id in range(gvxr.getNumberOfControlLineSegments(implicit_surface)):\n",
    "            gvxr.setControlLineSegmentParameters(implicit_surface, line_id, \"META_BALL\", a_value, b_value);\n",
    "\n",
    "        gvxr.voxelise(implicit_surface,\n",
    "                      number_of_voxels[0], number_of_voxels[1], number_of_voxels[2],\n",
    "                      0, 0, 0,\n",
    "                      spacing[0], spacing[1], spacing[2],\n",
    "                      \"mm\");"
   ]
  },
  {
   "cell_type": "code",
   "execution_count": 10,
   "id": "bbdabfed-c732-4bfb-b2fb-91600b5a12ad",
   "metadata": {},
   "outputs": [],
   "source": [
    "def updateVolumeCallback(s):\n",
    "    global volume_points, volume_lines\n",
    "    voxelise(a_slider.value, b_slider.value)\n",
    "    updateMeshCallback(iso_value_slider.value)\n",
    "\n",
    "\n",
    "def updateMeshCallback(t):\n",
    "    \n",
    "    iso_value = iso_value_slider.value\n",
    "\n",
    "    gvxr.removePolygonMeshesFromSceneGraph()\n",
    "\n",
    "    gvxr.createMeshFromImplicitSurface(\"points\", iso_value);\n",
    "    gvxr.setColor(\"points\", 0.0, 1.0, 0.0, 0.5)\n",
    "\n",
    "    gvxr.translateNode(\"points\", 0, 0, 5, \"cm\");\n",
    "    gvxr.setMixture(\"points\", \"Ti90Al6V4\")\n",
    "    gvxr.setDensity(\"points\", 4.43, \"g/cm3\")\n",
    "    gvxr.addPolygonMeshAsInnerSurface(\"points\")    \n",
    "\n",
    "    gvxr.createMeshFromImplicitSurface(\"lines\", iso_value);\n",
    "    gvxr.setColor(\"lines\", 1.0, 0.0, 0.0, 0.5)\n",
    "    gvxr.translateNode(\"lines\", 0, 0, -5, \"cm\");\n",
    "    gvxr.setMixture(\"lines\", \"Ti90Al6V4\")\n",
    "    gvxr.setDensity(\"lines\", 4.43, \"g/cm3\")\n",
    "    gvxr.addPolygonMeshAsInnerSurface(\"lines\")    \n",
    "\n",
    "    # Update the visualisation window\n",
    "    gvxr.displayScene()\n",
    "\n",
    "    # Compute an X-ray image\n",
    "    # We convert the array in a Numpy structure and store the data using single-precision floating-point numbers.\n",
    "    try:\n",
    "        if gvxr.getNumberOfPrimitives(\"points\") or gvxr.getNumberOfPrimitives(\"lines\"):\n",
    "            gvxr.computeXRayImage();\n",
    "\n",
    "            # Update the visualisation window\n",
    "            gvxr.displayScene()\n",
    "\n",
    "    except:\n",
    "        print(\"An exception occurred\")\n",
    "\n",
    "    with output:\n",
    "        output.clear_output()\n",
    "\n",
    "        fig = plt.figure()\n",
    "        ax = fig.add_subplot(1, 1, 1)\n",
    "        ax.imshow(gvxr.takeScreenshot())\n",
    "\n",
    "        plt.show()"
   ]
  },
  {
   "cell_type": "code",
   "execution_count": 11,
   "id": "91304875-dc54-4599-bca4-068f1193e1c9",
   "metadata": {},
   "outputs": [],
   "source": [
    "%matplotlib widget\n",
    "fig = None\n",
    "ax = None\n",
    "\n",
    "min_iso_value = 0\n",
    "max_iso_value = a_value\n",
    "iso_value_slider = widgets.FloatSlider(min=min_iso_value, max=max_iso_value, step=(max_iso_value - min_iso_value) / 100.0, value=iso_value)\n",
    "\n",
    "a_slider = widgets.FloatSlider(min=1, max=40, step=0.1, value=a_value)\n",
    "b_slider = widgets.FloatSlider(min=1, max=20, step=0.1, value=b_value)\n",
    "\n",
    "output = widgets.Output(layout=widgets.Layout(height='600px'))"
   ]
  },
  {
   "cell_type": "code",
   "execution_count": 12,
   "id": "95109e96-2ee1-4940-a0c8-5e51a0665b1a",
   "metadata": {},
   "outputs": [],
   "source": [
    "# Generate a previous\n",
    "updateVolumeCallback(None)"
   ]
  },
  {
   "cell_type": "code",
   "execution_count": 13,
   "id": "65b82abd-a44b-49a8-9102-625f077b7844",
   "metadata": {},
   "outputs": [],
   "source": [
    "gvxr.displayScene()\n",
    "gvxr.setZoom(687.4293212890625)\n",
    "gvxr.setSceneRotationMatrix((-0.4380485713481903,\n",
    "     0.2018914669752121,\n",
    "     -0.8759871125221252,\n",
    "     0.0,\n",
    "     -0.8969288468360901,\n",
    "     -0.03282521665096283,\n",
    "     0.4409559369087219,\n",
    "     0.0,\n",
    "     0.06027056649327278,\n",
    "     0.9788579344749451,\n",
    "     0.19546110928058624,\n",
    "     0.0,\n",
    "     0.0,\n",
    "     0.0,\n",
    "     0.0,\n",
    "     1.0)\n",
    ")\n",
    "gvxr.displayScene()"
   ]
  },
  {
   "cell_type": "code",
   "execution_count": 14,
   "id": "2e278d4f-3a52-4152-bbd2-985c2d9add04",
   "metadata": {},
   "outputs": [],
   "source": [
    "with output:\n",
    "    output.clear_output()\n",
    "\n",
    "    fig = plt.figure()\n",
    "    ax = fig.add_subplot(1, 1, 1)\n",
    "    ax.imshow(gvxr.takeScreenshot())\n",
    "\n",
    "    plt.show()"
   ]
  },
  {
   "cell_type": "code",
   "execution_count": 15,
   "id": "0d60749f-7997-4509-b7f4-582bed6dc28c",
   "metadata": {},
   "outputs": [],
   "source": [
    "# gvxr.renderLoop()"
   ]
  },
  {
   "cell_type": "code",
   "execution_count": 16,
   "id": "8b599e36-bc5d-4728-949d-0b8c7e607fae",
   "metadata": {},
   "outputs": [
    {
     "data": {
      "application/vnd.jupyter.widget-view+json": {
       "model_id": "bcfbc09ce4cd453eafa96c189fe7ab96",
       "version_major": 2,
       "version_minor": 0
      },
      "text/plain": [
       "HBox(children=(FloatSlider(value=20.0, max=40.0, min=1.0), FloatSlider(value=15.0, max=20.0, min=1.0), FloatSl…"
      ]
     },
     "metadata": {},
     "output_type": "display_data"
    },
    {
     "data": {
      "application/vnd.jupyter.widget-view+json": {
       "model_id": "a2d79bab25234e29bb5b6ca9b0d7ca77",
       "version_major": 2,
       "version_minor": 0
      },
      "text/plain": [
       "Output(layout=Layout(height='600px'))"
      ]
     },
     "metadata": {},
     "output_type": "display_data"
    }
   ],
   "source": [
    "display(widgets.HBox((a_slider,b_slider,iso_value_slider)))\n",
    "display(output)\n",
    "\n",
    "a_slider.observe(updateVolumeCallback, 'value')\n",
    "b_slider.observe(updateVolumeCallback, 'value')\n",
    "iso_value_slider.observe(updateMeshCallback, 'value')"
   ]
  },
  {
   "cell_type": "code",
   "execution_count": 17,
   "id": "04f2d89f-4b6b-44a1-8b92-cff59f132f55",
   "metadata": {},
   "outputs": [],
   "source": [
    "voxelise(a_slider.value, b_slider.value)\n",
    "\n",
    "volume_points = np.array(gvxr.getLastVoxelisation(\"points\"));\n",
    "volume_lines = np.array(gvxr.getLastVoxelisation(\"lines\"));"
   ]
  },
  {
   "cell_type": "code",
   "execution_count": 18,
   "id": "15171f69-ce36-441a-ac87-f130ee2ae007",
   "metadata": {},
   "outputs": [],
   "source": [
    "sitk_image = sitk.GetImageFromArray(volume_points);\n",
    "sitk_image.SetSpacing(spacing);\n",
    "sitk.WriteImage(sitk_image, \"output_data/implicit_function-points.mha\")"
   ]
  },
  {
   "cell_type": "code",
   "execution_count": 19,
   "id": "9c5f2f93-7c5f-4516-b4a9-4b6c103781cc",
   "metadata": {},
   "outputs": [],
   "source": [
    "sitk_image = sitk.GetImageFromArray(volume_lines);\n",
    "sitk_image.SetSpacing(spacing);\n",
    "sitk.WriteImage(sitk_image, \"output_data/implicit_function-lines.mha\")"
   ]
  },
  {
   "cell_type": "code",
   "execution_count": 20,
   "id": "ebf810a7-1179-4840-8ba9-ed3f1ec12d9e",
   "metadata": {},
   "outputs": [],
   "source": [
    "gvxr.saveSTLfile(\"lines\", \"output_data/lines.stl\")\n",
    "gvxr.saveSTLfile(\"points\", \"output_data/points.stl\")"
   ]
  },
  {
   "cell_type": "code",
   "execution_count": null,
   "id": "e8bdf439-04fa-49d0-ad2a-6c36de309094",
   "metadata": {},
   "outputs": [],
   "source": []
  }
 ],
 "metadata": {
  "kernelspec": {
   "display_name": "Python 3 (ipykernel)",
   "language": "python",
   "name": "python3"
  },
  "language_info": {
   "codemirror_mode": {
    "name": "ipython",
    "version": 3
   },
   "file_extension": ".py",
   "mimetype": "text/x-python",
   "name": "python",
   "nbconvert_exporter": "python",
   "pygments_lexer": "ipython3",
   "version": "3.10.13"
  }
 },
 "nbformat": 4,
 "nbformat_minor": 5
}
