{
 "cells": [
  {
   "cell_type": "code",
   "execution_count": 1,
   "id": "05f83bf2-cd10-43a9-80f3-d3eef7b43188",
   "metadata": {},
   "outputs": [
    {
     "name": "stderr",
     "output_type": "stream",
     "text": [
      "Thu May  9 17:23:20 2024 (WW) Spekpy is not installed, try Xpecgen instead.\n",
      "Thu May  9 17:23:20 2024 (WW) Xpecgen is not installed either.\n"
     ]
    }
   ],
   "source": [
    "from matplotlib import pyplot as plt\n",
    "from math import cos, sin, pi\n",
    "\n",
    "import numpy as np\n",
    "import SimpleITK as sitk\n",
    "from gvxrPython3 import gvxr"
   ]
  },
  {
   "cell_type": "code",
   "execution_count": 2,
   "id": "1f704bb1-b625-4c09-a364-3b5cde2f8d44",
   "metadata": {},
   "outputs": [],
   "source": [
    "angle = pi * 2 / 3\n",
    "half_length = 10\n",
    "a = [-half_length, -half_length, 0]\n",
    "b = [ half_length, -half_length, 0]\n",
    "c = [ half_length,  half_length, 0]\n",
    "d = [-half_length,  half_length, 0]"
   ]
  },
  {
   "cell_type": "code",
   "execution_count": 3,
   "id": "b6a9f196-5f91-46cc-b74f-d5179bdf2fb7",
   "metadata": {},
   "outputs": [
    {
     "data": {
      "text/plain": [
       "(-15.0, 15.0)"
      ]
     },
     "execution_count": 3,
     "metadata": {},
     "output_type": "execute_result"
    },
    {
     "data": {
      "image/png": "[encoded data removed]",
      "text/plain": [
       "<Figure size 500x500 with 1 Axes>"
      ]
     },
     "metadata": {},
     "output_type": "display_data"
    }
   ],
   "source": [
    "plt.figure(figsize=(5,5))\n",
    "plt.scatter(a[0], a[1])\n",
    "plt.scatter(b[0], b[1])\n",
    "plt.scatter(c[0], c[1])\n",
    "plt.scatter(d[0], d[1])\n",
    "plt.xlim(-half_length - 5, half_length + 5)\n",
    "plt.ylim(-half_length - 5, half_length + 5)"
   ]
  },
  {
   "cell_type": "code",
   "execution_count": 4,
   "id": "b23a22e0-91ca-4d68-b734-3cd3d4e9c704",
   "metadata": {},
   "outputs": [
    {
     "name": "stdout",
     "output_type": "stream",
     "text": [
      "Control point: -10, -10, 0 META_BALL 10   20\n",
      "Control point: 10, -10, 0 META_BALL 10   20\n",
      "Control point: 10, 10, 0 META_BALL 10   20\n",
      "Control point: -10, 10, 0 META_BALL 10   20\n"
     ]
    }
   ],
   "source": [
    "number_of_voxels = [150, 150, 150]\n",
    "spacing = 0.5, 0.5, 0.5\n",
    "volume_points = np.array(gvxr.computeDensity(number_of_voxels[0], number_of_voxels[1], number_of_voxels[2],\n",
    "                             0, 0, 0,\n",
    "                             spacing[0], spacing[1], spacing[2],\n",
    "                             \"mm\",\n",
    "                             [a[0], a[1], a[2], b[0], b[1], b[2], c[0], c[1], c[2], d[0], d[1], d[2]],\n",
    "                             [\"METABALL\", \"METABALL\", \"METABALL\", \"METABALL\"],\n",
    "                             [10, 20, 10, 20, 10, 20, 10, 20],\n",
    "                             [], [], []));\n",
    "\n",
    "volume_points -= volume_points.min()\n",
    "volume_points /= volume_points.max()\n",
    "volume_points *= 2\n",
    "volume_points -= 1\n",
    "volume_points *= 30000\n",
    "volume_points = volume_points.astype(np.int16)"
   ]
  },
  {
   "cell_type": "code",
   "execution_count": 5,
   "id": "1c3a567b-5277-4e58-b025-cd264c3b9138",
   "metadata": {},
   "outputs": [],
   "source": [
    "sitk_image = sitk.GetImageFromArray(volume_points);\n",
    "sitk_image.SetSpacing(spacing);\n",
    "sitk.WriteImage(sitk_image, \"output_data/implicit_function-points.mha\")"
   ]
  },
  {
   "cell_type": "code",
   "execution_count": 6,
   "id": "ad928a7a-e6aa-486d-9536-9a7a36c03568",
   "metadata": {},
   "outputs": [
    {
     "name": "stdout",
     "output_type": "stream",
     "text": [
      "Control point: 0, 0, 0 META_BALL 15   1\n"
     ]
    }
   ],
   "source": [
    "number_of_voxels = [150, 150, 150]\n",
    "spacing = 0.5, 0.5, 0.5\n",
    "volume_lines = np.array(gvxr.computeDensity(number_of_voxels[0], number_of_voxels[1], number_of_voxels[2],\n",
    "                             0, 0, 0,\n",
    "                             spacing[0], spacing[1], spacing[2],\n",
    "                             \"mm\",\n",
    "                             [0, 0, 0], [\"METABALL\"], [15, 1],\n",
    "                             \n",
    "                             [\n",
    "                                  a[0], a[1], a[2], b[0], b[1], b[2], \n",
    "                                  b[0], b[1], b[2], c[0], c[1], c[2], \n",
    "                                  c[0], c[1], c[2], d[0], d[1], d[2],\n",
    "                                  d[0], d[1], d[2], a[0], a[1], a[2]\n",
    "                             ],\n",
    "                                 \n",
    "                             [\"METABALL\", \"METABALL\", \"METABALL\", \"METABALL\", \"METABALL\"],\n",
    "                             [10, 20, 10, 20, 10, 20, 10, 20]));\n",
    "\n",
    "volume_lines -= volume_lines.min()\n",
    "volume_lines /= volume_lines.max()\n",
    "volume_lines *= 2\n",
    "volume_lines -= 1\n",
    "volume_lines *= 30000\n",
    "volume_lines = volume_lines.astype(np.int16)"
   ]
  },
  {
   "cell_type": "code",
   "execution_count": 7,
   "id": "baa94e1e-6b49-4c53-83fd-bb01559b8d5d",
   "metadata": {},
   "outputs": [],
   "source": [
    "sitk_image = sitk.GetImageFromArray(volume_lines);\n",
    "sitk_image.SetSpacing(spacing);\n",
    "sitk.WriteImage(sitk_image, \"output_data/implicit_function-lines.mha\")"
   ]
  },
  {
   "cell_type": "code",
   "execution_count": 8,
   "id": "e3aed28c-2d65-40dd-a570-60cc62a8c417",
   "metadata": {},
   "outputs": [
    {
     "name": "stdout",
     "output_type": "stream",
     "text": [
      "Create an OpenGL context\n"
     ]
    },
    {
     "name": "stderr",
     "output_type": "stream",
     "text": [
      "Thu May  9 17:23:22 2024 ---- Create window (ID: -1)\n",
      "Thu May  9 17:23:22 2024 ---- Request an interactive OpenGL context\n",
      "Thu May  9 17:23:22 2024 ---- Initialise GLFW\n",
      "Thu May  9 17:23:22 2024 ---- Create an OpenGL window with a 3.2 context.\n",
      "Thu May  9 17:23:22 2024 ---- Make the window's context current\n",
      "Thu May  9 17:23:22 2024 ---- Initialise GLEW\n",
      "Thu May  9 17:23:22 2024 ---- OpenGL vendor: NVIDIA Corporation\n",
      "Thu May  9 17:23:22 2024 ---- OpenGL renderer: NVIDIA GeForce RTX 4060 Ti/PCIe/SSE2\n",
      "Thu May  9 17:23:22 2024 ---- OpenGL version: 3.2.0 NVIDIA 545.23.08\n",
      "Thu May  9 17:23:22 2024 ---- Use OpenGL 4.5.\n",
      "Thu May  9 17:23:22 2024 ---- Initialise the X-ray renderer if needed and if possible\n"
     ]
    }
   ],
   "source": [
    "# Create an OpenGL context\n",
    "print(\"Create an OpenGL context\")\n",
    "gvxr.createOpenGLContext();"
   ]
  },
  {
   "cell_type": "code",
   "execution_count": 9,
   "id": "44419f7a-5853-4942-b694-54a11de91a10",
   "metadata": {},
   "outputs": [
    {
     "name": "stdout",
     "output_type": "stream",
     "text": [
      "Set up the beam\n"
     ]
    }
   ],
   "source": [
    "# Create a source\n",
    "print(\"Set up the beam\")\n",
    "gvxr.setSourcePosition(-40.0,  0.0, 0.0, \"cm\");\n",
    "gvxr.usePointSource();\n",
    "#  For a parallel source, use gvxr.useParallelBeam();"
   ]
  },
  {
   "cell_type": "code",
   "execution_count": 10,
   "id": "31741631-7456-4438-8b75-d145c44fcde5",
   "metadata": {},
   "outputs": [],
   "source": [
    "# Set its spectrum, here a monochromatic beam\n",
    "# 1000 photons of 80 keV (i.e. 0.08 MeV) per ray\n",
    "gvxr.setMonoChromatic(0.08, \"MeV\", 1000);\n",
    "# The following is equivalent: gvxr.setMonoChromatic(80, \"keV\", 1000);"
   ]
  },
  {
   "cell_type": "code",
   "execution_count": 11,
   "id": "a2c7c685-6329-4255-8de2-b847d44da139",
   "metadata": {},
   "outputs": [
    {
     "name": "stdout",
     "output_type": "stream",
     "text": [
      "Set up the detector\n"
     ]
    },
    {
     "name": "stderr",
     "output_type": "stream",
     "text": [
      "Thu May  9 17:23:22 2024 ---- Initialise the renderer\n"
     ]
    }
   ],
   "source": [
    "# Set up the detector\n",
    "print(\"Set up the detector\");\n",
    "gvxr.setDetectorPosition(10.0, 0.0, 0.0, \"cm\");\n",
    "gvxr.setDetectorUpVector(0, 0, -1);\n",
    "gvxr.setDetectorNumberOfPixels(640, 320);\n",
    "gvxr.setDetectorPixelSize(0.5, 0.5, \"mm\");"
   ]
  },
  {
   "cell_type": "code",
   "execution_count": null,
   "id": "0d60749f-7997-4509-b7f4-582bed6dc28c",
   "metadata": {},
   "outputs": [],
   "source": [
    "gvxr.renderLoop()"
   ]
  },
  {
   "cell_type": "code",
   "execution_count": 12,
   "id": "0f1c3e6c-e277-404f-b2ff-5797f11d0503",
   "metadata": {},
   "outputs": [],
   "source": [
    "for i in range(0, 22000, 2000):\n",
    "\n",
    "    gvxr.removePolygonMeshesFromSceneGraph()\n",
    "    \n",
    "    iso_value = i\n",
    "    \n",
    "    gvxr.makeIsoSurface(\"points\",\n",
    "        iso_value,\n",
    "        volume_points.flatten(),\n",
    "        number_of_voxels[0], number_of_voxels[1], number_of_voxels[2],\n",
    "        spacing[0], spacing[1], spacing[2],\n",
    "        \"cm\");\n",
    "\n",
    "    gvxr.makeIsoSurface(\"lines\",\n",
    "        iso_value,\n",
    "        volume_lines.flatten(),\n",
    "        number_of_voxels[0], number_of_voxels[1], number_of_voxels[2],\n",
    "        spacing[0], spacing[1], spacing[2],\n",
    "        \"cm\");\n",
    "\n",
    "    gvxr.rotateNode(\"points\", 90, 0, 1, 0);\n",
    "    gvxr.rotateNode(\"lines\", -90, 0, 1, 0);\n",
    "\n",
    "    # Titanium Aluminum Vanadium Alloy\n",
    "    gvxr.setMixture(\"points\", \"Ti90Al6V4\")\n",
    "    gvxr.setDensity(\"points\", 4.43, \"g/cm3\")\n",
    "\n",
    "    gvxr.setMixture(\"lines\", \"Ti90Al6V4\")\n",
    "    gvxr.setDensity(\"lines\", 4.43, \"g/cm3\")\n",
    "    \n",
    "    gvxr.addPolygonMeshAsInnerSurface(\"points\")    \n",
    "    gvxr.addPolygonMeshAsInnerSurface(\"lines\")    \n",
    "\n",
    "    # Compute an X-ray image\n",
    "    # We convert the array in a Numpy structure and store the data using single-precision floating-point numbers.\n",
    "    x_ray_image = np.array(gvxr.computeXRayImage()).astype(np.single)\n",
    "    \n",
    "    # Update the visualisation window\n",
    "    gvxr.displayScene()"
   ]
  },
  {
   "cell_type": "code",
   "execution_count": null,
   "id": "56e100fe-f922-4f13-9be0-57e6cb56a7a5",
   "metadata": {},
   "outputs": [],
   "source": []
  }
 ],
 "metadata": {
  "kernelspec": {
   "display_name": "Python 3 (ipykernel)",
   "language": "python",
   "name": "python3"
  },
  "language_info": {
   "codemirror_mode": {
    "name": "ipython",
    "version": 3
   },
   "file_extension": ".py",
   "mimetype": "text/x-python",
   "name": "python",
   "nbconvert_exporter": "python",
   "pygments_lexer": "ipython3",
   "version": "3.10.13"
  }
 },
 "nbformat": 4,
 "nbformat_minor": 5
}
