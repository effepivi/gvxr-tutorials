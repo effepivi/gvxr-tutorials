{
 "cells": [
  {
   "cell_type": "markdown",
   "metadata": {
    "colab_type": "text",
    "id": "view-in-github"
   },
   "source": [
    "<a href=\"https://colab.research.google.com/github/effepivi/gvxr-tutorials/blob/main/Noise-CBCT.ipynb\" target=\"_parent\"><img src=\"https://colab.research.google.com/assets/colab-badge.svg\" alt=\"Open In Colab\"/></a>"
   ]
  },
  {
   "cell_type": "markdown",
   "metadata": {
    "id": "8sa2rJkkfg2p"
   },
   "source": [
    "# Session 8\n",
    "\n",
    "## Demo to showcase the result of the integration between ![gVXR](https://github.com/effepivi/gvxr-tutorials/blob/main/img/gvxr_logo.png?raw=1) and ![CIL](https://ccpi.ac.uk/wp-content/uploads/2022/11/CIL-logo-RGB.svg) that we developed during the *CIL Training and Bring Your Own Data User Hackathon* at Cambridge University.\n",
    "## Author: Franck Vidal\n",
    "\n",
    "(version 1.0, 23 Mar 2023)"
   ]
  },
  {
   "cell_type": "markdown",
   "metadata": {
    "id": "lO3Yh237fg2r"
   },
   "source": [
    "# Aims of this session\n",
    "\n",
    "1. Simulate a CBCT scan acquisition using gVXR;\n",
    "2. Add Poisson noise corresponding to a given number of photons per pixel; and\n",
    "3. Reconstruct the CT volume using the [Core Imaging Library (CIL)](https://ccpi.ac.uk/cil/).\n",
    "\n",
    "\n",
    "In our simulation the source-to-object distance (SOD) is 1000mm, and the source-to-detector distance (SDD) is 1125mm. The beam spectrum is polychromatic. The voltage is 85 kV. The filtration is 0.1 mm of copper and 1 mm of aluminium. The energy response of the detector is considered. It mimics a 600-micron thick CsI scintillator. 15,000 photons per pixels are used. 600 projections of 512x512 pixels are taken.\n",
    "\n",
    "![Main parameters of the simulation](https://github.com/effepivi/gvxr-tutorials/blob/main/Noise-CBCT/pediatric-setup.png?raw=1)\n",
    "\n"
   ]
  },
  {
   "cell_type": "markdown",
   "metadata": {
    "id": "01SeDuOYfg2s"
   },
   "source": [
    "# Main steps\n",
    "\n",
    "1. Download the phantom data. Anthropomorphic data is used. It corresponds to a 5-year old boy. \n",
    "\n",
    "2. Extract surface meshes from the voxelied phantom.\n",
    "\n",
    "3. Simulate an X-ray projection of a Welsh dragon made of quartz\n",
    "\n",
    "![Simulation of an X-ray projection of a Welsh dragon made of quartz](https://github.com/effepivi/gvxr-tutorials/blob/main/Noise-CBCT/visualisation.png?raw=1)\n",
    "\n",
    "4. Select the number of incident photons per pixel\n",
    "\n",
    "5. Add the corresponding amount of Photonic noise \n",
    "\n",
    "![X-ray projection with Poisson noise](https://github.com/effepivi/gvxr-tutorials/blob/main/Noise-CBCT/noisy-projection.png?raw=1)\n",
    "\n",
    "6. Simulate a CT scan\n",
    "\n",
    "![Scanning eometry](https://github.com/effepivi/gvxr-tutorials/blob/main/Noise-CBCT/CT-geometry.png?raw=12)\n",
    "\n",
    "7. Create the flat-field images with the corresponding amount of Photonic noise\n",
    "\n",
    "![Average flat-field image with Poisson noise](https://github.com/effepivi/gvxr-tutorials/blob/main/Noise-CBCT/average-flat-field.png?raw=1)\n",
    "\n",
    "8. Reconstruct the CT volume using the [Core Imaging Library (CIL)](https://ccpi.ac.uk/cil/)\n",
    "\n",
    "![Visualisation of the reconstructed 3D volume](https://github.com/effepivi/gvxr-tutorials/blob/main/Noise-CBCT/plotCT.png?raw=1)"
   ]
  },
  {
   "cell_type": "code",
   "execution_count": null,
   "metadata": {
    "colab": {
     "base_uri": "https://localhost:8080/"
    },
    "id": "afBQI7ecKAJI",
    "outputId": "c0e7646b-4b45-4358-b56b-a968c3d44bd3",
    "tags": []
   },
   "outputs": [],
   "source": [
    "from notebook import notebookapp\n",
    "servers = list(notebookapp.list_running_servers())\n",
    "\n",
    "use_colab = False\n",
    "\n",
    "if len(servers) > 0:\n",
    "    !pip install -q condacolab\n",
    "    import condacolab\n",
    "    condacolab.install()\n",
    "    use_colab = True"
   ]
  },
  {
   "cell_type": "markdown",
   "metadata": {
    "id": "E-UslIEgsMO6"
   },
   "source": [
    "# Install gVXR, k3D, imagecodecs xpecgen, spekpy and SimpleITK\n",
    "\n",
    "Run the cell below\n",
    "\n",
    "```python\n",
    "!pip3 install gvxr k3d imagecodecs xpecgen git+https://bitbucket.org/spekpy/spekpy_release.git SimpleITK itk-rtk\n",
    "```"
   ]
  },
  {
   "cell_type": "code",
   "execution_count": null,
   "metadata": {
    "colab": {
     "base_uri": "https://localhost:8080/"
    },
    "id": "nIwHxIersKFV",
    "outputId": "cdd2a326-b6ab-48c5-daaa-47fda4758021",
    "tags": []
   },
   "outputs": [],
   "source": [
    "if use_colab:\n",
    "    !pip3 install -q gvxr k3d imagecodecs xpecgen git+https://bitbucket.org/spekpy/spekpy_release.git SimpleITK itk-rtk vtk\n",
    "    !mamba install -c conda-forge -c intel -c astra-toolbox -c ccpi cil numpy astra-toolbox --quiet"
   ]
  },
  {
   "cell_type": "code",
   "execution_count": null,
   "metadata": {
    "id": "gT91YoKWr_X7",
    "tags": []
   },
   "outputs": [],
   "source": [
    "%matplotlib inline"
   ]
  },
  {
   "cell_type": "markdown",
   "metadata": {
    "id": "wj_CU8PmKSV_"
   },
   "source": [
    "Retrieve the path of the notebook. On Macos it may change"
   ]
  },
  {
   "cell_type": "code",
   "execution_count": null,
   "metadata": {
    "id": "9Dso65jbKSV_",
    "tags": []
   },
   "outputs": [],
   "source": [
    "import pathlib\n",
    "root_path = str(pathlib.Path().resolve())"
   ]
  },
  {
   "cell_type": "markdown",
   "metadata": {
    "id": "4Fz5nj7Jfg2t"
   },
   "source": [
    "# Copy files\n",
    "\n",
    "This step is needed when the notebook is executed using Goggle Collaborative"
   ]
  },
  {
   "cell_type": "code",
   "execution_count": null,
   "metadata": {
    "colab": {
     "base_uri": "https://localhost:8080/"
    },
    "id": "uOAnJr8dcSDP",
    "outputId": "30358851-287b-46d9-9dde-f1a02819aadf",
    "tags": []
   },
   "outputs": [],
   "source": [
    "# For Google Collab\n",
    "import os\n",
    "import urllib.request\n",
    "\n",
    "def createDirectory(directory):\n",
    "    # The directory does not exist\n",
    "    if not os.path.exists(os.path.abspath(directory)):\n",
    "    \n",
    "        # Create the directory\n",
    "        os.mkdir(os.path.abspath(directory))\n",
    "\n",
    "def downloadFile(fname):\n",
    "    if not os.path.exists(fname):\n",
    "        base_url = \"https://github.com/effepivi/gvxr-tutorials/raw/main\"\n",
    "        url = base_url + \"/\" + fname\n",
    "        print(\"Download the polygon mesh (%s)\" % fname)\n",
    "        urllib.request.urlretrieve(url, fname)\n",
    "\n",
    "createDirectory(root_path + \"/JSON\")\n",
    "createDirectory(root_path + \"/Noise-CBCT\")\n",
    "createDirectory(root_path + \"/Noise-CBCT/meshes\")\n",
    "\n",
    "downloadFile(\"sitk2vtk.py\")\n",
    "downloadFile(\"JSON2gVXRDataReader.py\")\n",
    "downloadFile(\"JSON/Noise-CBCT.json\")\n",
    "downloadFile(\"energyResponseDetector.txt\")\n",
    "downloadFile(\"Noise-CBCT/spectrum85kV.txt\")\n",
    "downloadFile(\"Noise-CBCT/labels.dat\")\n",
    "downloadFile(\"Noise-CBCT/visualisation.png\")\n",
    "downloadFile(\"Noise-CBCT/CT-geometry.png\")"
   ]
  },
  {
   "cell_type": "code",
   "execution_count": null,
   "metadata": {
    "colab": {
     "base_uri": "https://localhost:8080/"
    },
    "id": "LVf5r2Cnfg2w",
    "outputId": "761c1a59-526c-40ca-c2d4-3be68a4052d8",
    "tags": []
   },
   "outputs": [],
   "source": [
    "import glob\n",
    "import zipfile\n",
    "\n",
    "import pandas as pd\n",
    "\n",
    "from IPython.display import display\n",
    "from IPython.display import Image\n",
    "\n",
    "import matplotlib.pyplot as plt # Plotting\n",
    "import numpy as np\n",
    "\n",
    "from tifffile import imread, imwrite\n",
    "\n",
    "from IPython.display import display\n",
    "from IPython.display import Image\n",
    "\n",
    "import SimpleITK as sitk\n",
    "\n",
    "import matplotlib # To plot images\n",
    "\n",
    "font = {'family' : 'serif',\n",
    "         'size'   : 10\n",
    "       }\n",
    "matplotlib.rc('font', **font)\n",
    "\n",
    "# Uncomment the line below to use LaTeX fonts\n",
    "# matplotlib.rc('text', usetex=True)\n",
    "\n",
    "has_rtk = True\n",
    "try:\n",
    "    import itk\n",
    "    from itk import RTK as rtk\n",
    "    print(\"RTK detected\")\n",
    "except:\n",
    "    has_rtk = False\n",
    "    print(\"RTK not detected\")\n",
    "\n",
    "has_cil = True\n",
    "try:\n",
    "    from cil.processors import TransmissionAbsorptionConverter\n",
    "    from cil.utilities.display import show_geometry, show2D\n",
    "\n",
    "    # FBP with Tigre or Astra\n",
    "    from cil.recon import FBP as FBP_recons_cil\n",
    "\n",
    "    # FDK with Tigre only\n",
    "    from cil.recon import FDK as FDK_recons_cil # Tigre only\n",
    "    \n",
    "    # Do not use\n",
    "    # from cil.plugins.astra.processors.FDK_Flexible import FDK_Flexible\n",
    "    \n",
    "    # FBP and FDK with Astra\n",
    "    from cil.plugins.astra import FBP as FBP_plugin_astra\n",
    "\n",
    "    print(\"CIL detected\")\n",
    "except:\n",
    "    has_cil = False\n",
    "    print(\"CIL not detected\")\n",
    "\n",
    "has_cil_islider = True\n",
    "try:\n",
    "    from cil.utilities.jupyter import islicer\n",
    "except:\n",
    "    has_cil_islider = False\n",
    "\n",
    "has_tigre = True\n",
    "try:\n",
    "    # FBP and FDK with Tigre\n",
    "    from cil.plugins.tigre import FBP as FBP_plugin_tigre\n",
    "    print(\"Tigre detected\")\n",
    "except:\n",
    "    has_tigre = False\n",
    "    print(\"Tigre not detected\")\n",
    "\n",
    "from ipywidgets import interact\n",
    "import ipywidgets as widgets\n",
    "\n",
    "import base64\n",
    "\n",
    "from gvxrPython3 import gvxr\n",
    "from gvxrPython3 import json2gvxr\n",
    "from gvxrPython3.utils import visualise\n",
    "from gvxrPython3.utils import plotScreenshot\n",
    "from gvxrPython3.utils import interactPlotPowerLaw # Plot the X-ray image using a Power law look-up table\n",
    "from gvxrPython3.utils import saveProjections # Plot the X-ray image in linear, log and power law scales\n",
    "\n",
    "from sitk2vtk import *\n",
    "\n",
    "if has_cil:\n",
    "    from JSON2gVXRDataReader import *"
   ]
  },
  {
   "cell_type": "markdown",
   "metadata": {
    "id": "5VxBT2KKfg2x"
   },
   "source": [
    "## Initialise GVXR using our JSON file"
   ]
  },
  {
   "cell_type": "code",
   "execution_count": null,
   "metadata": {
    "colab": {
     "base_uri": "https://localhost:8080/"
    },
    "id": "wR_3_q99fg2x",
    "outputId": "8f1ff03e-11ec-4ffd-c0a4-194558778a4e",
    "tags": []
   },
   "outputs": [],
   "source": [
    "json_fname = root_path + \"/JSON/Noise-CBCT.json\"\n",
    "json2gvxr.initGVXR(root_path + \"/JSON/Noise-CBCT.json\", renderer=\"EGL\")"
   ]
  },
  {
   "cell_type": "markdown",
   "metadata": {
    "id": "a48Sbk6kfg2x"
   },
   "source": [
    "## Create the output directory"
   ]
  },
  {
   "cell_type": "code",
   "execution_count": null,
   "metadata": {
    "colab": {
     "base_uri": "https://localhost:8080/"
    },
    "id": "SKUBFDkQfg2x",
    "outputId": "8a53ba97-8da3-4470-9e37-ab448408e664",
    "tags": []
   },
   "outputs": [],
   "source": [
    "raw_projection_output_dir = os.path.abspath(json2gvxr.getFilePath(\"../spectral\"))\n",
    "print(\"The raw projections were saved in\", raw_projection_output_dir)\n",
    "createDirectory(raw_projection_output_dir)"
   ]
  },
  {
   "cell_type": "markdown",
   "metadata": {
    "id": "ZDzLtvK1fg2y"
   },
   "source": [
    "## Load our detector"
   ]
  },
  {
   "cell_type": "code",
   "execution_count": null,
   "metadata": {
    "colab": {
     "base_uri": "https://localhost:8080/"
    },
    "id": "MOd2Mnm6fg2y",
    "outputId": "6f4cacc4-e04b-49f4-b6d6-edf778f871ae",
    "tags": []
   },
   "outputs": [],
   "source": [
    "json2gvxr.initDetector()"
   ]
  },
  {
   "cell_type": "code",
   "execution_count": null,
   "metadata": {
    "id": "z7Nb4cOyfg2y",
    "tags": []
   },
   "outputs": [],
   "source": [
    "number_of_rows = json2gvxr.params[\"Detector\"][\"NumberOfPixels\"][1]\n",
    "number_of_cols = json2gvxr.params[\"Detector\"][\"NumberOfPixels\"][0]"
   ]
  },
  {
   "cell_type": "markdown",
   "metadata": {
    "id": "mzBI6xu4fg20"
   },
   "source": [
    "## Load our source properties"
   ]
  },
  {
   "cell_type": "code",
   "execution_count": null,
   "metadata": {
    "colab": {
     "base_uri": "https://localhost:8080/"
    },
    "id": "jCAZhd27fg20",
    "outputId": "70e53270-2c26-4818-a47f-206efcb4d01d",
    "tags": []
   },
   "outputs": [],
   "source": [
    "json2gvxr.initSourceGeometry()"
   ]
  },
  {
   "cell_type": "code",
   "execution_count": null,
   "metadata": {
    "id": "z3VDjHp_fg20",
    "tags": []
   },
   "outputs": [],
   "source": [
    "spectrum, unit_of_energy, energy_set, bin_sets = json2gvxr.initSpectrum(verbose=0)\n",
    "gvxr.setNumberOfPhotons(50000)\n",
    "unit_of_energy = \"keV\"\n",
    "energy_set = gvxr.getEnergyBins(unit_of_energy)\n",
    "bin_sets = gvxr.getPhotonCountEnergyBins()"
   ]
  },
  {
   "cell_type": "code",
   "execution_count": null,
   "metadata": {
    "colab": {
     "base_uri": "https://localhost:8080/",
     "height": 365
    },
    "id": "MflvC7N3NRx7",
    "outputId": "16c4c35a-e71c-4bb5-a4c8-8967357bbe73",
    "tags": []
   },
   "outputs": [],
   "source": [
    "plt.figure(figsize=(10,5))\n",
    "plt.plot(energy_set, bin_sets)\n",
    "plt.xlabel(\"Energy [\" + unit_of_energy + \"]\")\n",
    "plt.ylabel(\"Photon count\")\n",
    "plt.title(\"Corresponding spectra\")"
   ]
  },
  {
   "cell_type": "code",
   "execution_count": null,
   "metadata": {},
   "outputs": [],
   "source": [
    "# gvxr.enablePoissonNoise();"
   ]
  },
  {
   "cell_type": "code",
   "execution_count": null,
   "metadata": {
    "tags": []
   },
   "outputs": [],
   "source": [
    "gvxr.setPhotonCountingBands(10, 90, \"keV\", 8)\n",
    "energy_bands = np.array(gvxr.getPhotonCountingBands(), dtype=np.single) / gvxr.getUnitOfEnergy(\"keV\")\n",
    "band_width = energy_bands[1] - energy_bands[0]"
   ]
  },
  {
   "cell_type": "markdown",
   "metadata": {
    "id": "nlXucI-oKSWH"
   },
   "source": [
    "## Create the surface meshes\n",
    "\n",
    "Download and extract the ZIP file."
   ]
  },
  {
   "cell_type": "code",
   "execution_count": null,
   "metadata": {
    "id": "Qk9HhWqkKSWH",
    "tags": []
   },
   "outputs": [],
   "source": [
    "if not os.path.exists(\"Noise-CBCT/Pediatric phantom.zip\"):\n",
    "    urllib.request.urlretrieve(\"https://drive.uca.fr/f/384a08b5f73244cf9ead/?dl=1\",\n",
    "                               root_path + \"/Noise-CBCT/Pediatric phantom.zip\")\n",
    "\n",
    "    with zipfile.ZipFile(root_path + \"/Noise-CBCT/Pediatric phantom.zip\",\"r\") as zip_ref:\n",
    "        zip_ref.extractall(root_path + \"/Noise-CBCT\")"
   ]
  },
  {
   "cell_type": "markdown",
   "metadata": {
    "id": "rV0GD6EXKSWI"
   },
   "source": [
    "Load the phantom"
   ]
  },
  {
   "cell_type": "code",
   "execution_count": null,
   "metadata": {
    "id": "7kPmT1KbKSWI",
    "tags": []
   },
   "outputs": [],
   "source": [
    "phantom = sitk.ReadImage(root_path + \"/Noise-CBCT/Pediatric phantom/Pediatric_model.mhd\")"
   ]
  },
  {
   "cell_type": "markdown",
   "metadata": {
    "id": "BhoBlp6HKSWI"
   },
   "source": [
    "Load the labels"
   ]
  },
  {
   "cell_type": "code",
   "execution_count": null,
   "metadata": {
    "id": "t3c34JLCKSWI",
    "tags": []
   },
   "outputs": [],
   "source": [
    "df = pd.read_csv(root_path + \"/Noise-CBCT/labels.dat\")"
   ]
  },
  {
   "cell_type": "markdown",
   "metadata": {
    "id": "eLjMGACjKSWI"
   },
   "source": [
    "Process every structure of the phantom"
   ]
  },
  {
   "cell_type": "code",
   "execution_count": null,
   "metadata": {
    "colab": {
     "base_uri": "https://localhost:8080/"
    },
    "id": "kOFpWYWIKSWJ",
    "outputId": "6b959de0-ea6f-4c97-8b42-c54077057386",
    "tags": []
   },
   "outputs": [],
   "source": [
    "meshes = []\n",
    "\n",
    "for threshold, organ in zip(df[\"Label\"], df[\"Organs\"]):\n",
    "\n",
    "    # Ignore air\n",
    "    if organ != \"Air\":\n",
    "\n",
    "        print(\"Process\", organ)\n",
    "        \n",
    "        mesh_fname = root_path + \"/Noise-CBCT/meshes/\" + organ + \".stl\"\n",
    "        meshes.append(mesh_fname)\n",
    "\n",
    "        # Only create the mesh if it does not exist\n",
    "        if not os.path.exists(mesh_fname):\n",
    "            \n",
    "            # Threshold the phantom\n",
    "            binary_image = (phantom == threshold)\n",
    "\n",
    "            # Smooth the binary segmentation\n",
    "            smoothed_binary_image = sitk.AntiAliasBinary(binary_image)\n",
    "                            \n",
    "            # Create a VTK image\n",
    "            vtkimg = sitk2vtk(smoothed_binary_image, centre=True)\n",
    "\n",
    "            vtk_mesh = extractSurface(vtkimg, 0)\n",
    "            writeSTL(vtk_mesh, mesh_fname)"
   ]
  },
  {
   "cell_type": "code",
   "execution_count": null,
   "metadata": {
    "id": "nYODy_vFKSWJ",
    "tags": []
   },
   "outputs": [],
   "source": [
    "del phantom"
   ]
  },
  {
   "cell_type": "markdown",
   "metadata": {
    "id": "ox205lfVfg20"
   },
   "source": [
    "## Load our samples"
   ]
  },
  {
   "cell_type": "code",
   "execution_count": null,
   "metadata": {
    "colab": {
     "base_uri": "https://localhost:8080/"
    },
    "id": "V8iTIXQafg21",
    "outputId": "67d6e6f2-4466-4060-aef1-e6090f00ff9f",
    "tags": []
   },
   "outputs": [],
   "source": [
    "json2gvxr.initSamples(root_path + \"/JSON/Noise-CBCT.json\", verbose=1)"
   ]
  },
  {
   "cell_type": "code",
   "execution_count": null,
   "metadata": {
    "colab": {
     "base_uri": "https://localhost:8080/"
    },
    "id": "iqc0j-Q6fg21",
    "outputId": "58a0a953-c3c8-4ea5-fb05-3861b8625233",
    "tags": []
   },
   "outputs": [],
   "source": [
    "gvxr.moveToCentre()\n",
    "\n",
    "ID = \"root\"\n",
    "min_x, min_y, min_z, max_x, max_y, max_z = gvxr.getNodeAndChildrenBoundingBox(ID, \"mm\")\n",
    "centre_x = (min_x + max_x) / 2.0\n",
    "centre_y = (min_y + max_y) / 2.0\n",
    "centre_z = (min_z + max_z) / 2.0\n",
    "\n",
    "print(\"Bounding box:\", [min_x, min_y, min_z], [max_x, max_y, max_z])\n",
    "print(\"Bounding box centre:\", [centre_x, centre_y, centre_z])"
   ]
  },
  {
   "cell_type": "code",
   "execution_count": null,
   "metadata": {},
   "outputs": [],
   "source": [
    "gvxr.disablePoissonNoise()\n",
    "noiseless_spectral_image = np.array(gvxr.computeSpectralImage(), dtype=np.single)\n",
    "noiseless_white_images = np.array(gvxr.getWhiteSpectralImage(), dtype=np.single)"
   ]
  },
  {
   "cell_type": "code",
   "execution_count": null,
   "metadata": {
    "tags": []
   },
   "outputs": [],
   "source": [
    "gvxr.enablePoissonNoise()\n",
    "noisy_spectral_image = np.array(gvxr.computeSpectralImage(), dtype=np.single)\n",
    "noisy_white_images = np.array(gvxr.getWhiteSpectralImage(), dtype=np.single)"
   ]
  },
  {
   "cell_type": "code",
   "execution_count": null,
   "metadata": {
    "tags": []
   },
   "outputs": [],
   "source": [
    "for noiseless_img, noisy_img, band in zip(noiseless_spectral_image, noisy_spectral_image, energy_bands):\n",
    "    \n",
    "    fig = plt.figure(layout='constrained', figsize=(10, 4))\n",
    "    plt.title(\"Energy band: \" + str(round(band)) + \" -- \" + str(round(band + band_width)) + \" keV\")\n",
    "    plt.plot(np.diag(noiseless_img), label=\"Noiseless\")\n",
    "    plt.plot(np.diag(noisy_img), label=\"Noisy\")\n",
    "    plt.legend()\n",
    "    plt.show()"
   ]
  },
  {
   "cell_type": "code",
   "execution_count": null,
   "metadata": {
    "tags": []
   },
   "outputs": [],
   "source": [
    "for noiseless_img, noisy_img, band in zip(noiseless_spectral_image, noisy_spectral_image, energy_bands):\n",
    "    \n",
    "    vmin = min(noiseless_img.min(), noisy_img.min()) \n",
    "    vmax = max(noiseless_img.max(), noisy_img.max())\n",
    "\n",
    "    fig, axs = plt.subplots(1, 2, layout='constrained', figsize=(10, 4))\n",
    "    plt.suptitle(\"Energy band: \" + str(round(band)) + \" -- \" + str(round(band + band_width)) + \" keV\")\n",
    "    axs[0].imshow(noiseless_img, cmap=\"gray\", vmin=vmin, vmax=vmax)\n",
    "    axs[1].imshow(noisy_img, cmap=\"gray\", vmin=vmin, vmax=vmax)\n",
    "    plt.show()"
   ]
  },
  {
   "cell_type": "code",
   "execution_count": null,
   "metadata": {
    "tags": []
   },
   "outputs": [],
   "source": [
    "for noiseless_img, noisy_img, band in zip(noiseless_white_images, noisy_white_images, energy_bands):\n",
    "    \n",
    "    fig = plt.figure(layout='constrained', figsize=(10, 4))\n",
    "    plt.title(\"Energy band: \" + str(round(band)) + \" -- \" + str(round(band + band_width)) + \" keV\")\n",
    "    plt.plot(np.diag(noiseless_img), label=\"Noiseless\")\n",
    "    plt.plot(np.diag(noisy_img), label=\"Noisy\")\n",
    "    plt.legend()\n",
    "    plt.show()"
   ]
  },
  {
   "cell_type": "code",
   "execution_count": null,
   "metadata": {
    "tags": []
   },
   "outputs": [],
   "source": [
    "for noiseless_img, noisy_img, noiseless_white_img, noisy_white_img, band in zip(noiseless_spectral_image, noisy_spectral_image, noiseless_white_images, noisy_white_images, energy_bands):\n",
    "    \n",
    "    noiseless_white_img[noiseless_white_img < 1e-5] = 1e-5\n",
    "    noisy_white_img[noisy_white_img < 1e-5] = 1e-5\n",
    "\n",
    "    noiseless_flat = noiseless_img / noiseless_white_img\n",
    "    noisy_flat = noisy_img / noisy_white_img\n",
    "\n",
    "    vmin = 0\n",
    "    vmax = 1\n",
    "    \n",
    "    vmin = min(noiseless_flat.min(), noisy_flat.min()) \n",
    "    vmax = max(noiseless_flat.max(), noisy_flat.max())\n",
    "\n",
    "    fig, axs = plt.subplots(1, 2, layout='constrained', figsize=(10, 4))\n",
    "    plt.suptitle(\"Energy band: \" + str(round(band)) + \" -- \" + str(round(band + band_width)) + \" keV\")\n",
    "    axs[0].imshow(noiseless_flat, cmap=\"gray\", vmin=vmin, vmax=vmax)\n",
    "    axs[1].imshow(noisy_flat, cmap=\"gray\", vmin=vmin, vmax=vmax)\n",
    "    plt.show()"
   ]
  },
  {
   "cell_type": "code",
   "execution_count": null,
   "metadata": {},
   "outputs": [],
   "source": []
  },
  {
   "cell_type": "code",
   "execution_count": null,
   "metadata": {},
   "outputs": [],
   "source": []
  },
  {
   "cell_type": "markdown",
   "metadata": {
    "id": "QL7gZQpTfg21"
   },
   "source": [
    "## Let's get an x-ray image\n",
    "\n",
    "We create an X-ray image `projection_in_MeV`. \n",
    "By default the image is expressed in MeV. \n",
    "We convert it to keV for display as follows: `projection_in_keV = projection_in_MeV / gvxr.getUnitOfEnergy(\"keV\")`."
   ]
  },
  {
   "cell_type": "code",
   "execution_count": null,
   "metadata": {
    "id": "4JeB-cNBfg22",
    "tags": []
   },
   "outputs": [],
   "source": [
    "projection_in_MeV = np.array(gvxr.computeXRayImage(), dtype=np.single)\n",
    "projection_in_keV = projection_in_MeV / gvxr.getUnitOfEnergy(\"keV\")"
   ]
  },
  {
   "cell_type": "code",
   "execution_count": null,
   "metadata": {
    "colab": {
     "base_uri": "https://localhost:8080/",
     "height": 591
    },
    "id": "X624vKQ2fg22",
    "outputId": "ed47e8f1-816f-4205-866e-9e94370afbb2",
    "tags": []
   },
   "outputs": [],
   "source": [
    "gvxr.setWindowSize(500, 500) # Fix for MacOS\n",
    "gvxr.displayScene()\n",
    "plotScreenshot()"
   ]
  },
  {
   "cell_type": "code",
   "execution_count": null,
   "metadata": {
    "colab": {
     "base_uri": "https://localhost:8080/",
     "height": 403
    },
    "id": "sXg2uBYAfg22",
    "outputId": "fc3a8445-11f2-485c-e7ef-a26853befb52",
    "tags": []
   },
   "outputs": [],
   "source": [
    "fname = root_path + \"/Noise-CBCT/visualisation.png\"\n",
    "\n",
    "if not os.path.exists(fname):\n",
    "\n",
    "    if use_colab:\n",
    "        from google.colab import output\n",
    "        output.enable_custom_widget_manager()\n",
    "\n",
    "    plot = visualise(use_log=True)\n",
    "    plot.grid_visible = False\n",
    "\n",
    "    if use_colab:\n",
    "        from IPython.display import HTML\n",
    "        plot.snapshot_type = 'inline'\n",
    "        HTML(plot.get_snapshot())\n",
    "    else:\n",
    "        plot.display()\n",
    "else:\n",
    "    display(Image(fname, width=800))"
   ]
  },
  {
   "cell_type": "code",
   "execution_count": null,
   "metadata": {
    "id": "2c4r59E6fg22",
    "tags": []
   },
   "outputs": [],
   "source": [
    "if not os.path.exists(fname):\n",
    "    if plot is not None:\n",
    "    \n",
    "        plot.fetch_screenshot()\n",
    "\n",
    "        data = base64.b64decode(plot.screenshot)\n",
    "        with open(fname,'wb') as fp:\n",
    "            fp.write(data)\n",
    "\n",
    "    if use_colab:\n",
    "        from google.colab import output\n",
    "        output.disable_custom_widget_manager()"
   ]
  },
  {
   "cell_type": "markdown",
   "metadata": {
    "id": "UVBdF-Onfg22"
   },
   "source": [
    "## Add Poisson noise\n",
    "\n",
    "1. Load the raw projection in the RAM\n",
    "2. Convert the image in keV or MeV into number of photons\n",
    "3. Add the Poisson noise\n",
    "4. Convert the image in number of photons into keV or MeV\n",
    "5. Apply the flat-field correction"
   ]
  },
  {
   "cell_type": "code",
   "execution_count": null,
   "metadata": {
    "id": "dlNtFPB-fg22",
    "tags": []
   },
   "outputs": [],
   "source": [
    "def getNoisyImage(x_ray_image_energy, target_number_of_photons_per_pixel):\n",
    "    \n",
    "    total_energy_MeV = gvxr.getTotalEnergyWithDetectorResponse()\n",
    "    number_of_incident_photons_per_pixel = np.sum(gvxr.getPhotonCountEnergyBins())\n",
    "    energy2photons = number_of_incident_photons_per_pixel / total_energy_MeV\n",
    "\n",
    "    temp = energy2photons / number_of_incident_photons_per_pixel * target_number_of_photons_per_pixel\n",
    "    \n",
    "    # Convert the image in keV into number of photons\n",
    "    x_ray_image_photons = x_ray_image_energy * temp \n",
    "    \n",
    "    # Add the Poisson noise\n",
    "    noise_image = np.float32(np.random.poisson(x_ray_image_photons))\n",
    "\n",
    "    # Convert in energy\n",
    "    return noise_image / temp"
   ]
  },
  {
   "cell_type": "code",
   "execution_count": null,
   "metadata": {
    "id": "xEfdSOc8fg23",
    "tags": []
   },
   "outputs": [],
   "source": [
    "fig_plot = None\n",
    "def chooseNumberOfPhotonsPerPixel(xray_image: np.array, number_of_photons_per_pixel:int=15000, figsize=(10, 5)):\n",
    "\n",
    "    \"\"\"\n",
    "    Use Matplotlib and a Jupyter widget to display the X-ray image with Poisson noise.\n",
    "    The number of photons per pixel can be change interactively.\n",
    "\n",
    "    @param xray_image: The image to display\n",
    "    @number_of_photons_per_pixel: the number of photons per pixel (default: 15000)\n",
    "    @gamma figsize: the size of the figure (default: (10, 5))\n",
    "    \"\"\"\n",
    "\n",
    "    global target_number_of_photons_per_pixel, fig_plot\n",
    "    target_number_of_photons_per_pixel = number_of_photons_per_pixel\n",
    "\n",
    "    noisy_image = getNoisyImage(xray_image, number_of_photons_per_pixel)\n",
    "\n",
    "    fig_plot = plt.figure(figsize=figsize)\n",
    "    ax_img = plt.subplot(111)\n",
    "    img = plt.imshow(noisy_image, cmap=\"gray\")\n",
    "    # cbar = fig_plot.colorbar(img, orientation='vertical')\n",
    "    title_str = \"Photons per pixels: \" + str(number_of_photons_per_pixel)\n",
    "    ax_img.set_title(title_str)\n",
    "    plt.tight_layout()\n",
    "    plt.margins(0,0)\n",
    "\n",
    "    plt.close()\n",
    "\n",
    "    ## Callback function: plot y=Acos(x+phi)\n",
    "    def update_plot(number_of_photons_per_pixel):\n",
    "        global target_number_of_photons_per_pixel\n",
    "        target_number_of_photons_per_pixel = number_of_photons_per_pixel\n",
    "        noisy_image = getNoisyImage(xray_image, number_of_photons_per_pixel)\n",
    "        img = ax_img.imshow(noisy_image, cmap=\"gray\")\n",
    "        title_str = \"Photons per pixels: \" + str(number_of_photons_per_pixel)\n",
    "        ax_img.set_title(title_str)\n",
    "        # fig_plot.colorbar(img, cax=cbar.ax, orientation='vertical')\n",
    "\n",
    "        display(fig_plot)\n",
    "\n",
    "    interact(update_plot,\n",
    "             number_of_photons_per_pixel=widgets.IntSlider(value=number_of_photons_per_pixel, min=10, max=50000, step=10, description=\"Photons/pixels\"))"
   ]
  },
  {
   "cell_type": "code",
   "execution_count": null,
   "metadata": {
    "colab": {
     "base_uri": "https://localhost:8080/",
     "height": 401,
     "referenced_widgets": [
      "cc3ebb0df5b14648aea86b90cacd2207",
      "02de3fb7139e4ac59bb0e087bc4463d9",
      "fea8907696494716ab1606b09d84f505",
      "14e3ec653a2e403c8d1a0a8f8cb20f79",
      "8138049e7ed04442a1d36c9a64d46d80",
      "80b8f5578fd744c5ae1c23512e25d388",
      "10db19916e4b4a17840d5b9190dea07b"
     ]
    },
    "id": "sB8EjR91fg23",
    "outputId": "3942f676-cd60-4e44-a9bf-cfca8161cb3b",
    "tags": []
   },
   "outputs": [],
   "source": [
    "chooseNumberOfPhotonsPerPixel(projection_in_MeV, number_of_photons_per_pixel=15000, figsize=(10, 5))"
   ]
  },
  {
   "cell_type": "code",
   "execution_count": null,
   "metadata": {
    "id": "HDwCRj1gfg23",
    "tags": []
   },
   "outputs": [],
   "source": [
    "fig_plot.savefig(root_path + \"/Noise-CBCT/noisy-projection.png\", dpi=72)"
   ]
  },
  {
   "cell_type": "code",
   "execution_count": null,
   "metadata": {
    "colab": {
     "base_uri": "https://localhost:8080/"
    },
    "id": "2LMyeTBEfg24",
    "outputId": "83fa3d1f-66e3-4652-b2bd-3a9356ea592b",
    "tags": []
   },
   "outputs": [],
   "source": [
    "print(\"Photons per pixels:\", target_number_of_photons_per_pixel)"
   ]
  },
  {
   "cell_type": "markdown",
   "metadata": {
    "id": "UUdOTfC3fg24"
   },
   "source": [
    "## Perfom the CT scan"
   ]
  },
  {
   "cell_type": "code",
   "execution_count": null,
   "metadata": {
    "colab": {
     "base_uri": "https://localhost:8080/"
    },
    "id": "DH8Z7YuZfg24",
    "outputId": "ed47c644-3176-4674-90e8-b009468d1ab1",
    "tags": []
   },
   "outputs": [],
   "source": [
    "angles = json2gvxr.initScan()"
   ]
  },
  {
   "cell_type": "code",
   "execution_count": null,
   "metadata": {
    "id": "ybk5FL9-fg24",
    "tags": []
   },
   "outputs": [],
   "source": [
    "number_of_angles = json2gvxr.params[\"Scan\"][\"NumberOfProjections\"]\n",
    "angles = json2gvxr.doCTScan()"
   ]
  },
  {
   "cell_type": "code",
   "execution_count": null,
   "metadata": {
    "colab": {
     "base_uri": "https://localhost:8080/"
    },
    "id": "UYUC869hp_y7",
    "outputId": "04c87eb7-21ad-4eba-997a-1fdd423710f2",
    "tags": []
   },
   "outputs": [],
   "source": [
    "print(\"First angle:\", angles[0])\n",
    "print(\"Last angle:\", angles[-1])\n",
    "print(\"Number of angles:\", number_of_angles)"
   ]
  },
  {
   "cell_type": "markdown",
   "metadata": {
    "id": "zuuC1Xd_fg24"
   },
   "source": [
    "## Flat images"
   ]
  },
  {
   "cell_type": "markdown",
   "metadata": {
    "id": "tzjgXBYZfg25"
   },
   "source": [
    "Create the flat field image"
   ]
  },
  {
   "cell_type": "code",
   "execution_count": null,
   "metadata": {
    "colab": {
     "base_uri": "https://localhost:8080/",
     "height": 49,
     "referenced_widgets": [
      "d6606ea7725d4aa084ed4905b5978e9d",
      "fe88b967ad154b4e9665fa1f66578bb3",
      "62081ed1614d49f0b52cb675f8255243"
     ]
    },
    "id": "LOJtuRWYfg25",
    "outputId": "f736e572-31bd-4881-db94-7b139a0507f7",
    "tags": []
   },
   "outputs": [],
   "source": [
    "white_slider = widgets.IntSlider(value=25, min=1, max=500, step=1, description='Number of flat images:')\n",
    "white_slider"
   ]
  },
  {
   "cell_type": "code",
   "execution_count": null,
   "metadata": {
    "colab": {
     "base_uri": "https://localhost:8080/"
    },
    "id": "Y-EjvgHXfg25",
    "outputId": "0fa12d62-7df8-4229-d7ae-a4dbbe15e1f7",
    "tags": []
   },
   "outputs": [],
   "source": [
    "print(\"Number of flat images:\", white_slider.value)"
   ]
  },
  {
   "cell_type": "code",
   "execution_count": null,
   "metadata": {
    "id": "Q1U7SMXgfg25",
    "tags": []
   },
   "outputs": [],
   "source": [
    "createDirectory(root_path + \"/Noise-CBCT/flat-field\")\n",
    "fname = root_path + \"/Noise-CBCT/flat-field/flat.tif\"\n",
    "\n",
    "total_energy_MeV = gvxr.getTotalEnergyWithDetectorResponse()\n",
    "\n",
    "temp = total_energy_MeV * np.ones([1, number_of_rows, number_of_cols], dtype=np.single)\n",
    "flats = []\n",
    "\n",
    "for i in range(white_slider.value):\n",
    "    flats.append(getNoisyImage(temp, target_number_of_photons_per_pixel))\n",
    "\n",
    "flat_field = np.average(flats, axis=0)\n",
    "\n",
    "imwrite(fname, flat_field.astype(np.single), compression='zlib')"
   ]
  },
  {
   "cell_type": "code",
   "execution_count": null,
   "metadata": {
    "colab": {
     "base_uri": "https://localhost:8080/",
     "height": 663
    },
    "id": "QqAIqK1Ofg26",
    "outputId": "79467bb4-ee3f-41de-9cc9-973df488307f",
    "tags": []
   },
   "outputs": [],
   "source": [
    "fig = plt.figure(figsize = (20, 10))\n",
    "plt.title(\"Averagte flat image\\n(\" + str(white_slider.value) + \" images, \" + str(target_number_of_photons_per_pixel) + \" photons per pixel)\")\n",
    "img = plt.imshow(flat_field[0], cmap='gray', vmin=total_energy_MeV-0.05*total_energy_MeV, vmax=total_energy_MeV+0.05*total_energy_MeV)\n",
    "plt.tight_layout()\n",
    "plt.savefig(root_path + \"/Noise-CBCT/average-flat-field.png\", dpi=72)"
   ]
  },
  {
   "cell_type": "markdown",
   "metadata": {
    "id": "68eWET-hfg26"
   },
   "source": [
    "## Add the noise to the projections"
   ]
  },
  {
   "cell_type": "code",
   "execution_count": null,
   "metadata": {
    "colab": {
     "base_uri": "https://localhost:8080/"
    },
    "id": "1NTRrP_vfg26",
    "outputId": "8aa2432a-2c00-4e2b-c497-8a55621cfbb8",
    "tags": []
   },
   "outputs": [],
   "source": [
    "createDirectory(root_path + \"/Noise-CBCT/noiseless_projections\")\n",
    "\n",
    "raw_projections = []\n",
    "for i in range(number_of_angles):\n",
    "\n",
    "    print(\"Projection\", i + 1, \"/\", number_of_angles, end='\\r')\n",
    "\n",
    "    input_fname = raw_projection_output_dir + \"/projection-\" + '{0:04d}'.format(i+1) + \".tiff\"\n",
    "    output_fname = root_path + \"/Noise-CBCT/noiseless_projections/projection-\" + '{0:04d}'.format(i+1) + \".tiff\"\n",
    "    \n",
    "    # Load the raw projection in the RAM\n",
    "    x_ray_image_energy = imread(input_fname).astype(np.single)\n",
    "\n",
    "    # Save it\n",
    "    imwrite(output_fname, x_ray_image_energy)\n",
    "\n",
    "    # Add the Poisson noise\n",
    "    noise_image = getNoisyImage(x_ray_image_energy, target_number_of_photons_per_pixel)\n",
    "\n",
    "    # Flat-field\n",
    "    x_ray_image_energy = noise_image / flat_field[0]\n",
    "    raw_projections.append(x_ray_image_energy.astype(np.single))\n",
    "\n",
    "    # Overwrite the image\n",
    "    imwrite(input_fname, raw_projections[-1])"
   ]
  },
  {
   "cell_type": "markdown",
   "metadata": {
    "id": "eFvxDJ7qfg26"
   },
   "source": [
    "## CT reconstruction"
   ]
  },
  {
   "cell_type": "code",
   "execution_count": null,
   "metadata": {
    "id": "B0VxGc21JvWA",
    "tags": []
   },
   "outputs": [],
   "source": [
    "def reconstructFBPWithCIL(data, ig, use_plugins, verbose):\n",
    "    if verbose > 0: print(\"Parallel beam detected\")\n",
    "\n",
    "    \n",
    "    if has_tigre:\n",
    "        if verbose > 0: print(\"Backend: Tigre\")\n",
    "        if verbose > 0: print(\"Use plugin directly: \", use_plugins)\n",
    "\n",
    "        if use_plugins:\n",
    "            reconstruction:ImageData | None = FBP_plugin_tigre(ig,data.geometry)(data)\n",
    "        else:\n",
    "            reconstruction:ImageData | None = FBP_recons_cil(data, ig, backend=\"tigre\").run()\n",
    "            \n",
    "    else:\n",
    "        if verbose > 0: print(\"Backend: Astra-Toolbox\")\n",
    "        if verbose > 0: print(\"Use plugin directly: \", use_plugins)\n",
    "        \n",
    "        if use_plugins:\n",
    "            reconstruction:ImageData | None = FBP_plugin_astra(ig,data.geometry)(data)\n",
    "        else:\n",
    "            reconstruction:ImageData | None = FBP_recons_cil(data, ig, backend=\"astra\").run()\n",
    "\n",
    "    return reconstruction"
   ]
  },
  {
   "cell_type": "code",
   "execution_count": null,
   "metadata": {
    "id": "1M57Wm9CJvWA",
    "tags": []
   },
   "outputs": [],
   "source": [
    "def reconstructFDKWithCIL(data, ig, use_plugins, verbose):\n",
    "    if verbose > 0: print(\"Cone beam detected\")\n",
    "\n",
    "    # if has_tigre:\n",
    "    #     if verbose > 0: print(\"Backend: Tigre\")\n",
    "    #     reconstruction:ImageData | None = FDK(data, ig).run()\n",
    "    # else:\n",
    "    #     if verbose > 0: print(\"Backend: Astra-Toolbox\")\n",
    "    #     fbk = FDK_Flexible(ig, data.geometry)\n",
    "    #     fbk.set_input(data)\n",
    "    #     reconstruction:ImageData | None = fbk.get_output()\n",
    "\n",
    "    if has_tigre:\n",
    "        if verbose > 0: print(\"Backend: Tigre\")\n",
    "        if verbose > 0: print(\"Use plugin directly: \", use_plugins)\n",
    "\n",
    "        if use_plugins:\n",
    "            reconstruction:ImageData | None = FBP_plugin_tigre(ig,data.geometry)(data)\n",
    "        else:\n",
    "            reconstruction:ImageData | None = FDK_recons_cil(data, ig).run()\n",
    "    else:\n",
    "        if verbose > 0: print(\"Backend: Astra-Toolbox\")\n",
    "        if verbose > 0: print(\"Use plugin directly: \", use_plugins)\n",
    "\n",
    "        if use_plugins:\n",
    "            reconstruction:ImageData | None = FBP_plugin_astra(ig,data.geometry)(data)\n",
    "        else:\n",
    "            # reconstruction:ImageData | None = FDK_recons_cil(data, ig).run() # Not implemented for Astra\n",
    "            reconstruction:ImageData | None = None\n",
    "\n",
    "    return reconstruction"
   ]
  },
  {
   "cell_type": "code",
   "execution_count": null,
   "metadata": {
    "id": "yk5A-GNZJvWB",
    "tags": []
   },
   "outputs": [],
   "source": [
    "def reconstruct(JSON_fname, use_plugin=False, verbose=0):\n",
    "    import json\n",
    "    \n",
    "    # Opening JSON file\n",
    "    f = open(JSON_fname)\n",
    "\n",
    "    # returns JSON object as \n",
    "    # a dictionary\n",
    "    json_data = json.load(f)    \n",
    "    \n",
    "    data = None\n",
    "    reconstruction = None\n",
    "    \n",
    "    source_shape = json_data[\"Source\"][\"Shape\"]\n",
    "\n",
    "    if verbose > 0:\n",
    "        print(\"Source shape:\", source_shape)\n",
    "\n",
    "    # Use CIL\n",
    "    if has_cil:\n",
    "    \n",
    "        if verbose > 0: print(\"Use CIL\")\n",
    "\n",
    "        reader = JSON2gVXRDataReader(file_name=JSON_fname)\n",
    "        data = reader.read()\n",
    "\n",
    "        print(\"data.geometry\", data.geometry)\n",
    "        \n",
    "        if has_tigre:\n",
    "            data.reorder(order='tigre')\n",
    "            # data.geometry.set_angles(-data.geometry.angles)\n",
    "        else:\n",
    "            data.reorder(\"astra\")\n",
    "            # data.geometry.set_angles(-data.geometry.angles)\n",
    "\n",
    "        ig = data.geometry.get_ImageGeometry()\n",
    "\n",
    "        data_corr = TransmissionAbsorptionConverter(white_level=data.max(), min_intensity=0.000001)(data)\n",
    "\n",
    "        if type(source_shape) == str:\n",
    "\n",
    "            if source_shape.upper() == \"PARALLELBEAM\" or source_shape.upper() == \"PARALLEL\":\n",
    "                reconstruction:ImageData | None = reconstructFBPWithCIL(data_corr, ig, use_plugin, verbose)\n",
    "\n",
    "            elif source_shape.upper() == \"POINTSOURCE\" or source_shape.upper() == \"POINT\" or source_shape.upper() == \"CONE\" or source_shape.upper() == \"CONEBEAM\":\n",
    "                reconstruction:ImageData | None = reconstructFDKWithCIL(data_corr, ig, use_plugin, verbose)\n",
    "\n",
    "            else:\n",
    "                raise ValueError(\"Unknown source shape:\" + source_shape)\n",
    "\n",
    "        elif type(source_shape) == type([]):\n",
    "            if source_shape[0].upper() == \"FOCALSPOT\":\n",
    "                reconstruction:ImageData | None = reconstructFDKWithCIL(data_corr, ig, use_plugin, verbose)\n",
    "\n",
    "            else:\n",
    "                raise ValueError(\"Unknown source shape:\" + source_shape)\n",
    "\n",
    "        else:\n",
    "            raise ValueError(\"Unknown source shape:\" + source_shape)    \n",
    "\n",
    "#     # Use ITK-RTK\n",
    "#     elif has_rtk:\n",
    "#         if verbose > 0: print(\"Use RTK\")\n",
    "\n",
    "#         if type(source_shape) == str:\n",
    "\n",
    "#             if source_shape.upper() == \"PARALLELBEAM\" or source_shape.upper() == \"PARALLEL\":\n",
    "#                 reconstruction = reconstructFBPWithRTK(verbose)\n",
    "                \n",
    "#             elif source_shape.upper() == \"POINTSOURCE\" or source_shape.upper() == \"POINT\" or source_shape.upper() == \"CONE\" or source_shape.upper() == \"CONEBEAM\":\n",
    "#                 reconstruction = reconstructFDKWithRTK(verbose)\n",
    "                \n",
    "#             else:\n",
    "#                 raise ValueError(\"Unknown source shape:\" + source_shape)\n",
    "\n",
    "#         elif type(source_shape) == type([]):\n",
    "#             if source_shape[0].upper() == \"FOCALSPOT\":\n",
    "#                 reconstruction = reconstructFDKWithRTK(verbose)\n",
    "\n",
    "#             else:\n",
    "#                 raise ValueError(\"Unknown source shape:\" + source_shape)\n",
    "\n",
    "#         else:\n",
    "#             raise ValueError(\"Unknown source shape:\" + source_shape)    \n",
    "\n",
    "    else:\n",
    "        raise ValueError(\"CIL and RTK are not installed\")    \n",
    "\n",
    "    return data, reconstruction"
   ]
  },
  {
   "cell_type": "code",
   "execution_count": null,
   "metadata": {
    "colab": {
     "base_uri": "https://localhost:8080/"
    },
    "id": "-TAZQHOgfg27",
    "outputId": "e0bd8025-0297-4d21-fb46-7c8f35b8e588",
    "tags": []
   },
   "outputs": [],
   "source": [
    "data, reconstruction = reconstruct(json_fname, True, verbose=1)"
   ]
  },
  {
   "cell_type": "code",
   "execution_count": null,
   "metadata": {
    "colab": {
     "base_uri": "https://localhost:8080/",
     "height": 682
    },
    "id": "p2yOv5dffg27",
    "outputId": "cf9ba07a-bb48-49a7-a970-54ed67a1d80c",
    "tags": []
   },
   "outputs": [],
   "source": [
    "if has_cil:\n",
    "    fig = show_geometry(data.geometry)\n",
    "    fig.save(root_path  + \"/Noise-CBCT/CT-geometry.png\", dpi=72)"
   ]
  },
  {
   "cell_type": "code",
   "execution_count": null,
   "metadata": {
    "id": "Tw-8_vLcfg28",
    "tags": []
   },
   "outputs": [],
   "source": [
    "if has_cil and has_cil_islider:\n",
    "    islicer(reconstruction, direction='vertical')"
   ]
  },
  {
   "cell_type": "code",
   "execution_count": null,
   "metadata": {
    "id": "Uvk8hIJQfg28",
    "tags": []
   },
   "outputs": [],
   "source": [
    "if has_cil and has_cil_islider:\n",
    "    islicer(reconstruction, direction='horizontal_x')"
   ]
  },
  {
   "cell_type": "code",
   "execution_count": null,
   "metadata": {
    "id": "uDGBfBuTsfGu",
    "tags": []
   },
   "outputs": [],
   "source": [
    "fname = root_path  + \"/Noise-CBCT/CT_in_mu.mha\""
   ]
  },
  {
   "cell_type": "code",
   "execution_count": null,
   "metadata": {
    "id": "0RE6Y4wkfg28",
    "tags": []
   },
   "outputs": [],
   "source": [
    "reconstruction_as_array = reconstruction.as_array()"
   ]
  },
  {
   "cell_type": "code",
   "execution_count": null,
   "metadata": {
    "colab": {
     "base_uri": "https://localhost:8080/"
    },
    "id": "Lgo3QaZ-2oqj",
    "outputId": "9fd83d18-0513-45e8-d9bd-7387600ee6a8",
    "tags": []
   },
   "outputs": [],
   "source": [
    "detector_size = np.array(gvxr.getDetectorSize(\"mm\"))\n",
    "number_of_pixels = np.array(gvxr.getDetectorNumberOfPixels())\n",
    "spacing = detector_size / number_of_pixels\n",
    "\n",
    "print(\"CT volume saved in\", fname)\n",
    "sitk_image = sitk.GetImageFromArray(reconstruction_as_array)\n",
    "sitk_image.SetSpacing([spacing[0], spacing[0], spacing[1]])\n",
    "sitk.WriteImage(sitk_image, fname, useCompression=True)"
   ]
  },
  {
   "cell_type": "code",
   "execution_count": null,
   "metadata": {
    "colab": {
     "base_uri": "https://localhost:8080/",
     "height": 237
    },
    "id": "xnu2RsiIfg28",
    "outputId": "2c8225ad-b2b1-4172-cf65-ea833479f23a",
    "tags": []
   },
   "outputs": [],
   "source": [
    "fig, (ax1, ax2, ax3) = plt.subplots(1, 3, figsize = (20, 7))\n",
    "plt.suptitle(\"CT reconstruction with noise\")\n",
    "ax1.imshow(reconstruction_as_array[ int(reconstruction_as_array.shape[0] * 0.5), :, :], cmap='gray')\n",
    "ax2.imshow(reconstruction_as_array[ :, int(reconstruction_as_array.shape[1] * 0.25), :], cmap='gray')\n",
    "ax3.imshow(reconstruction_as_array[ :, :, int(reconstruction_as_array.shape[2] * 0.5)], cmap='gray')\n",
    "plt.tight_layout()\n",
    "plt.savefig(root_path  + \"/Noise-CBCT/plotCT.png\", dpi=72)\n",
    "plt.show()"
   ]
  },
  {
   "cell_type": "markdown",
   "metadata": {
    "id": "YrnU8I85r_Yo",
    "tags": []
   },
   "source": [
    "# Cleaning up\n",
    "\n",
    "Once we have finished it is good practice to clean up the OpenGL contexts and windows with the following command."
   ]
  },
  {
   "cell_type": "code",
   "execution_count": null,
   "metadata": {
    "id": "CHsXXmYBr_Yo",
    "tags": []
   },
   "outputs": [],
   "source": [
    "gvxr.terminate()"
   ]
  }
 ],
 "metadata": {
  "accelerator": "GPU",
  "colab": {
   "include_colab_link": true,
   "provenance": []
  },
  "gpuClass": "standard",
  "kernelspec": {
   "display_name": "Python 3 (ipykernel)",
   "language": "python",
   "name": "python3"
  },
  "language_info": {
   "codemirror_mode": {
    "name": "ipython",
    "version": 3
   },
   "file_extension": ".py",
   "mimetype": "text/x-python",
   "name": "python",
   "nbconvert_exporter": "python",
   "pygments_lexer": "ipython3",
   "version": "3.10.9"
  },
  "vscode": {
   "interpreter": {
    "hash": "7cb52200ce58d0990af40dfb29272ed58ebf24dc16709b96f71cbdb887d325ae"
   }
  },
  "widgets": {
   "application/vnd.jupyter.widget-state+json": {
    "02de3fb7139e4ac59bb0e087bc4463d9": {
     "model_module": "@jupyter-widgets/controls",
     "model_module_version": "2.0.0",
     "model_name": "IntSliderModel",
     "state": {
      "_dom_classes": [],
      "_model_module": "@jupyter-widgets/controls",
      "_model_module_version": "2.0.0",
      "_model_name": "IntSliderModel",
      "_view_count": null,
      "_view_module": "@jupyter-widgets/controls",
      "_view_module_version": "2.0.0",
      "_view_name": "IntSliderView",
      "behavior": "drag-tap",
      "continuous_update": true,
      "description": "Photons/pixels",
      "description_allow_html": false,
      "disabled": false,
      "layout": "IPY_MODEL_8138049e7ed04442a1d36c9a64d46d80",
      "max": 50000,
      "min": 10,
      "orientation": "horizontal",
      "readout": true,
      "readout_format": "d",
      "step": 10,
      "style": "IPY_MODEL_80b8f5578fd744c5ae1c23512e25d388",
      "tabbable": null,
      "tooltip": null,
      "value": 15000
     }
    },
    "10db19916e4b4a17840d5b9190dea07b": {
     "model_module": "@jupyter-widgets/base",
     "model_module_version": "2.0.0",
     "model_name": "LayoutModel",
     "state": {
      "_model_module": "@jupyter-widgets/base",
      "_model_module_version": "2.0.0",
      "_model_name": "LayoutModel",
      "_view_count": null,
      "_view_module": "@jupyter-widgets/base",
      "_view_module_version": "2.0.0",
      "_view_name": "LayoutView",
      "align_content": null,
      "align_items": null,
      "align_self": null,
      "border_bottom": null,
      "border_left": null,
      "border_right": null,
      "border_top": null,
      "bottom": null,
      "display": null,
      "flex": null,
      "flex_flow": null,
      "grid_area": null,
      "grid_auto_columns": null,
      "grid_auto_flow": null,
      "grid_auto_rows": null,
      "grid_column": null,
      "grid_gap": null,
      "grid_row": null,
      "grid_template_areas": null,
      "grid_template_columns": null,
      "grid_template_rows": null,
      "height": null,
      "justify_content": null,
      "justify_items": null,
      "left": null,
      "margin": null,
      "max_height": null,
      "max_width": null,
      "min_height": null,
      "min_width": null,
      "object_fit": null,
      "object_position": null,
      "order": null,
      "overflow": null,
      "padding": null,
      "right": null,
      "top": null,
      "visibility": null,
      "width": null
     }
    },
    "14e3ec653a2e403c8d1a0a8f8cb20f79": {
     "model_module": "@jupyter-widgets/base",
     "model_module_version": "2.0.0",
     "model_name": "LayoutModel",
     "state": {
      "_model_module": "@jupyter-widgets/base",
      "_model_module_version": "2.0.0",
      "_model_name": "LayoutModel",
      "_view_count": null,
      "_view_module": "@jupyter-widgets/base",
      "_view_module_version": "2.0.0",
      "_view_name": "LayoutView",
      "align_content": null,
      "align_items": null,
      "align_self": null,
      "border_bottom": null,
      "border_left": null,
      "border_right": null,
      "border_top": null,
      "bottom": null,
      "display": null,
      "flex": null,
      "flex_flow": null,
      "grid_area": null,
      "grid_auto_columns": null,
      "grid_auto_flow": null,
      "grid_auto_rows": null,
      "grid_column": null,
      "grid_gap": null,
      "grid_row": null,
      "grid_template_areas": null,
      "grid_template_columns": null,
      "grid_template_rows": null,
      "height": null,
      "justify_content": null,
      "justify_items": null,
      "left": null,
      "margin": null,
      "max_height": null,
      "max_width": null,
      "min_height": null,
      "min_width": null,
      "object_fit": null,
      "object_position": null,
      "order": null,
      "overflow": null,
      "padding": null,
      "right": null,
      "top": null,
      "visibility": null,
      "width": null
     }
    },
    "62081ed1614d49f0b52cb675f8255243": {
     "model_module": "@jupyter-widgets/controls",
     "model_module_version": "2.0.0",
     "model_name": "SliderStyleModel",
     "state": {
      "_model_module": "@jupyter-widgets/controls",
      "_model_module_version": "2.0.0",
      "_model_name": "SliderStyleModel",
      "_view_count": null,
      "_view_module": "@jupyter-widgets/base",
      "_view_module_version": "2.0.0",
      "_view_name": "StyleView",
      "description_width": "",
      "handle_color": null
     }
    },
    "80b8f5578fd744c5ae1c23512e25d388": {
     "model_module": "@jupyter-widgets/controls",
     "model_module_version": "2.0.0",
     "model_name": "SliderStyleModel",
     "state": {
      "_model_module": "@jupyter-widgets/controls",
      "_model_module_version": "2.0.0",
      "_model_name": "SliderStyleModel",
      "_view_count": null,
      "_view_module": "@jupyter-widgets/base",
      "_view_module_version": "2.0.0",
      "_view_name": "StyleView",
      "description_width": "",
      "handle_color": null
     }
    },
    "8138049e7ed04442a1d36c9a64d46d80": {
     "model_module": "@jupyter-widgets/base",
     "model_module_version": "2.0.0",
     "model_name": "LayoutModel",
     "state": {
      "_model_module": "@jupyter-widgets/base",
      "_model_module_version": "2.0.0",
      "_model_name": "LayoutModel",
      "_view_count": null,
      "_view_module": "@jupyter-widgets/base",
      "_view_module_version": "2.0.0",
      "_view_name": "LayoutView",
      "align_content": null,
      "align_items": null,
      "align_self": null,
      "border_bottom": null,
      "border_left": null,
      "border_right": null,
      "border_top": null,
      "bottom": null,
      "display": null,
      "flex": null,
      "flex_flow": null,
      "grid_area": null,
      "grid_auto_columns": null,
      "grid_auto_flow": null,
      "grid_auto_rows": null,
      "grid_column": null,
      "grid_gap": null,
      "grid_row": null,
      "grid_template_areas": null,
      "grid_template_columns": null,
      "grid_template_rows": null,
      "height": null,
      "justify_content": null,
      "justify_items": null,
      "left": null,
      "margin": null,
      "max_height": null,
      "max_width": null,
      "min_height": null,
      "min_width": null,
      "object_fit": null,
      "object_position": null,
      "order": null,
      "overflow": null,
      "padding": null,
      "right": null,
      "top": null,
      "visibility": null,
      "width": null
     }
    },
    "cc3ebb0df5b14648aea86b90cacd2207": {
     "model_module": "@jupyter-widgets/controls",
     "model_module_version": "2.0.0",
     "model_name": "VBoxModel",
     "state": {
      "_dom_classes": [
       "widget-interact"
      ],
      "_model_module": "@jupyter-widgets/controls",
      "_model_module_version": "2.0.0",
      "_model_name": "VBoxModel",
      "_view_count": null,
      "_view_module": "@jupyter-widgets/controls",
      "_view_module_version": "2.0.0",
      "_view_name": "VBoxView",
      "box_style": "",
      "children": [
       "IPY_MODEL_02de3fb7139e4ac59bb0e087bc4463d9",
       "IPY_MODEL_fea8907696494716ab1606b09d84f505"
      ],
      "layout": "IPY_MODEL_14e3ec653a2e403c8d1a0a8f8cb20f79",
      "tabbable": null,
      "tooltip": null
     }
    },
    "d6606ea7725d4aa084ed4905b5978e9d": {
     "model_module": "@jupyter-widgets/controls",
     "model_module_version": "2.0.0",
     "model_name": "IntSliderModel",
     "state": {
      "_dom_classes": [],
      "_model_module": "@jupyter-widgets/controls",
      "_model_module_version": "2.0.0",
      "_model_name": "IntSliderModel",
      "_view_count": null,
      "_view_module": "@jupyter-widgets/controls",
      "_view_module_version": "2.0.0",
      "_view_name": "IntSliderView",
      "behavior": "drag-tap",
      "continuous_update": true,
      "description": "Number of flat images:",
      "description_allow_html": false,
      "disabled": false,
      "layout": "IPY_MODEL_fe88b967ad154b4e9665fa1f66578bb3",
      "max": 500,
      "min": 1,
      "orientation": "horizontal",
      "readout": true,
      "readout_format": "d",
      "step": 1,
      "style": "IPY_MODEL_62081ed1614d49f0b52cb675f8255243",
      "tabbable": null,
      "tooltip": null,
      "value": 25
     }
    },
    "fe88b967ad154b4e9665fa1f66578bb3": {
     "model_module": "@jupyter-widgets/base",
     "model_module_version": "2.0.0",
     "model_name": "LayoutModel",
     "state": {
      "_model_module": "@jupyter-widgets/base",
      "_model_module_version": "2.0.0",
      "_model_name": "LayoutModel",
      "_view_count": null,
      "_view_module": "@jupyter-widgets/base",
      "_view_module_version": "2.0.0",
      "_view_name": "LayoutView",
      "align_content": null,
      "align_items": null,
      "align_self": null,
      "border_bottom": null,
      "border_left": null,
      "border_right": null,
      "border_top": null,
      "bottom": null,
      "display": null,
      "flex": null,
      "flex_flow": null,
      "grid_area": null,
      "grid_auto_columns": null,
      "grid_auto_flow": null,
      "grid_auto_rows": null,
      "grid_column": null,
      "grid_gap": null,
      "grid_row": null,
      "grid_template_areas": null,
      "grid_template_columns": null,
      "grid_template_rows": null,
      "height": null,
      "justify_content": null,
      "justify_items": null,
      "left": null,
      "margin": null,
      "max_height": null,
      "max_width": null,
      "min_height": null,
      "min_width": null,
      "object_fit": null,
      "object_position": null,
      "order": null,
      "overflow": null,
      "padding": null,
      "right": null,
      "top": null,
      "visibility": null,
      "width": null
     }
    },
    "fea8907696494716ab1606b09d84f505": {
     "model_module": "@jupyter-widgets/output",
     "model_module_version": "1.0.0",
     "model_name": "OutputModel",
     "state": {
      "_dom_classes": [],
      "_model_module": "@jupyter-widgets/output",
      "_model_module_version": "1.0.0",
      "_model_name": "OutputModel",
      "_view_count": null,
      "_view_module": "@jupyter-widgets/output",
      "_view_module_version": "1.0.0",
      "_view_name": "OutputView",
      "layout": "IPY_MODEL_10db19916e4b4a17840d5b9190dea07b",
      "msg_id": "",
      "outputs": [
       {
        "data": {
         "image/png": "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\n",
         "text/plain": "<Figure size 720x360 with 1 Axes>"
        },
        "metadata": {},
        "output_type": "display_data"
       }
      ],
      "tabbable": null,
      "tooltip": null
     }
    }
   }
  }
 },
 "nbformat": 4,
 "nbformat_minor": 4
}
