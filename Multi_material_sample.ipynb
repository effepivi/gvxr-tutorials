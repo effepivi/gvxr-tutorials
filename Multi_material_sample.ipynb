{
 "cells": [
  {
   "cell_type": "code",
   "execution_count": 1,
   "metadata": {
    "slideshow": {
     "slide_type": "skip"
    },
    "tags": []
   },
   "outputs": [],
   "source": [
    "%matplotlib widget"
   ]
  },
  {
   "cell_type": "markdown",
   "metadata": {
    "slideshow": {
     "slide_type": "slide"
    },
    "tags": []
   },
   "source": [
    "# Session 3\n",
    "\n",
    "## Multi-material samples with ![gVXR](img/gvxr_logo.png)\n",
    "\n",
    "## Authors: Ben Thorpe, Iwan Mitchel and Franck Vidal\n",
    "\n",
    "(version 1.1, 7 Mar 2023)"
   ]
  },
  {
   "cell_type": "markdown",
   "metadata": {},
   "source": [
    "# Aims of this session\n",
    "\n",
    "- Create X-ray simulations of samples involving multiple materials\n",
    "    - Multiple individual materials (e.g. a Copper pipe inside an Aluminium block)\n",
    "    - Metal Alloys and Mixtures\n",
    "    - Chemical Compounds\n",
    "- Visualise the effects of different materials on the resulting X-ray images"
   ]
  },
  {
   "cell_type": "markdown",
   "metadata": {
    "slideshow": {
     "slide_type": "subslide"
    },
    "tags": []
   },
   "source": [
    "## Working With Multiple materials\n",
    "In the previous notebook we had a single model made of a single material. The plan now is to work up to something a bit more interesting. A multi-part model using multiple different materials. The sample in question is a Turbo pump[^1]. This can be found as a 3D model consisting of series of stl files representing the different internal and external parts.\n",
    "\n",
    "![Screenshot of Paraview](img/Turbo_Pump.png)\n",
    "\n",
    "[^1]: https://grabcad.com/library/turbo-pump-50/details?folder_id=8605076"
   ]
  },
  {
   "cell_type": "markdown",
   "metadata": {
    "id": "E-UslIEgsMO6"
   },
   "source": [
    "# Install gVXR, k3D and imagecodecs\n",
    "\n",
    "Run the cell below\n",
    "\n",
    "```python\n",
    "!pip3 install --upgrade gvxr k3d imagecodecs\n",
    "```"
   ]
  },
  {
   "cell_type": "code",
   "execution_count": 2,
   "metadata": {
    "colab": {
     "base_uri": "https://localhost:8080/"
    },
    "id": "nIwHxIersKFV",
    "outputId": "a37b0602-ab7a-4fc4-e8a7-3fd5b3699f77",
    "tags": []
   },
   "outputs": [
    {
     "name": "stdout",
     "output_type": "stream",
     "text": [
      "Requirement already satisfied: gvxr in /home/franck/anaconda3/envs/gvxr-CMPB/lib/python3.10/site-packages (2.0.4)\n",
      "Requirement already satisfied: k3d in /home/franck/anaconda3/envs/gvxr-CMPB/lib/python3.10/site-packages (2.15.2)\n",
      "Requirement already satisfied: imagecodecs in /home/franck/anaconda3/envs/gvxr-CMPB/lib/python3.10/site-packages (2022.9.26)\n",
      "Collecting imagecodecs\n",
      "  Downloading imagecodecs-2023.1.23-cp310-cp310-manylinux_2_17_x86_64.manylinux2014_x86_64.whl (35.6 MB)\n",
      "\u001b[2K     \u001b[38;2;114;156;31m━━━━━━━━━━━━━━━━━━━━━━━━━━━━━━━━━━━━━━━━\u001b[0m \u001b[32m35.6/35.6 MB\u001b[0m \u001b[31m6.4 MB/s\u001b[0m eta \u001b[36m0:00:00\u001b[0mm eta \u001b[36m0:00:01\u001b[0m[36m0:00:01\u001b[0m\n",
      "\u001b[?25hRequirement already satisfied: msgpack in /home/franck/anaconda3/envs/gvxr-CMPB/lib/python3.10/site-packages (from k3d) (1.0.4)\n",
      "Requirement already satisfied: ipywidgets<9.0.0,>=7.0.0 in /home/franck/anaconda3/envs/gvxr-CMPB/lib/python3.10/site-packages (from k3d) (7.7.3)\n",
      "Requirement already satisfied: traittypes in /home/franck/anaconda3/envs/gvxr-CMPB/lib/python3.10/site-packages (from k3d) (0.2.1)\n",
      "Requirement already satisfied: traitlets in /home/franck/anaconda3/envs/gvxr-CMPB/lib/python3.10/site-packages (from k3d) (5.9.0)\n",
      "Requirement already satisfied: numpy in /home/franck/anaconda3/envs/gvxr-CMPB/lib/python3.10/site-packages (from k3d) (1.21.6)\n",
      "Requirement already satisfied: widgetsnbextension~=3.6.0 in /home/franck/anaconda3/envs/gvxr-CMPB/lib/python3.10/site-packages (from ipywidgets<9.0.0,>=7.0.0->k3d) (3.6.1)\n",
      "Requirement already satisfied: jupyterlab-widgets<3,>=1.0.0 in /home/franck/anaconda3/envs/gvxr-CMPB/lib/python3.10/site-packages (from ipywidgets<9.0.0,>=7.0.0->k3d) (1.1.2)\n",
      "Requirement already satisfied: ipython-genutils~=0.2.0 in /home/franck/anaconda3/envs/gvxr-CMPB/lib/python3.10/site-packages (from ipywidgets<9.0.0,>=7.0.0->k3d) (0.2.0)\n",
      "Requirement already satisfied: ipython>=4.0.0 in /home/franck/anaconda3/envs/gvxr-CMPB/lib/python3.10/site-packages (from ipywidgets<9.0.0,>=7.0.0->k3d) (8.11.0)\n",
      "Requirement already satisfied: ipykernel>=4.5.1 in /home/franck/anaconda3/envs/gvxr-CMPB/lib/python3.10/site-packages (from ipywidgets<9.0.0,>=7.0.0->k3d) (6.21.2)\n",
      "Requirement already satisfied: nest-asyncio in /home/franck/anaconda3/envs/gvxr-CMPB/lib/python3.10/site-packages (from ipykernel>=4.5.1->ipywidgets<9.0.0,>=7.0.0->k3d) (1.5.6)\n",
      "Requirement already satisfied: psutil in /home/franck/anaconda3/envs/gvxr-CMPB/lib/python3.10/site-packages (from ipykernel>=4.5.1->ipywidgets<9.0.0,>=7.0.0->k3d) (5.9.4)\n",
      "Requirement already satisfied: debugpy>=1.6.5 in /home/franck/anaconda3/envs/gvxr-CMPB/lib/python3.10/site-packages (from ipykernel>=4.5.1->ipywidgets<9.0.0,>=7.0.0->k3d) (1.6.6)\n",
      "Requirement already satisfied: jupyter-client>=6.1.12 in /home/franck/anaconda3/envs/gvxr-CMPB/lib/python3.10/site-packages (from ipykernel>=4.5.1->ipywidgets<9.0.0,>=7.0.0->k3d) (8.0.3)\n",
      "Requirement already satisfied: comm>=0.1.1 in /home/franck/anaconda3/envs/gvxr-CMPB/lib/python3.10/site-packages (from ipykernel>=4.5.1->ipywidgets<9.0.0,>=7.0.0->k3d) (0.1.2)\n",
      "Requirement already satisfied: matplotlib-inline>=0.1 in /home/franck/anaconda3/envs/gvxr-CMPB/lib/python3.10/site-packages (from ipykernel>=4.5.1->ipywidgets<9.0.0,>=7.0.0->k3d) (0.1.6)\n",
      "Requirement already satisfied: packaging in /home/franck/anaconda3/envs/gvxr-CMPB/lib/python3.10/site-packages (from ipykernel>=4.5.1->ipywidgets<9.0.0,>=7.0.0->k3d) (23.0)\n",
      "Requirement already satisfied: pyzmq>=20 in /home/franck/anaconda3/envs/gvxr-CMPB/lib/python3.10/site-packages (from ipykernel>=4.5.1->ipywidgets<9.0.0,>=7.0.0->k3d) (25.0.0)\n",
      "Requirement already satisfied: jupyter-core!=5.0.*,>=4.12 in /home/franck/anaconda3/envs/gvxr-CMPB/lib/python3.10/site-packages (from ipykernel>=4.5.1->ipywidgets<9.0.0,>=7.0.0->k3d) (5.2.0)\n",
      "Requirement already satisfied: tornado>=6.1 in /home/franck/anaconda3/envs/gvxr-CMPB/lib/python3.10/site-packages (from ipykernel>=4.5.1->ipywidgets<9.0.0,>=7.0.0->k3d) (6.2)\n",
      "Requirement already satisfied: pygments>=2.4.0 in /home/franck/anaconda3/envs/gvxr-CMPB/lib/python3.10/site-packages (from ipython>=4.0.0->ipywidgets<9.0.0,>=7.0.0->k3d) (2.14.0)\n",
      "Requirement already satisfied: stack-data in /home/franck/anaconda3/envs/gvxr-CMPB/lib/python3.10/site-packages (from ipython>=4.0.0->ipywidgets<9.0.0,>=7.0.0->k3d) (0.6.2)\n",
      "Requirement already satisfied: jedi>=0.16 in /home/franck/anaconda3/envs/gvxr-CMPB/lib/python3.10/site-packages (from ipython>=4.0.0->ipywidgets<9.0.0,>=7.0.0->k3d) (0.18.2)\n",
      "Requirement already satisfied: decorator in /home/franck/anaconda3/envs/gvxr-CMPB/lib/python3.10/site-packages (from ipython>=4.0.0->ipywidgets<9.0.0,>=7.0.0->k3d) (5.1.1)\n",
      "Requirement already satisfied: backcall in /home/franck/anaconda3/envs/gvxr-CMPB/lib/python3.10/site-packages (from ipython>=4.0.0->ipywidgets<9.0.0,>=7.0.0->k3d) (0.2.0)\n",
      "Requirement already satisfied: prompt-toolkit!=3.0.37,<3.1.0,>=3.0.30 in /home/franck/anaconda3/envs/gvxr-CMPB/lib/python3.10/site-packages (from ipython>=4.0.0->ipywidgets<9.0.0,>=7.0.0->k3d) (3.0.38)\n",
      "Requirement already satisfied: pexpect>4.3 in /home/franck/anaconda3/envs/gvxr-CMPB/lib/python3.10/site-packages (from ipython>=4.0.0->ipywidgets<9.0.0,>=7.0.0->k3d) (4.8.0)\n",
      "Requirement already satisfied: pickleshare in /home/franck/anaconda3/envs/gvxr-CMPB/lib/python3.10/site-packages (from ipython>=4.0.0->ipywidgets<9.0.0,>=7.0.0->k3d) (0.7.5)\n",
      "Requirement already satisfied: notebook>=4.4.1 in /home/franck/anaconda3/envs/gvxr-CMPB/lib/python3.10/site-packages (from widgetsnbextension~=3.6.0->ipywidgets<9.0.0,>=7.0.0->k3d) (6.5.3)\n",
      "Requirement already satisfied: parso<0.9.0,>=0.8.0 in /home/franck/anaconda3/envs/gvxr-CMPB/lib/python3.10/site-packages (from jedi>=0.16->ipython>=4.0.0->ipywidgets<9.0.0,>=7.0.0->k3d) (0.8.3)\n",
      "Requirement already satisfied: python-dateutil>=2.8.2 in /home/franck/anaconda3/envs/gvxr-CMPB/lib/python3.10/site-packages (from jupyter-client>=6.1.12->ipykernel>=4.5.1->ipywidgets<9.0.0,>=7.0.0->k3d) (2.8.2)\n",
      "Requirement already satisfied: platformdirs>=2.5 in /home/franck/anaconda3/envs/gvxr-CMPB/lib/python3.10/site-packages (from jupyter-core!=5.0.*,>=4.12->ipykernel>=4.5.1->ipywidgets<9.0.0,>=7.0.0->k3d) (3.1.0)\n",
      "Requirement already satisfied: nbformat in /home/franck/anaconda3/envs/gvxr-CMPB/lib/python3.10/site-packages (from notebook>=4.4.1->widgetsnbextension~=3.6.0->ipywidgets<9.0.0,>=7.0.0->k3d) (5.7.3)\n",
      "Requirement already satisfied: terminado>=0.8.3 in /home/franck/anaconda3/envs/gvxr-CMPB/lib/python3.10/site-packages (from notebook>=4.4.1->widgetsnbextension~=3.6.0->ipywidgets<9.0.0,>=7.0.0->k3d) (0.17.1)\n",
      "Requirement already satisfied: jinja2 in /home/franck/anaconda3/envs/gvxr-CMPB/lib/python3.10/site-packages (from notebook>=4.4.1->widgetsnbextension~=3.6.0->ipywidgets<9.0.0,>=7.0.0->k3d) (3.1.2)\n",
      "Requirement already satisfied: nbclassic>=0.4.7 in /home/franck/anaconda3/envs/gvxr-CMPB/lib/python3.10/site-packages (from notebook>=4.4.1->widgetsnbextension~=3.6.0->ipywidgets<9.0.0,>=7.0.0->k3d) (0.5.2)\n",
      "Requirement already satisfied: nbconvert>=5 in /home/franck/anaconda3/envs/gvxr-CMPB/lib/python3.10/site-packages (from notebook>=4.4.1->widgetsnbextension~=3.6.0->ipywidgets<9.0.0,>=7.0.0->k3d) (7.2.9)\n",
      "Requirement already satisfied: prometheus-client in /home/franck/anaconda3/envs/gvxr-CMPB/lib/python3.10/site-packages (from notebook>=4.4.1->widgetsnbextension~=3.6.0->ipywidgets<9.0.0,>=7.0.0->k3d) (0.16.0)\n",
      "Requirement already satisfied: argon2-cffi in /home/franck/anaconda3/envs/gvxr-CMPB/lib/python3.10/site-packages (from notebook>=4.4.1->widgetsnbextension~=3.6.0->ipywidgets<9.0.0,>=7.0.0->k3d) (21.3.0)\n",
      "Requirement already satisfied: Send2Trash>=1.8.0 in /home/franck/anaconda3/envs/gvxr-CMPB/lib/python3.10/site-packages (from notebook>=4.4.1->widgetsnbextension~=3.6.0->ipywidgets<9.0.0,>=7.0.0->k3d) (1.8.0)\n",
      "Requirement already satisfied: ptyprocess>=0.5 in /home/franck/anaconda3/envs/gvxr-CMPB/lib/python3.10/site-packages (from pexpect>4.3->ipython>=4.0.0->ipywidgets<9.0.0,>=7.0.0->k3d) (0.7.0)\n",
      "Requirement already satisfied: wcwidth in /home/franck/anaconda3/envs/gvxr-CMPB/lib/python3.10/site-packages (from prompt-toolkit!=3.0.37,<3.1.0,>=3.0.30->ipython>=4.0.0->ipywidgets<9.0.0,>=7.0.0->k3d) (0.2.6)\n",
      "Requirement already satisfied: asttokens>=2.1.0 in /home/franck/anaconda3/envs/gvxr-CMPB/lib/python3.10/site-packages (from stack-data->ipython>=4.0.0->ipywidgets<9.0.0,>=7.0.0->k3d) (2.2.1)\n",
      "Requirement already satisfied: pure-eval in /home/franck/anaconda3/envs/gvxr-CMPB/lib/python3.10/site-packages (from stack-data->ipython>=4.0.0->ipywidgets<9.0.0,>=7.0.0->k3d) (0.2.2)\n",
      "Requirement already satisfied: executing>=1.2.0 in /home/franck/anaconda3/envs/gvxr-CMPB/lib/python3.10/site-packages (from stack-data->ipython>=4.0.0->ipywidgets<9.0.0,>=7.0.0->k3d) (1.2.0)\n",
      "Requirement already satisfied: six in /home/franck/anaconda3/envs/gvxr-CMPB/lib/python3.10/site-packages (from asttokens>=2.1.0->stack-data->ipython>=4.0.0->ipywidgets<9.0.0,>=7.0.0->k3d) (1.16.0)\n",
      "Requirement already satisfied: jupyter-server>=1.8 in /home/franck/anaconda3/envs/gvxr-CMPB/lib/python3.10/site-packages (from nbclassic>=0.4.7->notebook>=4.4.1->widgetsnbextension~=3.6.0->ipywidgets<9.0.0,>=7.0.0->k3d) (2.3.0)\n",
      "Requirement already satisfied: notebook-shim>=0.1.0 in /home/franck/anaconda3/envs/gvxr-CMPB/lib/python3.10/site-packages (from nbclassic>=0.4.7->notebook>=4.4.1->widgetsnbextension~=3.6.0->ipywidgets<9.0.0,>=7.0.0->k3d) (0.2.2)\n",
      "Requirement already satisfied: jupyterlab-pygments in /home/franck/anaconda3/envs/gvxr-CMPB/lib/python3.10/site-packages (from nbconvert>=5->notebook>=4.4.1->widgetsnbextension~=3.6.0->ipywidgets<9.0.0,>=7.0.0->k3d) (0.2.2)\n",
      "Requirement already satisfied: markupsafe>=2.0 in /home/franck/anaconda3/envs/gvxr-CMPB/lib/python3.10/site-packages (from nbconvert>=5->notebook>=4.4.1->widgetsnbextension~=3.6.0->ipywidgets<9.0.0,>=7.0.0->k3d) (2.1.2)\n",
      "Requirement already satisfied: pandocfilters>=1.4.1 in /home/franck/anaconda3/envs/gvxr-CMPB/lib/python3.10/site-packages (from nbconvert>=5->notebook>=4.4.1->widgetsnbextension~=3.6.0->ipywidgets<9.0.0,>=7.0.0->k3d) (1.5.0)\n",
      "Requirement already satisfied: tinycss2 in /home/franck/anaconda3/envs/gvxr-CMPB/lib/python3.10/site-packages (from nbconvert>=5->notebook>=4.4.1->widgetsnbextension~=3.6.0->ipywidgets<9.0.0,>=7.0.0->k3d) (1.2.1)\n",
      "Requirement already satisfied: defusedxml in /home/franck/anaconda3/envs/gvxr-CMPB/lib/python3.10/site-packages (from nbconvert>=5->notebook>=4.4.1->widgetsnbextension~=3.6.0->ipywidgets<9.0.0,>=7.0.0->k3d) (0.7.1)\n",
      "Requirement already satisfied: beautifulsoup4 in /home/franck/anaconda3/envs/gvxr-CMPB/lib/python3.10/site-packages (from nbconvert>=5->notebook>=4.4.1->widgetsnbextension~=3.6.0->ipywidgets<9.0.0,>=7.0.0->k3d) (4.11.2)\n",
      "Requirement already satisfied: nbclient>=0.5.0 in /home/franck/anaconda3/envs/gvxr-CMPB/lib/python3.10/site-packages (from nbconvert>=5->notebook>=4.4.1->widgetsnbextension~=3.6.0->ipywidgets<9.0.0,>=7.0.0->k3d) (0.7.2)\n",
      "Requirement already satisfied: mistune<3,>=2.0.3 in /home/franck/anaconda3/envs/gvxr-CMPB/lib/python3.10/site-packages (from nbconvert>=5->notebook>=4.4.1->widgetsnbextension~=3.6.0->ipywidgets<9.0.0,>=7.0.0->k3d) (2.0.5)\n",
      "Requirement already satisfied: bleach in /home/franck/anaconda3/envs/gvxr-CMPB/lib/python3.10/site-packages (from nbconvert>=5->notebook>=4.4.1->widgetsnbextension~=3.6.0->ipywidgets<9.0.0,>=7.0.0->k3d) (6.0.0)\n",
      "Requirement already satisfied: fastjsonschema in /home/franck/anaconda3/envs/gvxr-CMPB/lib/python3.10/site-packages (from nbformat->notebook>=4.4.1->widgetsnbextension~=3.6.0->ipywidgets<9.0.0,>=7.0.0->k3d) (2.16.3)\n",
      "Requirement already satisfied: jsonschema>=2.6 in /home/franck/anaconda3/envs/gvxr-CMPB/lib/python3.10/site-packages (from nbformat->notebook>=4.4.1->widgetsnbextension~=3.6.0->ipywidgets<9.0.0,>=7.0.0->k3d) (4.17.3)\n",
      "Requirement already satisfied: argon2-cffi-bindings in /home/franck/anaconda3/envs/gvxr-CMPB/lib/python3.10/site-packages (from argon2-cffi->notebook>=4.4.1->widgetsnbextension~=3.6.0->ipywidgets<9.0.0,>=7.0.0->k3d) (21.2.0)\n",
      "Requirement already satisfied: pyrsistent!=0.17.0,!=0.17.1,!=0.17.2,>=0.14.0 in /home/franck/anaconda3/envs/gvxr-CMPB/lib/python3.10/site-packages (from jsonschema>=2.6->nbformat->notebook>=4.4.1->widgetsnbextension~=3.6.0->ipywidgets<9.0.0,>=7.0.0->k3d) (0.19.3)\n",
      "Requirement already satisfied: attrs>=17.4.0 in /home/franck/anaconda3/envs/gvxr-CMPB/lib/python3.10/site-packages (from jsonschema>=2.6->nbformat->notebook>=4.4.1->widgetsnbextension~=3.6.0->ipywidgets<9.0.0,>=7.0.0->k3d) (22.2.0)\n",
      "Requirement already satisfied: jupyter-server-terminals in /home/franck/anaconda3/envs/gvxr-CMPB/lib/python3.10/site-packages (from jupyter-server>=1.8->nbclassic>=0.4.7->notebook>=4.4.1->widgetsnbextension~=3.6.0->ipywidgets<9.0.0,>=7.0.0->k3d) (0.4.4)\n",
      "Requirement already satisfied: anyio>=3.1.0 in /home/franck/anaconda3/envs/gvxr-CMPB/lib/python3.10/site-packages (from jupyter-server>=1.8->nbclassic>=0.4.7->notebook>=4.4.1->widgetsnbextension~=3.6.0->ipywidgets<9.0.0,>=7.0.0->k3d) (3.6.2)\n",
      "Requirement already satisfied: websocket-client in /home/franck/anaconda3/envs/gvxr-CMPB/lib/python3.10/site-packages (from jupyter-server>=1.8->nbclassic>=0.4.7->notebook>=4.4.1->widgetsnbextension~=3.6.0->ipywidgets<9.0.0,>=7.0.0->k3d) (1.5.1)\n",
      "Requirement already satisfied: jupyter-events>=0.4.0 in /home/franck/anaconda3/envs/gvxr-CMPB/lib/python3.10/site-packages (from jupyter-server>=1.8->nbclassic>=0.4.7->notebook>=4.4.1->widgetsnbextension~=3.6.0->ipywidgets<9.0.0,>=7.0.0->k3d) (0.6.3)\n",
      "Requirement already satisfied: cffi>=1.0.1 in /home/franck/anaconda3/envs/gvxr-CMPB/lib/python3.10/site-packages (from argon2-cffi-bindings->argon2-cffi->notebook>=4.4.1->widgetsnbextension~=3.6.0->ipywidgets<9.0.0,>=7.0.0->k3d) (1.15.1)\n",
      "Requirement already satisfied: soupsieve>1.2 in /home/franck/anaconda3/envs/gvxr-CMPB/lib/python3.10/site-packages (from beautifulsoup4->nbconvert>=5->notebook>=4.4.1->widgetsnbextension~=3.6.0->ipywidgets<9.0.0,>=7.0.0->k3d) (2.3.2.post1)\n",
      "Requirement already satisfied: webencodings in /home/franck/anaconda3/envs/gvxr-CMPB/lib/python3.10/site-packages (from bleach->nbconvert>=5->notebook>=4.4.1->widgetsnbextension~=3.6.0->ipywidgets<9.0.0,>=7.0.0->k3d) (0.5.1)\n",
      "Requirement already satisfied: sniffio>=1.1 in /home/franck/anaconda3/envs/gvxr-CMPB/lib/python3.10/site-packages (from anyio>=3.1.0->jupyter-server>=1.8->nbclassic>=0.4.7->notebook>=4.4.1->widgetsnbextension~=3.6.0->ipywidgets<9.0.0,>=7.0.0->k3d) (1.3.0)\n",
      "Requirement already satisfied: idna>=2.8 in /home/franck/anaconda3/envs/gvxr-CMPB/lib/python3.10/site-packages (from anyio>=3.1.0->jupyter-server>=1.8->nbclassic>=0.4.7->notebook>=4.4.1->widgetsnbextension~=3.6.0->ipywidgets<9.0.0,>=7.0.0->k3d) (3.4)\n",
      "Requirement already satisfied: pycparser in /home/franck/anaconda3/envs/gvxr-CMPB/lib/python3.10/site-packages (from cffi>=1.0.1->argon2-cffi-bindings->argon2-cffi->notebook>=4.4.1->widgetsnbextension~=3.6.0->ipywidgets<9.0.0,>=7.0.0->k3d) (2.21)\n",
      "Requirement already satisfied: pyyaml>=5.3 in /home/franck/anaconda3/envs/gvxr-CMPB/lib/python3.10/site-packages (from jupyter-events>=0.4.0->jupyter-server>=1.8->nbclassic>=0.4.7->notebook>=4.4.1->widgetsnbextension~=3.6.0->ipywidgets<9.0.0,>=7.0.0->k3d) (6.0)\n",
      "Requirement already satisfied: rfc3986-validator>=0.1.1 in /home/franck/anaconda3/envs/gvxr-CMPB/lib/python3.10/site-packages (from jupyter-events>=0.4.0->jupyter-server>=1.8->nbclassic>=0.4.7->notebook>=4.4.1->widgetsnbextension~=3.6.0->ipywidgets<9.0.0,>=7.0.0->k3d) (0.1.1)\n",
      "Requirement already satisfied: python-json-logger>=2.0.4 in /home/franck/anaconda3/envs/gvxr-CMPB/lib/python3.10/site-packages (from jupyter-events>=0.4.0->jupyter-server>=1.8->nbclassic>=0.4.7->notebook>=4.4.1->widgetsnbextension~=3.6.0->ipywidgets<9.0.0,>=7.0.0->k3d) (2.0.7)\n",
      "Requirement already satisfied: rfc3339-validator in /home/franck/anaconda3/envs/gvxr-CMPB/lib/python3.10/site-packages (from jupyter-events>=0.4.0->jupyter-server>=1.8->nbclassic>=0.4.7->notebook>=4.4.1->widgetsnbextension~=3.6.0->ipywidgets<9.0.0,>=7.0.0->k3d) (0.1.4)\n",
      "Requirement already satisfied: jsonpointer>1.13 in /home/franck/anaconda3/envs/gvxr-CMPB/lib/python3.10/site-packages (from jsonschema>=2.6->nbformat->notebook>=4.4.1->widgetsnbextension~=3.6.0->ipywidgets<9.0.0,>=7.0.0->k3d) (2.3)\n",
      "Requirement already satisfied: uri-template in /home/franck/anaconda3/envs/gvxr-CMPB/lib/python3.10/site-packages (from jsonschema>=2.6->nbformat->notebook>=4.4.1->widgetsnbextension~=3.6.0->ipywidgets<9.0.0,>=7.0.0->k3d) (1.2.0)\n",
      "Requirement already satisfied: fqdn in /home/franck/anaconda3/envs/gvxr-CMPB/lib/python3.10/site-packages (from jsonschema>=2.6->nbformat->notebook>=4.4.1->widgetsnbextension~=3.6.0->ipywidgets<9.0.0,>=7.0.0->k3d) (1.5.1)\n",
      "Requirement already satisfied: isoduration in /home/franck/anaconda3/envs/gvxr-CMPB/lib/python3.10/site-packages (from jsonschema>=2.6->nbformat->notebook>=4.4.1->widgetsnbextension~=3.6.0->ipywidgets<9.0.0,>=7.0.0->k3d) (20.11.0)\n",
      "Requirement already satisfied: webcolors>=1.11 in /home/franck/anaconda3/envs/gvxr-CMPB/lib/python3.10/site-packages (from jsonschema>=2.6->nbformat->notebook>=4.4.1->widgetsnbextension~=3.6.0->ipywidgets<9.0.0,>=7.0.0->k3d) (1.12)\n",
      "Requirement already satisfied: arrow>=0.15.0 in /home/franck/anaconda3/envs/gvxr-CMPB/lib/python3.10/site-packages (from isoduration->jsonschema>=2.6->nbformat->notebook>=4.4.1->widgetsnbextension~=3.6.0->ipywidgets<9.0.0,>=7.0.0->k3d) (1.2.3)\n",
      "Installing collected packages: imagecodecs\n",
      "  Attempting uninstall: imagecodecs\n",
      "    Found existing installation: imagecodecs 2022.9.26\n",
      "    Uninstalling imagecodecs-2022.9.26:\n",
      "      Successfully uninstalled imagecodecs-2022.9.26\n",
      "Successfully installed imagecodecs-2023.1.23\n"
     ]
    }
   ],
   "source": [
    "!pip3 install --upgrade gvxr k3d imagecodecs"
   ]
  },
  {
   "cell_type": "markdown",
   "metadata": {
    "slideshow": {
     "slide_type": "slide"
    },
    "tags": []
   },
   "source": [
    "## Import packages\n",
    "\n",
    "To get started we will need to import the required packages. The next cell is the same boilerplate code used in the previous notebook to set everything up for the session. Once again we don't need to know the exact details at this stage so for now we can safely run this cell and move on. However, for the curious the comments explain what the various packages are for.  "
   ]
  },
  {
   "cell_type": "code",
   "execution_count": 5,
   "metadata": {
    "tags": []
   },
   "outputs": [
    {
     "name": "stdout",
     "output_type": "stream",
     "text": [
      "xpecgen is not install, you won't be able to load a beam spectrum using xpecgen\n"
     ]
    }
   ],
   "source": [
    "# import os\n",
    "# import numpy as np # Who does not use Numpy?\n",
    "# import matplotlib # To plot images\n",
    "# import matplotlib.pyplot as plt # Plotting\n",
    "# from matplotlib.colors import LogNorm # Look up table\n",
    "# from matplotlib.colors import PowerNorm # Look up table\n",
    "\n",
    "# font = {'family' : 'serif',\n",
    "#          'size'   : 10\n",
    "#        }\n",
    "# matplotlib.rc('font', **font)\n",
    "\n",
    "# Uncomment the line below to use LaTeX fonts\n",
    "# matplotlib.rc('text', usetex=True)\n",
    "\n",
    "# from tifffile import imread, imwrite # Write TIFF files\n",
    "\n",
    "# import base64 # Save the visualisation\n",
    "\n",
    "from gvxrPython3 import gvxr # Simulate X-ray images\n",
    "# from gvxrPython3.utils import saveProjections # Plot the X-ray image in linear, log and power law scales\n",
    "from gvxrPython3.utils import compareWithGroundTruth # Plot the ground truth, the test image, and the relative error map in %\n",
    "# from gvxrPython3.utils import interactPlotPowerLaw # Plot the X-ray image using a Power law look-up table\n",
    "# from gvxrPython3.utils import visualise # Visualise the 3D environment if k3D is supported\n",
    "# from gvxrPython3.utils import plotScreenshot # Visualise the 3D environment if Matplotlib is supported"
   ]
  },
  {
   "cell_type": "markdown",
   "metadata": {
    "slideshow": {
     "slide_type": "slide"
    },
    "tags": []
   },
   "source": [
    "## Create an OpenGL context\n",
    "\n",
    "As with the previous notebook we will need to create an OpenGL context using `gvxr.createWindow(window_id, visible, backend, opengl_major_version, opengl_minor_version)`\n",
    "\n",
    "For this tutorial (and the subsequent ones) we will stick with **\"EGL\"** for the backend, this is because we are using the Cloud for this training. On my PC and laptop, I would use \"OPENGL\" to enable an interactive 3D visualisation window. "
   ]
  },
  {
   "cell_type": "code",
   "execution_count": 4,
   "metadata": {
    "tags": []
   },
   "outputs": [
    {
     "name": "stdout",
     "output_type": "stream",
     "text": [
      "Create an OpenGL context\n"
     ]
    },
    {
     "name": "stderr",
     "output_type": "stream",
     "text": [
      "Tue Mar  7 15:07:57 2023 ---- Create window (ID: 0)\n",
      "Tue Mar  7 15:07:57 2023 ---- Query the number of EGL devices\n",
      "Tue Mar  7 15:07:57 2023 ---- Success\n",
      "Tue Mar  7 15:07:57 2023 ---- Detected 3 EGL devices.\n",
      "Tue Mar  7 15:07:57 2023 ---- Print the details here of every EGL device.\n",
      "Tue Mar  7 15:07:57 2023 ---- Success\n",
      "Tue Mar  7 15:07:57 2023 ---- Device 1/3:\n",
      "Tue Mar  7 15:07:57 2023 ---- \tDevice Extensions: EGL_NV_device_cuda EGL_EXT_device_drm EGL_EXT_device_drm_render_node EGL_EXT_device_query_name EGL_EXT_device_persistent_id\n",
      "Tue Mar  7 15:07:57 2023 ---- \tDevice vendor: NVIDIA\n",
      "Tue Mar  7 15:07:57 2023 ---- \tEGL DRM device file: /dev/dri/card0\n",
      "Tue Mar  7 15:07:57 2023 ---- Device 2/3:\n",
      "Tue Mar  7 15:07:57 2023 ---- \tDevice Extensions: EGL_EXT_device_drm\n",
      "Tue Mar  7 15:07:57 2023 ---- \tFailed to retrieve device vendor.\n",
      "Tue Mar  7 15:07:57 2023 ---- \tEGL DRM device file: /dev/dri/card0\n",
      "Tue Mar  7 15:07:57 2023 ---- Device 3/3:\n",
      "Tue Mar  7 15:07:57 2023 ---- \tDevice Extensions: EGL_MESA_device_software\n",
      "Tue Mar  7 15:07:57 2023 ---- \tFailed to retrieve device vendor.\n",
      "Tue Mar  7 15:07:57 2023 ---- \tFailed to retrieve EGL DRM device file.\n",
      "Tue Mar  7 15:07:57 2023 ---- EGL client extensions: EGL_EXT_platform_base EGL_EXT_device_base EGL_EXT_device_enumeration EGL_EXT_device_query EGL_KHR_client_get_all_proc_addresses EGL_EXT_client_extensions EGL_KHR_debug EGL_KHR_platform_x11 EGL_EXT_platform_x11 EGL_EXT_platform_device EGL_MESA_platform_surfaceless EGL_EXT_explicit_device EGL_KHR_platform_wayland EGL_EXT_platform_wayland EGL_KHR_platform_gbm EGL_MESA_platform_gbm\n",
      "Tue Mar  7 15:07:57 2023 ---- EGL, find the default display\n",
      "Tue Mar  7 15:07:57 2023 ---- \tSUCCESS\n",
      "Tue Mar  7 15:07:57 2023 ---- Initialise EGL\n",
      "Tue Mar  7 15:07:57 2023 ---- EGL version: 1.5\n",
      "Tue Mar  7 15:07:57 2023 ---- Bind the OpenGL API to EGL\n",
      "Tue Mar  7 15:07:57 2023 ---- Create the context\n",
      "Tue Mar  7 15:07:57 2023 ---- Create the surface\n",
      "Tue Mar  7 15:07:57 2023 ---- Make the context current\n",
      "Tue Mar  7 15:07:58 2023 ---- Initialise GLEW\n",
      "Tue Mar  7 15:07:58 2023 ---- OpenGL version supported by this platform 4.5.0 NVIDIA 525.85.12\n",
      "Tue Mar  7 15:07:58 2023 ---- OpenGL vendor:NVIDIA Corporation\n",
      "Tue Mar  7 15:07:58 2023 ---- OpenGL renderer:NVIDIA GeForce RTX 2080 Ti/PCIe/SSE2\n",
      "Tue Mar  7 15:07:58 2023 ---- OpenGL version:4.5.0 NVIDIA 525.85.12\n",
      "Tue Mar  7 15:07:58 2023 ---- Use OpenGL 4.5.\n",
      "Tue Mar  7 15:07:58 2023 ---- Initialise the X-ray renderer if needed and if possible\n"
     ]
    }
   ],
   "source": [
    "print(\"Create an OpenGL context\")\n",
    "\n",
    "window_id = 0\n",
    "opengl_major_version = 4\n",
    "opengl_minor_version = 5\n",
    "\n",
    "# gvxr.createOpenGLContext(window_id, opengl_major_version, opengl_minor_version);\n",
    "\n",
    "# backend = \"OPENGL\"\n",
    "# visible = True\n",
    "\n",
    "# gvxr.createWindow(window_id, visible, backend, opengl_major_version, opengl_minor_version);\n",
    "\n",
    "visible = False\n",
    "# gvxr.createWindow(window_id, visible, backend, opengl_major_version, opengl_minor_version);\n",
    "\n",
    "backend = \"EGL\"\n",
    "# visible has no effect with EGL\n",
    "gvxr.createWindow(window_id, visible, backend, opengl_major_version, opengl_minor_version);"
   ]
  },
  {
   "cell_type": "markdown",
   "metadata": {},
   "source": [
    "## Setting up the Scene\n",
    "\n",
    "Now that we have our OpenGL context we need to import the different pieces of the model and set the parameters for the source, detector ect.\n",
    "\n",
    "---\n",
    "## Task\n",
    "\n",
    "Using knowledge from, the previous notebook setup the scene as follows:\n",
    "- place a 300 KeV monochromatic X-Ray source of 1000 photons at `x = 0`, `y = -40.0 cm`, `z = 0.0 cm`\n",
    "- place the X-Detector at `x = 0`, `y = 30.0 cm`, `z = 0.0 cm`\n",
    "- set the Detector to have 800 pixels in x and y spaced 0.7 mm apart in both directions. Also set the upVector to be along the negative z-axis i.e. (0.0,0.0,-1.0)\n",
    "- Import the 6 stl files, found in `input_data/TurboPump` each with appropriate unique id.\n",
    "- place the centre of the bounding box of the pump at `x = 0`, `y = 20.0 cm`, `z = 0.0 cm`"
   ]
  },
  {
   "cell_type": "code",
   "execution_count": null,
   "metadata": {},
   "outputs": [],
   "source": [
    "gvxr.setSourcePosition(0.0, -40.0, 0.0, \"cm\")\n",
    "gvxr.usePointSource()\n",
    "gvxr.setMonoChromatic(0.3, \"MeV\", 1000)\n",
    "gvxr.setDetectorNumberOfPixels(800, 800)\n",
    "gvxr.setDetectorPixelSize(0.7, 0.7, \"mm\")\n",
    "gvxr.setDetectorPosition(0.0, 30.0, 0.0, \"cm\")\n",
    "gvxr.setDetectorUpVector(0, 0, -1)\n",
    "\n",
    "parts_list = [\"internals\",\"coupler\",\"front_flange\",\"rear_flange\",\"housing\",\"roller_bearing\"]\n",
    "\n",
    "part_files = [\"../input_data/TurboPump/internals.stl\",\n",
    "               \"../input_data/TurboPump/coupler.stl\",\n",
    "               \"../input_data/TurboPump/front_flange.stl\",\n",
    "               \"../input_data/TurboPump/rear_flange.stl\",\n",
    "               \"../input_data/TurboPump/housing.stl\",\n",
    "               \"../input_data/TurboPump/ThrustRollerBearing.stl\"]\n",
    "               \n",
    "for i,name in enumerate(parts_list):\n",
    "     gvxr.loadMeshFile(name,part_files[i],\"mm\")\n",
    "\n",
    "transformation_matrix_backbup1 = gvxr.getNodeWorldTransformationMatrix(\"root\")\n",
    "\n",
    "gvxr.translateNode(\"root\", 0.0, -20.0, 0.0, \"cm\")\n",
    "gvxr.moveToCentre()\n",
    "\n",
    "transformation_matrix_backbup2 = gvxr.getNodeWorldTransformationMatrix(\"root\")\n",
    "\n",
    "gvxr.displayScene()\n",
    "     \n",
    "plotScreenshot()"
   ]
  },
  {
   "cell_type": "markdown",
   "metadata": {},
   "source": [
    "## Working with basic Chemical Elements\n",
    "\n",
    "We know from the theory that the attenuation of the X-Ray beam is directly dependant on:\n",
    "- The beam energy\n",
    "- The material density\n",
    "- The materials Z number.\n",
    "\n",
    "Thus by changing the material of the sample we will change the amount of attenuation, and hence end up with a lighter, or darker image.\n",
    "\n",
    "![Periodic table](img/03-PeriodicTable.png)[^1]\n",
    "\n",
    "[^1]: Image of periodic table from https://sciencenotes.org/wp-content/uploads/2014/11/PeriodicTableWallpaper1.png"
   ]
  },
  {
   "cell_type": "markdown",
   "metadata": {},
   "source": [
    "---\n",
    "## Task\n",
    "We saw in the previous notebook how to use the `setElement(ID,Element)` function to change the element that the sample is made from. Remember `ID` is a string that acts a label for the model. whilst `Element` can be the symbol, full name or atomic number of any of the first 100 elements in the periodic table.\n",
    "\n",
    "For this task we have deliberately chosen a beam energy such that light elements will be appear quite transparent. Whilst heavier elements will still appear opaque.\n",
    "\n",
    "With this in mind try setting different part of the model to different elements and computing the resulting xray images. We suggest setting the internal structures (internals.stl, coupler.stl and ThrustRollerBearing.stl) to something nice and heavy like Iron. whilst the external parts can be set to something lighter like Titanium, Aluminum or even Carbon to allow you to see the parts inside. \n",
    "\n",
    "Also as a bonus exercise try imaging the model from the side, that is rotated 90 degrees around the x-axis. Note: You may want/need to reposition the model to get a decent image."
   ]
  },
  {
   "cell_type": "code",
   "execution_count": null,
   "metadata": {},
   "outputs": [],
   "source": []
  },
  {
   "cell_type": "markdown",
   "metadata": {},
   "source": [
    "## Alloys and Mixtures"
   ]
  },
  {
   "cell_type": "markdown",
   "metadata": {},
   "source": [
    "Now obviously the world is a complex place and many materials are made from mixtures of different elements. To define these in GVXR we will use a different function `gvxr.setMixture(ID,Elements,Amounts)`. Here ID is, once again a label for the model, elements is a list of atomic number for all the elements in the mixture (note: names and symbols don't currently work) and amounts are the relative amounts of each element (out of 100%). You will also need to specify the density of the mixture using `gvvxr.setDensity(ID,density,units)` in this case density is a number and units is a string that denote the units used (in this case the only allowed values are `\"g/cm3\"` or `\"g.cm-3\"`).\n",
    "\n",
    "---\n",
    "## Task:\n",
    "The next task is to set any one part of your choice from the turbo-pump model to be made from stainless steel and plot both the origional and new X-ray images side by side.\n",
    "\n",
    "In this case we will use US SAE standard 305 stainless steel which according to [World Materail](https://www.theworldmaterial.com/stainless-steel-chemical-composition/) has a density of 8 g/cm^-3 and consists of:\n",
    "|Element|relative percentage|\n",
    "|---|---|\n",
    "|Carbon|0.12|\n",
    "|Manganese|2.00|\n",
    "|Si|1.00|\n",
    "|Chromium|19.0|\n",
    "|Ni|11.0|\n",
    "|Iron|66.85|\n",
    "\n",
    "Note: unless you have a particularly good monitor small differences in greyscale can be somewhat difficult to see. So to show the difference more clearly you may find it easier using either a different colormap (matplotlib has a number you can choose [from](https://matplotlib.org/stable/tutorials/colors/colormaps.html)) or you can use the `compareWithGroundTruth()` function. "
   ]
  },
  {
   "cell_type": "code",
   "execution_count": null,
   "metadata": {},
   "outputs": [],
   "source": [
    "\n"
   ]
  },
  {
   "cell_type": "markdown",
   "metadata": {},
   "source": [
    "## Working with compounds\n",
    "\n",
    "Working with compounds is much the same as mixtures, the main difference being you use a chemical formulae to define the relative amounts of each element eg. carbon dioxide: \"CO2\" as opposed to exact percentages. GVXR allows this by using the `gvxr.setCompound(ID, Formulae)` where Formulae is a string representing the chemical formula of the compound you wish to use. For example water would be \"H2O\", methane would be \"CH4\", Silicon carbide would be \"SiC\" ect ...\n",
    "\n",
    "Note: when using this we still need to explicitly set the density using `gvxr.setDensity()`.\n",
    "\n",
    "---\n",
    "## Task: \n",
    "\n",
    "For the final task set a part of the pump of your choice to be made from Titanium dioxide (the formulae for which is TiO2) which for the record has a density of 4.7 g/cm^-3 [^2].\n",
    "\n",
    "[^2]:  Haynes, W.M. (ed.). CRC Handbook of Chemistry and Physics. 94th Edition. CRC Press LLC, Boca Raton: FL 2013-2014, p. 4-96"
   ]
  },
  {
   "cell_type": "code",
   "execution_count": null,
   "metadata": {},
   "outputs": [],
   "source": []
  },
  {
   "cell_type": "code",
   "execution_count": null,
   "metadata": {},
   "outputs": [],
   "source": [
    "gvxr.terminate()"
   ]
  }
 ],
 "metadata": {
  "kernelspec": {
   "display_name": "Python 3 (ipykernel)",
   "language": "python",
   "name": "python3"
  },
  "language_info": {
   "codemirror_mode": {
    "name": "ipython",
    "version": 3
   },
   "file_extension": ".py",
   "mimetype": "text/x-python",
   "name": "python",
   "nbconvert_exporter": "python",
   "pygments_lexer": "ipython3",
   "version": "3.10.9"
  },
  "vscode": {
   "interpreter": {
    "hash": "585e9fc9b818a92a95ff682530f87f6de2c4282b8239c594bde282f49476a8c7"
   }
  }
 },
 "nbformat": 4,
 "nbformat_minor": 4
}
