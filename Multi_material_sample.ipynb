{
  "cells": [
    {
      "cell_type": "markdown",
      "metadata": {
        "id": "view-in-github",
        "colab_type": "text"
      },
      "source": [
        "<a href=\"https://colab.research.google.com/github/effepivi/gvxr-tutorials/blob/main/Multi_material_sample.ipynb\" target=\"_parent\"><img src=\"https://colab.research.google.com/assets/colab-badge.svg\" alt=\"Open In Colab\"/></a>"
      ]
    },
    {
      "cell_type": "code",
      "execution_count": 1,
      "metadata": {
        "tags": [],
        "colab": {
          "base_uri": "https://localhost:8080/",
          "height": 410
        },
        "id": "zBi7VrdtxjYg",
        "outputId": "b4ed370d-939b-4c00-8b38-708e2d62c865"
      },
      "outputs": [
        {
          "output_type": "error",
          "ename": "ModuleNotFoundError",
          "evalue": "ignored",
          "traceback": [
            "\u001b[0;31m---------------------------------------------------------------------------\u001b[0m",
            "\u001b[0;31mModuleNotFoundError\u001b[0m                       Traceback (most recent call last)",
            "\u001b[0;32m<ipython-input-1-7b899824b39e>\u001b[0m in \u001b[0;36m<module>\u001b[0;34m\u001b[0m\n\u001b[0;32m----> 1\u001b[0;31m \u001b[0mget_ipython\u001b[0m\u001b[0;34m(\u001b[0m\u001b[0;34m)\u001b[0m\u001b[0;34m.\u001b[0m\u001b[0mrun_line_magic\u001b[0m\u001b[0;34m(\u001b[0m\u001b[0;34m'matplotlib'\u001b[0m\u001b[0;34m,\u001b[0m \u001b[0;34m'widget'\u001b[0m\u001b[0;34m)\u001b[0m\u001b[0;34m\u001b[0m\u001b[0;34m\u001b[0m\u001b[0m\n\u001b[0m",
            "\u001b[0;32m/usr/local/lib/python3.8/dist-packages/IPython/core/interactiveshell.py\u001b[0m in \u001b[0;36mrun_line_magic\u001b[0;34m(self, magic_name, line, _stack_depth)\u001b[0m\n\u001b[1;32m   2312\u001b[0m                 \u001b[0mkwargs\u001b[0m\u001b[0;34m[\u001b[0m\u001b[0;34m'local_ns'\u001b[0m\u001b[0;34m]\u001b[0m \u001b[0;34m=\u001b[0m \u001b[0msys\u001b[0m\u001b[0;34m.\u001b[0m\u001b[0m_getframe\u001b[0m\u001b[0;34m(\u001b[0m\u001b[0mstack_depth\u001b[0m\u001b[0;34m)\u001b[0m\u001b[0;34m.\u001b[0m\u001b[0mf_locals\u001b[0m\u001b[0;34m\u001b[0m\u001b[0;34m\u001b[0m\u001b[0m\n\u001b[1;32m   2313\u001b[0m             \u001b[0;32mwith\u001b[0m \u001b[0mself\u001b[0m\u001b[0;34m.\u001b[0m\u001b[0mbuiltin_trap\u001b[0m\u001b[0;34m:\u001b[0m\u001b[0;34m\u001b[0m\u001b[0;34m\u001b[0m\u001b[0m\n\u001b[0;32m-> 2314\u001b[0;31m                 \u001b[0mresult\u001b[0m \u001b[0;34m=\u001b[0m \u001b[0mfn\u001b[0m\u001b[0;34m(\u001b[0m\u001b[0;34m*\u001b[0m\u001b[0margs\u001b[0m\u001b[0;34m,\u001b[0m \u001b[0;34m**\u001b[0m\u001b[0mkwargs\u001b[0m\u001b[0;34m)\u001b[0m\u001b[0;34m\u001b[0m\u001b[0;34m\u001b[0m\u001b[0m\n\u001b[0m\u001b[1;32m   2315\u001b[0m             \u001b[0;32mreturn\u001b[0m \u001b[0mresult\u001b[0m\u001b[0;34m\u001b[0m\u001b[0;34m\u001b[0m\u001b[0m\n\u001b[1;32m   2316\u001b[0m \u001b[0;34m\u001b[0m\u001b[0m\n",
            "\u001b[0;32m<decorator-gen-101>\u001b[0m in \u001b[0;36mmatplotlib\u001b[0;34m(self, line)\u001b[0m\n",
            "\u001b[0;32m/usr/local/lib/python3.8/dist-packages/IPython/core/magic.py\u001b[0m in \u001b[0;36m<lambda>\u001b[0;34m(f, *a, **k)\u001b[0m\n\u001b[1;32m    185\u001b[0m     \u001b[0;31m# but it's overkill for just that one bit of state.\u001b[0m\u001b[0;34m\u001b[0m\u001b[0;34m\u001b[0m\u001b[0;34m\u001b[0m\u001b[0m\n\u001b[1;32m    186\u001b[0m     \u001b[0;32mdef\u001b[0m \u001b[0mmagic_deco\u001b[0m\u001b[0;34m(\u001b[0m\u001b[0marg\u001b[0m\u001b[0;34m)\u001b[0m\u001b[0;34m:\u001b[0m\u001b[0;34m\u001b[0m\u001b[0;34m\u001b[0m\u001b[0m\n\u001b[0;32m--> 187\u001b[0;31m         \u001b[0mcall\u001b[0m \u001b[0;34m=\u001b[0m \u001b[0;32mlambda\u001b[0m \u001b[0mf\u001b[0m\u001b[0;34m,\u001b[0m \u001b[0;34m*\u001b[0m\u001b[0ma\u001b[0m\u001b[0;34m,\u001b[0m \u001b[0;34m**\u001b[0m\u001b[0mk\u001b[0m\u001b[0;34m:\u001b[0m \u001b[0mf\u001b[0m\u001b[0;34m(\u001b[0m\u001b[0;34m*\u001b[0m\u001b[0ma\u001b[0m\u001b[0;34m,\u001b[0m \u001b[0;34m**\u001b[0m\u001b[0mk\u001b[0m\u001b[0;34m)\u001b[0m\u001b[0;34m\u001b[0m\u001b[0;34m\u001b[0m\u001b[0m\n\u001b[0m\u001b[1;32m    188\u001b[0m \u001b[0;34m\u001b[0m\u001b[0m\n\u001b[1;32m    189\u001b[0m         \u001b[0;32mif\u001b[0m \u001b[0mcallable\u001b[0m\u001b[0;34m(\u001b[0m\u001b[0marg\u001b[0m\u001b[0;34m)\u001b[0m\u001b[0;34m:\u001b[0m\u001b[0;34m\u001b[0m\u001b[0;34m\u001b[0m\u001b[0m\n",
            "\u001b[0;32m/usr/local/lib/python3.8/dist-packages/IPython/core/magics/pylab.py\u001b[0m in \u001b[0;36mmatplotlib\u001b[0;34m(self, line)\u001b[0m\n\u001b[1;32m     97\u001b[0m             \u001b[0mprint\u001b[0m\u001b[0;34m(\u001b[0m\u001b[0;34m\"Available matplotlib backends: %s\"\u001b[0m \u001b[0;34m%\u001b[0m \u001b[0mbackends_list\u001b[0m\u001b[0;34m)\u001b[0m\u001b[0;34m\u001b[0m\u001b[0;34m\u001b[0m\u001b[0m\n\u001b[1;32m     98\u001b[0m         \u001b[0;32melse\u001b[0m\u001b[0;34m:\u001b[0m\u001b[0;34m\u001b[0m\u001b[0;34m\u001b[0m\u001b[0m\n\u001b[0;32m---> 99\u001b[0;31m             \u001b[0mgui\u001b[0m\u001b[0;34m,\u001b[0m \u001b[0mbackend\u001b[0m \u001b[0;34m=\u001b[0m \u001b[0mself\u001b[0m\u001b[0;34m.\u001b[0m\u001b[0mshell\u001b[0m\u001b[0;34m.\u001b[0m\u001b[0menable_matplotlib\u001b[0m\u001b[0;34m(\u001b[0m\u001b[0margs\u001b[0m\u001b[0;34m.\u001b[0m\u001b[0mgui\u001b[0m\u001b[0;34m.\u001b[0m\u001b[0mlower\u001b[0m\u001b[0;34m(\u001b[0m\u001b[0;34m)\u001b[0m \u001b[0;32mif\u001b[0m \u001b[0misinstance\u001b[0m\u001b[0;34m(\u001b[0m\u001b[0margs\u001b[0m\u001b[0;34m.\u001b[0m\u001b[0mgui\u001b[0m\u001b[0;34m,\u001b[0m \u001b[0mstr\u001b[0m\u001b[0;34m)\u001b[0m \u001b[0;32melse\u001b[0m \u001b[0margs\u001b[0m\u001b[0;34m.\u001b[0m\u001b[0mgui\u001b[0m\u001b[0;34m)\u001b[0m\u001b[0;34m\u001b[0m\u001b[0;34m\u001b[0m\u001b[0m\n\u001b[0m\u001b[1;32m    100\u001b[0m             \u001b[0mself\u001b[0m\u001b[0;34m.\u001b[0m\u001b[0m_show_matplotlib_backend\u001b[0m\u001b[0;34m(\u001b[0m\u001b[0margs\u001b[0m\u001b[0;34m.\u001b[0m\u001b[0mgui\u001b[0m\u001b[0;34m,\u001b[0m \u001b[0mbackend\u001b[0m\u001b[0;34m)\u001b[0m\u001b[0;34m\u001b[0m\u001b[0;34m\u001b[0m\u001b[0m\n\u001b[1;32m    101\u001b[0m \u001b[0;34m\u001b[0m\u001b[0m\n",
            "\u001b[0;32m/usr/local/lib/python3.8/dist-packages/IPython/core/interactiveshell.py\u001b[0m in \u001b[0;36menable_matplotlib\u001b[0;34m(self, gui)\u001b[0m\n\u001b[1;32m   3412\u001b[0m                 \u001b[0mgui\u001b[0m\u001b[0;34m,\u001b[0m \u001b[0mbackend\u001b[0m \u001b[0;34m=\u001b[0m \u001b[0mpt\u001b[0m\u001b[0;34m.\u001b[0m\u001b[0mfind_gui_and_backend\u001b[0m\u001b[0;34m(\u001b[0m\u001b[0mself\u001b[0m\u001b[0;34m.\u001b[0m\u001b[0mpylab_gui_select\u001b[0m\u001b[0;34m)\u001b[0m\u001b[0;34m\u001b[0m\u001b[0;34m\u001b[0m\u001b[0m\n\u001b[1;32m   3413\u001b[0m \u001b[0;34m\u001b[0m\u001b[0m\n\u001b[0;32m-> 3414\u001b[0;31m         \u001b[0mpt\u001b[0m\u001b[0;34m.\u001b[0m\u001b[0mactivate_matplotlib\u001b[0m\u001b[0;34m(\u001b[0m\u001b[0mbackend\u001b[0m\u001b[0;34m)\u001b[0m\u001b[0;34m\u001b[0m\u001b[0;34m\u001b[0m\u001b[0m\n\u001b[0m\u001b[1;32m   3415\u001b[0m         \u001b[0mpt\u001b[0m\u001b[0;34m.\u001b[0m\u001b[0mconfigure_inline_support\u001b[0m\u001b[0;34m(\u001b[0m\u001b[0mself\u001b[0m\u001b[0;34m,\u001b[0m \u001b[0mbackend\u001b[0m\u001b[0;34m)\u001b[0m\u001b[0;34m\u001b[0m\u001b[0;34m\u001b[0m\u001b[0m\n\u001b[1;32m   3416\u001b[0m \u001b[0;34m\u001b[0m\u001b[0m\n",
            "\u001b[0;32m/usr/local/lib/python3.8/dist-packages/IPython/core/pylabtools.py\u001b[0m in \u001b[0;36mactivate_matplotlib\u001b[0;34m(backend)\u001b[0m\n\u001b[1;32m    312\u001b[0m \u001b[0;34m\u001b[0m\u001b[0m\n\u001b[1;32m    313\u001b[0m     \u001b[0;32mimport\u001b[0m \u001b[0mmatplotlib\u001b[0m\u001b[0;34m.\u001b[0m\u001b[0mpyplot\u001b[0m\u001b[0;34m\u001b[0m\u001b[0;34m\u001b[0m\u001b[0m\n\u001b[0;32m--> 314\u001b[0;31m     \u001b[0mmatplotlib\u001b[0m\u001b[0;34m.\u001b[0m\u001b[0mpyplot\u001b[0m\u001b[0;34m.\u001b[0m\u001b[0mswitch_backend\u001b[0m\u001b[0;34m(\u001b[0m\u001b[0mbackend\u001b[0m\u001b[0;34m)\u001b[0m\u001b[0;34m\u001b[0m\u001b[0;34m\u001b[0m\u001b[0m\n\u001b[0m\u001b[1;32m    315\u001b[0m \u001b[0;34m\u001b[0m\u001b[0m\n\u001b[1;32m    316\u001b[0m     \u001b[0;31m# This must be imported last in the matplotlib series, after\u001b[0m\u001b[0;34m\u001b[0m\u001b[0;34m\u001b[0m\u001b[0;34m\u001b[0m\u001b[0m\n",
            "\u001b[0;32m/usr/local/lib/python3.8/dist-packages/matplotlib/pyplot.py\u001b[0m in \u001b[0;36mswitch_backend\u001b[0;34m(newbackend)\u001b[0m\n\u001b[1;32m    280\u001b[0m     \u001b[0mbackend_name\u001b[0m \u001b[0;34m=\u001b[0m \u001b[0mcbook\u001b[0m\u001b[0;34m.\u001b[0m\u001b[0m_backend_module_name\u001b[0m\u001b[0;34m(\u001b[0m\u001b[0mnewbackend\u001b[0m\u001b[0;34m)\u001b[0m\u001b[0;34m\u001b[0m\u001b[0;34m\u001b[0m\u001b[0m\n\u001b[1;32m    281\u001b[0m \u001b[0;34m\u001b[0m\u001b[0m\n\u001b[0;32m--> 282\u001b[0;31m     \u001b[0;32mclass\u001b[0m \u001b[0mbackend_mod\u001b[0m\u001b[0;34m(\u001b[0m\u001b[0mmatplotlib\u001b[0m\u001b[0;34m.\u001b[0m\u001b[0mbackend_bases\u001b[0m\u001b[0;34m.\u001b[0m\u001b[0m_Backend\u001b[0m\u001b[0;34m)\u001b[0m\u001b[0;34m:\u001b[0m\u001b[0;34m\u001b[0m\u001b[0;34m\u001b[0m\u001b[0m\n\u001b[0m\u001b[1;32m    283\u001b[0m         \u001b[0mlocals\u001b[0m\u001b[0;34m(\u001b[0m\u001b[0;34m)\u001b[0m\u001b[0;34m.\u001b[0m\u001b[0mupdate\u001b[0m\u001b[0;34m(\u001b[0m\u001b[0mvars\u001b[0m\u001b[0;34m(\u001b[0m\u001b[0mimportlib\u001b[0m\u001b[0;34m.\u001b[0m\u001b[0mimport_module\u001b[0m\u001b[0;34m(\u001b[0m\u001b[0mbackend_name\u001b[0m\u001b[0;34m)\u001b[0m\u001b[0;34m)\u001b[0m\u001b[0;34m)\u001b[0m\u001b[0;34m\u001b[0m\u001b[0;34m\u001b[0m\u001b[0m\n\u001b[1;32m    284\u001b[0m \u001b[0;34m\u001b[0m\u001b[0m\n",
            "\u001b[0;32m/usr/local/lib/python3.8/dist-packages/matplotlib/pyplot.py\u001b[0m in \u001b[0;36mbackend_mod\u001b[0;34m()\u001b[0m\n\u001b[1;32m    281\u001b[0m \u001b[0;34m\u001b[0m\u001b[0m\n\u001b[1;32m    282\u001b[0m     \u001b[0;32mclass\u001b[0m \u001b[0mbackend_mod\u001b[0m\u001b[0;34m(\u001b[0m\u001b[0mmatplotlib\u001b[0m\u001b[0;34m.\u001b[0m\u001b[0mbackend_bases\u001b[0m\u001b[0;34m.\u001b[0m\u001b[0m_Backend\u001b[0m\u001b[0;34m)\u001b[0m\u001b[0;34m:\u001b[0m\u001b[0;34m\u001b[0m\u001b[0;34m\u001b[0m\u001b[0m\n\u001b[0;32m--> 283\u001b[0;31m         \u001b[0mlocals\u001b[0m\u001b[0;34m(\u001b[0m\u001b[0;34m)\u001b[0m\u001b[0;34m.\u001b[0m\u001b[0mupdate\u001b[0m\u001b[0;34m(\u001b[0m\u001b[0mvars\u001b[0m\u001b[0;34m(\u001b[0m\u001b[0mimportlib\u001b[0m\u001b[0;34m.\u001b[0m\u001b[0mimport_module\u001b[0m\u001b[0;34m(\u001b[0m\u001b[0mbackend_name\u001b[0m\u001b[0;34m)\u001b[0m\u001b[0;34m)\u001b[0m\u001b[0;34m)\u001b[0m\u001b[0;34m\u001b[0m\u001b[0;34m\u001b[0m\u001b[0m\n\u001b[0m\u001b[1;32m    284\u001b[0m \u001b[0;34m\u001b[0m\u001b[0m\n\u001b[1;32m    285\u001b[0m     \u001b[0mrequired_framework\u001b[0m \u001b[0;34m=\u001b[0m \u001b[0m_get_required_interactive_framework\u001b[0m\u001b[0;34m(\u001b[0m\u001b[0mbackend_mod\u001b[0m\u001b[0;34m)\u001b[0m\u001b[0;34m\u001b[0m\u001b[0;34m\u001b[0m\u001b[0m\n",
            "\u001b[0;32m/usr/lib/python3.8/importlib/__init__.py\u001b[0m in \u001b[0;36mimport_module\u001b[0;34m(name, package)\u001b[0m\n\u001b[1;32m    125\u001b[0m                 \u001b[0;32mbreak\u001b[0m\u001b[0;34m\u001b[0m\u001b[0;34m\u001b[0m\u001b[0m\n\u001b[1;32m    126\u001b[0m             \u001b[0mlevel\u001b[0m \u001b[0;34m+=\u001b[0m \u001b[0;36m1\u001b[0m\u001b[0;34m\u001b[0m\u001b[0;34m\u001b[0m\u001b[0m\n\u001b[0;32m--> 127\u001b[0;31m     \u001b[0;32mreturn\u001b[0m \u001b[0m_bootstrap\u001b[0m\u001b[0;34m.\u001b[0m\u001b[0m_gcd_import\u001b[0m\u001b[0;34m(\u001b[0m\u001b[0mname\u001b[0m\u001b[0;34m[\u001b[0m\u001b[0mlevel\u001b[0m\u001b[0;34m:\u001b[0m\u001b[0;34m]\u001b[0m\u001b[0;34m,\u001b[0m \u001b[0mpackage\u001b[0m\u001b[0;34m,\u001b[0m \u001b[0mlevel\u001b[0m\u001b[0;34m)\u001b[0m\u001b[0;34m\u001b[0m\u001b[0;34m\u001b[0m\u001b[0m\n\u001b[0m\u001b[1;32m    128\u001b[0m \u001b[0;34m\u001b[0m\u001b[0m\n\u001b[1;32m    129\u001b[0m \u001b[0;34m\u001b[0m\u001b[0m\n",
            "\u001b[0;32m/usr/lib/python3.8/importlib/_bootstrap.py\u001b[0m in \u001b[0;36m_gcd_import\u001b[0;34m(name, package, level)\u001b[0m\n",
            "\u001b[0;32m/usr/lib/python3.8/importlib/_bootstrap.py\u001b[0m in \u001b[0;36m_find_and_load\u001b[0;34m(name, import_)\u001b[0m\n",
            "\u001b[0;32m/usr/lib/python3.8/importlib/_bootstrap.py\u001b[0m in \u001b[0;36m_find_and_load_unlocked\u001b[0;34m(name, import_)\u001b[0m\n",
            "\u001b[0;32m/usr/lib/python3.8/importlib/_bootstrap.py\u001b[0m in \u001b[0;36m_call_with_frames_removed\u001b[0;34m(f, *args, **kwds)\u001b[0m\n",
            "\u001b[0;32m/usr/lib/python3.8/importlib/_bootstrap.py\u001b[0m in \u001b[0;36m_gcd_import\u001b[0;34m(name, package, level)\u001b[0m\n",
            "\u001b[0;32m/usr/lib/python3.8/importlib/_bootstrap.py\u001b[0m in \u001b[0;36m_find_and_load\u001b[0;34m(name, import_)\u001b[0m\n",
            "\u001b[0;32m/usr/lib/python3.8/importlib/_bootstrap.py\u001b[0m in \u001b[0;36m_find_and_load_unlocked\u001b[0;34m(name, import_)\u001b[0m\n",
            "\u001b[0;31mModuleNotFoundError\u001b[0m: No module named 'ipympl'",
            "",
            "\u001b[0;31m---------------------------------------------------------------------------\u001b[0;32m\nNOTE: If your import is failing due to a missing package, you can\nmanually install dependencies using either !pip or !apt.\n\nTo view examples of installing some common dependencies, click the\n\"Open Examples\" button below.\n\u001b[0;31m---------------------------------------------------------------------------\u001b[0m\n"
          ],
          "errorDetails": {
            "actions": [
              {
                "action": "open_url",
                "actionText": "Open Examples",
                "url": "/notebooks/snippets/importing_libraries.ipynb"
              }
            ]
          }
        }
      ],
      "source": [
        "%matplotlib widget"
      ]
    },
    {
      "cell_type": "markdown",
      "metadata": {
        "tags": [],
        "id": "Ywc-ws0sxjYh"
      },
      "source": [
        "# Session 3\n",
        "\n",
        "## Multi-material samples with ![gVXR](https://github.com/effepivi/gvxr-tutorials/blob/main/img/gvxr_logo.png?raw=1)\n",
        "\n",
        "## Authors: Ben Thorpe, Iwan Mitchel and Franck Vidal\n",
        "\n",
        "(version 1.1, 7 Mar 2023)"
      ]
    },
    {
      "cell_type": "markdown",
      "metadata": {
        "id": "i3fOh6MFxjYi"
      },
      "source": [
        "# Aims of this session\n",
        "\n",
        "- Create X-ray simulations of samples involving multiple materials\n",
        "    - Multiple individual materials (e.g. a Copper pipe inside an Aluminium block)\n",
        "    - Metal Alloys and Mixtures\n",
        "    - Chemical Compounds\n",
        "- Visualise the effects of different materials on the resulting X-ray images"
      ]
    },
    {
      "cell_type": "markdown",
      "metadata": {
        "tags": [],
        "id": "AgqvCeRexjYj"
      },
      "source": [
        "## Working With Multiple materials\n",
        "In the previous notebook we had a single model made of a single material. The plan now is to work up to something a bit more interesting. A multi-part model using multiple different materials. The sample in question is a Turbo pump[^1]. This can be found as a 3D model consisting of series of stl files representing the different internal and external parts.\n",
        "\n",
        "![Screenshot of Paraview](https://github.com/effepivi/gvxr-tutorials/blob/main/img/Turbo_Pump.png?raw=1)\n",
        "\n",
        "[^1]: https://grabcad.com/library/turbo-pump-50/details?folder_id=8605076"
      ]
    },
    {
      "cell_type": "markdown",
      "metadata": {
        "id": "E-UslIEgsMO6"
      },
      "source": [
        "# Install gVXR\n",
        "\n",
        "Run the cell below\n",
        "\n",
        "```python\n",
        "!pip3 install --upgrade gvxr\n",
        "```"
      ]
    },
    {
      "cell_type": "code",
      "execution_count": null,
      "metadata": {
        "id": "nIwHxIersKFV",
        "tags": []
      },
      "outputs": [],
      "source": [
        "!pip3 install --upgrade gvxr"
      ]
    },
    {
      "cell_type": "markdown",
      "metadata": {
        "tags": [],
        "id": "iszYjgMOxjYl"
      },
      "source": [
        "## Import packages\n",
        "\n",
        "To get started we will need to import the required packages. The next cell is the same boilerplate code used in the previous notebook to set everything up for the session. Once again we don't need to know the exact details at this stage so for now we can safely run this cell and move on. However, for the curious the comments explain what the various packages are for.  "
      ]
    },
    {
      "cell_type": "code",
      "execution_count": 2,
      "metadata": {
        "tags": [],
        "colab": {
          "base_uri": "https://localhost:8080/",
          "height": 243
        },
        "id": "6eXMqm0DxjYl",
        "outputId": "8a3e7e09-6362-4a41-9696-bbc6c61aa7b3"
      },
      "outputs": [
        {
          "output_type": "error",
          "ename": "NameError",
          "evalue": "ignored",
          "traceback": [
            "\u001b[0;31m---------------------------------------------------------------------------\u001b[0m",
            "\u001b[0;31mNameError\u001b[0m                                 Traceback (most recent call last)",
            "\u001b[0;32m<ipython-input-2-8203bbd51912>\u001b[0m in \u001b[0;36m<module>\u001b[0;34m\u001b[0m\n\u001b[1;32m      7\u001b[0m          \u001b[0;34m'size'\u001b[0m   \u001b[0;34m:\u001b[0m \u001b[0;36m10\u001b[0m\u001b[0;34m\u001b[0m\u001b[0;34m\u001b[0m\u001b[0m\n\u001b[1;32m      8\u001b[0m        }\n\u001b[0;32m----> 9\u001b[0;31m \u001b[0mmatplotlib\u001b[0m\u001b[0;34m.\u001b[0m\u001b[0mrc\u001b[0m\u001b[0;34m(\u001b[0m\u001b[0;34m'font'\u001b[0m\u001b[0;34m,\u001b[0m \u001b[0;34m**\u001b[0m\u001b[0mfont\u001b[0m\u001b[0;34m)\u001b[0m\u001b[0;34m\u001b[0m\u001b[0;34m\u001b[0m\u001b[0m\n\u001b[0m\u001b[1;32m     10\u001b[0m \u001b[0;34m\u001b[0m\u001b[0m\n\u001b[1;32m     11\u001b[0m \u001b[0;31m# Uncomment the line below to use LaTeX fonts\u001b[0m\u001b[0;34m\u001b[0m\u001b[0;34m\u001b[0m\u001b[0;34m\u001b[0m\u001b[0m\n",
            "\u001b[0;31mNameError\u001b[0m: name 'matplotlib' is not defined"
          ]
        }
      ],
      "source": [
        "import os\n",
        "import numpy as np # Who does not use Numpy?\n",
        "# import matplotlib # To plot images\n",
        "import matplotlib.pyplot as plt # Plotting\n",
        "\n",
        "font = {'family' : 'serif',\n",
        "         'size'   : 10\n",
        "       }\n",
        "matplotlib.rc('font', **font)\n",
        "\n",
        "# Uncomment the line below to use LaTeX fonts\n",
        "# matplotlib.rc('text', usetex=True)\n",
        "\n",
        "from gvxrPython3 import gvxr # Simulate X-ray images\n",
        "from gvxrPython3.utils import compareWithGroundTruth # Plot the ground truth, the test image, and the relative error map in %\n",
        "from gvxrPython3.utils import plotScreenshot # Visualise the 3D environment if Matplotlib is supported"
      ]
    },
    {
      "cell_type": "markdown",
      "metadata": {
        "tags": [],
        "id": "Bck5FdrKxjYm"
      },
      "source": [
        "## Create an OpenGL context\n",
        "\n",
        "As with the previous notebook we will need to create an OpenGL context using `gvxr.createWindow(window_id, visible, backend, opengl_major_version, opengl_minor_version)`\n",
        "\n",
        "For this tutorial (and the subsequent ones) we will stick with **\"EGL\"** for the backend, this is because we are using the Cloud for this training. On my PC and laptop, I would use \"OPENGL\" to enable an interactive 3D visualisation window. "
      ]
    },
    {
      "cell_type": "code",
      "execution_count": null,
      "metadata": {
        "tags": [],
        "id": "3Hi1nqWVxjYn"
      },
      "outputs": [],
      "source": [
        "print(\"Create an OpenGL context\")\n",
        "\n",
        "window_id = 0\n",
        "opengl_major_version = 4\n",
        "opengl_minor_version = 5\n",
        "\n",
        "# gvxr.createOpenGLContext(window_id, opengl_major_version, opengl_minor_version);\n",
        "\n",
        "# backend = \"OPENGL\"\n",
        "# visible = True\n",
        "\n",
        "# gvxr.createWindow(window_id, visible, backend, opengl_major_version, opengl_minor_version);\n",
        "\n",
        "visible = False\n",
        "# gvxr.createWindow(window_id, visible, backend, opengl_major_version, opengl_minor_version);\n",
        "\n",
        "backend = \"EGL\"\n",
        "# visible has no effect with EGL\n",
        "gvxr.createWindow(window_id, visible, backend, opengl_major_version, opengl_minor_version);"
      ]
    },
    {
      "cell_type": "markdown",
      "metadata": {
        "id": "TEUH9NadxjYn"
      },
      "source": [
        "## Setting up the Scene\n",
        "\n",
        "Now that we have our OpenGL context we need to import the different pieces of the model and set the parameters for the source, detector ect.\n",
        "\n",
        "---\n",
        "## Task\n",
        "\n",
        "Using knowledge from, the previous notebook setup the scene as follows:\n",
        "- place a 300 KeV monochromatic X-Ray source of 1000 photons at `x = 0`, `y = -40.0 cm`, `z = 0.0 cm`\n",
        "- place the X-Detector at `x = 0`, `y = 30.0 cm`, `z = 0.0 cm`\n",
        "- set the Detector to have 800 pixels in x and y spaced 0.7 mm apart in both directions. Also set the upVector to be along the negative z-axis i.e. (0.0,0.0,-1.0)\n",
        "- Import the 6 stl files, found in `input_data/TurboPump` each with appropriate unique id.\n",
        "- place the centre of the bounding box of the pump at `x = 0`, `y = 20.0 cm`, `z = 0.0 cm`"
      ]
    },
    {
      "cell_type": "code",
      "execution_count": null,
      "metadata": {
        "tags": [],
        "id": "oIOQ7_z2xjYo"
      },
      "outputs": [],
      "source": [
        "parts_list = [\"internals\",\"coupler\",\"front_flange\",\"rear_flange\",\"housing\",\"roller_bearing\"]\n",
        "\n",
        "part_files = [\"input_data/TurboPump/internals.stl\",\n",
        "               \"input_data/TurboPump/coupler.stl\",\n",
        "               \"input_data/TurboPump/front_flange.stl\",\n",
        "               \"input_data/TurboPump/rear_flange.stl\",\n",
        "               \"input_data/TurboPump/housing.stl\",\n",
        "               \"input_data/TurboPump/ThrustRollerBearing.stl\"]"
      ]
    },
    {
      "cell_type": "markdown",
      "metadata": {
        "id": "7n8TXQazdCko"
      },
      "source": [
        "Download the Sample if needed"
      ]
    },
    {
      "cell_type": "code",
      "execution_count": null,
      "metadata": {
        "id": "uOAnJr8dcSDP",
        "tags": []
      },
      "outputs": [],
      "source": [
        "# The directory does not exist\n",
        "if not os.path.exists(\"input_data\"):\n",
        "    \n",
        "    # Create the directory\n",
        "    os.mkdir(\"input_data\")\n",
        "\n",
        "for part_fname in part_files:\n",
        "    if not os.path.exists(part_fname):\n",
        "        print(\"Download the polygon mesh\")\n",
        "        import urllib.request\n",
        "        url = \"https://github.com/effepivi/gvxr-tutorials/raw/main/\" + part_fname\n",
        "        urllib.request.urlretrieve(url, part_fname)"
      ]
    },
    {
      "cell_type": "code",
      "execution_count": null,
      "metadata": {
        "tags": [],
        "id": "nMAAakDWxjYp"
      },
      "outputs": [],
      "source": [
        "gvxr.setSourcePosition(0.0, -40.0, 0.0, \"cm\")\n",
        "gvxr.usePointSource()\n",
        "gvxr.setMonoChromatic(0.3, \"MeV\", 1000)\n",
        "gvxr.setDetectorNumberOfPixels(800, 800)\n",
        "gvxr.setDetectorPixelSize(0.7, 0.7, \"mm\")\n",
        "gvxr.setDetectorPosition(0.0, 30.0, 0.0, \"cm\")\n",
        "gvxr.setDetectorUpVector(0, 0, -1)\n",
        "\n",
        "               \n",
        "for part_id, part_fname in zip(parts_list, part_files):\n",
        "     gvxr.loadMeshFile(part_id, part_fname, \"mm\")      \n",
        "        \n",
        "# transformation_matrix_backbup1 = gvxr.getNodeWorldTransformationMatrix(\"root\")\n",
        "\n",
        "gvxr.translateNode(\"root\", 0.0, -20.0, 0.0, \"cm\")\n",
        "gvxr.moveToCentre()\n",
        "\n",
        "# transformation_matrix_backbup2 = gvxr.getNodeWorldTransformationMatrix(\"root\")\n",
        "\n",
        "gvxr.displayScene()\n",
        "     \n",
        "plotScreenshot()"
      ]
    },
    {
      "cell_type": "markdown",
      "metadata": {
        "id": "of1FCrxUxjYq"
      },
      "source": [
        "## Working with basic Chemical Elements\n",
        "\n",
        "We know from the theory that the attenuation of the X-Ray beam is directly dependant on:\n",
        "- The beam energy\n",
        "- The material density\n",
        "- The materials Z number.\n",
        "\n",
        "Thus by changing the material of the sample we will change the amount of attenuation, and hence end up with a lighter, or darker image.\n",
        "\n",
        "![Periodic table](https://github.com/effepivi/gvxr-tutorials/blob/main/img/03-PeriodicTable.png?raw=1)[^1]\n",
        "\n",
        "[^1]: Image of periodic table from https://sciencenotes.org/wp-content/uploads/2014/11/PeriodicTableWallpaper1.png"
      ]
    },
    {
      "cell_type": "markdown",
      "metadata": {
        "id": "VlZ3jlkcxjYq"
      },
      "source": [
        "---\n",
        "## Task\n",
        "We saw in the previous notebook how to use the `setElement(ID,Element)` function to change the element that the sample is made from. Remember `ID` is a string that acts a label for the model. whilst `Element` can be the symbol, full name or atomic number of any of the first 100 elements in the periodic table.\n",
        "\n",
        "For this task we have deliberately chosen a beam energy such that light elements will be appear quite transparent. Whilst heavier elements will still appear opaque.\n",
        "\n",
        "With this in mind try setting different part of the model to different elements and computing the resulting xray images. We suggest setting the internal structures (internals.stl, coupler.stl and ThrustRollerBearing.stl) to something nice and heavy like Iron. whilst the external parts can be set to something lighter like Titanium, Aluminum or even Carbon to allow you to see the parts inside. \n",
        "\n",
        "Also as a bonus exercise try imaging the model from the side, that is rotated 90 degrees around the x-axis. Note: You may want/need to reposition the model to get a decent image."
      ]
    },
    {
      "cell_type": "code",
      "execution_count": null,
      "metadata": {
        "tags": [],
        "id": "FB3QKkmRxjYq"
      },
      "outputs": [],
      "source": [
        "# Set the materials\n",
        "materials = [\"Fe\",\"Fe\",\"Al\",\"Al\",\"Al\",\"Fe\"]\n",
        "\n",
        "for part_id, part_material in zip(parts_list, materials):\n",
        "     gvxr.setElement(part_id, part_material)      \n",
        "\n",
        "# Compute the X-ray image\n",
        "xray_image_front = np.array(gvxr.computeXRayImage()).astype(np.single)\n",
        "\n",
        "# Display the result\n",
        "plotScreenshot()\n",
        "\n",
        "# Save the transformation matrix\n",
        "transformation_matrix_backbup = gvxr.getNodeWorldTransformationMatrix(\"root\")\n",
        "\n",
        "# Rotate the object and compute the X-ray image\n",
        "gvxr.rotateNode(\"root\", 90, 1, 0, 0)\n",
        "xray_image_side = np.array(gvxr.computeXRayImage()).astype(np.single)\n",
        "\n",
        "# Display the result\n",
        "plotScreenshot()\n",
        "\n",
        "# Restore the transformation matrix\n",
        "gvxr.setNodeTransformationMatrix(\"root\", transformation_matrix_backbup)\n",
        "\n",
        "vmin = min(xray_image_front.min(), xray_image_side.min())\n",
        "vmax = max(xray_image_front.min(), xray_image_side.min())\n",
        "\n",
        "# Plot the X-ray images\n",
        "fig, axarr = plt.subplots(1, 2, figsize=(12.5, 5))\n",
        "f.suptitle(\"Simulated X-ray of Pump\")\n",
        "\n",
        "axarr[0].set_title(\"front view\")\n",
        "img1 = axarr[0].imshow(xray_image_front, cmap=\"gray\", vmin=vmin, vmax=vmax)\n",
        "\n",
        "axarr[1].set_title(\"side view\")\n",
        "img2 = axarr[1].imshow(xray_image_side, cmap=\"gray\", vmin=vmin, vmax=vmax)\n",
        "\n",
        "fig.colorbar(img2)\n",
        "\n",
        "plt.show()"
      ]
    },
    {
      "cell_type": "markdown",
      "metadata": {
        "id": "u1qM4kdexjYr"
      },
      "source": [
        "## Alloys and Mixtures"
      ]
    },
    {
      "cell_type": "markdown",
      "metadata": {
        "id": "0fjC0wVyxjYr"
      },
      "source": [
        "Now obviously the world is a complex place and many materials are made from mixtures of different elements. To define these in GVXR we will use a different function `gvxr.setMixture(ID,Elements,Amounts)`. Here ID is, once again a label for the model, elements is a list of atomic number for all the elements in the mixture (note: names and symbols don't currently work) and amounts are the relative amounts of each element (out of 100%). You will also need to specify the density of the mixture using `gvvxr.setDensity(ID,density,units)` in this case density is a number and units is a string that denote the units used (in this case the only allowed values are `\"g/cm3\"` or `\"g.cm-3\"`).\n",
        "\n",
        "---\n",
        "## Task:\n",
        "The next task is to set any one part of your choice from the turbo-pump model to be made from stainless steel and plot both the origional and new X-ray images side by side.\n",
        "\n",
        "In this case we will use US SAE standard 305 stainless steel which according to [World Materail](https://www.theworldmaterial.com/stainless-steel-chemical-composition/) has a density of 8 g/cm^-3 and consists of:\n",
        "|Element|relative percentage|\n",
        "|---|---|\n",
        "|Carbon|0.12|\n",
        "|Manganese|2.00|\n",
        "|Si|1.00|\n",
        "|Chromium|19.0|\n",
        "|Ni|11.0|\n",
        "|Iron|66.85|\n",
        "\n",
        "Note: unless you have a particularly good monitor small differences in greyscale can be somewhat difficult to see. So to show the difference more clearly you may find it easier using either a different colormap (matplotlib has a number you can choose [from](https://matplotlib.org/stable/tutorials/colors/colormaps.html)) or you can use the `compareWithGroundTruth()` function. "
      ]
    },
    {
      "cell_type": "code",
      "execution_count": null,
      "metadata": {
        "tags": [],
        "id": "cOenfCcqxjYr"
      },
      "outputs": [],
      "source": [
        "elements = [6, 25, 14, 24, 28, 26]\n",
        "ammounts = [0.12, 2.00, 1.00, 19.0, 11.0, 66.85]\n",
        "\n",
        "# Set only housing to be made from stainless\n",
        "gvxr.setMixture(parts_list[4], elements, ammounts)\n",
        "gvxr.setDensity(parts_list[4], 8.0, \"g/cm3\")\n",
        "\n",
        "xray_image_2 = np.array(gvxr.computeXRayImage()).astype(np.single)\n",
        "\n",
        "compareWithGroundTruth(xray_image_front, xray_image_2, figsize=(12.5, 5))"
      ]
    },
    {
      "cell_type": "markdown",
      "metadata": {
        "id": "2MejxDiGxjYs"
      },
      "source": [
        "## Working with compounds\n",
        "\n",
        "Working with compounds is much the same as mixtures, the main difference being you use a chemical formulae to define the relative amounts of each element eg. carbon dioxide: \"CO2\" as opposed to exact percentages. GVXR allows this by using the `gvxr.setCompound(ID, Formulae)` where Formulae is a string representing the chemical formula of the compound you wish to use. For example water would be \"H2O\", methane would be \"CH4\", Silicon carbide would be \"SiC\" ect ...\n",
        "\n",
        "Note: when using this we still need to explicitly set the density using `gvxr.setDensity()`.\n",
        "\n",
        "---\n",
        "## Task: \n",
        "\n",
        "For the final task set a part of the pump of your choice to be made from Titanium dioxide (the formulae for which is TiO2) which for the record has a density of 4.7 g/cm^-3 [^2].\n",
        "\n",
        "[^2]:  Haynes, W.M. (ed.). CRC Handbook of Chemistry and Physics. 94th Edition. CRC Press LLC, Boca Raton: FL 2013-2014, p. 4-96"
      ]
    },
    {
      "cell_type": "code",
      "execution_count": null,
      "metadata": {
        "tags": [],
        "id": "uio2vQWExjYs"
      },
      "outputs": [],
      "source": [
        "# Set central bearing to be made from TiO2\n",
        "gvxr.setCompound(parts_list[5], \"TiO2\")\n",
        "gvxr.setDensity(parts_list[5], 4.7, \"g/cm3\")\n",
        "\n",
        "xray_image_3 = np.array(gvxr.computeXRayImage()).astype(np.single)\n",
        "\n",
        "compareWithGroundTruth(xray_image_2, xray_image_3, figsize=(12.5, 5))"
      ]
    },
    {
      "cell_type": "code",
      "execution_count": null,
      "metadata": {
        "id": "nZ9vGJmFxjYs"
      },
      "outputs": [],
      "source": [
        "gvxr.terminate()"
      ]
    }
  ],
  "metadata": {
    "kernelspec": {
      "display_name": "Python 3 (ipykernel)",
      "language": "python",
      "name": "python3"
    },
    "language_info": {
      "codemirror_mode": {
        "name": "ipython",
        "version": 3
      },
      "file_extension": ".py",
      "mimetype": "text/x-python",
      "name": "python",
      "nbconvert_exporter": "python",
      "pygments_lexer": "ipython3",
      "version": "3.10.9"
    },
    "vscode": {
      "interpreter": {
        "hash": "585e9fc9b818a92a95ff682530f87f6de2c4282b8239c594bde282f49476a8c7"
      }
    },
    "colab": {
      "provenance": [],
      "include_colab_link": true
    },
    "accelerator": "GPU",
    "gpuClass": "standard"
  },
  "nbformat": 4,
  "nbformat_minor": 0
}