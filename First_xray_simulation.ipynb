{
  "cells": [
    {
      "cell_type": "markdown",
      "metadata": {
        "id": "view-in-github",
        "colab_type": "text"
      },
      "source": [
        "<a href=\"https://colab.research.google.com/github/effepivi/gvxr-tutorials/blob/main/First_xray_simulation.ipynb\" target=\"_parent\"><img src=\"https://colab.research.google.com/assets/colab-badge.svg\" alt=\"Open In Colab\"/></a>"
      ]
    },
    {
      "cell_type": "code",
      "execution_count": 3,
      "metadata": {
        "tags": [],
        "id": "gT91YoKWr_X7"
      },
      "outputs": [],
      "source": [
        "%matplotlib inline"
      ]
    },
    {
      "cell_type": "markdown",
      "metadata": {
        "tags": [],
        "id": "6251YQH0r_YB"
      },
      "source": [
        "# Session 3\n",
        "\n",
        "## First X-ray radiograph simulations with ![gVXR](https://github.com/effepivi/gvxr-tutorials/blob/main/img/gvxr_logo.png?raw=1)\n",
        "\n",
        "## Authors: Ben Thorpe, Iwan Mitchel and Franck Vidal\n",
        "\n",
        "(version 1.0, 22 Sep 2022)"
      ]
    },
    {
      "cell_type": "markdown",
      "metadata": {
        "id": "QoeDtlD1r_YH"
      },
      "source": [
        "# Aims of this session\n",
        "\n",
        "- Create our first X-ray simulation, step-by-step;\n",
        "- Save our X-ray image in a file format that preserves the original dynamic range;\n",
        "- Visualise the results with 3 different look-up tables;\n",
        "- Visualise the 3D environment.\n",
        "\n",
        "![](https://github.com/effepivi/gvxr-tutorials/blob/main/img/03-visualisation.png?raw=1)"
      ]
    },
    {
      "cell_type": "markdown",
      "metadata": {
        "tags": [],
        "id": "Q6dYvx1Cr_YK"
      },
      "source": [
        "# Main steps\n",
        "\n",
        "There are 6 main steps to simulate an X-ray image:\n",
        "\n",
        "1. Create a renderer (OpenGL context)\n",
        "2. Set the X-ray source\n",
        "3. Set the Spectrum\n",
        "4. Set the Detector\n",
        "5. Set the Sample\n",
        "6. Compute the corresponding X-ray image.\n",
        "\n",
        "![](https://github.com/effepivi/gvxr-tutorials/blob/main/img/dragon2.jpg?raw=1)"
      ]
    },
    {
      "cell_type": "markdown",
      "source": [
        "# Install gVXR\n",
        "\n",
        "Run the cell below\n",
        "\n",
        "```python\n",
        "!pip3 install --upgrade gvxr\n",
        "```"
      ],
      "metadata": {
        "id": "E-UslIEgsMO6"
      }
    },
    {
      "cell_type": "code",
      "source": [
        "!pip3 install --upgrade gvxr"
      ],
      "metadata": {
        "id": "nIwHxIersKFV",
        "outputId": "bd567d93-c08e-4b73-dcd9-18cdbc534d22",
        "colab": {
          "base_uri": "https://localhost:8080/"
        }
      },
      "execution_count": 4,
      "outputs": [
        {
          "output_type": "stream",
          "name": "stdout",
          "text": [
            "Looking in indexes: https://pypi.org/simple, https://us-python.pkg.dev/colab-wheels/public/simple/\n",
            "Collecting gvxr\n",
            "  Downloading gVXR-2.0.3-cp38-cp38-manylinux_2_17_x86_64.manylinux2014_x86_64.whl (63.1 MB)\n",
            "\u001b[2K     \u001b[90m━━━━━━━━━━━━━━━━━━━━━━━━━━━━━━━━━━━━━━━━\u001b[0m \u001b[32m63.1/63.1 MB\u001b[0m \u001b[31m2.5 MB/s\u001b[0m eta \u001b[36m0:00:00\u001b[0m\n",
            "\u001b[?25hInstalling collected packages: gvxr\n",
            "Successfully installed gvxr-2.0.3\n"
          ]
        }
      ]
    },
    {
      "cell_type": "markdown",
      "metadata": {
        "tags": [],
        "id": "6UjkOMnfr_YL"
      },
      "source": [
        "## Import packages\n",
        "\n",
        "This is essentially just boilerplate code to set everything up for the session. We don't need to know the exact details at this stage so for now we can safely run this cell and move on. However, for the curious the comments explain what the various packages are for.  "
      ]
    },
    {
      "cell_type": "code",
      "execution_count": 5,
      "metadata": {
        "id": "PCCE0slWr_YN",
        "outputId": "43ef731e-1176-4cbb-cf1e-8a7ba99a72a9",
        "colab": {
          "base_uri": "https://localhost:8080/"
        }
      },
      "outputs": [
        {
          "output_type": "stream",
          "name": "stdout",
          "text": [
            "K3D is not install, you won't be able to visualise the 3D scene using k3D\n",
            "spekpy is not install, you won't be able to load a beam spectrum using spekpy\n",
            "xpecgen is not install, you won't be able to load a beam spectrum using xpecgen\n"
          ]
        }
      ],
      "source": [
        "import os\n",
        "import numpy as np # Who does not use Numpy?\n",
        "\n",
        "import matplotlib # To plot images\n",
        "import matplotlib.pyplot as plt # Plotting\n",
        "from matplotlib.colors import LogNorm # Look up table\n",
        "from matplotlib.colors import PowerNorm # Look up table\n",
        "\n",
        "font = {'family' : 'serif',\n",
        "         'size'   : 10\n",
        "       }\n",
        "matplotlib.rc('font', **font)\n",
        "\n",
        "# Uncomment the line below to use LaTeX fonts\n",
        "# matplotlib.rc('text', usetex=True)\n",
        "\n",
        "from tifffile import imread, imwrite # Write TIFF files\n",
        "\n",
        "import base64 # Save the visualisation\n",
        "\n",
        "from gvxrPython3 import gvxr # Simulate X-ray images\n",
        "from gvxrPython3.utils import saveProjections # Plot the X-ray image in linear, log and power law scales\n",
        "from gvxrPython3.utils import compareWithGroundTruth # Plot the ground truth, the test image, and the relative error map in %\n",
        "from gvxrPython3.utils import interactPlotPowerLaw # Plot the X-ray image using a Power law look-up table\n",
        "from gvxrPython3.utils import visualise # Visualise the 3D environment if k3D is supported\n",
        "from gvxrPython3.utils import plotScreenshot # Visualise the 3D environment if Matplotlib is supported"
      ]
    },
    {
      "cell_type": "markdown",
      "metadata": {
        "id": "jtKh9A7-r_YP"
      },
      "source": [
        "Make sure the output directory exists"
      ]
    },
    {
      "cell_type": "code",
      "execution_count": 6,
      "metadata": {
        "id": "rLAmvGnNr_YR"
      },
      "outputs": [],
      "source": [
        "# The directory does not exist\n",
        "if not os.path.exists(\"output_data\"):\n",
        "    \n",
        "    # Create the directory\n",
        "    os.mkdir(\"output_data\")"
      ]
    },
    {
      "cell_type": "markdown",
      "metadata": {
        "tags": [],
        "id": "-fvAufDQr_YS"
      },
      "source": [
        "## Create an OpenGL context\n",
        "\n",
        "Our first real step is to create what is known as an OpenGl context. This can be thought of a digital blank canvas onto which we will place our objects (Detector, Sample, X-ray source etc). Depending on your Operating system GVXR supports 2 different types of OpenGl contexts (backends), \"OPENGL\" and \"EGL\".\n",
        "\n",
        "- \"OPENGL\" Creates an interactive window (available on Linux, MacOS, and Windows) for use on Laptop/desktop computers.\n",
        "- \"EGL\" Creates a context without a window (available on Linux and MacOS, but not Windows) for use on supercomputers or the cloud.\n",
        "\n",
        "For this tutorial (and the subsequent ones) we will stick with **\"EGL\"**, this is because we are using the Cloud for this training. On my PC and laptop, I would use \"OPENGL\" to enable an interactive 3D visualisation window."
      ]
    },
    {
      "cell_type": "code",
      "execution_count": 7,
      "metadata": {
        "tags": [],
        "id": "zfiHpjVUr_YU",
        "outputId": "5c61617f-2b24-4c50-ae4c-5936d08f3d9d",
        "colab": {
          "base_uri": "https://localhost:8080/"
        }
      },
      "outputs": [
        {
          "output_type": "stream",
          "name": "stdout",
          "text": [
            "Create an OpenGL context\n"
          ]
        }
      ],
      "source": [
        "print(\"Create an OpenGL context\")\n",
        "\n",
        "window_id = 0\n",
        "opengl_major_version = 4\n",
        "opengl_minor_version = 5\n",
        "\n",
        "# gvxr.createOpenGLContext(window_id, opengl_major_version, opengl_minor_version);\n",
        "\n",
        "# backend = \"OPENGL\"\n",
        "# visible = True\n",
        "\n",
        "# gvxr.createWindow(window_id, visible, backend, opengl_major_version, opengl_minor_version);\n",
        "\n",
        "visible = False\n",
        "# gvxr.createWindow(window_id, visible, backend, opengl_major_version, opengl_minor_version);\n",
        "\n",
        "backend = \"EGL\"\n",
        "# visible has no effect with EGL\n",
        "gvxr.createWindow(window_id, visible, backend, opengl_major_version, opengl_minor_version);"
      ]
    },
    {
      "cell_type": "markdown",
      "metadata": {
        "tags": [],
        "id": "03KEm6zur_YV"
      },
      "source": [
        "## Setting up the X-ray source\n",
        "\n",
        "To start producing X-ray images we first need to define an X-ray source. This requires 3 basic parameters:\n",
        "\n",
        "1. The position of the source\n",
        "2. The beam shape\n",
        "3. The beam energy (spectrum)\n",
        "\n",
        "To set the position of the X-ray source we use the `gvxr.setSourcePosition(x,y,z,units)` function. it takes in 4 values. The x,y and z coordinates as 3 floating point (decimal) values and a string (literal letters or numbers surrounded by quotes) to denote the units (\"mm\",\"cm\",\"m\" etc ...).\n",
        "\n",
        "For the beam shape. GVXR allows for two choices\n",
        "- Cone beam: `gvxr.usePointSource()`\n",
        "- Parallel beam (e.g. synchrotron): `gvxr.useParallelBeam()`\n",
        "\n",
        "Finally we need to set the beam spectrum. Out of the box GVXR supports Monochromatic and PolyChromatic sources. You can also use other external packages (e.g. Spekpy) to generate more realistic/complex spectra. This will be covered in a later session. For now we will stick with a simple Monochromatic source. This can be set with the function `gvxr.setMonoChromatic(energy,unit_of_energy,number_of_photons)`. This takes in three values a float for the beam energy. A string to denote the energy units (can be any of \"eV\", \"keV\" or \"MeV\" take care with capitalisation) and an integer (whole number) for the number of photons."
      ]
    },
    {
      "cell_type": "markdown",
      "metadata": {
        "tags": [],
        "id": "Ko1cla0Dr_YW"
      },
      "source": [
        "---\n",
        "\n",
        "## Task: \n",
        "\n",
        "In the next code cell:\n",
        "- Set the X-ray Source to be at position x = 0.0 cm, y = -40.0 cm and z = 0.0 cm.\n",
        "- Set the beam shape to be a cone beam.\n",
        "- Use the `setMonoChromatic` function to define a monochromatic X-ray source with:\n",
        "    - energy 0.08 MeV (i.e. 80 keV) \n",
        "    - 1000 photons per ray."
      ]
    },
    {
      "cell_type": "code",
      "execution_count": 11,
      "metadata": {
        "id": "p7mOUoL7r_YX"
      },
      "outputs": [],
      "source": [
        "gvxr.setMonoChromatic(80, \"keV\", 1000)"
      ]
    },
    {
      "cell_type": "markdown",
      "metadata": {
        "tags": [],
        "id": "GJ4aEEior_YX"
      },
      "source": [
        "## Setting up the detector:\n",
        "\n",
        "In GVXR the X-ray detector is defined as a 2D plane of evenly spaced pixels. Thus we need to specify 4 things:\n",
        "\n",
        "1. The resolution (number of pixels in x and y)\n",
        "2. The Pixel spacing (this defines the physical size of the detector)\n",
        "3. The position of the top left corner\n",
        "4. It's orientation in 3D space\n",
        "\n",
        "The resolution is set with `gvxr.setDetectorNumberOfPixels(Px,Py)` where Px and Py are integers defining the number of pixels in x and y respectively. Note: this is also the resolution of the final output image.\n",
        "\n",
        "The pixel spacing is set with `gvxr.setDetectorPixelSize(width,height,units)` where width and height are floating point numbers defining the physical distance between pixels and units is once again a string to denote the units (\"mm\",\"cm\",\"m\" etc ...). Note: The Pixel spacing and resolution together define the physical size of the detector. For example a detector with with 600 pixels in x and 300 in y with a spacing of 0.1 mm in both directions would have a physical size of 60 mm by 30 mm.\n",
        "\n",
        "The position of the X-ray detector is taken from the top-left corner, which is just a convention in computer graphics. It is defined in much the same way as for the X-ray source. Only we use the `gvxr.setDetectorPosition(x,y,z,units)` function. Much like the source case this function takes in 4 values. The x,y and z coordinates as 3 floating point values and a string to denote the units (\"mm\",\"cm\",\"m\" etc ...).\n",
        "\n",
        "Finally since the detector is just a 2D plane we also need to set its orientation in 3D space. To do this we need to use `gvxr.setDetectorUpVector(ix,jy,kz)`. Here, the three inputs ix, jy and kz represent a unit vector, the direction of which points along the Y-axis of our detector. Note: By convention we generally define this to point along an axis in 3D space. "
      ]
    },
    {
      "cell_type": "markdown",
      "metadata": {
        "id": "427ix3Hor_YY"
      },
      "source": [
        "---\n",
        "\n",
        "### Task:\n",
        "With all this in mind. In the next cell set the top left corner of the detector to be at `x = 0.0 cm`, `y = 10.0 cm` and `z = 0.0 cm`. Also set the detector resolution to 640 by 320 pixels, spaced 0.5 mm apart in both x and y. Finally, set the Y-axis of the detector along the unit vector `(0,0,-1)`. That is pointing along the **negative** Z-axis.\n"
      ]
    },
    {
      "cell_type": "code",
      "execution_count": null,
      "metadata": {
        "id": "mv6ErDupr_YY"
      },
      "outputs": [],
      "source": []
    },
    {
      "cell_type": "markdown",
      "metadata": {
        "tags": [],
        "id": "hQD0pzp5r_YY"
      },
      "source": [
        "## Setting up the sample\n",
        "\n",
        "For our sample we need specify four things:\n",
        "1. A 3D model of the object (stl file) \n",
        "2. A unique ID, so we can refer to the model later\n",
        "3. What the Sample is made from\n",
        "4. It's position and orientation\n",
        "\n",
        "For the sample we are going to use the Welsh Dragon Model which was released by [Bangor university UK, for Eurographics 2011](http://vmg.cs.bangor.ac.uk/downloads). This model is saved as an stl file included with this notebook under `input_data/welsh-dragon-small.stl`. To use this with GVXR we first need to import the 3D model into GVXR as a mesh using `gvxr.loadMeshFile(ID,fname,unit_of_length)`. \n",
        "\n",
        "where\n",
        "- ID is a string to give the model a name for use with later functions.\n",
        "- fname is a string defining the path to the model file (i.e. where the model file is on your computer) in our case \"input_data/welsh-dragon-small.stl\"\n",
        "- Unit_of_length once again a string defining the units used in the model (in this case \"mm\")."
      ]
    },
    {
      "cell_type": "markdown",
      "metadata": {
        "tags": [],
        "id": "-yQNj20hr_YZ"
      },
      "source": [
        "### Set Material of the sample:\n",
        "\n",
        "The next thing we need before computing our X-Ray image is to define the sample material. We will cover this in more detail in the next section but for now we will keep things simple and set the sample to be made from a single element. \n",
        "\n",
        "- For a chemical element such as iron, you can use the name, atomic (Z) number or symbol:\n",
        "    - `gvxr.setElement(ID, \"Iron\")`\n",
        "    - `gvxr.setElement(ID, 26)`, or\n",
        "    - `gvxr.setElement(ID, \"Fe\")`"
      ]
    },
    {
      "cell_type": "markdown",
      "metadata": {
        "id": "spP_Qizyr_YZ"
      },
      "source": [
        "---\n",
        "\n",
        "### Task:\n",
        "\n",
        "Load the dragon model into the scene with the ID \"Dragon\" and set the sample to be made entirely from Titanium (Hint the Z number is 22)."
      ]
    },
    {
      "cell_type": "code",
      "execution_count": null,
      "metadata": {
        "id": "WdzCavg_r_Ya"
      },
      "outputs": [],
      "source": []
    },
    {
      "cell_type": "markdown",
      "metadata": {
        "id": "qzQhI4Slr_Ya"
      },
      "source": [
        "## Viewing our results so far\n",
        "\n",
        "Now that we have our sample imported we can view our work so far. For this we can use `gvxr.displayScene()` to update the scene and render a static view to the window.  \n",
        "\n",
        "Try running this in the next cell. You will notice that the source and detector both look fine. However, the model is not visible. It is actually in the scene, just in wrong place. We need it in the centre and it's actually way off frame to the bottom left and in the wrong orientation. So lets fix that."
      ]
    },
    {
      "cell_type": "code",
      "execution_count": null,
      "metadata": {
        "id": "etmUpUNKr_Ya"
      },
      "outputs": [],
      "source": [
        "plotScreenshot()"
      ]
    },
    {
      "cell_type": "markdown",
      "metadata": {
        "tags": [],
        "id": "Nz0Bfpvbr_Yb"
      },
      "source": [
        "### Model Wrangling\n",
        "\n",
        "From the picture above, it's clear we have a problem. The coordinates of the 3D object in the STL file are not centred on (0, 0, 0). We could move the source and detector with the functions we already used, but it's not convenient."
      ]
    },
    {
      "cell_type": "markdown",
      "metadata": {
        "id": "jbvk4xwsr_Yb"
      },
      "source": [
        "---\n",
        "### Task:\n",
        "\n",
        "Check the current location of the dragon. You could use a 3rd party software such as [MeshLab](https://www.meshlab.net/) or [Paraview](https://www.paraview.org/), or better call `gvxr.getNodeAndChildrenBoundingBox(ID, units)` and print the returned values. The function returns an array of 6 floating-point numbers as follows:\n",
        "\n",
        "- Lower corner of the bounding box:\n",
        "    - min x position;\n",
        "    - min y position;\n",
        "    - min z position.\n",
        "- Upper corner of the bounding box:\n",
        "    - max x position;\n",
        "    - max y position;\n",
        "    - max z position.\n",
        "    \n",
        "From these values, compute and print the centre of the bounding box."
      ]
    },
    {
      "cell_type": "code",
      "execution_count": null,
      "metadata": {
        "id": "7CCxZCFxr_Yb"
      },
      "outputs": [],
      "source": []
    },
    {
      "cell_type": "markdown",
      "metadata": {
        "id": "xMig2ExPr_Yc"
      },
      "source": [
        "### Geometrical transformations\n",
        "\n",
        "The basic functions to move, rotate and rescale a model are as follows:\n",
        "- `gvxr.rotateNode(ID, angle, ix, jy, kz)`\n",
        "- `gvxr.translateNode(ID, x, y, z, units)`\n",
        "- `gvxr.scaleNode(ID, x, y, z)`\n",
        "\n",
        "`rotateNode` takes in an ID, an angle in degrees and a vector to rotate around. \n",
        "`translateNode` takes in an ID, x, y, z coordinates to translate the centre of the object by and a string to denote units. For example if the centre of the object was at (0, 3, -5) and we pass in X=3, Y=0, Z=5, its centre would then be translated to (3, 3, 0).\n",
        "`scaleNode` takes in an ID and 3 scaling factors to rescale an object. (0.5, 0.5, 0.5) would make the object twice as small; (2, 2, 2) twice as big. With (1, 1, 1), its size will remain the same."
      ]
    },
    {
      "cell_type": "markdown",
      "metadata": {
        "id": "UOpIBVrUr_Yc"
      },
      "source": [
        "---\n",
        "### Task:\n",
        "\n",
        "With this we should be able to fix our current setup. \n",
        "\n",
        "1. Centre the object using `translateNode` with *minus* the centre of the bounding box as the translation vector.\n",
        "2. Check again the location of its bounding box (to be on the safe side). \n",
        "\n",
        "<!-- \n",
        "\n",
        "In the next cell rotate the sample by 90 degrees around the Z-axis (0, 0, 1) then move the sample into the position `X=0.1 mm`, `Y=-0.1 mm`, `Z=0.3 mm`. \n",
        " -->\n",
        "<!-- **Note:** Due to how clunky translations are in OpenGl we suggest you use `moveToCentre`. Then use `translateNote` to get it to an exact position since: a) it's much easier to use the origin as a known reference point for this, and b) in reality you may not know exactly where the model is spawned. However, if you fancy a challenge you can try doping it in one translation operation. In which case the centre of the model is located at (-10.4791, -671.812, -173.692). Don't forget to use 'displayScene to update the scene and view the result. -->"
      ]
    },
    {
      "cell_type": "code",
      "execution_count": null,
      "metadata": {
        "id": "L3Tq8F1Br_Yc"
      },
      "outputs": [],
      "source": []
    },
    {
      "cell_type": "markdown",
      "metadata": {
        "id": "V-3lXy5sr_Yd"
      },
      "source": [
        "## Viewing our results so far"
      ]
    },
    {
      "cell_type": "code",
      "execution_count": null,
      "metadata": {
        "id": "TST8SEd0r_Yd"
      },
      "outputs": [],
      "source": [
        "plotScreenshot()"
      ]
    },
    {
      "cell_type": "markdown",
      "metadata": {
        "id": "f2JOETuJr_Yd"
      },
      "source": [
        "It will be nicer if the dragon is rotated by 90 degrees along the Z-axis.\n",
        "\n",
        "<div class=\"alert alert-block alert-warning\">\n",
        "    <b>Note:</b> Due to the way geometrical transformations are applied (matrix multiplications), the order of transformations is very important. \n",
        "</div>\n",
        "\n",
        "Let's consider:\n",
        "\n",
        "$$position_{new} = T_1 \\times T_2 \\times position_{old}$$\n",
        "\n",
        "with $T_1$ the matrix of a given geometrical transformation, $T_2$ the matrix of another geometrical transformation, $position_{old}$ the position of the vertex to transform, and $position_{new}$ the position of the vertex after transformation. \n",
        "\n",
        "It is clear that $T_1$ is written first in the equation (hence called first in the Python code). However, if we rewrite the equation as follows:\n",
        "\n",
        "$$position_{new} = T_1 \\times (T_2 \\times position_{old})$$\n",
        "\n",
        "It is clear that $T_2$ is applied first on the vertex. In a nutshell, the last function called is the first one that is applied on the object. In other words\n",
        "\n",
        "```python\n",
        "gvxr.rotateNode(ID, angle, ax, ay, az)\n",
        "gvxr.translateNode(ID, tx, ty, tz)\n",
        "```\n",
        "\n",
        "**IS NOT** the same as\n",
        "```python\n",
        "gvxr.translated(ID, tx, ty, tz)\n",
        "gvxr.rotateNode(ID, angle, ax, ay, az)\n",
        "```\n",
        "\n",
        "How does it matter for us in this case? We should have translated, then rotated, i.e. called the function in the order as follows:\n",
        "\n",
        "```python\n",
        "ID = \"Dragon\"\n",
        "gvxr.rotateNode(ID, 90, 0.0, 0.0, 1.0)\n",
        "gvxr.translateNode(ID, -centre_x, -centre_y, -centre_z, \"cm\")\n",
        "```\n",
        "\n",
        "but we did the opposite. Ooops, We did not know. To fix it, we could:\n",
        "\n",
        "1. restart from the start and do it again but in the right order, \n",
        "2. we could reverse the changes we did so far, then do it right, or\n",
        "3. we can be lazy. The lazy solution is always the better (less prone to errors). There is a useful convenience function `gvxr.moveToCentre()` (or `gvxr.moveToCenter()` if you prefer the American spelling). It moves all the samples so that the centre of the overall bounding box is at (0, 0, 0). \n",
        "<!-- You can pass in an ID into this function to move a specific model or you can give it no arguments to move all models in the scene to the centre.  -->"
      ]
    },
    {
      "cell_type": "markdown",
      "metadata": {
        "id": "LqsgiiWQr_Ye"
      },
      "source": [
        "---\n",
        "### Task:\n",
        "\n",
        "1. Rotate the dragon by 90 degrees around the Z-axis\n",
        "2. Move the object to the centre. Use the 3rd solution from the above list.\n",
        "3. Display the 3D visualisation"
      ]
    },
    {
      "cell_type": "code",
      "execution_count": null,
      "metadata": {
        "id": "tJyWimPFr_Ye"
      },
      "outputs": [],
      "source": []
    },
    {
      "cell_type": "code",
      "execution_count": null,
      "metadata": {
        "id": "aaARzhVRr_Ye"
      },
      "outputs": [],
      "source": [
        "plotScreenshot()"
      ]
    },
    {
      "cell_type": "markdown",
      "metadata": {
        "tags": [],
        "id": "7FiuajZ1r_Yf"
      },
      "source": [
        "## Compute the corresponding X-ray image\n",
        "\n",
        "The final step in our process is to compute the actual X-Ray projection. This is achieved with the function `gvxr.computeXRayImage()` which outputs the X-Ray image as a 2D array. This can then be processed in numerous ways with various python packages. You can also save the last X-ray image as a tiff file with `gvxr.saveLastXRayImage(filename)`. Alternatively you can use the the tifffile package to achieve the same thing.\n",
        "\n",
        "```python\n",
        "from tifffile import imwrite\n",
        "imwrite(\n",
        "    filename, # string\n",
        "    xray_image # 2D array\n",
        ")\n",
        "```\n",
        "\n",
        "You can also use the python image library (PIL) to do more advanced image manipulations such as saving the array to common image formats (png, raw or jpeg to name a few). You can also convert images to use 8 or 16 bit greyscale for tools that need it. **Note:** PIL is a very powerful library and can do a lot more than just convert images see the [docs](https://pil.readthedocs.io/en/latest/overview.html) if you are interested.\n",
        "\n",
        "``` python\n",
        "from PIL import Image\n",
        "max_int = 255 # change to 65535 for 16 bit\n",
        "xray_image = xray_image*max_int # convert from 0 -> 1 scale to 0 -> max_int\n",
        "im = Image.fromarray(xray_image)\n",
        "#im = im.convert('I;16') #for 16-bit greyscale\n",
        "im = im.convert('L') #for 8-bit greyscale\n",
        "im.save('filename.png')\n",
        "```"
      ]
    },
    {
      "cell_type": "markdown",
      "metadata": {
        "id": "y-8mRbtUr_Yf"
      },
      "source": [
        "---\n",
        "\n",
        "### Task:\n",
        "\n",
        "The final task is to compute the X-Ray image then save the resulting array as a tif image file using whichever method you prefer."
      ]
    },
    {
      "cell_type": "code",
      "execution_count": null,
      "metadata": {
        "id": "o2XYRjimr_Yf"
      },
      "outputs": [],
      "source": []
    },
    {
      "cell_type": "markdown",
      "metadata": {
        "id": "AgazTiCOr_Yg"
      },
      "source": [
        "# Display the X-ray image\n",
        "\n",
        "What follows is a variety of different examples of visualisations and analysis you can preform on the xray images.\n",
        "\n",
        "\n",
        "Make sure to convert your X-Ray image to either an numpy array with `np.array` or PIL image with `Image.fromarray`"
      ]
    },
    {
      "cell_type": "markdown",
      "metadata": {
        "id": "lKWfWWAWr_Yg"
      },
      "source": [
        "### Plot using a linear colour scale"
      ]
    },
    {
      "cell_type": "code",
      "execution_count": null,
      "metadata": {
        "id": "urWNbrIur_Yg"
      },
      "outputs": [],
      "source": [
        "plt.figure(figsize=(10, 5))\n",
        "plt.title(\"Image simulated using gVirtualXray\\nusing a linear colour scale\")\n",
        "plt.imshow(xray_image, cmap=\"gray\")\n",
        "plt.colorbar(orientation='vertical');\n",
        "plt.margins(0,0)"
      ]
    },
    {
      "cell_type": "markdown",
      "metadata": {
        "id": "Co4UqmmBr_Yh"
      },
      "source": [
        "### using a logarithmic colour scale"
      ]
    },
    {
      "cell_type": "code",
      "execution_count": null,
      "metadata": {
        "id": "QfN2IclLr_Yh"
      },
      "outputs": [],
      "source": [
        "plt.figure(figsize=(10, 5))\n",
        "plt.title(\"Image simulated using gVirtualXray\\nusing a logarithmic colour scale\")\n",
        "plt.imshow(xray_image, cmap=\"gray\", norm=LogNorm(vmin=xray_image.min(), vmax=xray_image.max()))\n",
        "plt.colorbar(orientation='vertical');\n",
        "plt.margins(0,0)"
      ]
    },
    {
      "cell_type": "markdown",
      "metadata": {
        "id": "yXnSfTP7r_Yh"
      },
      "source": [
        "### Using a Power-law colour scale"
      ]
    },
    {
      "cell_type": "code",
      "execution_count": null,
      "metadata": {
        "id": "x0N3G6dGr_Yh"
      },
      "outputs": [],
      "source": [
        "interactPlotPowerLaw(xray_image, gamma=1.5, figsize=(10, 5))"
      ]
    },
    {
      "cell_type": "markdown",
      "metadata": {
        "id": "Oe3MKpDQr_Yh"
      },
      "source": [
        "---\n",
        "### Task:\n",
        "\n",
        "Display the X-ray image and compare three different lookup tables using\n",
        "\n",
        "```python\n",
        "gamma = ???\n",
        "saveProjections(xray_image, \"output_data/02-projections-dragon-Ti.pdf\", gamma=gamma, figsize=(12.5, 5))\n",
        "```\n",
        "\n",
        "Replace `???` above with the value of gamma that you selected with the slider."
      ]
    },
    {
      "cell_type": "code",
      "execution_count": null,
      "metadata": {
        "id": "06cTohaXr_Yi"
      },
      "outputs": [],
      "source": [
        "gamma = ???\n",
        "saveProjections(xray_image, \"output_data/02-projections-dragon-Ti.pdf\", gamma=gamma, figsize=(12.5, 5))"
      ]
    },
    {
      "cell_type": "markdown",
      "metadata": {
        "id": "ZiaP_qDpr_Yi"
      },
      "source": [
        "# Double-check our results\n",
        "\n",
        "## Get some image statistics using Numpy\n",
        "\n",
        "we can get some image statistics using Numpy to compare with the values I got. We should get the same, or at least something comparable.\n",
        "\n",
        "| What? | Value (in keV) |\n",
        "|-------|-------|\n",
        "| Min pixel value: | 0.0033831315 |\n",
        "| Mean pixel value: | 56.137497 |\n",
        "| Median pixel value: | 80.0 |\n",
        "| Stddev pixel value: | 34.220833 |\n",
        "| Max pixel value: | 80.0 |\n",
        "\n",
        "---\n",
        "### Task:\n",
        "\n",
        "1. Print\n",
        "    1. the smaller pixel value of `xray_image`;\n",
        "    2. the average pixel value;\n",
        "    3. the median pixel value;\n",
        "    4. the standard deviation of pixel values; and\n",
        "    5. the largest pixel value.\n",
        "2. Compare these values with the ones above."
      ]
    },
    {
      "cell_type": "code",
      "execution_count": null,
      "metadata": {
        "id": "lcamuDk9r_Yi"
      },
      "outputs": [],
      "source": [
        "print(\"Min pixel value:\", np.min(xray_image))\n",
        "print(\"Mean pixel value:\", np.mean(xray_image))\n",
        "print(\"Median pixel value:\", np.median(xray_image))\n",
        "print(\"Stddev pixel value:\", np.std(xray_image))\n",
        "print(\"Max pixel value:\", np.max(xray_image))"
      ]
    },
    {
      "cell_type": "markdown",
      "metadata": {
        "id": "q8fxiuJMr_Yj"
      },
      "source": [
        "## Compare with the ground truth\n",
        "\n",
        "We provided the ground truth image. The code below we plot, i) the ground truth, ii) the simulated image, and iii) an error map in percent. If this image is white, well done. You followed the instructions and got the results we expected. If not, there must have been an issue."
      ]
    },
    {
      "cell_type": "code",
      "execution_count": null,
      "metadata": {
        "id": "PJ8NRGqhr_Yj"
      },
      "outputs": [],
      "source": [
        "ground_truth = imread(\"input_data/02-dragon-Ti-groundtruth.tif\")\n",
        "compareWithGroundTruth(ground_truth, xray_image, figsize=(12.5, 5))"
      ]
    },
    {
      "cell_type": "markdown",
      "metadata": {
        "id": "FKYj6Hsrr_Yj"
      },
      "source": [
        "# Interactive visualise in JupyterLab\n",
        "\n",
        "By default the object is white, which is not always pretty. Let's change it to purple."
      ]
    },
    {
      "cell_type": "code",
      "execution_count": null,
      "metadata": {
        "id": "uaqA0s_6r_Yk"
      },
      "outputs": [],
      "source": [
        "red = 102 / 255\n",
        "green = 51 / 255\n",
        "blue = 153 / 255\n",
        "gvxr.setColour(\"Dragon\", red, green, blue, 1.0)"
      ]
    },
    {
      "cell_type": "markdown",
      "metadata": {
        "id": "YCxXpfRMr_Yk"
      },
      "source": [
        "## 3D visualisation using k3D if possible"
      ]
    },
    {
      "cell_type": "code",
      "execution_count": null,
      "metadata": {
        "id": "UqFtK9XBr_Yk"
      },
      "outputs": [],
      "source": [
        "plot=visualise(use_log=True)\n",
        "plot.display()"
      ]
    },
    {
      "cell_type": "code",
      "execution_count": null,
      "metadata": {
        "id": "6w7a1XxZr_Yl"
      },
      "outputs": [],
      "source": [
        "if plot is not None:\n",
        "    plot.fetch_screenshot()\n",
        "\n",
        "    data = base64.b64decode(plot.screenshot)\n",
        "    with open(\"output_data/02-visualisation.png\",'wb') as fp:\n",
        "        fp.write(data)"
      ]
    },
    {
      "cell_type": "markdown",
      "metadata": {
        "id": "GeHWynfAr_Yl"
      },
      "source": [
        "## Change the background colour to white\n",
        "\n",
        "This image can be used in a research paper to illustrate the simulation environment."
      ]
    },
    {
      "cell_type": "code",
      "execution_count": null,
      "metadata": {
        "id": "s8B5M-pUr_Ym"
      },
      "outputs": [],
      "source": [
        "gvxr.setWindowBackGroundColour(1.0, 1.0, 1.0)\n",
        "# Don't forget to update the visualisation window\n",
        "gvxr.displayScene()"
      ]
    },
    {
      "cell_type": "markdown",
      "metadata": {
        "id": "99DmiJ72r_Ym"
      },
      "source": [
        "## Take the screenshot and save it in a file"
      ]
    },
    {
      "cell_type": "code",
      "execution_count": null,
      "metadata": {
        "id": "uTS0nzpqr_Ym"
      },
      "outputs": [],
      "source": [
        "screenshot = gvxr.takeScreenshot()\n",
        "plt.imsave(\"output_data/02-screenshot.png\", np.array(screenshot))"
      ]
    },
    {
      "cell_type": "markdown",
      "metadata": {
        "tags": [],
        "id": "UTHx_o6cr_Yn"
      },
      "source": [
        "## or display it using Matplotlib"
      ]
    },
    {
      "cell_type": "code",
      "execution_count": null,
      "metadata": {
        "id": "pZoR5_NQr_Yn"
      },
      "outputs": [],
      "source": [
        "plt.figure(figsize=(10, 10))\n",
        "plt.imshow(screenshot)\n",
        "plt.title(\"Screenshot of the X-ray simulation environment\")\n",
        "plt.axis('off');"
      ]
    },
    {
      "cell_type": "markdown",
      "metadata": {
        "id": "aIvL3l8-r_Yn"
      },
      "source": [
        "## or use the convenience function"
      ]
    },
    {
      "cell_type": "code",
      "execution_count": null,
      "metadata": {
        "id": "H2RZkty4r_Yn"
      },
      "outputs": [],
      "source": [
        "plotScreenshot()"
      ]
    },
    {
      "cell_type": "markdown",
      "metadata": {
        "id": "kbclOp8Nr_Yo"
      },
      "source": [
        "## Getting an interactive view\n",
        "\n",
        "gVXR also allows you to render the scene as an interactive view, where you can pan, rotate, zoom ect using `gvxr.renderLoop()`\n",
        "\n",
        "When running in an interactive loop you can rotate the 3D scene and zoom-in with the mouse buttons and scroll wheel.\n",
        "\n",
        "Useful Keys are:\n",
        "- Q: Escape: to quit the event loop\n",
        "- B: display/hide the X-ray beam\n",
        "- W: display the polygon meshes in solid or wireframe\n",
        "- N: display the X-ray image in negative or positive\n",
        "- H: display/hide the X-ray detector"
      ]
    },
    {
      "cell_type": "markdown",
      "metadata": {
        "id": "aNZSiKKDr_Yo"
      },
      "source": [
        "<div class=\"alert alert-block alert-warning\">\n",
        "<b>Note:</b> this will function only work for \"OPENGL\" and have no effect when using \"EGL\" on supercomputers or the cloud, as there is no window to render to. It will however, work on a desktop or laptop computer.\n",
        "</div>"
      ]
    },
    {
      "cell_type": "markdown",
      "metadata": {
        "id": "YrnU8I85r_Yo"
      },
      "source": [
        "# Cleaning up\n",
        "\n",
        "Once we have finished it is good practice to clean up the OpenGL contexts and windows with the following command."
      ]
    },
    {
      "cell_type": "code",
      "execution_count": null,
      "metadata": {
        "id": "CHsXXmYBr_Yo"
      },
      "outputs": [],
      "source": [
        "gvxr.terminate()"
      ]
    }
  ],
  "metadata": {
    "kernelspec": {
      "display_name": "Python 3 (ipykernel)",
      "language": "python",
      "name": "python3"
    },
    "language_info": {
      "codemirror_mode": {
        "name": "ipython",
        "version": 3
      },
      "file_extension": ".py",
      "mimetype": "text/x-python",
      "name": "python",
      "nbconvert_exporter": "python",
      "pygments_lexer": "ipython3",
      "version": "3.9.13"
    },
    "vscode": {
      "interpreter": {
        "hash": "585e9fc9b818a92a95ff682530f87f6de2c4282b8239c594bde282f49476a8c7"
      }
    },
    "colab": {
      "provenance": [],
      "include_colab_link": true
    },
    "accelerator": "GPU",
    "gpuClass": "standard"
  },
  "nbformat": 4,
  "nbformat_minor": 0
}